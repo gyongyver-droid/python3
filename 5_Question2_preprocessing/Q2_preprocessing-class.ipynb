{
 "cells": [
  {
   "cell_type": "markdown",
   "metadata": {
    "colab_type": "text",
    "id": "aC96UlBHDiP1"
   },
   "source": [
    "#### operation on column names"
   ]
  },
  {
   "cell_type": "code",
   "execution_count": 13,
   "metadata": {
    "colab": {},
    "colab_type": "code",
    "id": "VZdv4AWEDiP2",
    "outputId": "e7d24bbe-1069-40ca-92b7-1c352506a608"
   },
   "outputs": [
    {
     "data": {
      "text/html": [
       "<div>\n",
       "<style scoped>\n",
       "    .dataframe tbody tr th:only-of-type {\n",
       "        vertical-align: middle;\n",
       "    }\n",
       "\n",
       "    .dataframe tbody tr th {\n",
       "        vertical-align: top;\n",
       "    }\n",
       "\n",
       "    .dataframe thead th {\n",
       "        text-align: right;\n",
       "    }\n",
       "</style>\n",
       "<table border=\"1\" class=\"dataframe\">\n",
       "  <thead>\n",
       "    <tr style=\"text-align: right;\">\n",
       "      <th></th>\n",
       "      <th>a</th>\n",
       "      <th>b</th>\n",
       "      <th>c</th>\n",
       "    </tr>\n",
       "  </thead>\n",
       "  <tbody>\n",
       "    <tr>\n",
       "      <th>0</th>\n",
       "      <td>1</td>\n",
       "      <td>10</td>\n",
       "      <td>apple</td>\n",
       "    </tr>\n",
       "    <tr>\n",
       "      <th>1</th>\n",
       "      <td>1</td>\n",
       "      <td>10</td>\n",
       "      <td>apple</td>\n",
       "    </tr>\n",
       "    <tr>\n",
       "      <th>2</th>\n",
       "      <td>1</td>\n",
       "      <td>11</td>\n",
       "      <td>plum</td>\n",
       "    </tr>\n",
       "    <tr>\n",
       "      <th>3</th>\n",
       "      <td>2</td>\n",
       "      <td>20</td>\n",
       "      <td>pear</td>\n",
       "    </tr>\n",
       "    <tr>\n",
       "      <th>4</th>\n",
       "      <td>2</td>\n",
       "      <td>0</td>\n",
       "      <td>plum</td>\n",
       "    </tr>\n",
       "    <tr>\n",
       "      <th>5</th>\n",
       "      <td>3</td>\n",
       "      <td>0</td>\n",
       "      <td>apple</td>\n",
       "    </tr>\n",
       "    <tr>\n",
       "      <th>6</th>\n",
       "      <td>4</td>\n",
       "      <td>40</td>\n",
       "      <td>apple</td>\n",
       "    </tr>\n",
       "    <tr>\n",
       "      <th>7</th>\n",
       "      <td>5</td>\n",
       "      <td>50</td>\n",
       "      <td>apple</td>\n",
       "    </tr>\n",
       "  </tbody>\n",
       "</table>\n",
       "</div>"
      ],
      "text/plain": [
       "   a   b      c\n",
       "0  1  10  apple\n",
       "1  1  10  apple\n",
       "2  1  11   plum\n",
       "3  2  20   pear\n",
       "4  2   0   plum\n",
       "5  3   0  apple\n",
       "6  4  40  apple\n",
       "7  5  50  apple"
      ]
     },
     "execution_count": 13,
     "metadata": {},
     "output_type": "execute_result"
    }
   ],
   "source": [
    "import pandas as pd\n",
    "df = pd.DataFrame({'a':[1,1,1,2,2,3,4,5],\n",
    "                  'b':[10,10,11,20,0,0,40,50],\n",
    "                  'c':['apple','apple','plum','pear','plum','apple','apple','apple']})\n",
    "df"
   ]
  },
  {
   "cell_type": "code",
   "execution_count": 14,
   "metadata": {
    "colab": {},
    "colab_type": "code",
    "id": "UABYV3nCDiP9",
    "outputId": "3d817891-5496-4b3b-f991-7c0663fd9d51"
   },
   "outputs": [
    {
     "data": {
      "text/plain": [
       "Index(['a', 'b', 'c'], dtype='object')"
      ]
     },
     "execution_count": 14,
     "metadata": {},
     "output_type": "execute_result"
    }
   ],
   "source": [
    "df.columns"
   ]
  },
  {
   "cell_type": "code",
   "execution_count": 15,
   "metadata": {
    "colab": {},
    "colab_type": "code",
    "id": "LoDWOEIQDiQA"
   },
   "outputs": [],
   "source": [
    "df.rename(columns={'a':'A',\n",
    "                  'b':'B'}, inplace=True)"
   ]
  },
  {
   "cell_type": "code",
   "execution_count": 16,
   "metadata": {
    "colab": {},
    "colab_type": "code",
    "id": "EeoFyB_ZDiQD",
    "outputId": "47b3f334-f757-45cc-d758-ea4a596aa79e"
   },
   "outputs": [
    {
     "data": {
      "text/plain": [
       "Index(['A', 'B', 'c'], dtype='object')"
      ]
     },
     "execution_count": 16,
     "metadata": {},
     "output_type": "execute_result"
    }
   ],
   "source": [
    "df.columns"
   ]
  },
  {
   "cell_type": "code",
   "execution_count": 17,
   "metadata": {},
   "outputs": [
    {
     "data": {
      "text/html": [
       "<div>\n",
       "<style scoped>\n",
       "    .dataframe tbody tr th:only-of-type {\n",
       "        vertical-align: middle;\n",
       "    }\n",
       "\n",
       "    .dataframe tbody tr th {\n",
       "        vertical-align: top;\n",
       "    }\n",
       "\n",
       "    .dataframe thead th {\n",
       "        text-align: right;\n",
       "    }\n",
       "</style>\n",
       "<table border=\"1\" class=\"dataframe\">\n",
       "  <thead>\n",
       "    <tr style=\"text-align: right;\">\n",
       "      <th></th>\n",
       "      <th>A</th>\n",
       "      <th>B</th>\n",
       "      <th>c</th>\n",
       "    </tr>\n",
       "  </thead>\n",
       "  <tbody>\n",
       "    <tr>\n",
       "      <th>0</th>\n",
       "      <td>1</td>\n",
       "      <td>10</td>\n",
       "      <td>apple</td>\n",
       "    </tr>\n",
       "    <tr>\n",
       "      <th>1</th>\n",
       "      <td>1</td>\n",
       "      <td>10</td>\n",
       "      <td>apple</td>\n",
       "    </tr>\n",
       "    <tr>\n",
       "      <th>2</th>\n",
       "      <td>1</td>\n",
       "      <td>11</td>\n",
       "      <td>plum</td>\n",
       "    </tr>\n",
       "    <tr>\n",
       "      <th>3</th>\n",
       "      <td>2</td>\n",
       "      <td>20</td>\n",
       "      <td>pear</td>\n",
       "    </tr>\n",
       "    <tr>\n",
       "      <th>4</th>\n",
       "      <td>2</td>\n",
       "      <td>0</td>\n",
       "      <td>plum</td>\n",
       "    </tr>\n",
       "    <tr>\n",
       "      <th>5</th>\n",
       "      <td>3</td>\n",
       "      <td>0</td>\n",
       "      <td>apple</td>\n",
       "    </tr>\n",
       "    <tr>\n",
       "      <th>6</th>\n",
       "      <td>4</td>\n",
       "      <td>40</td>\n",
       "      <td>apple</td>\n",
       "    </tr>\n",
       "    <tr>\n",
       "      <th>7</th>\n",
       "      <td>5</td>\n",
       "      <td>50</td>\n",
       "      <td>apple</td>\n",
       "    </tr>\n",
       "  </tbody>\n",
       "</table>\n",
       "</div>"
      ],
      "text/plain": [
       "   A   B      c\n",
       "0  1  10  apple\n",
       "1  1  10  apple\n",
       "2  1  11   plum\n",
       "3  2  20   pear\n",
       "4  2   0   plum\n",
       "5  3   0  apple\n",
       "6  4  40  apple\n",
       "7  5  50  apple"
      ]
     },
     "execution_count": 17,
     "metadata": {},
     "output_type": "execute_result"
    }
   ],
   "source": [
    "df"
   ]
  },
  {
   "cell_type": "code",
   "execution_count": 18,
   "metadata": {
    "colab": {},
    "colab_type": "code",
    "id": "1PD2v3PzDiQG"
   },
   "outputs": [],
   "source": [
    "df.columns = ['aa','bb','cc']"
   ]
  },
  {
   "cell_type": "code",
   "execution_count": 19,
   "metadata": {
    "colab": {},
    "colab_type": "code",
    "id": "PZnCegXhDiQJ",
    "outputId": "98fa71c8-484c-43b6-bc47-3985c29b8670"
   },
   "outputs": [
    {
     "data": {
      "text/html": [
       "<div>\n",
       "<style scoped>\n",
       "    .dataframe tbody tr th:only-of-type {\n",
       "        vertical-align: middle;\n",
       "    }\n",
       "\n",
       "    .dataframe tbody tr th {\n",
       "        vertical-align: top;\n",
       "    }\n",
       "\n",
       "    .dataframe thead th {\n",
       "        text-align: right;\n",
       "    }\n",
       "</style>\n",
       "<table border=\"1\" class=\"dataframe\">\n",
       "  <thead>\n",
       "    <tr style=\"text-align: right;\">\n",
       "      <th></th>\n",
       "      <th>aa</th>\n",
       "      <th>bb</th>\n",
       "      <th>cc</th>\n",
       "    </tr>\n",
       "  </thead>\n",
       "  <tbody>\n",
       "    <tr>\n",
       "      <th>0</th>\n",
       "      <td>1</td>\n",
       "      <td>10</td>\n",
       "      <td>apple</td>\n",
       "    </tr>\n",
       "    <tr>\n",
       "      <th>1</th>\n",
       "      <td>1</td>\n",
       "      <td>10</td>\n",
       "      <td>apple</td>\n",
       "    </tr>\n",
       "    <tr>\n",
       "      <th>2</th>\n",
       "      <td>1</td>\n",
       "      <td>11</td>\n",
       "      <td>plum</td>\n",
       "    </tr>\n",
       "    <tr>\n",
       "      <th>3</th>\n",
       "      <td>2</td>\n",
       "      <td>20</td>\n",
       "      <td>pear</td>\n",
       "    </tr>\n",
       "    <tr>\n",
       "      <th>4</th>\n",
       "      <td>2</td>\n",
       "      <td>0</td>\n",
       "      <td>plum</td>\n",
       "    </tr>\n",
       "    <tr>\n",
       "      <th>5</th>\n",
       "      <td>3</td>\n",
       "      <td>0</td>\n",
       "      <td>apple</td>\n",
       "    </tr>\n",
       "    <tr>\n",
       "      <th>6</th>\n",
       "      <td>4</td>\n",
       "      <td>40</td>\n",
       "      <td>apple</td>\n",
       "    </tr>\n",
       "    <tr>\n",
       "      <th>7</th>\n",
       "      <td>5</td>\n",
       "      <td>50</td>\n",
       "      <td>apple</td>\n",
       "    </tr>\n",
       "  </tbody>\n",
       "</table>\n",
       "</div>"
      ],
      "text/plain": [
       "   aa  bb     cc\n",
       "0   1  10  apple\n",
       "1   1  10  apple\n",
       "2   1  11   plum\n",
       "3   2  20   pear\n",
       "4   2   0   plum\n",
       "5   3   0  apple\n",
       "6   4  40  apple\n",
       "7   5  50  apple"
      ]
     },
     "execution_count": 19,
     "metadata": {},
     "output_type": "execute_result"
    }
   ],
   "source": [
    "df"
   ]
  },
  {
   "cell_type": "markdown",
   "metadata": {
    "colab_type": "text",
    "id": "rkaoykSvDiQM"
   },
   "source": [
    "#### String operations"
   ]
  },
  {
   "cell_type": "code",
   "execution_count": 20,
   "metadata": {
    "colab": {},
    "colab_type": "code",
    "id": "e5E0bxdmDiQN",
    "outputId": "4a041a06-4e8c-4c48-d81f-78f53970b851"
   },
   "outputs": [
    {
     "data": {
      "text/plain": [
       "'This is an apple '"
      ]
     },
     "execution_count": 20,
     "metadata": {},
     "output_type": "execute_result"
    }
   ],
   "source": [
    "mystring = 'This is an apple '\n",
    "mystring"
   ]
  },
  {
   "cell_type": "code",
   "execution_count": 21,
   "metadata": {
    "colab": {},
    "colab_type": "code",
    "id": "_sb57_EmDiQQ",
    "outputId": "4aa1e832-e5a3-4159-d991-ff1d6cadd9c6"
   },
   "outputs": [
    {
     "data": {
      "text/plain": [
       "'This is an apple'"
      ]
     },
     "execution_count": 21,
     "metadata": {},
     "output_type": "execute_result"
    }
   ],
   "source": [
    "mystring.strip(' ')"
   ]
  },
  {
   "cell_type": "code",
   "execution_count": 22,
   "metadata": {
    "colab": {},
    "colab_type": "code",
    "id": "q_u4w4ZuDiQU",
    "outputId": "c9cce3f3-569e-426b-fde2-f97e2fefc79d"
   },
   "outputs": [
    {
     "data": {
      "text/plain": [
       "' is an apple '"
      ]
     },
     "execution_count": 22,
     "metadata": {},
     "output_type": "execute_result"
    }
   ],
   "source": [
    "mystring.strip('This')"
   ]
  },
  {
   "cell_type": "code",
   "execution_count": 23,
   "metadata": {
    "colab": {},
    "colab_type": "code",
    "id": "aBLZQn47DiQX",
    "outputId": "1f8f6e41-44ee-4cf2-83e8-d42ff3abed83"
   },
   "outputs": [
    {
     "data": {
      "text/plain": [
       "'This is an pear '"
      ]
     },
     "execution_count": 23,
     "metadata": {},
     "output_type": "execute_result"
    }
   ],
   "source": [
    "mystring.replace('apple','pear')"
   ]
  },
  {
   "cell_type": "code",
   "execution_count": 24,
   "metadata": {
    "colab": {},
    "colab_type": "code",
    "id": "gjCxOkRXDiQa",
    "outputId": "d2b98631-8cf1-4227-f89a-9e76723bb0c3"
   },
   "outputs": [
    {
     "data": {
      "text/plain": [
       "['This', 'is', 'an', 'apple', '']"
      ]
     },
     "execution_count": 24,
     "metadata": {},
     "output_type": "execute_result"
    }
   ],
   "source": [
    "mystring.split(' ')"
   ]
  },
  {
   "cell_type": "code",
   "execution_count": 25,
   "metadata": {
    "colab": {},
    "colab_type": "code",
    "id": "ywbKcIP9DiQd",
    "outputId": "0bdd4b97-f205-4e7a-b5a3-18abc6c12b35"
   },
   "outputs": [
    {
     "data": {
      "text/plain": [
       "['This', 'is', 'an', 'pear']"
      ]
     },
     "execution_count": 25,
     "metadata": {},
     "output_type": "execute_result"
    }
   ],
   "source": [
    "mystring.replace('apple','pear').strip(' ').split(' ')"
   ]
  },
  {
   "cell_type": "code",
   "execution_count": 26,
   "metadata": {
    "colab": {},
    "colab_type": "code",
    "id": "_ASwkb-aDiQh",
    "outputId": "bfe4d93b-a7fc-4071-9ba5-4cb6f1e9bc49"
   },
   "outputs": [
    {
     "data": {
      "text/plain": [
       "'T'"
      ]
     },
     "execution_count": 26,
     "metadata": {},
     "output_type": "execute_result"
    }
   ],
   "source": [
    "one_char = mystring[0]\n",
    "one_char"
   ]
  },
  {
   "cell_type": "code",
   "execution_count": 27,
   "metadata": {
    "colab": {},
    "colab_type": "code",
    "id": "ZJ8T9hFyDiQk",
    "outputId": "ffed662d-d8c8-46ba-86b1-5bcf79f5d0d8"
   },
   "outputs": [
    {
     "data": {
      "text/plain": [
       "(False, True)"
      ]
     },
     "execution_count": 27,
     "metadata": {},
     "output_type": "execute_result"
    }
   ],
   "source": [
    "one_char.islower(), one_char.isupper()"
   ]
  },
  {
   "cell_type": "code",
   "execution_count": 28,
   "metadata": {
    "colab": {},
    "colab_type": "code",
    "id": "fkWyTusGDiQo",
    "outputId": "022ed2f9-d5be-42a4-bd4d-f4d243c8f996"
   },
   "outputs": [
    {
     "data": {
      "text/plain": [
       "'THIS IS AN APPLE '"
      ]
     },
     "execution_count": 28,
     "metadata": {},
     "output_type": "execute_result"
    }
   ],
   "source": [
    "mystring.upper()"
   ]
  },
  {
   "cell_type": "code",
   "execution_count": 29,
   "metadata": {
    "colab": {},
    "colab_type": "code",
    "id": "FkHHQg91DiQt",
    "outputId": "9df658c5-d63c-47bd-8e6c-fa3bea5d919f"
   },
   "outputs": [
    {
     "data": {
      "text/plain": [
       "'This is an apple'"
      ]
     },
     "execution_count": 29,
     "metadata": {},
     "output_type": "execute_result"
    }
   ],
   "source": [
    "' '.join(['This', 'is', 'an', 'apple'])"
   ]
  },
  {
   "cell_type": "code",
   "execution_count": 30,
   "metadata": {},
   "outputs": [
    {
     "data": {
      "text/plain": [
       "'This_is_an_apple'"
      ]
     },
     "execution_count": 30,
     "metadata": {},
     "output_type": "execute_result"
    }
   ],
   "source": [
    "'_'.join(['This', 'is', 'an', 'apple'])"
   ]
  },
  {
   "cell_type": "markdown",
   "metadata": {
    "colab_type": "text",
    "id": "7vOaWN7BDiQ3"
   },
   "source": [
    "#### Regular expressions"
   ]
  },
  {
   "cell_type": "markdown",
   "metadata": {
    "colab_type": "text",
    "id": "D60W4WJHDiQ4"
   },
   "source": [
    "Search"
   ]
  },
  {
   "cell_type": "code",
   "execution_count": 31,
   "metadata": {
    "colab": {},
    "colab_type": "code",
    "id": "_VgTZjw2DiQ5"
   },
   "outputs": [],
   "source": [
    "import re"
   ]
  },
  {
   "cell_type": "code",
   "execution_count": 32,
   "metadata": {
    "colab": {},
    "colab_type": "code",
    "id": "wnmMcYizDiQ8"
   },
   "outputs": [],
   "source": [
    "pattern = 'pattern'\n",
    "text = 'Is the pattern in here?'\n",
    "match = re.search(pattern, text)"
   ]
  },
  {
   "cell_type": "code",
   "execution_count": 33,
   "metadata": {
    "colab": {},
    "colab_type": "code",
    "id": "kK0ZKIM8DiQ_",
    "outputId": "f32da307-aa2d-4e18-d069-754db6c1299e"
   },
   "outputs": [
    {
     "data": {
      "text/plain": [
       "<re.Match object; span=(7, 14), match='pattern'>"
      ]
     },
     "execution_count": 33,
     "metadata": {},
     "output_type": "execute_result"
    }
   ],
   "source": [
    "match"
   ]
  },
  {
   "cell_type": "code",
   "execution_count": 34,
   "metadata": {
    "colab": {},
    "colab_type": "code",
    "id": "Iyh2OVvzDiRC",
    "outputId": "45e0aae1-a5d8-4c4d-c498-a226dc30b730"
   },
   "outputs": [
    {
     "data": {
      "text/plain": [
       "(7, 14)"
      ]
     },
     "execution_count": 34,
     "metadata": {},
     "output_type": "execute_result"
    }
   ],
   "source": [
    "match.start(), match.end()"
   ]
  },
  {
   "cell_type": "code",
   "execution_count": 35,
   "metadata": {
    "colab": {},
    "colab_type": "code",
    "id": "x5j8K-YzDiRF",
    "outputId": "1ac96ef2-fc2d-457f-860b-e3ea0a047d4a"
   },
   "outputs": [
    {
     "data": {
      "text/plain": [
       "'pattern'"
      ]
     },
     "execution_count": 35,
     "metadata": {},
     "output_type": "execute_result"
    }
   ],
   "source": [
    "match.group()"
   ]
  },
  {
   "cell_type": "code",
   "execution_count": 36,
   "metadata": {
    "colab": {},
    "colab_type": "code",
    "id": "rJz7JkBFDiRJ",
    "outputId": "386b1118-a9cc-4f91-d85e-9d9d0642f752"
   },
   "outputs": [
    {
     "name": "stdout",
     "output_type": "stream",
     "text": [
      "Pattern is found\n"
     ]
    }
   ],
   "source": [
    "if match:\n",
    "    print('Pattern is found')"
   ]
  },
  {
   "cell_type": "markdown",
   "metadata": {
    "colab_type": "text",
    "id": "mjRx2VJFDiRM"
   },
   "source": [
    "Multiple occurrences"
   ]
  },
  {
   "cell_type": "code",
   "execution_count": 37,
   "metadata": {
    "colab": {},
    "colab_type": "code",
    "id": "uXuk77rsDiRM"
   },
   "outputs": [],
   "source": [
    "pattern = 'er'\n",
    "text = 'There can be multiple patterns as well'"
   ]
  },
  {
   "cell_type": "code",
   "execution_count": 38,
   "metadata": {
    "colab": {},
    "colab_type": "code",
    "id": "OMdGSotSDiRO",
    "outputId": "eb7dc0fc-6ee1-44f0-f4d8-5ac083191301"
   },
   "outputs": [
    {
     "data": {
      "text/plain": [
       "['er', 'er']"
      ]
     },
     "execution_count": 38,
     "metadata": {},
     "output_type": "execute_result"
    }
   ],
   "source": [
    "all_matches = re.findall(pattern, text)\n",
    "all_matches"
   ]
  },
  {
   "cell_type": "markdown",
   "metadata": {
    "colab_type": "text",
    "id": "z64rqkcJDiRR"
   },
   "source": [
    "Finding regular expressions"
   ]
  },
  {
   "cell_type": "code",
   "execution_count": 39,
   "metadata": {},
   "outputs": [],
   "source": [
    "def print_example(text,patterns):\n",
    "    print(text)\n",
    "    print()\n",
    "\n",
    "    for p in patterns:\n",
    "        print(p)\n",
    "        print(re.findall(p, text))\n",
    "        matches = re.finditer(p, text)\n",
    "\n",
    "        for match in matches:\n",
    "            print(text[:match.start()] + '\\033[1m' + '\\033[91m' + text[match.start():match.end()] + '\\033[0m' + text[match.end():])\n",
    "        print()"
   ]
  },
  {
   "cell_type": "code",
   "execution_count": 40,
   "metadata": {
    "colab": {},
    "colab_type": "code",
    "id": "b5QSAVFpDiRS",
    "outputId": "cb5d06c9-fbc2-414e-a2b5-a623a68a19d0"
   },
   "outputs": [
    {
     "name": "stdout",
     "output_type": "stream",
     "text": [
      "abbaaabbbbaaaaa\n",
      "\n",
      "ab*\n",
      "['abb', 'a', 'a', 'abbbb', 'a', 'a', 'a', 'a', 'a']\n",
      "\u001b[1m\u001b[91mabb\u001b[0maaabbbbaaaaa\n",
      "abb\u001b[1m\u001b[91ma\u001b[0maabbbbaaaaa\n",
      "abba\u001b[1m\u001b[91ma\u001b[0mabbbbaaaaa\n",
      "abbaa\u001b[1m\u001b[91mabbbb\u001b[0maaaaa\n",
      "abbaaabbbb\u001b[1m\u001b[91ma\u001b[0maaaa\n",
      "abbaaabbbba\u001b[1m\u001b[91ma\u001b[0maaa\n",
      "abbaaabbbbaa\u001b[1m\u001b[91ma\u001b[0maa\n",
      "abbaaabbbbaaa\u001b[1m\u001b[91ma\u001b[0ma\n",
      "abbaaabbbbaaaa\u001b[1m\u001b[91ma\u001b[0m\n",
      "\n",
      "ab+\n",
      "['abb', 'abbbb']\n",
      "\u001b[1m\u001b[91mabb\u001b[0maaabbbbaaaaa\n",
      "abbaa\u001b[1m\u001b[91mabbbb\u001b[0maaaaa\n",
      "\n",
      "ab?\n",
      "['ab', 'a', 'a', 'ab', 'a', 'a', 'a', 'a', 'a']\n",
      "\u001b[1m\u001b[91mab\u001b[0mbaaabbbbaaaaa\n",
      "abb\u001b[1m\u001b[91ma\u001b[0maabbbbaaaaa\n",
      "abba\u001b[1m\u001b[91ma\u001b[0mabbbbaaaaa\n",
      "abbaa\u001b[1m\u001b[91mab\u001b[0mbbbaaaaa\n",
      "abbaaabbbb\u001b[1m\u001b[91ma\u001b[0maaaa\n",
      "abbaaabbbba\u001b[1m\u001b[91ma\u001b[0maaa\n",
      "abbaaabbbbaa\u001b[1m\u001b[91ma\u001b[0maa\n",
      "abbaaabbbbaaa\u001b[1m\u001b[91ma\u001b[0ma\n",
      "abbaaabbbbaaaa\u001b[1m\u001b[91ma\u001b[0m\n",
      "\n",
      "ab{3}\n",
      "['abbb']\n",
      "abbaa\u001b[1m\u001b[91mabbb\u001b[0mbaaaaa\n",
      "\n"
     ]
    }
   ],
   "source": [
    "text = 'abbaaabbbbaaaaa'\n",
    "patterns = ['ab*',     # a followed by zero or more b\n",
    "            'ab+',     # a followed by one or more b\n",
    "            'ab?',     # a followed by zero or one b\n",
    "            'ab{3}']   # a followed by three b\n",
    "\n",
    "print_example(text,patterns)"
   ]
  },
  {
   "cell_type": "code",
   "execution_count": 41,
   "metadata": {
    "colab": {},
    "colab_type": "code",
    "id": "CHIs87TuDiRU",
    "outputId": "238d409a-c6ef-4c67-aa19-19ae6a916239"
   },
   "outputs": [
    {
     "name": "stdout",
     "output_type": "stream",
     "text": [
      "ab aag AB somethingAAG\n",
      "\n",
      "[ab]+\n",
      "['ab', 'aa']\n",
      "\u001b[1m\u001b[91mab\u001b[0m aag AB somethingAAG\n",
      "ab \u001b[1m\u001b[91maa\u001b[0mg AB somethingAAG\n",
      "\n",
      "[AB]+\n",
      "['AB', 'AA']\n",
      "ab aag \u001b[1m\u001b[91mAB\u001b[0m somethingAAG\n",
      "ab aag AB something\u001b[1m\u001b[91mAA\u001b[0mG\n",
      "\n",
      "[a-z]+\n",
      "['ab', 'aag', 'something']\n",
      "\u001b[1m\u001b[91mab\u001b[0m aag AB somethingAAG\n",
      "ab \u001b[1m\u001b[91maag\u001b[0m AB somethingAAG\n",
      "ab aag AB \u001b[1m\u001b[91msomething\u001b[0mAAG\n",
      "\n",
      "[A-Z]+\n",
      "['AB', 'AAG']\n",
      "ab aag \u001b[1m\u001b[91mAB\u001b[0m somethingAAG\n",
      "ab aag AB something\u001b[1m\u001b[91mAAG\u001b[0m\n",
      "\n",
      "something[A-Z]\n",
      "['somethingA']\n",
      "ab aag AB \u001b[1m\u001b[91msomethingA\u001b[0mAG\n",
      "\n",
      "[a-zA-Z]+\n",
      "['ab', 'aag', 'AB', 'somethingAAG']\n",
      "\u001b[1m\u001b[91mab\u001b[0m aag AB somethingAAG\n",
      "ab \u001b[1m\u001b[91maag\u001b[0m AB somethingAAG\n",
      "ab aag \u001b[1m\u001b[91mAB\u001b[0m somethingAAG\n",
      "ab aag AB \u001b[1m\u001b[91msomethingAAG\u001b[0m\n",
      "\n"
     ]
    }
   ],
   "source": [
    "text = 'ab aag AB somethingAAG'\n",
    "patterns = ['[ab]+',     # either a or b\n",
    "            '[AB]+',     # either a or b upper case\n",
    "            '[a-z]+',     # any lower case letter\n",
    "            '[A-Z]+',    # any upper case letter\n",
    "            'something[A-Z]',\n",
    "            '[a-zA-Z]+']  \n",
    "\n",
    "print_example(text,patterns)"
   ]
  },
  {
   "cell_type": "code",
   "execution_count": 42,
   "metadata": {
    "colab": {},
    "colab_type": "code",
    "id": "dQ1tRtcDDiRW",
    "outputId": "4758bda7-6567-4d77-e2c0-6b67d26fb6b0"
   },
   "outputs": [
    {
     "name": "stdout",
     "output_type": "stream",
     "text": [
      "You can. also find - without\n",
      "\n",
      "[^-. ]+\n",
      "['You', 'can', 'also', 'find', 'without']\n",
      "\u001b[1m\u001b[91mYou\u001b[0m can. also find - without\n",
      "You \u001b[1m\u001b[91mcan\u001b[0m. also find - without\n",
      "You can. \u001b[1m\u001b[91malso\u001b[0m find - without\n",
      "You can. also \u001b[1m\u001b[91mfind\u001b[0m - without\n",
      "You can. also find - \u001b[1m\u001b[91mwithout\u001b[0m\n",
      "\n",
      "a.\n",
      "['an', 'al']\n",
      "You c\u001b[1m\u001b[91man\u001b[0m. also find - without\n",
      "You can. \u001b[1m\u001b[91mal\u001b[0mso find - without\n",
      "\n",
      "f.*d\n",
      "['find']\n",
      "You can. also \u001b[1m\u001b[91mfind\u001b[0m - without\n",
      "\n"
     ]
    }
   ],
   "source": [
    "text = 'You can. also find - without'\n",
    "patterns = ['[^-. ]+',  # sequences without -, ., or space]  \n",
    "            'a.', # a followed by any charachter\n",
    "            'f.*d'] # f followed by any charachters ending with d\n",
    "\n",
    "print_example(text,patterns)"
   ]
  },
  {
   "cell_type": "code",
   "execution_count": 43,
   "metadata": {
    "colab": {},
    "colab_type": "code",
    "id": "EfnlBSaZDiRY",
    "outputId": "65d3ff46-917c-421b-f652-a65e0a29357b"
   },
   "outputs": [
    {
     "name": "stdout",
     "output_type": "stream",
     "text": [
      "Finding different types 1,2,3\n",
      "\n",
      "\\d+\n",
      "['1', '2', '3']\n",
      "Finding different types \u001b[1m\u001b[91m1\u001b[0m,2,3\n",
      "Finding different types 1,\u001b[1m\u001b[91m2\u001b[0m,3\n",
      "Finding different types 1,2,\u001b[1m\u001b[91m3\u001b[0m\n",
      "\n",
      "\\D+\n",
      "['Finding different types ', ',', ',']\n",
      "\u001b[1m\u001b[91mFinding different types \u001b[0m1,2,3\n",
      "Finding different types 1\u001b[1m\u001b[91m,\u001b[0m2,3\n",
      "Finding different types 1,2\u001b[1m\u001b[91m,\u001b[0m3\n",
      "\n",
      "\\s+\n",
      "[' ', ' ', ' ']\n",
      "Finding\u001b[1m\u001b[91m \u001b[0mdifferent types 1,2,3\n",
      "Finding different\u001b[1m\u001b[91m \u001b[0mtypes 1,2,3\n",
      "Finding different types\u001b[1m\u001b[91m \u001b[0m1,2,3\n",
      "\n",
      "\\S+\n",
      "['Finding', 'different', 'types', '1,2,3']\n",
      "\u001b[1m\u001b[91mFinding\u001b[0m different types 1,2,3\n",
      "Finding \u001b[1m\u001b[91mdifferent\u001b[0m types 1,2,3\n",
      "Finding different \u001b[1m\u001b[91mtypes\u001b[0m 1,2,3\n",
      "Finding different types \u001b[1m\u001b[91m1,2,3\u001b[0m\n",
      "\n",
      "\\w+\n",
      "['Finding', 'different', 'types', '1', '2', '3']\n",
      "\u001b[1m\u001b[91mFinding\u001b[0m different types 1,2,3\n",
      "Finding \u001b[1m\u001b[91mdifferent\u001b[0m types 1,2,3\n",
      "Finding different \u001b[1m\u001b[91mtypes\u001b[0m 1,2,3\n",
      "Finding different types \u001b[1m\u001b[91m1\u001b[0m,2,3\n",
      "Finding different types 1,\u001b[1m\u001b[91m2\u001b[0m,3\n",
      "Finding different types 1,2,\u001b[1m\u001b[91m3\u001b[0m\n",
      "\n",
      "\\W+\n",
      "[' ', ' ', ' ', ',', ',']\n",
      "Finding\u001b[1m\u001b[91m \u001b[0mdifferent types 1,2,3\n",
      "Finding different\u001b[1m\u001b[91m \u001b[0mtypes 1,2,3\n",
      "Finding different types\u001b[1m\u001b[91m \u001b[0m1,2,3\n",
      "Finding different types 1\u001b[1m\u001b[91m,\u001b[0m2,3\n",
      "Finding different types 1,2\u001b[1m\u001b[91m,\u001b[0m3\n",
      "\n"
     ]
    }
   ],
   "source": [
    "text = 'Finding different types 1,2,3'\n",
    "patterns = [r'\\d+', # sequence of digits\n",
    "                r'\\D+', # sequence of non-digits\n",
    "                r'\\s+', # sequence of whitespace\n",
    "                r'\\S+', # sequence of non-whitespace\n",
    "                r'\\w+', # alphanumeric characters\n",
    "                r'\\W+', # non-alphanumeric\n",
    "           ]\n",
    "\n",
    "print_example(text,patterns)"
   ]
  },
  {
   "cell_type": "markdown",
   "metadata": {
    "colab_type": "text",
    "id": "xrMWYjDXDiRb"
   },
   "source": [
    "#### List comprehension"
   ]
  },
  {
   "cell_type": "code",
   "execution_count": 44,
   "metadata": {
    "colab": {},
    "colab_type": "code",
    "id": "SQ6LiWSzDiRb",
    "outputId": "056252e6-0bf8-4b6a-c218-0935d2b5db64"
   },
   "outputs": [
    {
     "data": {
      "text/plain": [
       "['Adam', 'Bruno', 'Cecile']"
      ]
     },
     "execution_count": 44,
     "metadata": {},
     "output_type": "execute_result"
    }
   ],
   "source": [
    "mylist = ['adam','bruno','cecile']\n",
    "new_list = []\n",
    "for l in mylist:\n",
    "    new_list.append(l.capitalize())\n",
    "new_list"
   ]
  },
  {
   "cell_type": "code",
   "execution_count": 45,
   "metadata": {
    "colab": {},
    "colab_type": "code",
    "id": "qD5YdgX-DiRd",
    "outputId": "4419173a-464a-422a-91de-95e89302101b"
   },
   "outputs": [
    {
     "data": {
      "text/plain": [
       "['Adam', 'Bruno', 'Cecile']"
      ]
     },
     "execution_count": 45,
     "metadata": {},
     "output_type": "execute_result"
    }
   ],
   "source": [
    "### [transformation-of-item for item in list]\n",
    "[x.capitalize() for x in mylist]"
   ]
  },
  {
   "cell_type": "code",
   "execution_count": 46,
   "metadata": {
    "colab": {},
    "colab_type": "code",
    "id": "8j5mPZyvDiRh",
    "outputId": "4bde2970-21a9-4295-b56b-cd143f6fb1f7"
   },
   "outputs": [
    {
     "data": {
      "text/plain": [
       "['Bruno', 'Cecile']"
      ]
     },
     "execution_count": 46,
     "metadata": {},
     "output_type": "execute_result"
    }
   ],
   "source": [
    "[x.capitalize() for x in mylist if not x.startswith('a')]"
   ]
  },
  {
   "cell_type": "code",
   "execution_count": 47,
   "metadata": {
    "colab": {},
    "colab_type": "code",
    "id": "L4mhyghBDiRj",
    "outputId": "fec4726f-6ef1-4a4a-9b01-920611277729"
   },
   "outputs": [
    {
     "data": {
      "text/plain": [
       "[['a', 'a'], ['u', 'o'], ['e', 'i', 'e']]"
      ]
     },
     "execution_count": 47,
     "metadata": {},
     "output_type": "execute_result"
    }
   ],
   "source": [
    "[re.findall('[aeiou]', x) for x in mylist]"
   ]
  },
  {
   "cell_type": "markdown",
   "metadata": {
    "colab_type": "text",
    "id": "XKUrhedHDiR5"
   },
   "source": [
    "#### Changing type of columns"
   ]
  },
  {
   "cell_type": "code",
   "execution_count": 48,
   "metadata": {
    "colab": {},
    "colab_type": "code",
    "id": "oX-rMJpdDiR5",
    "outputId": "16ad7f36-9835-42bb-f68c-132479541340"
   },
   "outputs": [
    {
     "data": {
      "text/html": [
       "<div>\n",
       "<style scoped>\n",
       "    .dataframe tbody tr th:only-of-type {\n",
       "        vertical-align: middle;\n",
       "    }\n",
       "\n",
       "    .dataframe tbody tr th {\n",
       "        vertical-align: top;\n",
       "    }\n",
       "\n",
       "    .dataframe thead th {\n",
       "        text-align: right;\n",
       "    }\n",
       "</style>\n",
       "<table border=\"1\" class=\"dataframe\">\n",
       "  <thead>\n",
       "    <tr style=\"text-align: right;\">\n",
       "      <th></th>\n",
       "      <th>a</th>\n",
       "      <th>b</th>\n",
       "      <th>c</th>\n",
       "      <th>d</th>\n",
       "      <th>e</th>\n",
       "    </tr>\n",
       "  </thead>\n",
       "  <tbody>\n",
       "    <tr>\n",
       "      <th>0</th>\n",
       "      <td>1</td>\n",
       "      <td>1</td>\n",
       "      <td>1</td>\n",
       "      <td>1</td>\n",
       "      <td>A</td>\n",
       "    </tr>\n",
       "    <tr>\n",
       "      <th>1</th>\n",
       "      <td>2</td>\n",
       "      <td>2</td>\n",
       "      <td>2</td>\n",
       "      <td>2</td>\n",
       "      <td>2</td>\n",
       "    </tr>\n",
       "    <tr>\n",
       "      <th>2</th>\n",
       "      <td>3</td>\n",
       "      <td>3</td>\n",
       "      <td>3</td>\n",
       "      <td>3</td>\n",
       "      <td>3</td>\n",
       "    </tr>\n",
       "  </tbody>\n",
       "</table>\n",
       "</div>"
      ],
      "text/plain": [
       "   a  b  c  d  e\n",
       "0  1  1  1  1  A\n",
       "1  2  2  2  2  2\n",
       "2  3  3  3  3  3"
      ]
     },
     "execution_count": 48,
     "metadata": {},
     "output_type": "execute_result"
    }
   ],
   "source": [
    "df = pd.DataFrame({'a':['1','2','3'],\n",
    "                  'b':['1','2','3'],\n",
    "                  'c':['1','2','3'],\n",
    "                  'd':['1','2','3'],\n",
    "                  'e':['A','2','3']})\n",
    "df"
   ]
  },
  {
   "cell_type": "code",
   "execution_count": 49,
   "metadata": {
    "colab": {},
    "colab_type": "code",
    "id": "BwyMYxlfDiR9",
    "outputId": "b387ebf8-99a8-4df3-c222-4d7633de83db"
   },
   "outputs": [
    {
     "data": {
      "text/plain": [
       "a    object\n",
       "b    object\n",
       "c    object\n",
       "d    object\n",
       "e    object\n",
       "dtype: object"
      ]
     },
     "execution_count": 49,
     "metadata": {},
     "output_type": "execute_result"
    }
   ],
   "source": [
    "df.dtypes"
   ]
  },
  {
   "cell_type": "code",
   "execution_count": 50,
   "metadata": {
    "colab": {},
    "colab_type": "code",
    "id": "TAMBKgPxDiSB",
    "outputId": "aa02eeeb-791e-4766-9c86-c019dd4e015d"
   },
   "outputs": [
    {
     "data": {
      "text/html": [
       "<div>\n",
       "<style scoped>\n",
       "    .dataframe tbody tr th:only-of-type {\n",
       "        vertical-align: middle;\n",
       "    }\n",
       "\n",
       "    .dataframe tbody tr th {\n",
       "        vertical-align: top;\n",
       "    }\n",
       "\n",
       "    .dataframe thead th {\n",
       "        text-align: right;\n",
       "    }\n",
       "</style>\n",
       "<table border=\"1\" class=\"dataframe\">\n",
       "  <thead>\n",
       "    <tr style=\"text-align: right;\">\n",
       "      <th></th>\n",
       "      <th>a</th>\n",
       "      <th>b</th>\n",
       "      <th>c</th>\n",
       "      <th>d</th>\n",
       "      <th>e</th>\n",
       "    </tr>\n",
       "  </thead>\n",
       "  <tbody>\n",
       "    <tr>\n",
       "      <th>0</th>\n",
       "      <td>1</td>\n",
       "      <td>1</td>\n",
       "      <td>1.0</td>\n",
       "      <td>1</td>\n",
       "      <td>A</td>\n",
       "    </tr>\n",
       "    <tr>\n",
       "      <th>1</th>\n",
       "      <td>2</td>\n",
       "      <td>2</td>\n",
       "      <td>2.0</td>\n",
       "      <td>2</td>\n",
       "      <td>2</td>\n",
       "    </tr>\n",
       "    <tr>\n",
       "      <th>2</th>\n",
       "      <td>3</td>\n",
       "      <td>3</td>\n",
       "      <td>3.0</td>\n",
       "      <td>3</td>\n",
       "      <td>3</td>\n",
       "    </tr>\n",
       "  </tbody>\n",
       "</table>\n",
       "</div>"
      ],
      "text/plain": [
       "   a  b    c  d  e\n",
       "0  1  1  1.0  1  A\n",
       "1  2  2  2.0  2  2\n",
       "2  3  3  3.0  3  3"
      ]
     },
     "execution_count": 50,
     "metadata": {},
     "output_type": "execute_result"
    }
   ],
   "source": [
    "df['b'] = df['b'].astype(int)\n",
    "df['c'] = df['c'].astype(float)\n",
    "df"
   ]
  },
  {
   "cell_type": "code",
   "execution_count": 51,
   "metadata": {
    "colab": {},
    "colab_type": "code",
    "id": "Ti4NpN4nDiSG",
    "outputId": "50ff4ec1-3c24-4cd9-98fa-6d0c5931a102"
   },
   "outputs": [
    {
     "data": {
      "text/plain": [
       "a     object\n",
       "b      int32\n",
       "c    float64\n",
       "d     object\n",
       "e     object\n",
       "dtype: object"
      ]
     },
     "execution_count": 51,
     "metadata": {},
     "output_type": "execute_result"
    }
   ],
   "source": [
    "df.dtypes"
   ]
  },
  {
   "cell_type": "code",
   "execution_count": 52,
   "metadata": {
    "colab": {},
    "colab_type": "code",
    "id": "EkeX64jZDiSH",
    "outputId": "8a885800-c0e4-40c7-ae84-4ca217d3aa19"
   },
   "outputs": [
    {
     "data": {
      "text/html": [
       "<div>\n",
       "<style scoped>\n",
       "    .dataframe tbody tr th:only-of-type {\n",
       "        vertical-align: middle;\n",
       "    }\n",
       "\n",
       "    .dataframe tbody tr th {\n",
       "        vertical-align: top;\n",
       "    }\n",
       "\n",
       "    .dataframe thead th {\n",
       "        text-align: right;\n",
       "    }\n",
       "</style>\n",
       "<table border=\"1\" class=\"dataframe\">\n",
       "  <thead>\n",
       "    <tr style=\"text-align: right;\">\n",
       "      <th></th>\n",
       "      <th>a</th>\n",
       "      <th>b</th>\n",
       "      <th>c</th>\n",
       "      <th>d</th>\n",
       "      <th>e</th>\n",
       "    </tr>\n",
       "  </thead>\n",
       "  <tbody>\n",
       "    <tr>\n",
       "      <th>0</th>\n",
       "      <td>1</td>\n",
       "      <td>1</td>\n",
       "      <td>1.0</td>\n",
       "      <td>1</td>\n",
       "      <td>A</td>\n",
       "    </tr>\n",
       "    <tr>\n",
       "      <th>1</th>\n",
       "      <td>2</td>\n",
       "      <td>2</td>\n",
       "      <td>2.0</td>\n",
       "      <td>2</td>\n",
       "      <td>2</td>\n",
       "    </tr>\n",
       "    <tr>\n",
       "      <th>2</th>\n",
       "      <td>3</td>\n",
       "      <td>3</td>\n",
       "      <td>3.0</td>\n",
       "      <td>3</td>\n",
       "      <td>3</td>\n",
       "    </tr>\n",
       "  </tbody>\n",
       "</table>\n",
       "</div>"
      ],
      "text/plain": [
       "   a  b    c  d  e\n",
       "0  1  1  1.0  1  A\n",
       "1  2  2  2.0  2  2\n",
       "2  3  3  3.0  3  3"
      ]
     },
     "execution_count": 52,
     "metadata": {},
     "output_type": "execute_result"
    }
   ],
   "source": [
    "df['d'] = df['d'].astype('category')\n",
    "df"
   ]
  },
  {
   "cell_type": "code",
   "execution_count": 53,
   "metadata": {
    "colab": {},
    "colab_type": "code",
    "id": "7Xla9eoNDiSK",
    "outputId": "62b68724-041f-40d2-a034-772dfaafa032"
   },
   "outputs": [
    {
     "data": {
      "text/plain": [
       "a      object\n",
       "b       int32\n",
       "c     float64\n",
       "d    category\n",
       "e      object\n",
       "dtype: object"
      ]
     },
     "execution_count": 53,
     "metadata": {},
     "output_type": "execute_result"
    }
   ],
   "source": [
    "df.dtypes"
   ]
  },
  {
   "cell_type": "code",
   "execution_count": 54,
   "metadata": {
    "colab": {},
    "colab_type": "code",
    "id": "9v4IqNMCDiSM",
    "outputId": "2223d63b-bc75-4e32-b7b5-700ed4e35bb3"
   },
   "outputs": [
    {
     "data": {
      "text/plain": [
       "0    1\n",
       "1    2\n",
       "2    3\n",
       "Name: d, dtype: category\n",
       "Categories (3, object): ['1', '2', '3']"
      ]
     },
     "execution_count": 54,
     "metadata": {},
     "output_type": "execute_result"
    }
   ],
   "source": [
    "df['d']"
   ]
  },
  {
   "cell_type": "code",
   "execution_count": 55,
   "metadata": {
    "colab": {},
    "colab_type": "code",
    "id": "1EJnAaLFDiSO",
    "outputId": "a0a0467d-603e-4435-99c1-f56d70b6a0f0"
   },
   "outputs": [
    {
     "data": {
      "text/plain": [
       "16000"
      ]
     },
     "execution_count": 55,
     "metadata": {},
     "output_type": "execute_result"
    }
   ],
   "source": [
    "pd.Series(['foo','bar']*1000).nbytes"
   ]
  },
  {
   "cell_type": "code",
   "execution_count": 56,
   "metadata": {
    "colab": {},
    "colab_type": "code",
    "id": "lwWZ9MT8DiSR",
    "outputId": "44021c01-57d6-485c-fd1b-ad4f3cdd825a"
   },
   "outputs": [
    {
     "data": {
      "text/plain": [
       "2016"
      ]
     },
     "execution_count": 56,
     "metadata": {},
     "output_type": "execute_result"
    }
   ],
   "source": [
    "pd.Series(['foo','bar']*1000).astype('category').nbytes"
   ]
  },
  {
   "cell_type": "code",
   "execution_count": 57,
   "metadata": {
    "colab": {},
    "colab_type": "code",
    "id": "mX8_qvSUDiST",
    "outputId": "5d698e64-a396-427f-ee4c-dc40dd4d8ce1",
    "scrolled": true
   },
   "outputs": [
    {
     "ename": "ValueError",
     "evalue": "could not convert string to float: 'A'",
     "output_type": "error",
     "traceback": [
      "\u001b[1;31m---------------------------------------------------------------------------\u001b[0m",
      "\u001b[1;31mValueError\u001b[0m                                Traceback (most recent call last)",
      "\u001b[1;32m<ipython-input-57-8f8dfea9b1ae>\u001b[0m in \u001b[0;36m<module>\u001b[1;34m\u001b[0m\n\u001b[1;32m----> 1\u001b[1;33m \u001b[0mdf\u001b[0m\u001b[1;33m[\u001b[0m\u001b[1;34m'e'\u001b[0m\u001b[1;33m]\u001b[0m \u001b[1;33m=\u001b[0m \u001b[0mdf\u001b[0m\u001b[1;33m[\u001b[0m\u001b[1;34m'e'\u001b[0m\u001b[1;33m]\u001b[0m\u001b[1;33m.\u001b[0m\u001b[0mastype\u001b[0m\u001b[1;33m(\u001b[0m\u001b[0mfloat\u001b[0m\u001b[1;33m)\u001b[0m\u001b[1;33m\u001b[0m\u001b[1;33m\u001b[0m\u001b[0m\n\u001b[0m",
      "\u001b[1;32m~\\Anaconda3\\lib\\site-packages\\pandas\\core\\generic.py\u001b[0m in \u001b[0;36mastype\u001b[1;34m(self, dtype, copy, errors)\u001b[0m\n\u001b[0;32m   5872\u001b[0m         \u001b[1;32melse\u001b[0m\u001b[1;33m:\u001b[0m\u001b[1;33m\u001b[0m\u001b[1;33m\u001b[0m\u001b[0m\n\u001b[0;32m   5873\u001b[0m             \u001b[1;31m# else, only a single dtype is given\u001b[0m\u001b[1;33m\u001b[0m\u001b[1;33m\u001b[0m\u001b[1;33m\u001b[0m\u001b[0m\n\u001b[1;32m-> 5874\u001b[1;33m             \u001b[0mnew_data\u001b[0m \u001b[1;33m=\u001b[0m \u001b[0mself\u001b[0m\u001b[1;33m.\u001b[0m\u001b[0m_mgr\u001b[0m\u001b[1;33m.\u001b[0m\u001b[0mastype\u001b[0m\u001b[1;33m(\u001b[0m\u001b[0mdtype\u001b[0m\u001b[1;33m=\u001b[0m\u001b[0mdtype\u001b[0m\u001b[1;33m,\u001b[0m \u001b[0mcopy\u001b[0m\u001b[1;33m=\u001b[0m\u001b[0mcopy\u001b[0m\u001b[1;33m,\u001b[0m \u001b[0merrors\u001b[0m\u001b[1;33m=\u001b[0m\u001b[0merrors\u001b[0m\u001b[1;33m)\u001b[0m\u001b[1;33m\u001b[0m\u001b[1;33m\u001b[0m\u001b[0m\n\u001b[0m\u001b[0;32m   5875\u001b[0m             \u001b[1;32mreturn\u001b[0m \u001b[0mself\u001b[0m\u001b[1;33m.\u001b[0m\u001b[0m_constructor\u001b[0m\u001b[1;33m(\u001b[0m\u001b[0mnew_data\u001b[0m\u001b[1;33m)\u001b[0m\u001b[1;33m.\u001b[0m\u001b[0m__finalize__\u001b[0m\u001b[1;33m(\u001b[0m\u001b[0mself\u001b[0m\u001b[1;33m,\u001b[0m \u001b[0mmethod\u001b[0m\u001b[1;33m=\u001b[0m\u001b[1;34m\"astype\"\u001b[0m\u001b[1;33m)\u001b[0m\u001b[1;33m\u001b[0m\u001b[1;33m\u001b[0m\u001b[0m\n\u001b[0;32m   5876\u001b[0m \u001b[1;33m\u001b[0m\u001b[0m\n",
      "\u001b[1;32m~\\Anaconda3\\lib\\site-packages\\pandas\\core\\internals\\managers.py\u001b[0m in \u001b[0;36mastype\u001b[1;34m(self, dtype, copy, errors)\u001b[0m\n\u001b[0;32m    629\u001b[0m         \u001b[0mself\u001b[0m\u001b[1;33m,\u001b[0m \u001b[0mdtype\u001b[0m\u001b[1;33m,\u001b[0m \u001b[0mcopy\u001b[0m\u001b[1;33m:\u001b[0m \u001b[0mbool\u001b[0m \u001b[1;33m=\u001b[0m \u001b[1;32mFalse\u001b[0m\u001b[1;33m,\u001b[0m \u001b[0merrors\u001b[0m\u001b[1;33m:\u001b[0m \u001b[0mstr\u001b[0m \u001b[1;33m=\u001b[0m \u001b[1;34m\"raise\"\u001b[0m\u001b[1;33m\u001b[0m\u001b[1;33m\u001b[0m\u001b[0m\n\u001b[0;32m    630\u001b[0m     ) -> \"BlockManager\":\n\u001b[1;32m--> 631\u001b[1;33m         \u001b[1;32mreturn\u001b[0m \u001b[0mself\u001b[0m\u001b[1;33m.\u001b[0m\u001b[0mapply\u001b[0m\u001b[1;33m(\u001b[0m\u001b[1;34m\"astype\"\u001b[0m\u001b[1;33m,\u001b[0m \u001b[0mdtype\u001b[0m\u001b[1;33m=\u001b[0m\u001b[0mdtype\u001b[0m\u001b[1;33m,\u001b[0m \u001b[0mcopy\u001b[0m\u001b[1;33m=\u001b[0m\u001b[0mcopy\u001b[0m\u001b[1;33m,\u001b[0m \u001b[0merrors\u001b[0m\u001b[1;33m=\u001b[0m\u001b[0merrors\u001b[0m\u001b[1;33m)\u001b[0m\u001b[1;33m\u001b[0m\u001b[1;33m\u001b[0m\u001b[0m\n\u001b[0m\u001b[0;32m    632\u001b[0m \u001b[1;33m\u001b[0m\u001b[0m\n\u001b[0;32m    633\u001b[0m     def convert(\n",
      "\u001b[1;32m~\\Anaconda3\\lib\\site-packages\\pandas\\core\\internals\\managers.py\u001b[0m in \u001b[0;36mapply\u001b[1;34m(self, f, align_keys, ignore_failures, **kwargs)\u001b[0m\n\u001b[0;32m    425\u001b[0m                     \u001b[0mapplied\u001b[0m \u001b[1;33m=\u001b[0m \u001b[0mb\u001b[0m\u001b[1;33m.\u001b[0m\u001b[0mapply\u001b[0m\u001b[1;33m(\u001b[0m\u001b[0mf\u001b[0m\u001b[1;33m,\u001b[0m \u001b[1;33m**\u001b[0m\u001b[0mkwargs\u001b[0m\u001b[1;33m)\u001b[0m\u001b[1;33m\u001b[0m\u001b[1;33m\u001b[0m\u001b[0m\n\u001b[0;32m    426\u001b[0m                 \u001b[1;32melse\u001b[0m\u001b[1;33m:\u001b[0m\u001b[1;33m\u001b[0m\u001b[1;33m\u001b[0m\u001b[0m\n\u001b[1;32m--> 427\u001b[1;33m                     \u001b[0mapplied\u001b[0m \u001b[1;33m=\u001b[0m \u001b[0mgetattr\u001b[0m\u001b[1;33m(\u001b[0m\u001b[0mb\u001b[0m\u001b[1;33m,\u001b[0m \u001b[0mf\u001b[0m\u001b[1;33m)\u001b[0m\u001b[1;33m(\u001b[0m\u001b[1;33m**\u001b[0m\u001b[0mkwargs\u001b[0m\u001b[1;33m)\u001b[0m\u001b[1;33m\u001b[0m\u001b[1;33m\u001b[0m\u001b[0m\n\u001b[0m\u001b[0;32m    428\u001b[0m             \u001b[1;32mexcept\u001b[0m \u001b[1;33m(\u001b[0m\u001b[0mTypeError\u001b[0m\u001b[1;33m,\u001b[0m \u001b[0mNotImplementedError\u001b[0m\u001b[1;33m)\u001b[0m\u001b[1;33m:\u001b[0m\u001b[1;33m\u001b[0m\u001b[1;33m\u001b[0m\u001b[0m\n\u001b[0;32m    429\u001b[0m                 \u001b[1;32mif\u001b[0m \u001b[1;32mnot\u001b[0m \u001b[0mignore_failures\u001b[0m\u001b[1;33m:\u001b[0m\u001b[1;33m\u001b[0m\u001b[1;33m\u001b[0m\u001b[0m\n",
      "\u001b[1;32m~\\Anaconda3\\lib\\site-packages\\pandas\\core\\internals\\blocks.py\u001b[0m in \u001b[0;36mastype\u001b[1;34m(self, dtype, copy, errors)\u001b[0m\n\u001b[0;32m    671\u001b[0m             \u001b[0mvals1d\u001b[0m \u001b[1;33m=\u001b[0m \u001b[0mvalues\u001b[0m\u001b[1;33m.\u001b[0m\u001b[0mravel\u001b[0m\u001b[1;33m(\u001b[0m\u001b[1;33m)\u001b[0m\u001b[1;33m\u001b[0m\u001b[1;33m\u001b[0m\u001b[0m\n\u001b[0;32m    672\u001b[0m             \u001b[1;32mtry\u001b[0m\u001b[1;33m:\u001b[0m\u001b[1;33m\u001b[0m\u001b[1;33m\u001b[0m\u001b[0m\n\u001b[1;32m--> 673\u001b[1;33m                 \u001b[0mvalues\u001b[0m \u001b[1;33m=\u001b[0m \u001b[0mastype_nansafe\u001b[0m\u001b[1;33m(\u001b[0m\u001b[0mvals1d\u001b[0m\u001b[1;33m,\u001b[0m \u001b[0mdtype\u001b[0m\u001b[1;33m,\u001b[0m \u001b[0mcopy\u001b[0m\u001b[1;33m=\u001b[0m\u001b[1;32mTrue\u001b[0m\u001b[1;33m)\u001b[0m\u001b[1;33m\u001b[0m\u001b[1;33m\u001b[0m\u001b[0m\n\u001b[0m\u001b[0;32m    674\u001b[0m             \u001b[1;32mexcept\u001b[0m \u001b[1;33m(\u001b[0m\u001b[0mValueError\u001b[0m\u001b[1;33m,\u001b[0m \u001b[0mTypeError\u001b[0m\u001b[1;33m)\u001b[0m\u001b[1;33m:\u001b[0m\u001b[1;33m\u001b[0m\u001b[1;33m\u001b[0m\u001b[0m\n\u001b[0;32m    675\u001b[0m                 \u001b[1;31m# e.g. astype_nansafe can fail on object-dtype of strings\u001b[0m\u001b[1;33m\u001b[0m\u001b[1;33m\u001b[0m\u001b[1;33m\u001b[0m\u001b[0m\n",
      "\u001b[1;32m~\\Anaconda3\\lib\\site-packages\\pandas\\core\\dtypes\\cast.py\u001b[0m in \u001b[0;36mastype_nansafe\u001b[1;34m(arr, dtype, copy, skipna)\u001b[0m\n\u001b[0;32m   1095\u001b[0m     \u001b[1;32mif\u001b[0m \u001b[0mcopy\u001b[0m \u001b[1;32mor\u001b[0m \u001b[0mis_object_dtype\u001b[0m\u001b[1;33m(\u001b[0m\u001b[0marr\u001b[0m\u001b[1;33m)\u001b[0m \u001b[1;32mor\u001b[0m \u001b[0mis_object_dtype\u001b[0m\u001b[1;33m(\u001b[0m\u001b[0mdtype\u001b[0m\u001b[1;33m)\u001b[0m\u001b[1;33m:\u001b[0m\u001b[1;33m\u001b[0m\u001b[1;33m\u001b[0m\u001b[0m\n\u001b[0;32m   1096\u001b[0m         \u001b[1;31m# Explicit copy, or required since NumPy can't view from / to object.\u001b[0m\u001b[1;33m\u001b[0m\u001b[1;33m\u001b[0m\u001b[1;33m\u001b[0m\u001b[0m\n\u001b[1;32m-> 1097\u001b[1;33m         \u001b[1;32mreturn\u001b[0m \u001b[0marr\u001b[0m\u001b[1;33m.\u001b[0m\u001b[0mastype\u001b[0m\u001b[1;33m(\u001b[0m\u001b[0mdtype\u001b[0m\u001b[1;33m,\u001b[0m \u001b[0mcopy\u001b[0m\u001b[1;33m=\u001b[0m\u001b[1;32mTrue\u001b[0m\u001b[1;33m)\u001b[0m\u001b[1;33m\u001b[0m\u001b[1;33m\u001b[0m\u001b[0m\n\u001b[0m\u001b[0;32m   1098\u001b[0m \u001b[1;33m\u001b[0m\u001b[0m\n\u001b[0;32m   1099\u001b[0m     \u001b[1;32mreturn\u001b[0m \u001b[0marr\u001b[0m\u001b[1;33m.\u001b[0m\u001b[0mview\u001b[0m\u001b[1;33m(\u001b[0m\u001b[0mdtype\u001b[0m\u001b[1;33m)\u001b[0m\u001b[1;33m\u001b[0m\u001b[1;33m\u001b[0m\u001b[0m\n",
      "\u001b[1;31mValueError\u001b[0m: could not convert string to float: 'A'"
     ]
    }
   ],
   "source": [
    "df['e'] = df['e'].astype(float)"
   ]
  },
  {
   "cell_type": "code",
   "execution_count": 58,
   "metadata": {
    "colab": {},
    "colab_type": "code",
    "id": "wRWO3DESDiSV"
   },
   "outputs": [],
   "source": [
    "df['e'] = df['e'].replace('A',0).astype(float)"
   ]
  },
  {
   "cell_type": "code",
   "execution_count": 59,
   "metadata": {
    "colab": {},
    "colab_type": "code",
    "id": "j52lzv7ZDiSX",
    "outputId": "4d43f2f3-6468-4ab3-cb95-63e6167d617f"
   },
   "outputs": [
    {
     "data": {
      "text/html": [
       "<div>\n",
       "<style scoped>\n",
       "    .dataframe tbody tr th:only-of-type {\n",
       "        vertical-align: middle;\n",
       "    }\n",
       "\n",
       "    .dataframe tbody tr th {\n",
       "        vertical-align: top;\n",
       "    }\n",
       "\n",
       "    .dataframe thead th {\n",
       "        text-align: right;\n",
       "    }\n",
       "</style>\n",
       "<table border=\"1\" class=\"dataframe\">\n",
       "  <thead>\n",
       "    <tr style=\"text-align: right;\">\n",
       "      <th></th>\n",
       "      <th>a</th>\n",
       "      <th>b</th>\n",
       "      <th>c</th>\n",
       "      <th>d</th>\n",
       "      <th>e</th>\n",
       "    </tr>\n",
       "  </thead>\n",
       "  <tbody>\n",
       "    <tr>\n",
       "      <th>0</th>\n",
       "      <td>1</td>\n",
       "      <td>1</td>\n",
       "      <td>1.0</td>\n",
       "      <td>1</td>\n",
       "      <td>0.0</td>\n",
       "    </tr>\n",
       "    <tr>\n",
       "      <th>1</th>\n",
       "      <td>2</td>\n",
       "      <td>2</td>\n",
       "      <td>2.0</td>\n",
       "      <td>2</td>\n",
       "      <td>2.0</td>\n",
       "    </tr>\n",
       "    <tr>\n",
       "      <th>2</th>\n",
       "      <td>3</td>\n",
       "      <td>3</td>\n",
       "      <td>3.0</td>\n",
       "      <td>3</td>\n",
       "      <td>3.0</td>\n",
       "    </tr>\n",
       "  </tbody>\n",
       "</table>\n",
       "</div>"
      ],
      "text/plain": [
       "   a  b    c  d    e\n",
       "0  1  1  1.0  1  0.0\n",
       "1  2  2  2.0  2  2.0\n",
       "2  3  3  3.0  3  3.0"
      ]
     },
     "execution_count": 59,
     "metadata": {},
     "output_type": "execute_result"
    }
   ],
   "source": [
    "df"
   ]
  },
  {
   "cell_type": "markdown",
   "metadata": {
    "colab_type": "text",
    "id": "8nwTPFV0DiSY"
   },
   "source": [
    "#### Boxplot"
   ]
  },
  {
   "cell_type": "code",
   "execution_count": 60,
   "metadata": {
    "colab": {},
    "colab_type": "code",
    "id": "UD4h8zS8DiSZ"
   },
   "outputs": [],
   "source": [
    "import numpy as np\n",
    "df = pd.DataFrame({'a':np.random.rand(100),\n",
    "                  'b':np.random.rand(100)})"
   ]
  },
  {
   "cell_type": "code",
   "execution_count": 61,
   "metadata": {},
   "outputs": [],
   "source": [
    "%matplotlib inline"
   ]
  },
  {
   "cell_type": "code",
   "execution_count": 62,
   "metadata": {
    "colab": {},
    "colab_type": "code",
    "id": "90g9Y_-tDiSb",
    "outputId": "0bb780d8-a1c9-47ed-8678-dda56e66f319",
    "scrolled": true
   },
   "outputs": [
    {
     "data": {
      "text/plain": [
       "<AxesSubplot:>"
      ]
     },
     "execution_count": 62,
     "metadata": {},
     "output_type": "execute_result"
    },
    {
     "data": {
      "image/png": "[encoded data removed]",
      "text/plain": [
       "<Figure size 432x288 with 1 Axes>"
      ]
     },
     "metadata": {
      "needs_background": "light"
     },
     "output_type": "display_data"
    }
   ],
   "source": [
    "df.boxplot()"
   ]
  },
  {
   "cell_type": "code",
   "execution_count": 63,
   "metadata": {
    "colab": {},
    "colab_type": "code",
    "id": "485UT0sLDiSf"
   },
   "outputs": [],
   "source": [
    "df = pd.DataFrame({'a':np.random.rand(100),\n",
    "                  'b':np.random.uniform(0,100,100)})"
   ]
  },
  {
   "cell_type": "code",
   "execution_count": 64,
   "metadata": {
    "colab": {},
    "colab_type": "code",
    "id": "JHkoTIZRDiSh",
    "outputId": "51babc0c-94a0-4079-8e78-821f323d1752"
   },
   "outputs": [
    {
     "data": {
      "text/plain": [
       "<AxesSubplot:>"
      ]
     },
     "execution_count": 64,
     "metadata": {},
     "output_type": "execute_result"
    },
    {
     "data": {
      "image/png": "[encoded data removed]",
      "text/plain": [
       "<Figure size 432x288 with 1 Axes>"
      ]
     },
     "metadata": {
      "needs_background": "light"
     },
     "output_type": "display_data"
    }
   ],
   "source": [
    "df.boxplot()"
   ]
  },
  {
   "cell_type": "code",
   "execution_count": 65,
   "metadata": {
    "colab": {},
    "colab_type": "code",
    "id": "RwZ1d_qUDiSj",
    "outputId": "91881b32-23fc-4f46-81a4-b499f4cc3e06"
   },
   "outputs": [
    {
     "data": {
      "text/plain": [
       "<AxesSubplot:>"
      ]
     },
     "execution_count": 65,
     "metadata": {},
     "output_type": "execute_result"
    },
    {
     "data": {
      "image/png": "[encoded data removed]",
      "text/plain": [
       "<Figure size 432x288 with 1 Axes>"
      ]
     },
     "metadata": {
      "needs_background": "light"
     },
     "output_type": "display_data"
    }
   ],
   "source": [
    "df.boxplot('a')"
   ]
  },
  {
   "cell_type": "code",
   "execution_count": 66,
   "metadata": {
    "colab": {},
    "colab_type": "code",
    "id": "icFR-JluDiSl",
    "outputId": "a40caf1d-b7ff-4868-da3b-04e38088b467",
    "scrolled": true
   },
   "outputs": [
    {
     "data": {
      "text/plain": [
       "<AxesSubplot:>"
      ]
     },
     "execution_count": 66,
     "metadata": {},
     "output_type": "execute_result"
    },
    {
     "data": {
      "image/png": "[encoded data removed]",
      "text/plain": [
       "<Figure size 432x288 with 1 Axes>"
      ]
     },
     "metadata": {
      "needs_background": "light"
     },
     "output_type": "display_data"
    }
   ],
   "source": [
    "df.boxplot('b')"
   ]
  },
  {
   "cell_type": "code",
   "execution_count": 67,
   "metadata": {
    "colab": {},
    "colab_type": "code",
    "id": "nqPYIQcNDiSm",
    "outputId": "51074ce7-c3ea-4fd6-adf5-4cd1073b89ae"
   },
   "outputs": [
    {
     "data": {
      "text/plain": [
       "<AxesSubplot:>"
      ]
     },
     "execution_count": 67,
     "metadata": {},
     "output_type": "execute_result"
    },
    {
     "data": {
      "image/png": "[encoded data removed]",
      "text/plain": [
       "<Figure size 432x288 with 1 Axes>"
      ]
     },
     "metadata": {
      "needs_background": "light"
     },
     "output_type": "display_data"
    }
   ],
   "source": [
    "df = pd.DataFrame({'a':[1,2]*50 + [40]})\n",
    "df.boxplot('a')"
   ]
  },
  {
   "cell_type": "markdown",
   "metadata": {
    "colab_type": "text",
    "id": "OI97l--ADiSr"
   },
   "source": [
    "#### Change values in columns based on condition"
   ]
  },
  {
   "cell_type": "code",
   "execution_count": 68,
   "metadata": {
    "colab": {},
    "colab_type": "code",
    "id": "m8YwukUrDiSs"
   },
   "outputs": [],
   "source": [
    "import numpy as np"
   ]
  },
  {
   "cell_type": "code",
   "execution_count": 69,
   "metadata": {
    "colab": {},
    "colab_type": "code",
    "id": "_2rcZeywDiSu",
    "outputId": "d3414406-f08a-4e64-b685-15df67c99631"
   },
   "outputs": [
    {
     "data": {
      "text/plain": [
       "<AxesSubplot:>"
      ]
     },
     "execution_count": 69,
     "metadata": {},
     "output_type": "execute_result"
    },
    {
     "data": {
      "image/png": "[encoded data removed]",
      "text/plain": [
       "<Figure size 432x288 with 1 Axes>"
      ]
     },
     "metadata": {
      "needs_background": "light"
     },
     "output_type": "display_data"
    }
   ],
   "source": [
    "df = pd.DataFrame({'a':[1,2]*50 + [40]})\n",
    "df.boxplot('a')"
   ]
  },
  {
   "cell_type": "code",
   "execution_count": 70,
   "metadata": {
    "colab": {},
    "colab_type": "code",
    "id": "KM8Atuv3DiSx",
    "outputId": "c8081b99-03a9-4d74-aa30-3547b035a96f"
   },
   "outputs": [
    {
     "data": {
      "text/plain": [
       "<AxesSubplot:>"
      ]
     },
     "execution_count": 70,
     "metadata": {},
     "output_type": "execute_result"
    },
    {
     "data": {
      "image/png": "[encoded data removed]",
      "text/plain": [
       "<Figure size 432x288 with 1 Axes>"
      ]
     },
     "metadata": {
      "needs_background": "light"
     },
     "output_type": "display_data"
    }
   ],
   "source": [
    "df['a'] = np.where(df['a'] > 5, 1, df['a'])\n",
    "df.boxplot('a')"
   ]
  },
  {
   "cell_type": "code",
   "execution_count": 71,
   "metadata": {
    "colab": {},
    "colab_type": "code",
    "id": "9QpqJTE_DiSz",
    "outputId": "5a1cd0dc-b537-4baf-a91c-5ef66cc540f5"
   },
   "outputs": [
    {
     "data": {
      "text/html": [
       "<div>\n",
       "<style scoped>\n",
       "    .dataframe tbody tr th:only-of-type {\n",
       "        vertical-align: middle;\n",
       "    }\n",
       "\n",
       "    .dataframe tbody tr th {\n",
       "        vertical-align: top;\n",
       "    }\n",
       "\n",
       "    .dataframe thead th {\n",
       "        text-align: right;\n",
       "    }\n",
       "</style>\n",
       "<table border=\"1\" class=\"dataframe\">\n",
       "  <thead>\n",
       "    <tr style=\"text-align: right;\">\n",
       "      <th></th>\n",
       "      <th>a</th>\n",
       "    </tr>\n",
       "  </thead>\n",
       "  <tbody>\n",
       "    <tr>\n",
       "      <th>0</th>\n",
       "      <td>apple</td>\n",
       "    </tr>\n",
       "    <tr>\n",
       "      <th>1</th>\n",
       "      <td>potato</td>\n",
       "    </tr>\n",
       "    <tr>\n",
       "      <th>2</th>\n",
       "      <td>plum</td>\n",
       "    </tr>\n",
       "    <tr>\n",
       "      <th>3</th>\n",
       "      <td>carrot</td>\n",
       "    </tr>\n",
       "    <tr>\n",
       "      <th>4</th>\n",
       "      <td>plum</td>\n",
       "    </tr>\n",
       "    <tr>\n",
       "      <th>5</th>\n",
       "      <td>apple</td>\n",
       "    </tr>\n",
       "    <tr>\n",
       "      <th>6</th>\n",
       "      <td>bean</td>\n",
       "    </tr>\n",
       "    <tr>\n",
       "      <th>7</th>\n",
       "      <td>apple</td>\n",
       "    </tr>\n",
       "  </tbody>\n",
       "</table>\n",
       "</div>"
      ],
      "text/plain": [
       "        a\n",
       "0   apple\n",
       "1  potato\n",
       "2    plum\n",
       "3  carrot\n",
       "4    plum\n",
       "5   apple\n",
       "6    bean\n",
       "7   apple"
      ]
     },
     "execution_count": 71,
     "metadata": {},
     "output_type": "execute_result"
    }
   ],
   "source": [
    "df = pd.DataFrame({'a':['apple','potato','plum','carrot','plum','apple','bean','apple']})\n",
    "df"
   ]
  },
  {
   "cell_type": "code",
   "execution_count": 72,
   "metadata": {
    "colab": {},
    "colab_type": "code",
    "id": "kijW3mdjDiS1",
    "outputId": "d0085c9d-9a84-4d61-a28e-e26c219d90e4"
   },
   "outputs": [
    {
     "data": {
      "text/html": [
       "<div>\n",
       "<style scoped>\n",
       "    .dataframe tbody tr th:only-of-type {\n",
       "        vertical-align: middle;\n",
       "    }\n",
       "\n",
       "    .dataframe tbody tr th {\n",
       "        vertical-align: top;\n",
       "    }\n",
       "\n",
       "    .dataframe thead th {\n",
       "        text-align: right;\n",
       "    }\n",
       "</style>\n",
       "<table border=\"1\" class=\"dataframe\">\n",
       "  <thead>\n",
       "    <tr style=\"text-align: right;\">\n",
       "      <th></th>\n",
       "      <th>a</th>\n",
       "      <th>category</th>\n",
       "    </tr>\n",
       "  </thead>\n",
       "  <tbody>\n",
       "    <tr>\n",
       "      <th>0</th>\n",
       "      <td>apple</td>\n",
       "      <td>fruit</td>\n",
       "    </tr>\n",
       "    <tr>\n",
       "      <th>1</th>\n",
       "      <td>potato</td>\n",
       "      <td>vegetable</td>\n",
       "    </tr>\n",
       "    <tr>\n",
       "      <th>2</th>\n",
       "      <td>plum</td>\n",
       "      <td>fruit</td>\n",
       "    </tr>\n",
       "    <tr>\n",
       "      <th>3</th>\n",
       "      <td>carrot</td>\n",
       "      <td>vegetable</td>\n",
       "    </tr>\n",
       "    <tr>\n",
       "      <th>4</th>\n",
       "      <td>plum</td>\n",
       "      <td>fruit</td>\n",
       "    </tr>\n",
       "    <tr>\n",
       "      <th>5</th>\n",
       "      <td>apple</td>\n",
       "      <td>fruit</td>\n",
       "    </tr>\n",
       "    <tr>\n",
       "      <th>6</th>\n",
       "      <td>bean</td>\n",
       "      <td>vegetable</td>\n",
       "    </tr>\n",
       "    <tr>\n",
       "      <th>7</th>\n",
       "      <td>apple</td>\n",
       "      <td>fruit</td>\n",
       "    </tr>\n",
       "  </tbody>\n",
       "</table>\n",
       "</div>"
      ],
      "text/plain": [
       "        a   category\n",
       "0   apple      fruit\n",
       "1  potato  vegetable\n",
       "2    plum      fruit\n",
       "3  carrot  vegetable\n",
       "4    plum      fruit\n",
       "5   apple      fruit\n",
       "6    bean  vegetable\n",
       "7   apple      fruit"
      ]
     },
     "execution_count": 72,
     "metadata": {},
     "output_type": "execute_result"
    }
   ],
   "source": [
    "df['category'] = np.where(df['a'].isin(['apple','plum']), 'fruit','vegetable')\n",
    "df"
   ]
  },
  {
   "cell_type": "code",
   "execution_count": 73,
   "metadata": {
    "colab": {},
    "colab_type": "code",
    "id": "8be_RS9VDiS3",
    "outputId": "2b7709b9-3d99-4742-9326-49a124166e28"
   },
   "outputs": [
    {
     "data": {
      "text/html": [
       "<div>\n",
       "<style scoped>\n",
       "    .dataframe tbody tr th:only-of-type {\n",
       "        vertical-align: middle;\n",
       "    }\n",
       "\n",
       "    .dataframe tbody tr th {\n",
       "        vertical-align: top;\n",
       "    }\n",
       "\n",
       "    .dataframe thead th {\n",
       "        text-align: right;\n",
       "    }\n",
       "</style>\n",
       "<table border=\"1\" class=\"dataframe\">\n",
       "  <thead>\n",
       "    <tr style=\"text-align: right;\">\n",
       "      <th></th>\n",
       "      <th>a</th>\n",
       "      <th>category</th>\n",
       "    </tr>\n",
       "  </thead>\n",
       "  <tbody>\n",
       "    <tr>\n",
       "      <th>0</th>\n",
       "      <td>apple</td>\n",
       "      <td>fruit</td>\n",
       "    </tr>\n",
       "    <tr>\n",
       "      <th>1</th>\n",
       "      <td>potato</td>\n",
       "      <td>vegetable</td>\n",
       "    </tr>\n",
       "    <tr>\n",
       "      <th>2</th>\n",
       "      <td>pizza</td>\n",
       "      <td>pizza</td>\n",
       "    </tr>\n",
       "    <tr>\n",
       "      <th>3</th>\n",
       "      <td>plum</td>\n",
       "      <td>fruit</td>\n",
       "    </tr>\n",
       "    <tr>\n",
       "      <th>4</th>\n",
       "      <td>carrot</td>\n",
       "      <td>vegetable</td>\n",
       "    </tr>\n",
       "    <tr>\n",
       "      <th>5</th>\n",
       "      <td>plum</td>\n",
       "      <td>fruit</td>\n",
       "    </tr>\n",
       "    <tr>\n",
       "      <th>6</th>\n",
       "      <td>apple</td>\n",
       "      <td>fruit</td>\n",
       "    </tr>\n",
       "    <tr>\n",
       "      <th>7</th>\n",
       "      <td>bean</td>\n",
       "      <td>vegetable</td>\n",
       "    </tr>\n",
       "    <tr>\n",
       "      <th>8</th>\n",
       "      <td>apple</td>\n",
       "      <td>fruit</td>\n",
       "    </tr>\n",
       "    <tr>\n",
       "      <th>9</th>\n",
       "      <td>pizza</td>\n",
       "      <td>pizza</td>\n",
       "    </tr>\n",
       "  </tbody>\n",
       "</table>\n",
       "</div>"
      ],
      "text/plain": [
       "        a   category\n",
       "0   apple      fruit\n",
       "1  potato  vegetable\n",
       "2   pizza      pizza\n",
       "3    plum      fruit\n",
       "4  carrot  vegetable\n",
       "5    plum      fruit\n",
       "6   apple      fruit\n",
       "7    bean  vegetable\n",
       "8   apple      fruit\n",
       "9   pizza      pizza"
      ]
     },
     "execution_count": 73,
     "metadata": {},
     "output_type": "execute_result"
    }
   ],
   "source": [
    "df = pd.DataFrame({'a':['apple','potato','pizza','plum','carrot','plum','apple','bean','apple','pizza']})\n",
    "df['category'] = np.where(df['a'] == 'pizza', df['a'],\n",
    "                    np.where(df['a'].isin(['apple','plum']), 'fruit','vegetable'))\n",
    "df"
   ]
  },
  {
   "cell_type": "code",
   "execution_count": 74,
   "metadata": {
    "colab": {},
    "colab_type": "code",
    "id": "Ikg-COEHDiS8",
    "outputId": "efc8a790-fb5f-4a46-f82e-f014ae1fb365"
   },
   "outputs": [
    {
     "data": {
      "text/html": [
       "<div>\n",
       "<style scoped>\n",
       "    .dataframe tbody tr th:only-of-type {\n",
       "        vertical-align: middle;\n",
       "    }\n",
       "\n",
       "    .dataframe tbody tr th {\n",
       "        vertical-align: top;\n",
       "    }\n",
       "\n",
       "    .dataframe thead th {\n",
       "        text-align: right;\n",
       "    }\n",
       "</style>\n",
       "<table border=\"1\" class=\"dataframe\">\n",
       "  <thead>\n",
       "    <tr style=\"text-align: right;\">\n",
       "      <th></th>\n",
       "      <th>first_name</th>\n",
       "      <th>last_name</th>\n",
       "      <th>nationality</th>\n",
       "    </tr>\n",
       "  </thead>\n",
       "  <tbody>\n",
       "    <tr>\n",
       "      <th>0</th>\n",
       "      <td>John</td>\n",
       "      <td>Smith</td>\n",
       "      <td>US</td>\n",
       "    </tr>\n",
       "    <tr>\n",
       "      <th>1</th>\n",
       "      <td>Kovacs</td>\n",
       "      <td>Peter</td>\n",
       "      <td>HUN</td>\n",
       "    </tr>\n",
       "    <tr>\n",
       "      <th>2</th>\n",
       "      <td>Peter</td>\n",
       "      <td>Black</td>\n",
       "      <td>US</td>\n",
       "    </tr>\n",
       "  </tbody>\n",
       "</table>\n",
       "</div>"
      ],
      "text/plain": [
       "  first_name last_name nationality\n",
       "0       John     Smith          US\n",
       "1     Kovacs     Peter         HUN\n",
       "2      Peter     Black          US"
      ]
     },
     "execution_count": 74,
     "metadata": {},
     "output_type": "execute_result"
    }
   ],
   "source": [
    "df = pd.DataFrame({'first_name':['John','Kovacs','Peter'],\n",
    "                  'last_name':['Smith','Peter','Black'],\n",
    "                  'nationality':['US','HUN','US']})\n",
    "df"
   ]
  },
  {
   "cell_type": "code",
   "execution_count": 75,
   "metadata": {
    "colab": {},
    "colab_type": "code",
    "id": "k2QTujqcDiS-",
    "outputId": "88f30ac1-81f4-4dba-a876-b98f56dda476"
   },
   "outputs": [
    {
     "data": {
      "text/html": [
       "<div>\n",
       "<style scoped>\n",
       "    .dataframe tbody tr th:only-of-type {\n",
       "        vertical-align: middle;\n",
       "    }\n",
       "\n",
       "    .dataframe tbody tr th {\n",
       "        vertical-align: top;\n",
       "    }\n",
       "\n",
       "    .dataframe thead th {\n",
       "        text-align: right;\n",
       "    }\n",
       "</style>\n",
       "<table border=\"1\" class=\"dataframe\">\n",
       "  <thead>\n",
       "    <tr style=\"text-align: right;\">\n",
       "      <th></th>\n",
       "      <th>first_name</th>\n",
       "      <th>last_name</th>\n",
       "      <th>nationality</th>\n",
       "      <th>real_last_name</th>\n",
       "    </tr>\n",
       "  </thead>\n",
       "  <tbody>\n",
       "    <tr>\n",
       "      <th>0</th>\n",
       "      <td>John</td>\n",
       "      <td>Smith</td>\n",
       "      <td>US</td>\n",
       "      <td>Smith</td>\n",
       "    </tr>\n",
       "    <tr>\n",
       "      <th>1</th>\n",
       "      <td>Kovacs</td>\n",
       "      <td>Peter</td>\n",
       "      <td>HUN</td>\n",
       "      <td>Kovacs</td>\n",
       "    </tr>\n",
       "    <tr>\n",
       "      <th>2</th>\n",
       "      <td>Peter</td>\n",
       "      <td>Black</td>\n",
       "      <td>US</td>\n",
       "      <td>Black</td>\n",
       "    </tr>\n",
       "  </tbody>\n",
       "</table>\n",
       "</div>"
      ],
      "text/plain": [
       "  first_name last_name nationality real_last_name\n",
       "0       John     Smith          US          Smith\n",
       "1     Kovacs     Peter         HUN         Kovacs\n",
       "2      Peter     Black          US          Black"
      ]
     },
     "execution_count": 75,
     "metadata": {},
     "output_type": "execute_result"
    }
   ],
   "source": [
    "df['real_last_name'] = np.where(df['nationality'] == 'US', df['last_name'], df['first_name'])\n",
    "df"
   ]
  },
  {
   "cell_type": "markdown",
   "metadata": {
    "colab_type": "text",
    "id": "3M-HM-rPDiTB"
   },
   "source": [
    "#### Set"
   ]
  },
  {
   "cell_type": "code",
   "execution_count": 76,
   "metadata": {
    "colab": {},
    "colab_type": "code",
    "id": "5mQMKxBRDiTB",
    "outputId": "f81d23eb-70d3-4ab4-bd6a-91c316151dca"
   },
   "outputs": [
    {
     "data": {
      "text/plain": [
       "{'apple', 'pear', 'plum'}"
      ]
     },
     "execution_count": 76,
     "metadata": {},
     "output_type": "execute_result"
    }
   ],
   "source": [
    "set_a = {'apple','plum','plum','pear'}\n",
    "set_a"
   ]
  },
  {
   "cell_type": "code",
   "execution_count": 77,
   "metadata": {
    "colab": {},
    "colab_type": "code",
    "id": "Sor75jlIDiTE"
   },
   "outputs": [],
   "source": [
    "US_spies = {'John','Anton','Brad','Dimitrij'}\n",
    "russian_spies = {'Pavlov', 'Mikhail', 'Dimitrij','John', 'Alexander'}"
   ]
  },
  {
   "cell_type": "code",
   "execution_count": 78,
   "metadata": {
    "colab": {},
    "colab_type": "code",
    "id": "JBhUnqGYDiTH",
    "outputId": "123466c8-32ae-4415-f2b2-93d2386c874b"
   },
   "outputs": [
    {
     "data": {
      "text/plain": [
       "{'Anton', 'Brad'}"
      ]
     },
     "execution_count": 78,
     "metadata": {},
     "output_type": "execute_result"
    }
   ],
   "source": [
    "loyal_US_spies = US_spies.difference(russian_spies)\n",
    "loyal_US_spies"
   ]
  },
  {
   "cell_type": "code",
   "execution_count": 79,
   "metadata": {
    "colab": {},
    "colab_type": "code",
    "id": "QZRJJd4IDiTS",
    "outputId": "00bd7e60-aaac-48d9-fafb-afcfbfa5092a"
   },
   "outputs": [
    {
     "data": {
      "text/plain": [
       "{'Dimitrij', 'John'}"
      ]
     },
     "execution_count": 79,
     "metadata": {},
     "output_type": "execute_result"
    }
   ],
   "source": [
    "double_agents = US_spies.intersection(russian_spies)\n",
    "double_agents"
   ]
  },
  {
   "cell_type": "code",
   "execution_count": 80,
   "metadata": {
    "colab": {},
    "colab_type": "code",
    "id": "q6E_h-FYDiTU",
    "outputId": "628d6f01-f229-4251-91a2-ce3ef39575d0"
   },
   "outputs": [
    {
     "data": {
      "text/plain": [
       "{'Alexander', 'Anton', 'Brad', 'Dimitrij', 'John', 'Mikhail', 'Pavlov'}"
      ]
     },
     "execution_count": 80,
     "metadata": {},
     "output_type": "execute_result"
    }
   ],
   "source": [
    "all_spies = US_spies.union(russian_spies)\n",
    "all_spies"
   ]
  },
  {
   "cell_type": "code",
   "execution_count": 81,
   "metadata": {
    "colab": {},
    "colab_type": "code",
    "id": "RiLhSoU1DiTW"
   },
   "outputs": [],
   "source": [
    "us_df = pd.DataFrame({'spies':['Anton', 'Anton', 'Brad', 'Brad', 'Brad','Dimitrij', 'Dimitrij', 'John', 'John'],\n",
    "                     'contacted':pd.date_range(start='1/1/1960', end='1/9/1960')})\n",
    "russia_df = pd.DataFrame({'spies':['Pavlov', 'Mikhail', 'Dimitrij','John', 'Alexander', 'Pavlov', 'Mikhail', 'Dimitrij','John', 'Alexander', 'Pavlov', 'Mikhail', 'Dimitrij','John', 'Alexander'],\n",
    "                     'contacted':pd.date_range(start='1/1/1960', end='1/15/1960')})"
   ]
  },
  {
   "cell_type": "code",
   "execution_count": 82,
   "metadata": {
    "colab": {},
    "colab_type": "code",
    "id": "4mbLm4KzDiTX",
    "outputId": "ac13a633-d0ac-4d05-9e14-d339d9a64de1"
   },
   "outputs": [
    {
     "data": {
      "text/html": [
       "<div>\n",
       "<style scoped>\n",
       "    .dataframe tbody tr th:only-of-type {\n",
       "        vertical-align: middle;\n",
       "    }\n",
       "\n",
       "    .dataframe tbody tr th {\n",
       "        vertical-align: top;\n",
       "    }\n",
       "\n",
       "    .dataframe thead th {\n",
       "        text-align: right;\n",
       "    }\n",
       "</style>\n",
       "<table border=\"1\" class=\"dataframe\">\n",
       "  <thead>\n",
       "    <tr style=\"text-align: right;\">\n",
       "      <th></th>\n",
       "      <th>spies</th>\n",
       "      <th>contacted</th>\n",
       "    </tr>\n",
       "  </thead>\n",
       "  <tbody>\n",
       "    <tr>\n",
       "      <th>0</th>\n",
       "      <td>Anton</td>\n",
       "      <td>1960-01-01</td>\n",
       "    </tr>\n",
       "    <tr>\n",
       "      <th>1</th>\n",
       "      <td>Anton</td>\n",
       "      <td>1960-01-02</td>\n",
       "    </tr>\n",
       "    <tr>\n",
       "      <th>2</th>\n",
       "      <td>Brad</td>\n",
       "      <td>1960-01-03</td>\n",
       "    </tr>\n",
       "    <tr>\n",
       "      <th>3</th>\n",
       "      <td>Brad</td>\n",
       "      <td>1960-01-04</td>\n",
       "    </tr>\n",
       "    <tr>\n",
       "      <th>4</th>\n",
       "      <td>Brad</td>\n",
       "      <td>1960-01-05</td>\n",
       "    </tr>\n",
       "    <tr>\n",
       "      <th>5</th>\n",
       "      <td>Dimitrij</td>\n",
       "      <td>1960-01-06</td>\n",
       "    </tr>\n",
       "    <tr>\n",
       "      <th>6</th>\n",
       "      <td>Dimitrij</td>\n",
       "      <td>1960-01-07</td>\n",
       "    </tr>\n",
       "    <tr>\n",
       "      <th>7</th>\n",
       "      <td>John</td>\n",
       "      <td>1960-01-08</td>\n",
       "    </tr>\n",
       "    <tr>\n",
       "      <th>8</th>\n",
       "      <td>John</td>\n",
       "      <td>1960-01-09</td>\n",
       "    </tr>\n",
       "  </tbody>\n",
       "</table>\n",
       "</div>"
      ],
      "text/plain": [
       "      spies  contacted\n",
       "0     Anton 1960-01-01\n",
       "1     Anton 1960-01-02\n",
       "2      Brad 1960-01-03\n",
       "3      Brad 1960-01-04\n",
       "4      Brad 1960-01-05\n",
       "5  Dimitrij 1960-01-06\n",
       "6  Dimitrij 1960-01-07\n",
       "7      John 1960-01-08\n",
       "8      John 1960-01-09"
      ]
     },
     "execution_count": 82,
     "metadata": {},
     "output_type": "execute_result"
    }
   ],
   "source": [
    "us_df"
   ]
  },
  {
   "cell_type": "code",
   "execution_count": 83,
   "metadata": {
    "colab": {},
    "colab_type": "code",
    "id": "CkYiwmYGDiTZ",
    "outputId": "53196d00-5118-4154-dd09-3e69d87f2da9"
   },
   "outputs": [
    {
     "data": {
      "text/html": [
       "<div>\n",
       "<style scoped>\n",
       "    .dataframe tbody tr th:only-of-type {\n",
       "        vertical-align: middle;\n",
       "    }\n",
       "\n",
       "    .dataframe tbody tr th {\n",
       "        vertical-align: top;\n",
       "    }\n",
       "\n",
       "    .dataframe thead th {\n",
       "        text-align: right;\n",
       "    }\n",
       "</style>\n",
       "<table border=\"1\" class=\"dataframe\">\n",
       "  <thead>\n",
       "    <tr style=\"text-align: right;\">\n",
       "      <th></th>\n",
       "      <th>spies</th>\n",
       "      <th>contacted</th>\n",
       "    </tr>\n",
       "  </thead>\n",
       "  <tbody>\n",
       "    <tr>\n",
       "      <th>0</th>\n",
       "      <td>Pavlov</td>\n",
       "      <td>1960-01-01</td>\n",
       "    </tr>\n",
       "    <tr>\n",
       "      <th>1</th>\n",
       "      <td>Mikhail</td>\n",
       "      <td>1960-01-02</td>\n",
       "    </tr>\n",
       "    <tr>\n",
       "      <th>2</th>\n",
       "      <td>Dimitrij</td>\n",
       "      <td>1960-01-03</td>\n",
       "    </tr>\n",
       "    <tr>\n",
       "      <th>3</th>\n",
       "      <td>John</td>\n",
       "      <td>1960-01-04</td>\n",
       "    </tr>\n",
       "    <tr>\n",
       "      <th>4</th>\n",
       "      <td>Alexander</td>\n",
       "      <td>1960-01-05</td>\n",
       "    </tr>\n",
       "    <tr>\n",
       "      <th>5</th>\n",
       "      <td>Pavlov</td>\n",
       "      <td>1960-01-06</td>\n",
       "    </tr>\n",
       "    <tr>\n",
       "      <th>6</th>\n",
       "      <td>Mikhail</td>\n",
       "      <td>1960-01-07</td>\n",
       "    </tr>\n",
       "    <tr>\n",
       "      <th>7</th>\n",
       "      <td>Dimitrij</td>\n",
       "      <td>1960-01-08</td>\n",
       "    </tr>\n",
       "    <tr>\n",
       "      <th>8</th>\n",
       "      <td>John</td>\n",
       "      <td>1960-01-09</td>\n",
       "    </tr>\n",
       "    <tr>\n",
       "      <th>9</th>\n",
       "      <td>Alexander</td>\n",
       "      <td>1960-01-10</td>\n",
       "    </tr>\n",
       "    <tr>\n",
       "      <th>10</th>\n",
       "      <td>Pavlov</td>\n",
       "      <td>1960-01-11</td>\n",
       "    </tr>\n",
       "    <tr>\n",
       "      <th>11</th>\n",
       "      <td>Mikhail</td>\n",
       "      <td>1960-01-12</td>\n",
       "    </tr>\n",
       "    <tr>\n",
       "      <th>12</th>\n",
       "      <td>Dimitrij</td>\n",
       "      <td>1960-01-13</td>\n",
       "    </tr>\n",
       "    <tr>\n",
       "      <th>13</th>\n",
       "      <td>John</td>\n",
       "      <td>1960-01-14</td>\n",
       "    </tr>\n",
       "    <tr>\n",
       "      <th>14</th>\n",
       "      <td>Alexander</td>\n",
       "      <td>1960-01-15</td>\n",
       "    </tr>\n",
       "  </tbody>\n",
       "</table>\n",
       "</div>"
      ],
      "text/plain": [
       "        spies  contacted\n",
       "0      Pavlov 1960-01-01\n",
       "1     Mikhail 1960-01-02\n",
       "2    Dimitrij 1960-01-03\n",
       "3        John 1960-01-04\n",
       "4   Alexander 1960-01-05\n",
       "5      Pavlov 1960-01-06\n",
       "6     Mikhail 1960-01-07\n",
       "7    Dimitrij 1960-01-08\n",
       "8        John 1960-01-09\n",
       "9   Alexander 1960-01-10\n",
       "10     Pavlov 1960-01-11\n",
       "11    Mikhail 1960-01-12\n",
       "12   Dimitrij 1960-01-13\n",
       "13       John 1960-01-14\n",
       "14  Alexander 1960-01-15"
      ]
     },
     "execution_count": 83,
     "metadata": {},
     "output_type": "execute_result"
    }
   ],
   "source": [
    "russia_df"
   ]
  },
  {
   "cell_type": "code",
   "execution_count": 84,
   "metadata": {
    "colab": {},
    "colab_type": "code",
    "id": "KCeUOqw7DiTc",
    "outputId": "7c10fe22-af4e-4e65-8111-4858615153ce"
   },
   "outputs": [
    {
     "data": {
      "text/plain": [
       "['Anton',\n",
       " 'Anton',\n",
       " 'Brad',\n",
       " 'Brad',\n",
       " 'Brad',\n",
       " 'Dimitrij',\n",
       " 'Dimitrij',\n",
       " 'John',\n",
       " 'John']"
      ]
     },
     "execution_count": 84,
     "metadata": {},
     "output_type": "execute_result"
    }
   ],
   "source": [
    "us_df['spies'].tolist()"
   ]
  },
  {
   "cell_type": "code",
   "execution_count": 85,
   "metadata": {
    "colab": {},
    "colab_type": "code",
    "id": "j9KQGkEZDiTc",
    "outputId": "4717983e-d6ef-407c-e8e6-bbd3321b71b6"
   },
   "outputs": [
    {
     "data": {
      "text/plain": [
       "{'Anton', 'Brad', 'Dimitrij', 'John'}"
      ]
     },
     "execution_count": 85,
     "metadata": {},
     "output_type": "execute_result"
    }
   ],
   "source": [
    "set(us_df['spies'].tolist())"
   ]
  },
  {
   "cell_type": "code",
   "execution_count": 86,
   "metadata": {
    "colab": {},
    "colab_type": "code",
    "id": "bBx_NUDcDiTf",
    "outputId": "71f47183-a543-4360-f1dd-dc2b5044b6ce"
   },
   "outputs": [
    {
     "data": {
      "text/plain": [
       "{'Dimitrij', 'John'}"
      ]
     },
     "execution_count": 86,
     "metadata": {},
     "output_type": "execute_result"
    }
   ],
   "source": [
    "double_agents = set(us_df['spies'].tolist()).intersection(set(russia_df['spies'].tolist()))\n",
    "double_agents"
   ]
  },
  {
   "cell_type": "markdown",
   "metadata": {
    "colab_type": "text",
    "id": "Lee_S-_uDiRm"
   },
   "source": [
    "## Excluding days with extreme weather conditions\n",
    "\n",
    "### 1 - exercise\n",
    "\n",
    "Import the pandas library and load the weather_filled.csv file you downloaded from the class 5 folder into a dataframe called weather. <br>\n",
    "Check the name of the columns. Is the nameing consistent? "
   ]
  },
  {
   "cell_type": "code",
   "execution_count": 1,
   "metadata": {
    "colab": {},
    "colab_type": "code",
    "id": "yyIHHTz7DiRm"
   },
   "outputs": [
    {
     "data": {
      "text/plain": [
       "Index(['Date', 'Max_Temperature_F', 'Mean_Temperature_F', 'Min_TemperatureF',\n",
       "       'Max_Dew_Point_F', 'MeanDew_Point_F', 'Min_Dewpoint_F', 'Max_Humidity',\n",
       "       'Mean_Humidity ', 'Min_Humidity ', 'Max_Sea_Level_Pressure_In ',\n",
       "       'Mean_Sea_Level_Pressure_In ', 'Min_Sea_Level_Pressure_In ',\n",
       "       'Max_Visibility_Miles ', 'Mean_Visibility_Miles ',\n",
       "       'Min_Visibility_Miles ', 'Max_Wind_Speed_MPH ', 'Mean_Wind_Speed_MPH ',\n",
       "       'Max_Gust_Speed_MPH', 'Precipitation_In ', 'Cloud_Cover ', 'Events',\n",
       "       'Wind_Dir_Degrees', 'landmark'],\n",
       "      dtype='object')"
      ]
     },
     "execution_count": 1,
     "metadata": {},
     "output_type": "execute_result"
    }
   ],
   "source": [
    "import pandas as pd\n",
    "weather = pd.read_csv('weather_filled.csv')\n",
    "weather.columns\n",
    "# no, some column names have extra space, and lower case"
   ]
  },
  {
   "cell_type": "markdown",
   "metadata": {
    "colab_type": "text",
    "id": "wRz742mQDiRo"
   },
   "source": [
    "### 1 - check yourself\n",
    "\n",
    "No, there are column names with an extra space at the end of the name <br>\n",
    "and column names where the underscore is missing from between the words\n",
    "\n",
    "### 2 - exercise\n",
    "\n",
    "Correct these mistakes! You can choose how to do it, but at the end remove the space from the column names and put underscores wherever needed. <br><br> You can loop through the column names and use string operations to insert the underscore where needed. You can also use the re module to find these occurrences. With the re module you can do the replacement in one step as well. <br>\n",
    "You can rename the columns inside the loop or you can build a list of the new column names and assign this new list as the new column names. You can use list comprehension for this."
   ]
  },
  {
   "cell_type": "code",
   "execution_count": 2,
   "metadata": {},
   "outputs": [
    {
     "name": "stdout",
     "output_type": "stream",
     "text": [
      "Min_TemperatureF\n",
      "MeanDew_Point_F\n",
      "Index(['Date', 'Max_Temperature_F', 'Mean_Temperature_F', 'Min_Temperature_F',\n",
      "       'Max_Dew_Point_F', 'Mean_Dew_Point_F', 'Min_Dewpoint_F', 'Max_Humidity',\n",
      "       'Mean_Humidity', 'Min_Humidity', 'Max_Sea_Level_Pressure_In',\n",
      "       'Mean_Sea_Level_Pressure_In', 'Min_Sea_Level_Pressure_In',\n",
      "       'Max_Visibility_Miles', 'Mean_Visibility_Miles', 'Min_Visibility_Miles',\n",
      "       'Max_Wind_Speed_MPH', 'Mean_Wind_Speed_MPH', 'Max_Gust_Speed_MPH',\n",
      "       'Precipitation_In', 'Cloud_Cover', 'Events', 'Wind_Dir_Degrees',\n",
      "       'landmark'],\n",
      "      dtype='object')\n"
     ]
    }
   ],
   "source": [
    "# Your code here\n",
    "\n",
    "import pandas as pd\n",
    "import re\n",
    "pattern = 'er'\n",
    "\n",
    "# stripping \" \"\n",
    "column_names = [i.strip(\" \") for i in weather.columns]\n",
    "weather.columns = column_names\n",
    "\n",
    "# finding where there is no _\n",
    "for i in weather.columns:\n",
    "    if re.search(\".*[a-z][^_][A-Z]\", i):\n",
    "        print(i)\n",
    "# renaming the columns\n",
    "weather.rename(columns={'Min_TemperatureF':'Min_Temperature_F',\n",
    "                  'MeanDew_Point_F':'Mean_Dew_Point_F'}, inplace=True)\n",
    "print(weather.columns)\n"
   ]
  },
  {
   "cell_type": "markdown",
   "metadata": {
    "colab_type": "text",
    "id": "d9kGFlHMDiR0"
   },
   "source": [
    "### 2 - check yourself"
   ]
  },
  {
   "cell_type": "code",
   "execution_count": 3,
   "metadata": {
    "colab": {},
    "colab_type": "code",
    "id": "AMPO6i3FDiR0",
    "outputId": "e12722e8-e24e-4054-f2ec-2fb634eac85c"
   },
   "outputs": [
    {
     "name": "stdout",
     "output_type": "stream",
     "text": [
      "The column names are correct\n"
     ]
    }
   ],
   "source": [
    "if list(weather.columns) == ['Date', 'Max_Temperature_F', 'Mean_Temperature_F', 'Min_Temperature_F',\n",
    "       'Max_Dew_Point_F', 'Mean_Dew_Point_F', 'Min_Dewpoint_F', 'Max_Humidity',\n",
    "       'Mean_Humidity', 'Min_Humidity', 'Max_Sea_Level_Pressure_In',\n",
    "       'Mean_Sea_Level_Pressure_In', 'Min_Sea_Level_Pressure_In',\n",
    "       'Max_Visibility_Miles', 'Mean_Visibility_Miles', 'Min_Visibility_Miles',\n",
    "       'Max_Wind_Speed_MPH', 'Mean_Wind_Speed_MPH', 'Max_Gust_Speed_MPH',\n",
    "       'Precipitation_In', 'Cloud_Cover', 'Events', 'Wind_Dir_Degrees',\n",
    "       'landmark']:\n",
    "    print('The column names are correct')\n",
    "else:\n",
    "    print('The column names are NOT correct')"
   ]
  },
  {
   "cell_type": "markdown",
   "metadata": {
    "colab_type": "text",
    "id": "tZBu7Ty6DiTh"
   },
   "source": [
    "### 3 - exercise\n",
    "Look at the data type of all the columns. Is there any that looks incorrect?"
   ]
  },
  {
   "cell_type": "code",
   "execution_count": 4,
   "metadata": {
    "colab": {},
    "colab_type": "code",
    "id": "F58K7H05DiTi",
    "outputId": "0670bae2-f471-4fcb-db41-7b573c3fc1a9"
   },
   "outputs": [
    {
     "data": {
      "text/plain": [
       "Date                           object\n",
       "Max_Temperature_F             float64\n",
       "Mean_Temperature_F            float64\n",
       "Min_Temperature_F             float64\n",
       "Max_Dew_Point_F                 int64\n",
       "Mean_Dew_Point_F                int64\n",
       "Min_Dewpoint_F                  int64\n",
       "Max_Humidity                    int64\n",
       "Mean_Humidity                   int64\n",
       "Min_Humidity                    int64\n",
       "Max_Sea_Level_Pressure_In     float64\n",
       "Mean_Sea_Level_Pressure_In    float64\n",
       "Min_Sea_Level_Pressure_In     float64\n",
       "Max_Visibility_Miles            int64\n",
       "Mean_Visibility_Miles           int64\n",
       "Min_Visibility_Miles            int64\n",
       "Max_Wind_Speed_MPH              int64\n",
       "Mean_Wind_Speed_MPH             int64\n",
       "Max_Gust_Speed_MPH            float64\n",
       "Precipitation_In               object\n",
       "Cloud_Cover                     int64\n",
       "Events                         object\n",
       "Wind_Dir_Degrees                int64\n",
       "landmark                       object\n",
       "dtype: object"
      ]
     },
     "execution_count": 4,
     "metadata": {},
     "output_type": "execute_result"
    }
   ],
   "source": [
    "# Your code here\n",
    "weather.dtypes\n",
    "# date should be date, Precipitation_In should be numeric"
   ]
  },
  {
   "cell_type": "markdown",
   "metadata": {
    "colab_type": "text",
    "id": "XbZsnKfGDiTj"
   },
   "source": [
    "### 3 - check yourself\n",
    "\n",
    "Yes, the Precipitation_In should be numeric"
   ]
  },
  {
   "cell_type": "markdown",
   "metadata": {
    "colab_type": "text",
    "id": "iQL-aWcXDiTk"
   },
   "source": [
    "### 4 - exercise\n",
    "\n",
    "Look at the unique values in the Precipitation_In column. Repalce the one that is not numeric with 0 (T means traces of rain) and than convert the column to float type!"
   ]
  },
  {
   "cell_type": "code",
   "execution_count": 5,
   "metadata": {
    "colab": {},
    "colab_type": "code",
    "id": "WHgLij4tDiTk",
    "outputId": "b9160e09-3fc9-49fe-a4b5-79e27bf58d65"
   },
   "outputs": [],
   "source": [
    "weather['Precipitation_In'].unique()\n",
    "weather['Precipitation_In'] = weather['Precipitation_In'].replace('T',0).astype('float')\n"
   ]
  },
  {
   "cell_type": "markdown",
   "metadata": {
    "colab_type": "text",
    "id": "1q3Y6552DiTm"
   },
   "source": [
    "### 4 - check yourself"
   ]
  },
  {
   "cell_type": "code",
   "execution_count": 6,
   "metadata": {
    "colab": {},
    "colab_type": "code",
    "id": "ILtlUbs1DiTn",
    "outputId": "0018e1ed-0b27-444e-c714-48424fbce16f"
   },
   "outputs": [
    {
     "name": "stdout",
     "output_type": "stream",
     "text": [
      "The conversion was correct\n"
     ]
    }
   ],
   "source": [
    "if weather['Precipitation_In'].dtype == float:\n",
    "    print('The conversion was correct')\n",
    "else:\n",
    "    print('The conversion was NOT correct')"
   ]
  },
  {
   "cell_type": "markdown",
   "metadata": {
    "colab_type": "text",
    "id": "Ufb7ObZoDiTo"
   },
   "source": [
    "### 5 - exercise\n",
    "For all numeric column draw a boxplot to see if there are rows with extreme values in them."
   ]
  },
  {
   "cell_type": "code",
   "execution_count": 7,
   "metadata": {},
   "outputs": [
    {
     "data": {
      "image/png": "[encoded data removed]",
      "text/plain": [
       "<Figure size 432x288 with 1 Axes>"
      ]
     },
     "metadata": {
      "needs_background": "light"
     },
     "output_type": "display_data"
    },
    {
     "data": {
      "image/png": "[encoded data removed]",
      "text/plain": [
       "<Figure size 432x288 with 1 Axes>"
      ]
     },
     "metadata": {
      "needs_background": "light"
     },
     "output_type": "display_data"
    },
    {
     "data": {
      "image/png": "[encoded data removed]",
      "text/plain": [
       "<Figure size 432x288 with 1 Axes>"
      ]
     },
     "metadata": {
      "needs_background": "light"
     },
     "output_type": "display_data"
    },
    {
     "data": {
      "image/png": "[encoded data removed]",
      "text/plain": [
       "<Figure size 432x288 with 1 Axes>"
      ]
     },
     "metadata": {
      "needs_background": "light"
     },
     "output_type": "display_data"
    },
    {
     "data": {
      "image/png": "[encoded data removed]",
      "text/plain": [
       "<Figure size 432x288 with 1 Axes>"
      ]
     },
     "metadata": {
      "needs_background": "light"
     },
     "output_type": "display_data"
    },
    {
     "data": {
      "image/png": "[encoded data removed]",
      "text/plain": [
       "<Figure size 432x288 with 1 Axes>"
      ]
     },
     "metadata": {
      "needs_background": "light"
     },
     "output_type": "display_data"
    },
    {
     "data": {
      "image/png": "[encoded data removed]",
      "text/plain": [
       "<Figure size 432x288 with 1 Axes>"
      ]
     },
     "metadata": {
      "needs_background": "light"
     },
     "output_type": "display_data"
    },
    {
     "data": {
      "image/png": "[encoded data removed]",
      "text/plain": [
       "<Figure size 432x288 with 1 Axes>"
      ]
     },
     "metadata": {
      "needs_background": "light"
     },
     "output_type": "display_data"
    },
    {
     "data": {
      "image/png": "[encoded data removed]",
      "text/plain": [
       "<Figure size 432x288 with 1 Axes>"
      ]
     },
     "metadata": {
      "needs_background": "light"
     },
     "output_type": "display_data"
    },
    {
     "data": {
      "image/png": "[encoded data removed]",
      "text/plain": [
       "<Figure size 432x288 with 1 Axes>"
      ]
     },
     "metadata": {
      "needs_background": "light"
     },
     "output_type": "display_data"
    },
    {
     "data": {
      "image/png": "[encoded data removed]",
      "text/plain": [
       "<Figure size 432x288 with 1 Axes>"
      ]
     },
     "metadata": {
      "needs_background": "light"
     },
     "output_type": "display_data"
    },
    {
     "data": {
      "image/png": "[encoded data removed]",
      "text/plain": [
       "<Figure size 432x288 with 1 Axes>"
      ]
     },
     "metadata": {
      "needs_background": "light"
     },
     "output_type": "display_data"
    },
    {
     "data": {
      "image/png": "[encoded data removed]",
      "text/plain": [
       "<Figure size 432x288 with 1 Axes>"
      ]
     },
     "metadata": {
      "needs_background": "light"
     },
     "output_type": "display_data"
    },
    {
     "data": {
      "image/png": "[encoded data removed]",
      "text/plain": [
       "<Figure size 432x288 with 1 Axes>"
      ]
     },
     "metadata": {
      "needs_background": "light"
     },
     "output_type": "display_data"
    },
    {
     "data": {
      "image/png": "[encoded data removed]",
      "text/plain": [
       "<Figure size 432x288 with 1 Axes>"
      ]
     },
     "metadata": {
      "needs_background": "light"
     },
     "output_type": "display_data"
    },
    {
     "data": {
      "image/png": "[encoded data removed]",
      "text/plain": [
       "<Figure size 432x288 with 1 Axes>"
      ]
     },
     "metadata": {
      "needs_background": "light"
     },
     "output_type": "display_data"
    },
    {
     "data": {
      "image/png": "[encoded data removed]",
      "text/plain": [
       "<Figure size 432x288 with 1 Axes>"
      ]
     },
     "metadata": {
      "needs_background": "light"
     },
     "output_type": "display_data"
    },
    {
     "data": {
      "image/png": "[encoded data removed]",
      "text/plain": [
       "<Figure size 432x288 with 1 Axes>"
      ]
     },
     "metadata": {
      "needs_background": "light"
     },
     "output_type": "display_data"
    },
    {
     "data": {
      "image/png": "[encoded data removed]",
      "text/plain": [
       "<Figure size 432x288 with 1 Axes>"
      ]
     },
     "metadata": {
      "needs_background": "light"
     },
     "output_type": "display_data"
    },
    {
     "data": {
      "image/png": "[encoded data removed]",
      "text/plain": [
       "<Figure size 432x288 with 1 Axes>"
      ]
     },
     "metadata": {
      "needs_background": "light"
     },
     "output_type": "display_data"
    },
    {
     "data": {
      "image/png": "[encoded data removed]",
      "text/plain": [
       "<Figure size 432x288 with 1 Axes>"
      ]
     },
     "metadata": {
      "needs_background": "light"
     },
     "output_type": "display_data"
    }
   ],
   "source": [
    "import matplotlib.pyplot as plt\n",
    "\n",
    "for col in range(len(weather.columns)):\n",
    "    if weather.dtypes[col] in ['float64', 'int64']:\n",
    "        weather.boxplot(weather.columns[col])\n",
    "        plt.show()\n",
    "\n"
   ]
  },
  {
   "cell_type": "markdown",
   "metadata": {
    "colab_type": "text",
    "id": "by_9HPmbDiTq"
   },
   "source": [
    "### 6 - exercise\n",
    "It looks like there are some mistakes in the data. Let's correct those! <br>\n",
    "- In the Min_Temperature_F column change all data above 40000 to the value in the Mean_Temperature_F column in the same row\n",
    "- In the Max_Temperature_F column change all data that is 0 to the value in the Mean_Temperature_F column in the same row\n",
    "- In the Wind_Dir_Degrees column change all data above 360 to 0"
   ]
  },
  {
   "cell_type": "code",
   "execution_count": 8,
   "metadata": {
    "colab": {},
    "colab_type": "code",
    "id": "TSog6pCtDiTs"
   },
   "outputs": [],
   "source": [
    "import numpy as np\n",
    "weather['Min_Temperature_F'] = np.where(weather['Min_Temperature_F']>40000,weather['Mean_Temperature_F'],\n",
    "                                       weather['Min_Temperature_F'] )\n",
    "\n",
    "weather['Max_Temperature_F'] = np.where(weather['Max_Temperature_F']==0,weather['Mean_Temperature_F'],\n",
    "                                       weather['Max_Temperature_F'] )\n",
    "\n",
    "weather['Wind_Dir_Degrees'] = np.where(weather['Wind_Dir_Degrees']>360,0,\n",
    "                                       weather['Wind_Dir_Degrees'] )\n",
    "\n"
   ]
  },
  {
   "cell_type": "markdown",
   "metadata": {
    "colab_type": "text",
    "id": "G9c5OkbQDiTs"
   },
   "source": [
    "### 6 - check yourself\n",
    "\n",
    "Plot these columns using boxplots again to see if the transformation was succesfull!"
   ]
  },
  {
   "cell_type": "code",
   "execution_count": 9,
   "metadata": {},
   "outputs": [
    {
     "data": {
      "text/plain": [
       "<AxesSubplot:>"
      ]
     },
     "execution_count": 9,
     "metadata": {},
     "output_type": "execute_result"
    },
    {
     "data": {
      "image/png": "[encoded data removed]",
      "text/plain": [
       "<Figure size 1080x504 with 3 Axes>"
      ]
     },
     "metadata": {
      "needs_background": "light"
     },
     "output_type": "display_data"
    }
   ],
   "source": [
    "fig, axs = plt.subplots(ncols=3, figsize=(15, 7))\n",
    "weather.boxplot('Min_Temperature_F', ax=axs[0])\n",
    "weather.boxplot('Max_Temperature_F', ax=axs[1])\n",
    "weather.boxplot('Wind_Dir_Degrees',ax=axs[2])\n"
   ]
  },
  {
   "cell_type": "markdown",
   "metadata": {
    "colab_type": "text",
    "id": "7kRwOJddDiTt"
   },
   "source": [
    "### 7 - exercise\n",
    "### Preparing for joining the dataframes\n",
    "\n",
    "For joining weather data to trip data, we'll have to know the landmark of each trip. For that we'll use the zip code information from the station dataframe. We also have to use the date, which first needs to be transformed. <br>\n",
    "Let's start with that! <br><br>\n",
    "\n",
    "- Load the trip_filled.csv file into a dataframe called trip. \n",
    "- In the trip dataframe create two new columns called 'start_datetime' and 'end_datetime'. These should contain the values from column 'Start Date' and 'End date' converted into datetime. \n",
    "\n",
    "Now, that we can use the date values in the weather and the trip dataframe, let's check if they cover the same interval! <br>\n",
    "- Create six variables called weather_datetime_min, weather_datetime_max, trip_start_date_min, trip_start_date_max, trip_end_date_min and trip_end_date_max containing the minimum and maximum values from the named columns.\n",
    "- Display them to see if they the two dataframes have the same minimum and maximum date!"
   ]
  },
  {
   "cell_type": "code",
   "execution_count": 10,
   "metadata": {
    "colab": {},
    "colab_type": "code",
    "id": "BqAZfdr_DiTu"
   },
   "outputs": [
    {
     "name": "stdout",
     "output_type": "stream",
     "text": [
      "Weather from: 2013-08-29 00:00:00 to 2014-02-28 00:00:00\n",
      "Trip start from: 2013-08-29 09:08:00 to 2023-08-29 14:13:00\n",
      "Trip ends from:  2013-08-29 09:11:00 to 2014-03-02 16:52:00\n"
     ]
    }
   ],
   "source": [
    "trip = pd.read_csv('trip_filled.csv')\n",
    "trip['start_date']=pd.to_datetime(trip['Start Date'], format='%m/%d/%Y %H:%M') # changed it to start_date because of the checks\n",
    "trip['end_date']=pd.to_datetime(trip['End Date'], format='%m/%d/%Y %H:%M')\n",
    "\n",
    "# Variables\n",
    "weather_datetime_min = min(pd.to_datetime(weather['Date'], format='%m/%d/%Y'))\n",
    "weather_datetime_max = max(pd.to_datetime(weather['Date'], format='%m/%d/%Y'))\n",
    "trip_start_date_min = min(trip['start_date'])\n",
    "trip_start_date_max = max(trip['start_date'])\n",
    "trip_end_date_min = min(trip['end_date'])\n",
    "trip_end_date_max = max(trip['end_date'])\n",
    "\n",
    "print('Weather from:', weather_datetime_min, 'to', weather_datetime_max)\n",
    "print('Trip start from:', trip_start_date_min, 'to', trip_start_date_max)\n",
    "print('Trip ends from: ', trip_end_date_min, 'to', trip_end_date_max)"
   ]
  },
  {
   "cell_type": "markdown",
   "metadata": {
    "colab_type": "text",
    "id": "HHb3qEbDDiTu"
   },
   "source": [
    "### 7 - check yourself"
   ]
  },
  {
   "cell_type": "code",
   "execution_count": 11,
   "metadata": {
    "colab": {},
    "colab_type": "code",
    "id": "RhC4vPikDiTv",
    "outputId": "2f3ced06-40b5-4e0d-8c13-e5fe29b4537f"
   },
   "outputs": [
    {
     "name": "stdout",
     "output_type": "stream",
     "text": [
      "weather_datetime_min is correct\n",
      "weather_datetime_max is correct\n",
      "trip_start_date_min is correct\n",
      "trip_start_date_max is correct\n",
      "trip_end_date_min is correct\n",
      "trip_end_date_max is correct\n"
     ]
    }
   ],
   "source": [
    "result_dict = {'weather_datetime_min':pd.Timestamp('2013-08-29 00:00:00'),\n",
    "              'weather_datetime_max':pd.Timestamp('2014-02-28 00:00:00'),\n",
    "              'trip_start_date_min':pd.Timestamp('2013-08-29 09:08:00'),\n",
    "              'trip_start_date_max':pd.Timestamp('2023-08-29 14:13:00'),\n",
    "              'trip_end_date_min':pd.Timestamp('2013-08-29 09:11:00'),\n",
    "              'trip_end_date_max':pd.Timestamp('2014-03-02 16:52:00')}\n",
    "for k,v in result_dict.items():\n",
    "    if eval(k) == v:\n",
    "        print('{} is correct'.format(k))\n",
    "    else:\n",
    "        print('{} is NOT correct'.format(k))"
   ]
  },
  {
   "cell_type": "markdown",
   "metadata": {
    "colab_type": "text",
    "id": "46VKiAyADiTw"
   },
   "source": [
    "### 8 - exercise\n",
    "\n",
    "So it looks like that there are some rows with invalid start_date in the trip dataframe. <br>\n",
    "Let's see, in how many rows is the start_date later than the latest end_date. You can use the trip_end_date_max variable you've created in the previous task. <br>\n",
    "Save the number of rows into a variable called nb_not_valid_start_date_rows."
   ]
  },
  {
   "cell_type": "code",
   "execution_count": 12,
   "metadata": {
    "colab": {},
    "colab_type": "code",
    "id": "ZPW7oFtYDiTx"
   },
   "outputs": [
    {
     "data": {
      "text/plain": [
       "20"
      ]
     },
     "execution_count": 12,
     "metadata": {},
     "output_type": "execute_result"
    }
   ],
   "source": [
    "nb_not_valid_start_date_rows=pd.Series(trip['start_date']>trip_end_date_max).sum()\n",
    "nb_not_valid_start_date_rows"
   ]
  },
  {
   "cell_type": "markdown",
   "metadata": {
    "colab_type": "text",
    "id": "GcGWULyfDiTx"
   },
   "source": [
    "### 8 - check yourself"
   ]
  },
  {
   "cell_type": "code",
   "execution_count": 13,
   "metadata": {
    "colab": {},
    "colab_type": "code",
    "id": "kRw16RJDDiTx",
    "outputId": "8dff1a88-a966-46ba-fd57-3f9a8e61279c"
   },
   "outputs": [
    {
     "name": "stdout",
     "output_type": "stream",
     "text": [
      "nb_not_valid_start_date_rows is correct\n"
     ]
    }
   ],
   "source": [
    "if nb_not_valid_start_date_rows == 20:\n",
    "    print('nb_not_valid_start_date_rows is correct')\n",
    "else:\n",
    "    print('nb_not_valid_start_date_rows is NOT correct')"
   ]
  },
  {
   "cell_type": "markdown",
   "metadata": {
    "colab_type": "text",
    "id": "AjGFklSBDiTz"
   },
   "source": [
    "### 9 - exercise\n",
    "\n",
    "As the number of row with invalid start_date is not high, let's just drop them. <br>\n",
    "Create a new dataframe called trip_valid_start where these rows are dropped."
   ]
  },
  {
   "cell_type": "code",
   "execution_count": 14,
   "metadata": {
    "colab": {},
    "colab_type": "code",
    "id": "JNlJBUMgDiT1"
   },
   "outputs": [],
   "source": [
    "trip_valid_start = trip[trip['start_date']<=trip_end_date_max]\n"
   ]
  },
  {
   "cell_type": "markdown",
   "metadata": {
    "colab_type": "text",
    "id": "dIC6ShmKDiT1"
   },
   "source": [
    "### 9 - check yourself"
   ]
  },
  {
   "cell_type": "code",
   "execution_count": 15,
   "metadata": {
    "colab": {},
    "colab_type": "code",
    "id": "QEl9VhPxDiT2",
    "outputId": "ecf5c8f9-c54b-497d-9d51-44c236541092"
   },
   "outputs": [
    {
     "name": "stdout",
     "output_type": "stream",
     "text": [
      "New dataframe is correct\n"
     ]
    }
   ],
   "source": [
    "if len(trip_valid_start) == 143985 and trip_valid_start['start_date'].max()==pd.Timestamp('2014-02-28 23:20:00'):\n",
    "    print('New dataframe is correct')\n",
    "else:\n",
    "    print('Something is not correct with the new dataframe')"
   ]
  },
  {
   "cell_type": "markdown",
   "metadata": {
    "colab_type": "text",
    "id": "q4AfKKyhDiT3"
   },
   "source": [
    "### 10 - exercise\n",
    "In the weather dataframe the datetime refers to a day, while in the trip_valid_start dataframe the dates refer to exact times. <br>\n",
    "For being able to join, we'll need to create new columns in both dataframes with only the date part of the timestamps. In the trip_valid_start dataframe we'll use the start_date to join on. <br>\n",
    "In both dataframes create column called date_to_join in which the datetime/start_date column is transformed to datetime.date format! <br>\n",
    "Using set().intersection and set().difference see how many common and different values are in the date_to_join columns in the two dataframes. Create variables called nb_common and nb_different and save the result into them!"
   ]
  },
  {
   "cell_type": "code",
   "execution_count": 19,
   "metadata": {},
   "outputs": [
    {
     "name": "stdout",
     "output_type": "stream",
     "text": [
      "184 0\n"
     ]
    },
    {
     "name": "stderr",
     "output_type": "stream",
     "text": [
      "C:\\Users\\Gyongyver\\Anaconda3\\lib\\site-packages\\ipykernel_launcher.py:2: SettingWithCopyWarning: \n",
      "A value is trying to be set on a copy of a slice from a DataFrame.\n",
      "Try using .loc[row_indexer,col_indexer] = value instead\n",
      "\n",
      "See the caveats in the documentation: https://pandas.pydata.org/pandas-docs/stable/user_guide/indexing.html#returning-a-view-versus-a-copy\n",
      "  \n"
     ]
    }
   ],
   "source": [
    "weather[\"date_to_join\"] = pd.to_datetime(weather[\"Date\"]).dt.date\n",
    "trip_valid_start[\"date_to_join\"] = pd.to_datetime(trip_valid_start[\"start_date\"]).dt.date\n",
    "\n",
    "\n",
    "nb_common = len(set(weather[\"date_to_join\"].tolist()).intersection(set(trip_valid_start[\"date_to_join\"].tolist())))\n",
    "nb_different = len(set(weather[\"date_to_join\"].tolist()).difference(set(trip_valid_start[\"date_to_join\"].tolist())))\n",
    "print(nb_common, nb_different)"
   ]
  },
  {
   "cell_type": "markdown",
   "metadata": {
    "colab_type": "text",
    "id": "zK5vjjR_DiT4"
   },
   "source": [
    "### 10 - check yourself"
   ]
  },
  {
   "cell_type": "code",
   "execution_count": 20,
   "metadata": {
    "colab": {},
    "colab_type": "code",
    "id": "_te1kuj1DiT5",
    "outputId": "4800ebe8-c90a-4e5c-fe7e-bfd985ac59b3"
   },
   "outputs": [
    {
     "name": "stdout",
     "output_type": "stream",
     "text": [
      "The date_to_join columns are correct\n"
     ]
    }
   ],
   "source": [
    "if nb_common == 184 and nb_different==0:\n",
    "    print('The date_to_join columns are correct')\n",
    "else:\n",
    "    print('Something is not correct')"
   ]
  },
  {
   "cell_type": "markdown",
   "metadata": {
    "colab_type": "text",
    "id": "fVL2zlEwDiT6"
   },
   "source": [
    "### 11 - exercise\n",
    "\n",
    "Let's save the changed dataframes to csv files!"
   ]
  },
  {
   "cell_type": "code",
   "execution_count": 21,
   "metadata": {
    "colab": {},
    "colab_type": "code",
    "id": "uWIsRHOwDiT6"
   },
   "outputs": [],
   "source": [
    "trip_valid_start.to_csv('trip_valid_start.csv')\n",
    "weather.to_csv('weather.csv')"
   ]
  },
  {
   "cell_type": "markdown",
   "metadata": {
    "colab_type": "text",
    "id": "tJXBde_PDiT8"
   },
   "source": [
    "### bonus exercise\n",
    "\n",
    "Draw bloxplots of the numeric columns in the weather dataframe that shows the data grouped by the month of the date!"
   ]
  },
  {
   "cell_type": "code",
   "execution_count": 22,
   "metadata": {
    "colab": {},
    "colab_type": "code",
    "id": "c3vP0r9WDiT-"
   },
   "outputs": [
    {
     "data": {
      "image/png": "[encoded data removed]",
      "text/plain": [
       "<Figure size 576x432 with 1 Axes>"
      ]
     },
     "metadata": {
      "needs_background": "light"
     },
     "output_type": "display_data"
    },
    {
     "data": {
      "image/png": "[encoded data removed]",
      "text/plain": [
       "<Figure size 576x432 with 1 Axes>"
      ]
     },
     "metadata": {
      "needs_background": "light"
     },
     "output_type": "display_data"
    },
    {
     "data": {
      "image/png": "[encoded data removed]",
      "text/plain": [
       "<Figure size 576x432 with 1 Axes>"
      ]
     },
     "metadata": {
      "needs_background": "light"
     },
     "output_type": "display_data"
    },
    {
     "data": {
      "image/png": "[encoded data removed]",
      "text/plain": [
       "<Figure size 576x432 with 1 Axes>"
      ]
     },
     "metadata": {
      "needs_background": "light"
     },
     "output_type": "display_data"
    },
    {
     "data": {
      "image/png": "[encoded data removed]",
      "text/plain": [
       "<Figure size 576x432 with 1 Axes>"
      ]
     },
     "metadata": {
      "needs_background": "light"
     },
     "output_type": "display_data"
    },
    {
     "data": {
      "image/png": "[encoded data removed]",
      "text/plain": [
       "<Figure size 576x432 with 1 Axes>"
      ]
     },
     "metadata": {
      "needs_background": "light"
     },
     "output_type": "display_data"
    },
    {
     "data": {
      "image/png": "[encoded data removed]",
      "text/plain": [
       "<Figure size 576x432 with 1 Axes>"
      ]
     },
     "metadata": {
      "needs_background": "light"
     },
     "output_type": "display_data"
    },
    {
     "data": {
      "image/png": "[encoded data removed]",
      "text/plain": [
       "<Figure size 576x432 with 1 Axes>"
      ]
     },
     "metadata": {
      "needs_background": "light"
     },
     "output_type": "display_data"
    },
    {
     "data": {
      "image/png": "[encoded data removed]",
      "text/plain": [
       "<Figure size 576x432 with 1 Axes>"
      ]
     },
     "metadata": {
      "needs_background": "light"
     },
     "output_type": "display_data"
    },
    {
     "data": {
      "image/png": "[encoded data removed]",
      "text/plain": [
       "<Figure size 576x432 with 1 Axes>"
      ]
     },
     "metadata": {
      "needs_background": "light"
     },
     "output_type": "display_data"
    },
    {
     "data": {
      "image/png": "[encoded data removed]",
      "text/plain": [
       "<Figure size 576x432 with 1 Axes>"
      ]
     },
     "metadata": {
      "needs_background": "light"
     },
     "output_type": "display_data"
    },
    {
     "data": {
      "image/png": "[encoded data removed]",
      "text/plain": [
       "<Figure size 576x432 with 1 Axes>"
      ]
     },
     "metadata": {
      "needs_background": "light"
     },
     "output_type": "display_data"
    },
    {
     "data": {
      "image/png": "[encoded data removed]",
      "text/plain": [
       "<Figure size 576x432 with 1 Axes>"
      ]
     },
     "metadata": {
      "needs_background": "light"
     },
     "output_type": "display_data"
    },
    {
     "data": {
      "image/png": "[encoded data removed]",
      "text/plain": [
       "<Figure size 576x432 with 1 Axes>"
      ]
     },
     "metadata": {
      "needs_background": "light"
     },
     "output_type": "display_data"
    },
    {
     "data": {
      "image/png": "[encoded data removed]",
      "text/plain": [
       "<Figure size 576x432 with 1 Axes>"
      ]
     },
     "metadata": {
      "needs_background": "light"
     },
     "output_type": "display_data"
    },
    {
     "data": {
      "image/png": "[encoded data removed]",
      "text/plain": [
       "<Figure size 576x432 with 1 Axes>"
      ]
     },
     "metadata": {
      "needs_background": "light"
     },
     "output_type": "display_data"
    },
    {
     "data": {
      "image/png": "[encoded data removed]",
      "text/plain": [
       "<Figure size 576x432 with 1 Axes>"
      ]
     },
     "metadata": {
      "needs_background": "light"
     },
     "output_type": "display_data"
    },
    {
     "data": {
      "image/png": "[encoded data removed]",
      "text/plain": [
       "<Figure size 576x432 with 1 Axes>"
      ]
     },
     "metadata": {
      "needs_background": "light"
     },
     "output_type": "display_data"
    },
    {
     "data": {
      "image/png": "[encoded data removed]",
      "text/plain": [
       "<Figure size 576x432 with 1 Axes>"
      ]
     },
     "metadata": {
      "needs_background": "light"
     },
     "output_type": "display_data"
    },
    {
     "data": {
      "image/png": "[encoded data removed]",
      "text/plain": [
       "<Figure size 576x432 with 1 Axes>"
      ]
     },
     "metadata": {
      "needs_background": "light"
     },
     "output_type": "display_data"
    },
    {
     "data": {
      "image/png": "[encoded data removed]",
      "text/plain": [
       "<Figure size 576x432 with 1 Axes>"
      ]
     },
     "metadata": {
      "needs_background": "light"
     },
     "output_type": "display_data"
    },
    {
     "data": {
      "image/png": "[encoded data removed]",
      "text/plain": [
       "<Figure size 576x432 with 1 Axes>"
      ]
     },
     "metadata": {
      "needs_background": "light"
     },
     "output_type": "display_data"
    }
   ],
   "source": [
    "weather['Month'] = pd.to_datetime(weather['Date']).dt.month\n",
    "for col in range(len(weather.columns)):\n",
    "    if weather.dtypes[col] in ['float64', 'int64']:\n",
    "        weather.boxplot(column = weather.columns[col], by='Month' , figsize=(8,6))\n",
    "        plt.show()\n",
    " "
   ]
  }
 ],
 "metadata": {
  "colab": {
   "name": "Q2_preprocess_part1.ipynb",
   "provenance": [],
   "version": "0.3.2"
  },
  "kernelspec": {
   "display_name": "Python 3",
   "language": "python",
   "name": "python3"
  },
  "language_info": {
   "codemirror_mode": {
    "name": "ipython",
    "version": 3
   },
   "file_extension": ".py",
   "mimetype": "text/x-python",
   "name": "python",
   "nbconvert_exporter": "python",
   "pygments_lexer": "ipython3",
   "version": "3.7.3"
  }
 },
 "nbformat": 4,
 "nbformat_minor": 1
}
