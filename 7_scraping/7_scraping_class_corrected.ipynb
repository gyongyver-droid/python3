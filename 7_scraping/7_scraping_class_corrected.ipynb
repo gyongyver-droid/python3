{
 "cells": [
  {
   "cell_type": "code",
   "execution_count": null,
   "metadata": {},
   "outputs": [],
   "source": [
    "import requests"
   ]
  },
  {
   "cell_type": "markdown",
   "metadata": {},
   "source": [
    "#### Getting the html content of a website"
   ]
  },
  {
   "cell_type": "markdown",
   "metadata": {},
   "source": [
    "http://dataquestio.github.io/web-scraping-pages/ids_and_classes.html"
   ]
  },
  {
   "cell_type": "code",
   "execution_count": null,
   "metadata": {},
   "outputs": [],
   "source": [
    "res = requests.get(\"http://dataquestio.github.io/web-scraping-pages/ids_and_classes.html\")"
   ]
  },
  {
   "cell_type": "code",
   "execution_count": null,
   "metadata": {},
   "outputs": [],
   "source": [
    "res.text"
   ]
  },
  {
   "cell_type": "code",
   "execution_count": null,
   "metadata": {},
   "outputs": [],
   "source": [
    "type(res.text)"
   ]
  },
  {
   "cell_type": "markdown",
   "metadata": {},
   "source": [
    "#### Parsing html"
   ]
  },
  {
   "cell_type": "code",
   "execution_count": null,
   "metadata": {},
   "outputs": [],
   "source": [
    "# in case bs4 throws error try\n",
    "# !pip install --upgrade html5lib==1.0b8\n",
    "\n",
    "from bs4 import BeautifulSoup\n",
    "soup = BeautifulSoup(res.text, 'html.parser')"
   ]
  },
  {
   "cell_type": "code",
   "execution_count": null,
   "metadata": {},
   "outputs": [],
   "source": [
    "type(soup)"
   ]
  },
  {
   "cell_type": "code",
   "execution_count": null,
   "metadata": {},
   "outputs": [],
   "source": [
    "print(soup.prettify())"
   ]
  },
  {
   "cell_type": "code",
   "execution_count": null,
   "metadata": {},
   "outputs": [],
   "source": [
    "len(soup.find_all('p'))"
   ]
  },
  {
   "cell_type": "code",
   "execution_count": null,
   "metadata": {},
   "outputs": [],
   "source": [
    "soup.find_all('p')[1]"
   ]
  },
  {
   "cell_type": "code",
   "execution_count": null,
   "metadata": {},
   "outputs": [],
   "source": [
    "soup.find_all('p')[1].text"
   ]
  },
  {
   "cell_type": "code",
   "execution_count": null,
   "metadata": {},
   "outputs": [],
   "source": [
    "len(soup.find_all('p', class_='outer-text'))"
   ]
  },
  {
   "cell_type": "code",
   "execution_count": null,
   "metadata": {},
   "outputs": [],
   "source": [
    "soup.find_all('p', class_='inner-text')"
   ]
  },
  {
   "cell_type": "code",
   "execution_count": null,
   "metadata": {},
   "outputs": [],
   "source": [
    "len(soup.find_all('p', class_='inner-text'))"
   ]
  },
  {
   "cell_type": "markdown",
   "metadata": {},
   "source": [
    "#### Finding the elements of the site"
   ]
  },
  {
   "cell_type": "markdown",
   "metadata": {},
   "source": [
    "Since every web page is different and html can get very large and messy, the easiest way to find elements that you are interested in is to start from the browser window. So next we will quickly look at how to find elements using the developer tools in your browser. Open the following webpage in your browser (preferably Chrome): http://forecast.weather.gov/MapClick.php?lat=21.3049&lon=-157.8579#.Wkwh8VQ-fVo \n",
    "\n",
    "Find the developer tools in your browser. (In Chrome, it's view --> developer --> developer tools or Control+Shift+C on Windows and Command+Shift+C on Mac) You should end up with a panel at the bottom or the right side of the browser like what you see below. Make sure the Elements panel is highlighted:"
   ]
  },
  {
   "cell_type": "code",
   "execution_count": null,
   "metadata": {},
   "outputs": [],
   "source": [
    "res = requests.get(\"http://forecast.weather.gov/MapClick.php?lat=21.3049&lon=-157.8579\")\n",
    "soup = BeautifulSoup(res.text, 'html.parser')"
   ]
  },
  {
   "cell_type": "code",
   "execution_count": null,
   "metadata": {},
   "outputs": [],
   "source": [
    "soup"
   ]
  },
  {
   "cell_type": "code",
   "execution_count": null,
   "metadata": {},
   "outputs": [],
   "source": [
    "soup.find_all('p', class_=\"myforecast-current-lrg\")"
   ]
  },
  {
   "cell_type": "code",
   "execution_count": null,
   "metadata": {},
   "outputs": [],
   "source": [
    "soup.find_all('p', class_=\"myforecast-current-lrg\")[0]"
   ]
  },
  {
   "cell_type": "code",
   "execution_count": null,
   "metadata": {},
   "outputs": [],
   "source": [
    "type(soup.find_all('p', class_=\"myforecast-current-lrg\")[0])"
   ]
  },
  {
   "cell_type": "code",
   "execution_count": null,
   "metadata": {},
   "outputs": [],
   "source": [
    "soup.find_all('p', class_=\"myforecast-current-lrg\")[0].text"
   ]
  },
  {
   "cell_type": "code",
   "execution_count": null,
   "metadata": {},
   "outputs": [],
   "source": [
    "soup.find_all('p', class_=\"myforecast-current-sm\")[0].text"
   ]
  },
  {
   "cell_type": "markdown",
   "metadata": {},
   "source": [
    "#### Using dictionary for making queries and collecting response"
   ]
  },
  {
   "cell_type": "code",
   "execution_count": null,
   "metadata": {},
   "outputs": [],
   "source": [
    "latlon_dict = {\n",
    "    'Honolulu':[21.3049, -157.8579],\n",
    "    'Times Square':[40.757339, -73.985992],\n",
    "    'Yosemite':[37.8651011, -119.5383294]\n",
    "}\n",
    "latlon_dict"
   ]
  },
  {
   "cell_type": "code",
   "execution_count": null,
   "metadata": {},
   "outputs": [],
   "source": [
    "import time"
   ]
  },
  {
   "cell_type": "code",
   "execution_count": null,
   "metadata": {},
   "outputs": [],
   "source": [
    "response_dict = {}\n",
    "for place,coordinates in latlon_dict.items():\n",
    "    url = \"http://forecast.weather.gov/MapClick.php?lat={}&lon={}\".format(\n",
    "        coordinates[0], coordinates[1])\n",
    "    print(place)\n",
    "    print(url)\n",
    "    resp = requests.get(url)\n",
    "    time.sleep(3)\n",
    "    soup = BeautifulSoup(resp.text, 'html.parser')\n",
    "    temp_C = soup.find_all('p', class_=\"myforecast-current-sm\")[0].text\n",
    "    response_dict[place] = temp_C"
   ]
  },
  {
   "cell_type": "code",
   "execution_count": null,
   "metadata": {},
   "outputs": [],
   "source": [
    "response_dict"
   ]
  },
  {
   "cell_type": "code",
   "execution_count": null,
   "metadata": {},
   "outputs": [],
   "source": [
    "for place,temperature in response_dict.items():\n",
    "    print(\"The current temperature in {} is {}.\".format(place, temperature))"
   ]
  },
  {
   "cell_type": "markdown",
   "metadata": {},
   "source": [
    "#### saving dictinaries"
   ]
  },
  {
   "cell_type": "code",
   "execution_count": null,
   "metadata": {},
   "outputs": [],
   "source": [
    "import numpy as np"
   ]
  },
  {
   "cell_type": "code",
   "execution_count": null,
   "metadata": {},
   "outputs": [],
   "source": [
    "np.save('mydict.npy', response_dict) "
   ]
  },
  {
   "cell_type": "code",
   "execution_count": null,
   "metadata": {},
   "outputs": [],
   "source": [
    "read_dictionary = np.load('mydict.npy', allow_pickle=True).item()"
   ]
  },
  {
   "cell_type": "code",
   "execution_count": null,
   "metadata": {},
   "outputs": [],
   "source": [
    "read_dictionary"
   ]
  },
  {
   "cell_type": "code",
   "execution_count": null,
   "metadata": {},
   "outputs": [],
   "source": [
    "type(read_dictionary)"
   ]
  },
  {
   "cell_type": "markdown",
   "metadata": {},
   "source": [
    "### 1 - exercise\n",
    "\n",
    "We need the zip codes of the 5 landmarks in our data. Fortunatelly Google shows the zip codes at a fixed place if using the right searchphase. <br>\n",
    "Open this link and using the Inspect tool in the browser try to find the class of the HTML element of a zip code shown at the top of the page! <br> \n",
    "https://www.google.com/search?q=San+Jose+zip+code"
   ]
  },
  {
   "cell_type": "code",
   "execution_count": null,
   "metadata": {},
   "outputs": [],
   "source": [
    "#div class=\"bVj5Zb FozYp\""
   ]
  },
  {
   "cell_type": "markdown",
   "metadata": {},
   "source": [
    "### 1 - check yourself\n",
    "\n",
    "The zip code is under a div of class \"bVj5Zb FozYP\""
   ]
  },
  {
   "cell_type": "markdown",
   "metadata": {},
   "source": [
    "### 2 - exercise\n",
    "Now use the requests library to get the html content of this page and create a BeautifulSoup object called soup from this content. For avoiding getting the \"Before you continue\" page, use the argument cookies like this: <br><br>\n",
    "cookies = {\"CONSENT\": \"YES+cb.20210720-07-p0.en+FX+410\"}<br>\n",
    "googleresponse = requests.get(\"https://www.google.com/search?q=San+Jose+zip+code\", cookies=cookies)"
   ]
  },
  {
   "cell_type": "code",
   "execution_count": 1,
   "metadata": {},
   "outputs": [
    {
     "data": {
      "text/plain": [
       "<!DOCTYPE html>\n",
       "<html lang=\"hu\"><head><meta charset=\"utf-8\"/><meta content=\"/images/branding/googleg/1x/googleg_standard_color_128dp.png\" itemprop=\"image\"/><title>San Jose zip code - Google-keresés</title><script nonce=\"S3A2vtcky7p/64vBJfnMaA==\">(function(){\n",
       "document.documentElement.addEventListener(\"submit\",function(b){var a;if(a=b.target){var c=a.getAttribute(\"data-submitfalse\");a=\"1\"===c||\"q\"===c&&!a.elements.q.value?!0:!1}else a=!1;a&&(b.preventDefault(),b.stopPropagation())},!0);document.documentElement.addEventListener(\"click\",function(b){var a;a:{for(a=b.target;a&&a!==document.documentElement;a=a.parentElement)if(\"A\"===a.tagName){a=\"1\"===a.getAttribute(\"data-nohref\");break a}a=!1}a&&b.preventDefault()},!0);}).call(this);(function(){\n",
       "var a=window.performance;window.start=Date.now();a:{var b=window;if(a){var c=a.timing;if(c){var d=c.navigationStart,f=c.responseStart;if(f>d&&f<=window.start){window.start=f;b.wsrt=f-d;break a}}a.now&&(b.wsrt=Math.floor(a.now()))}}window.google=window.google||{};var h=function(g){g&&g.target.setAttribute(\"data-iml\",Date.now())};document.documentElement.addEventListener(\"load\",h,!0);google.rglh=function(){document.documentElement.removeEventListener(\"load\",h,!0)};}).call(this);(function(){window.google.erd={jsr:1,bv:1536,de:true};})();(function(){var sdo=false;var mei=10;\n",
       "var f=this||self;var g,h,k=null!==(g=f.mei)&&void 0!==g?g:1,l=null!==(h=f.sdo)&&void 0!==h?h:!0,p=0,q,r=google.erd,u=r.jsr;google.ml=function(a,b,d,m,c){c=void 0===c?2:c;b&&(q=a&&a.message);if(google.dl)return google.dl(a,c,d),null;if(0>u){window.console&&console.error(a,d);if(-2===u)throw a;b=!1}else b=!a||!a.message||\"Error loading script\"===a.message||p>=k&&!m?!1:!0;if(!b)return null;p++;d=d||{};var e=c;c=encodeURIComponent;b=\"/gen_204?atyp=i&ei=\"+c(google.kEI);google.kEXPI&&(b+=\"&jexpid=\"+c(google.kEXPI));b+=\"&srcpg=\"+c(google.sn)+\"&jsr=\"+c(r.jsr)+\"&bver=\"+c(r.bv)+(\"&jsel=\"+e);e=a.lineNumber;void 0!==e&&(b+=\"&line=\"+\n",
       "e);var n=a.fileName;n&&(b+=\"&script=\"+c(n),e&&n===window.location.href&&(e=document.documentElement.outerHTML.split(\"\\n\")[e],b+=\"&cad=\"+c(e?e.substring(0,300):\"No script found.\")));for(var t in d)b+=\"&\",b+=c(t),b+=\"=\",b+=c(d[t]);b=b+\"&emsg=\"+c(a.name+\": \"+a.message);b=b+\"&jsst=\"+c(a.stack||\"N/A\");12288<=b.length&&(b=b.substr(0,12288));a=b;m||google.log(0,\"\",a);return a};window.onerror=function(a,b,d,m,c){q!==a&&(a=c instanceof Error?c:Error(a),void 0===d||\"lineNumber\"in a||(a.lineNumber=d),void 0===b||\"fileName\"in a||(a.fileName=b),google.ml(a,!1,void 0,!1,\"SyntaxError\"===a.name||\"SyntaxError\"===a.message.substring(0,11)?2:0));q=null;l&&p>=k&&(window.onerror=null)};})();(function(){\n",
       "var c=[],e=0;window.ping=function(b){-1==b.indexOf(\"&zx\")&&(b+=\"&zx=\"+Date.now());var a=new Image,d=e++;c[d]=a;a.onerror=a.onload=a.onabort=function(){delete c[d]};a.src=b};}).call(this);</script><style>body{margin:0 auto;max-width:652px;padding:0 8px;}a{color:#1a0dab;text-decoration:none;tap-highlight-color:rgba(0,0,0,.10)}a:visited{color:#4B11A8}a:hover{text-decoration:underline}img{border:0}html{font-family:Roboto,Helvetica Neue,Arial,sans-serif;font-size:14px;line-height:20px;text-size-adjust:100%;color:#3c4043;word-wrap:break-word;background-color:#fff}.bRsWnc{background-color:#fff;border-top:1px solid #dadce0;height:39px;overflow:hidden}.N6RWV{height:51px;overflow-scrolling:touch;overflow-x:auto;overflow-y:hidden}.Uv67qb{box-pack:justify;font-size:12px;line-height:37px;justify-content:space-between;justify-content:space-between}.Uv67qb a,.Uv67qb span{color:#70757a;display:block;flex:none;padding:0 16px;text-align:center;text-transform:uppercase;}span.OXXup{border-bottom:2px solid #4285f4;color:#4285f4;font-weight:bold}a.eZt8xd:visited{color:#70757a}.FElbsf{border-left:1px solid rgba(0,0,0,.12)}header article{overflow:visible}.Pg70bf{height:39px;display:box;display:flex;display:flex;width:100%}.H0PQec{position:relative;flex:1}.sbc{display:flex;width:100%}.Pg70bf input{margin:2px 4px 2px 8px;}.x{width:26px;color:#70757a;font:27px/38px arial, sans-serif;line-height:40px;}#qdClwb{flex:0 0 auto;width:39px;height:39px;border-bottom:0;padding:0;border-top-right-radius:8px;background-color:#1a73e8;border:1px solid #1558d6;background-image:url(data:image/gif;base64,R0lGODdhJAAjAPIHAODr/nCk+MPZ/FmV96zK+/7+/5K5+kqL9iwAAAAAJAAjAEADani63P4wykmbKcQRXDscQAEMXmmeaLQVLCukzyC09AjfeK7v/MAajACLhPMVAgwjsUcEiZa8xgAYrVqv2Kx2iwsIAAABknfBBAKrTE4IcMyot8ur8datqIbQfJdnAfo2WE6BV05wXIiJigkAOw==);}.sc{font-size:16px;position:absolute;top:39px;left:0;right:0;box-shadow:0px 2px 5px rgba(0,0,0,.2);z-index:2;background-color:#fff}.sc>div{padding:10px 10px;padding-left:16px;padding-left:14px;border-top:1px solid #dfe1e5}.scs{background-color:#f8f9fa;}.noHIxc{display:block;font-size:16px;padding:0 0 0 8px;flex:1;height:35px;outline:none;border:none;width:100%;-webkit-tap-highlight-color:rgba(0,0,0,.00);overflow:hidden;}.sbc input[type=text]{background:none}.sml .cOl4Id{display:none}.l{display:none}.sml header{background:none}.sml .l{display:block;padding:0 8px}.sml .l{letter-spacing:-1px;text-align:center;border-radius:2px 0 0 0;font:22px/36px Futura, Arial, sans-serif;font-smoothing:antialiased}.bz1lBb{background:#fff;border-radius:8px 8px 0 0;box-shadow:0 0 0 1px #dfe1e5;margin-top:24px}.KP7LCb{border-radius:0 0 8px 8px;box-shadow:0px 1px 0px 1px #dfe1e5;margin-bottom:30px;overflow:hidden}body{margin:0 auto 0 156px;max-width:652px;min-width:652px}.cOl4Id{letter-spacing:-1px;text-align:center;font:22pt Futura, Arial, sans-serif;height:37px;font-smoothing:antialiased;padding:32px 28px 0 24px;position:absolute;left:0;top:0}.cOl4Id span{display:inline-block}.V6gwVd{color:#4285f4}.iWkuvd{color:#ea4335}.cDrQ7{color:#fcc934}.ntlR9{color:#34a853}.tJ3Myc{-webkit-transform:rotate(-20deg);position:relative;left:-1px;display:inline-block}footer{text-align:center;margin-top:18px}footer a,footer a:visited,.smiUbb{color:#70757a}.xeDNfc{margin:0 13px}#EOlPnc{margin-top:36px}#EOlPnc>div{margin:20px}.Srfpq{color:#70757a}</style></head><body jsmodel=\"hspDDf\"><header id=\"hdr\"><script nonce=\"S3A2vtcky7p/64vBJfnMaA==\">(function(){\n",
       "var k=this||self,l=function(){},m=function(a){var b=typeof a;return\"object\"==b&&null!=a||\"function\"==b},n=function(a,b){function c(){}c.prototype=b.prototype;a.j=b.prototype;a.prototype=new c;a.prototype.constructor=a;a.l=function(d,e,f){for(var g=Array(arguments.length-2),h=2;h<arguments.length;h++)g[h-2]=arguments[h];return b.prototype[e].apply(d,g)}};var p=Array.prototype.indexOf?function(a,b){return Array.prototype.indexOf.call(a,b,void 0)}:function(a,b){if(\"string\"===typeof a)return\"string\"!==typeof b||1!=b.length?-1:a.indexOf(b,0);for(var c=0;c<a.length;c++)if(c in a&&a[c]===b)return c;return-1};var q=function(a){return\"string\"==typeof a.className?a.className:a.getAttribute&&a.getAttribute(\"class\")||\"\"},r=function(a,b){\"string\"==typeof a.className?a.className=b:a.setAttribute&&a.setAttribute(\"class\",b)},t=function(a,b){a.classList?b=a.classList.contains(b):(a=a.classList?a.classList:q(a).match(/\\S+/g)||[],b=0<=p(a,b));return b},w=function(){var a=u,b=v;a.classList?a.classList.remove(b):t(a,b)&&r(a,Array.prototype.filter.call(a.classList?a.classList:q(a).match(/\\S+/g)||[],function(c){return c!=\n",
       "b}).join(\" \"))};function x(){var a=k.navigator;return a&&(a=a.userAgent)?a:\"\"};var y=function(a){y[\" \"](a);return a};y[\" \"]=l;var z=-1!=x().indexOf(\"Gecko\")&&!(-1!=x().toLowerCase().indexOf(\"webkit\")&&-1==x().indexOf(\"Edge\"))&&!(-1!=x().indexOf(\"Trident\")||-1!=x().indexOf(\"MSIE\"))&&-1==x().indexOf(\"Edge\");var A=function(a,b){this.type=a;this.target=b};A.prototype.g=function(){};var B=function(){if(!k.addEventListener||!Object.defineProperty)return!1;var a=!1,b=Object.defineProperty({},\"passive\",{get:function(){a=!0}});try{k.addEventListener(\"test\",l,b),k.removeEventListener(\"test\",l,b)}catch(c){}return a}();var D=function(a){A.call(this,a?a.type:\"\");this.relatedTarget=this.target=null;this.button=this.screenY=this.screenX=this.clientY=this.clientX=0;this.key=\"\";this.keyCode=0;this.metaKey=this.shiftKey=this.altKey=this.ctrlKey=!1;this.state=null;this.pointerId=0;this.pointerType=\"\";this.h=null;if(a){var b=this.type=a.type,c=a.changedTouches&&a.changedTouches.length?a.changedTouches[0]:null;this.target=a.target||a.srcElement;var d=a.relatedTarget;if(d){if(z){a:{try{y(d.nodeName);var e=!0;break a}catch(f){}e=\n",
       "!1}e||(d=null)}}else\"mouseover\"==b?d=a.fromElement:\"mouseout\"==b&&(d=a.toElement);this.relatedTarget=d;c?(this.clientX=void 0!==c.clientX?c.clientX:c.pageX,this.clientY=void 0!==c.clientY?c.clientY:c.pageY,this.screenX=c.screenX||0,this.screenY=c.screenY||0):(this.clientX=void 0!==a.clientX?a.clientX:a.pageX,this.clientY=void 0!==a.clientY?a.clientY:a.pageY,this.screenX=a.screenX||0,this.screenY=a.screenY||0);this.button=a.button;this.keyCode=a.keyCode||0;this.key=a.key||\"\";this.ctrlKey=a.ctrlKey;this.altKey=a.altKey;this.shiftKey=a.shiftKey;this.metaKey=a.metaKey;this.pointerId=a.pointerId||0;this.pointerType=\"string\"===typeof a.pointerType?a.pointerType:C[a.pointerType]||\"\";this.state=a.state;this.h=a;a.defaultPrevented&&D.j.g.call(this)}};n(D,A);var C={2:\"touch\",3:\"pen\",4:\"mouse\"};D.prototype.g=function(){D.j.g.call(this);var a=this.h;a.preventDefault?a.preventDefault():a.returnValue=!1};var E=\"closure_listenable_\"+(1E6*Math.random()|0);var F=0;var G=function(a,b,c,d,e){this.listener=a;this.proxy=null;this.src=b;this.type=c;this.capture=!!d;this.h=e;this.key=++F;this.g=this.i=!1},H=function(a){a.g=!0;a.listener=null;a.proxy=null;a.src=null;a.h=null};var I=function(a){this.src=a;this.g={};this.h=0};I.prototype.add=function(a,b,c,d,e){var f=a.toString();a=this.g[f];a||(a=this.g[f]=[],this.h++);var g;a:{for(g=0;g<a.length;++g){var h=a[g];if(!h.g&&h.listener==b&&h.capture==!!d&&h.h==e)break a}g=-1}-1<g?(b=a[g],c||(b.i=!1)):(b=new G(b,this.src,f,!!d,e),b.i=c,a.push(b));return b};var J=\"closure_lm_\"+(1E6*Math.random()|0),K={},L=0,N=function(a,b,c,d,e){if(d&&d.once)return M(a,b,c,d,e);if(Array.isArray(b)){for(var f=0;f<b.length;f++)N(a,b[f],c,d,e);return null}c=O(c);return a&&a[E]?a.g(b,c,m(d)?!!d.capture:!!d,e):P(a,b,c,!1,d,e)},P=function(a,b,c,d,e,f){if(!b)throw Error(\"a\");var g=m(e)?!!e.capture:!!e,h=Q(a);h||(a[J]=h=new I(a));c=h.add(b,c,d,g,f);if(c.proxy)return c;d=R();c.proxy=d;d.src=a;d.listener=c;if(a.addEventListener)B||(e=g),void 0===e&&(e=!1),a.addEventListener(b.toString(),d,e);else if(a.attachEvent)a.attachEvent(S(b.toString()),d);else if(a.addListener&&a.removeListener)a.addListener(d);else throw Error(\"b\");L++;return c},R=function(){var a=T,b=function(c){return a.call(b.src,b.listener,c)};return b},M=function(a,b,c,d,e){if(Array.isArray(b)){for(var f=0;f<b.length;f++)M(a,b[f],c,d,e);return null}c=O(c);return a&&a[E]?a.h(b,c,m(d)?!!d.capture:!!d,e):P(a,b,c,!0,d,e)},U=function(a){if(\"number\"!==typeof a&&a&&!a.g){var b=a.src;if(b&&b[E])b.o(a);else{var c=a.type,d=a.proxy;b.removeEventListener?b.removeEventListener(c,d,a.capture):b.detachEvent?b.detachEvent(S(c),d):b.addListener&&b.removeListener&&b.removeListener(d);L--;if(c=Q(b)){d=a.type;if(d in c.g){var e=c.g[d],f=p(e,a),g;(g=0<=f)&&Array.prototype.splice.call(e,f,1);g&&(H(a),0==c.g[d].length&&(delete c.g[d],c.h--))}0==c.h&&(c.src=null,b[J]=null)}else H(a)}}},S=function(a){return a in K?K[a]:K[a]=\"on\"+a},T=function(a,b){if(a.g)a=!0;else{b=new D(b,this);var c=a.listener,d=a.h||a.src;a.i&&U(a);a=c.call(d,b)}return a},Q=function(a){a=a[J];return a instanceof I?a:null},V=\"__closure_events_fn_\"+(1E9*Math.random()>>>0),O=function(a){if(\"function\"===typeof a)return a;a[V]||(a[V]=function(b){return a.handleEvent(b)});return a[V]};var v,u=document.documentElement,W;function X(){U(W);W=M(u,\"mousedown\",function(){w();Y()},{capture:!0})}function Y(){U(W);W=N(u,\"keydown\",function(a){if(9===a.keyCode){a=u;var b=v;if(a.classList)a.classList.add(b);else if(!t(a,b)){var c=q(a);r(a,c+(0<c.length?\" \"+b:b))}X()}})};v=\"zAoYTe\";Y();}).call(this);(function(){var c=500;(function(){\n",
       "window.screen&&window.screen.width<=c&&window.screen.height<=c&&document.getElementById(\"hdr\").classList.add(\"sml\");}).call(this);})();</script><div class=\"cOl4Id\"><a href=\"/?sa=X&amp;ved=0ahUKEwi3g7aOtI_2AhUwSvEDHXcgBo4QOwgC\"><span class=\"V6gwVd\">G</span><span class=\"iWkuvd\">o</span><span class=\"cDrQ7\">o</span><span class=\"V6gwVd\">g</span><span class=\"ntlR9\">l</span><span class=\"iWkuvd tJ3Myc\">e</span></a></div><div class=\"bz1lBb\"><form class=\"Pg70bf\" id=\"sf\"><a class=\"l\" href=\"/?output=search&amp;ie=UTF-8&amp;sa=X&amp;ved=0ahUKEwi3g7aOtI_2AhUwSvEDHXcgBo4QPAgE\"><span class=\"V6gwVd\">G</span><span class=\"iWkuvd\">o</span><span class=\"cDrQ7\">o</span><span class=\"V6gwVd\">g</span><span class=\"ntlR9\">l</span><span class=\"iWkuvd tJ3Myc\">e</span></a><input name=\"ie\" type=\"hidden\" value=\"ISO-8859-1\"/><div class=\"H0PQec\"><div class=\"sbc esbc\"><input autocapitalize=\"none\" autocomplete=\"off\" class=\"noHIxc\" name=\"q\" spellcheck=\"false\" type=\"text\" value=\"San Jose zip code\"/><input name=\"oq\" type=\"hidden\"/><input name=\"aqs\" type=\"hidden\"/><div class=\"x\">×</div><div class=\"sc\"></div></div></div><button id=\"qdClwb\" type=\"submit\"></button></form></div><noscript><meta content=\"0;url=/search?q=San+Jose+zip+code&amp;ie=UTF-8&amp;gbv=1&amp;sei=_MoSYreVB7CUxc8P98CY8Ag\" http-equiv=\"refresh\"/><style>table,div,span,p{display:none}</style><div style=\"display:block\">Kérjük, kattintson <a href=\"/search?q=San+Jose+zip+code&amp;ie=UTF-8&amp;gbv=1&amp;sei=_MoSYreVB7CUxc8P98CY8Ag\">ide</a>, ha böngészője nem irányítja át néhány másodpercen belül.</div></noscript></header><div id=\"main\"><div><div class=\"KP7LCb\"> <div class=\"bRsWnc\"> <div class=\"N6RWV\"> <div class=\"Pg70bf Uv67qb\"> <span class=\"OXXup\">Összes</span><a class=\"eZt8xd\" href=\"/search?q=San+Jose+zip+code&amp;ie=UTF-8&amp;source=lnms&amp;tbm=isch&amp;sa=X&amp;ved=0ahUKEwi3g7aOtI_2AhUwSvEDHXcgBo4Q_AUICCgB\">Képek</a><a class=\"eZt8xd\" href=\"https://maps.google.com/maps?q=San+Jose+zip+code&amp;um=1&amp;ie=UTF-8&amp;sa=X&amp;ved=0ahUKEwi3g7aOtI_2AhUwSvEDHXcgBo4Q_AUICSgC\">Térkép</a><a class=\"eZt8xd\" href=\"/search?q=San+Jose+zip+code&amp;ie=UTF-8&amp;source=lnms&amp;tbm=shop&amp;sa=X&amp;ved=0ahUKEwi3g7aOtI_2AhUwSvEDHXcgBo4Q_AUICigD\">Vásárlás</a> <a href=\"/search?q=San+Jose+zip+code&amp;ie=UTF-8&amp;source=lnms&amp;tbm=vid&amp;sa=X&amp;ved=0ahUKEwi3g7aOtI_2AhUwSvEDHXcgBo4Q_AUICygE\">Videók</a> <a href=\"/search?q=San+Jose+zip+code&amp;ie=UTF-8&amp;source=lnms&amp;tbm=nws&amp;sa=X&amp;ved=0ahUKEwi3g7aOtI_2AhUwSvEDHXcgBo4Q_AUIDCgF\">Hírek</a> <a href=\"/search?q=San+Jose+zip+code&amp;ie=UTF-8&amp;source=lnms&amp;tbm=bks&amp;sa=X&amp;ved=0ahUKEwi3g7aOtI_2AhUwSvEDHXcgBo4Q_AUIDSgG\">Könyvek</a> <div class=\"FElbsf\"><a href=\"/advanced_search\" id=\"st-toggle\" role=\"button\" style=\"white-space:nowrap\">Keresőeszközök</a></div> </div> </div> </div> </div><div class=\"Pg70bf wEsjbd ZINbbc xpd O9g5cc uUPGi\" id=\"st-card\" style=\"display:none\"><style>.wEsjbd{background-color:#fff;height:44px;white-space:nowrap}.coPU8c{height:60px;overflow-scrolling:touch;overflow-x:auto;overflow-y:hidden}.Xj2aue{height:44px;overflow:hidden}.RnNGze{margin:11px 16px}.wEsjbd div,.wEsjbd a,.wEsjbd li{outline-width:0;outline:none}</style><div class=\"Xj2aue\"><div class=\"coPU8c\"><div class=\"RnNGze\"><style>.PA9J5{display:inline-block}.RXaOfd{display:inline-block;height:22px;position:relative;padding-top:0;padding-bottom:0;padding-right:16px;padding-left:0;line-height:22px;cursor:pointer;text-transform:uppercase;font-size:12px;color:#70757a}.sa1toc{display:none;position:absolute;background:#fff;border:1px solid #d6d6d6;box-shadow:0 2px 4px rgba(0,0,0,0.3);margin:0;white-space:nowrap;z-index:103;line-height:17px;padding-top:5px;padding-bottom:5px;padding-left:0}.PA9J5:hover .sa1toc{display:block}.mGSy8d a:active,.RXaOfd:active{color:#4285f4}</style><div class=\"PA9J5\"><div class=\"RXaOfd\" role=\"button\" tabindex=\"0\"><style>.TWMOUc{display:inline-block;padding-right:14px;white-space:nowrap}.vQYuGf{font-weight:bold}.OmTIzf{border-color:#909090 transparent;border-style:solid;border-width:4px 4px 0 4px;width:0;height:0;margin-left:-10px;top:50%;margin-top:-2px;position:absolute}.RXaOfd:active .OmTIzf{border-color:#4285f4 transparent}</style><div class=\"TWMOUc\">Bármilyen nyelv</div><span class=\"OmTIzf\"></span></div><ul class=\"sa1toc ozatM\"><style>.ozatM{font-size:12px;text-transform:uppercase}.ozatM .yNFsl,.ozatM li{list-style-type:none;list-style-position:outside;list-style-image:none}.yNFsl.SkUj4c,.yNFsl a{color:rgba(0,0,0,0.54);text-decoration:none;padding:6px 44px 6px 14px;line-height:17px;display:block}.SkUj4c{background-image:url(//ssl.gstatic.com/ui/v1/menu/checkmark2.png);background-position:right center;background-repeat:no-repeat}.SkUj4c:active{background-color:#f8f9fa}</style><li class=\"yNFsl SkUj4c\">Bármilyen nyelv</li><li class=\"yNFsl\"><a href=\"/search?q=San+Jose+zip+code&amp;ie=UTF-8&amp;source=lnt&amp;tbs=lr:lang_1hu&amp;lr=lang_hu&amp;sa=X&amp;ved=0ahUKEwi3g7aOtI_2AhUwSvEDHXcgBo4QpwUIDw\">Keresés - magyar oldalak</a></li></ul></div><div class=\"PA9J5\"><div class=\"RXaOfd\" role=\"button\" tabindex=\"0\"><div class=\"TWMOUc\">Bármikor</div><span class=\"OmTIzf\"></span></div><ul class=\"sa1toc ozatM\"><li class=\"yNFsl SkUj4c\">Bármikor</li><li class=\"yNFsl\"><a href=\"/search?q=San+Jose+zip+code&amp;ie=UTF-8&amp;source=lnt&amp;tbs=qdr:h&amp;sa=X&amp;ved=0ahUKEwi3g7aOtI_2AhUwSvEDHXcgBo4QpwUIEQ\"> Az elmúlt órában</a></li><li class=\"yNFsl\"><a href=\"/search?q=San+Jose+zip+code&amp;ie=UTF-8&amp;source=lnt&amp;tbs=qdr:d&amp;sa=X&amp;ved=0ahUKEwi3g7aOtI_2AhUwSvEDHXcgBo4QpwUIEg\"> Az elmúlt 24 órában</a></li><li class=\"yNFsl\"><a href=\"/search?q=San+Jose+zip+code&amp;ie=UTF-8&amp;source=lnt&amp;tbs=qdr:w&amp;sa=X&amp;ved=0ahUKEwi3g7aOtI_2AhUwSvEDHXcgBo4QpwUIEw\"> Az elmúlt héten</a></li><li class=\"yNFsl\"><a href=\"/search?q=San+Jose+zip+code&amp;ie=UTF-8&amp;source=lnt&amp;tbs=qdr:m&amp;sa=X&amp;ved=0ahUKEwi3g7aOtI_2AhUwSvEDHXcgBo4QpwUIFA\"> Az elmúlt hónapban</a></li><li class=\"yNFsl\"><a href=\"/search?q=San+Jose+zip+code&amp;ie=UTF-8&amp;source=lnt&amp;tbs=qdr:y&amp;sa=X&amp;ved=0ahUKEwi3g7aOtI_2AhUwSvEDHXcgBo4QpwUIFQ\"> Az elmúlt évben</a></li></ul></div><div class=\"PA9J5\"><div class=\"RXaOfd\" role=\"button\" tabindex=\"0\"><div class=\"TWMOUc\">Összes találat</div><span class=\"OmTIzf\"></span></div><ul class=\"sa1toc ozatM\"><li class=\"yNFsl SkUj4c\">Összes találat</li><li class=\"yNFsl\"><a href=\"/search?q=San+Jose+zip+code&amp;ie=UTF-8&amp;source=lnt&amp;tbs=li:1&amp;sa=X&amp;ved=0ahUKEwi3g7aOtI_2AhUwSvEDHXcgBo4QpwUIFw\">Szó szerint</a></li></ul></div></div></div></div><script nonce=\"S3A2vtcky7p/64vBJfnMaA==\">(function(){\n",
       "var a=document.getElementById(\"st-toggle\"),b=document.getElementById(\"st-card\");a&&b&&a.addEventListener(\"click\",function(c){b.style.display=b.style.display?\"\":\"none\";c.preventDefault()},!1);}).call(this);</script></div></div><style>.ZTv9Bb{display:block}.nVTMpe{border-radius:8px}.ZINbbc{background-color:#fff;margin-bottom:30px;box-shadow:0 0 0 1px #dfe1e5;border-radius:8px}.uUPGi{font-size:14px;line-height:22px;}.O9g5cc>*:first-child{border-top-left-radius:8px;border-top-right-radius:8px}.O9g5cc>*:last-child{border-bottom-left-radius:8px;border-bottom-right-radius:8px}.O9g5cc>.qxDOhb>*:first-child{border-top-left-radius:8px;border-top-right-radius:8px}.O9g5cc>.qxDOhb>*:last-child{border-bottom-left-radius:8px;border-bottom-right-radius:8px}.kCrYT{padding:12px 16px 12px}.l97dzf{font-weight:400}.zBAuLc{line-height:normal;margin:0;padding:0}.BNeawe{white-space:pre-line;word-wrap:break-word}.deIvCb{font-size:16px;line-height:20px;font-weight:400}.deIvCb.HrGdeb{color:#fff}.deIvCb.AP7Wnd{color:#202124}.tAd8D{font-size:14px;line-height:20px}.tAd8D.HrGdeb{color:rgba(255,255,255,.70)}.tAd8D.AP7Wnd{color:#70757a}.x54gtf{height:1px;background-color:#dfe1e5;margin:0 16px}.Q0HXG{height:1px;background-color:#dfe1e5}.X7NTVe{display:table;width:100%;padding-right:16px;box-sizing:border-box}.tHmfQe{display:table-cell;padding:12px 0 12px 16px}.UHtrk{width:72px}.HBTM6d{width:30px}.XS7yGd{display:table-cell;text-align:center;vertical-align:middle;padding:12px 0 12px 8px}a.fdYsqf{color:#4b11a8}.am3QBf{display:table;vertical-align:top}.nGphre{float:right;padding-left:16px}.UykT9d{border-radius:8px;display:block}.nYT7Qb{clear:both}.RJI4s{vertical-align:middle}.skVgpb{display:table;table-layout:fixed;width:100%}.VGHMXd{display:table-cell;vertical-align:middle;height:52px;text-align:center}.LpaDrb{margin:0 auto 8px;display:block}.vbShOe{padding-top:0}.Ey4n2{padding-bottom:12px}.s3v9rd{font-size:14px;line-height:22px}.s3v9rd.HrGdeb{color:#fff}.s3v9rd.AP7Wnd{color:#202124}.XLloXe{color:#1a0dab;font-size:14px;line-height:20px}a:visited .XLloXe,.XLloXe a:visited{color:#4B11A8}.XLloXe.HrGdeb{color:#fff}a:visited .XLloXe.HrGdeb,.XLloXe.HrGdeb a:visited{color:rgba(255,255,255,.70)}.mEUgP{font-weight:bold;font-size:16px;color:#000;margin:0;padding:12px 16px 12px}.atOwb{font-weight:bold}.C7GS5b{margin-left:12px;display:table-cell;vertical-align:middle}.rkGIWe{padding:14px}.xpc .hwc,.xpx .hwx{display:none}.iIWm4b{box-sizing:border-box;min-height:48px}.fLtXsc{padding:14px;position:relative}.NtmAdb{width:40px;height:40px;overflow:hidden;margin-top:-10px;margin-bottom:-16px;margin-right:8px;border-radius:4px}.xpc .NtmAdb{display:inline-block}.xpx .NtmAdb{display:none}.Lt3Tzc{display:inline-block;padding-right:26px}.Lym8W{width:14px;height:20px;position:relative;margin:0 auto}.xCgLUe{position:absolute;right:16px;margin-top:-10px;top:50%}.Lym8W div{position:absolute;border-left:7px solid transparent;border-right:7px solid transparent;width:0;height:0;left:0}.IyYaEd{top:7px;border-top:7px solid #70757a}.ECUHQe{top:4px;border-top:7px solid #fff}.AeQQub{bottom:7px;border-bottom:7px solid #70757a}.YCU7eb{bottom:4px;border-bottom:7px solid #fff}.qxDOhb{border-radius:0}.yStFkb .xpd{border-radius:8px;box-shadow:none;border:1px solid #dadce0;margin-bottom:0}.hfgVwf{margin-top:12px}.IxZjcf .hfgVwf{margin-bottom:12px}.OdF8Fd{float:right;padding-left:16px}.p1vimb{border-radius:8px;display:block}.rkvY3c{clear:both}.CgE3Ac{margin:0 16px}.I9mEQ{padding-bottom:12px}.LnMnt{border-collapse:collapse;border-spacing:0;width:100%}.LnMnt td{padding-top:0;padding-bottom:0;padding-right:8px}.LnMnt .s5aIid{padding-right:0}.IxZjcf{border-bottom:1px solid #dfe1e5}.sjsZvd{vertical-align:top}.OE1use{text-align:left}.BSv1qf{text-align:center}.HlHBvc{text-align:right}.uEec3{font-size:12px;line-height:16px}.uEec3.HrGdeb{color:rgba(255,255,255,.70)}.uEec3.AP7Wnd{color:#70757a}.IfyLsd{float:left;margin-right:8px}.vvjwJb{color:#1a0dab;font-size:20px;line-height:26px}a:visited .vvjwJb,.vvjwJb a:visited{color:#4B11A8}.vvjwJb.HrGdeb{color:#fff}a:visited .vvjwJb.HrGdeb,.vvjwJb.HrGdeb a:visited{color:rgba(255,255,255,.70)}.EDgFbc{color:#1a0dab}a:visited .EDgFbc{color:#4B11A8}.EDgFbc.VyZZLb{color:#fff}a:visited .EDgFbc.VyZZLb{color:rgba(255,255,255,.70)}.UPmit{font-size:14px;line-height:22px}.UPmit.HrGdeb{color:rgba(255,255,255,.70)}.UPmit.AP7Wnd{color:#0d652d}.P1NWSe{display:table;width:100%;padding-top:16px;padding-bottom:16px;margin-bottom:-12px}.wOMIed{display:table-cell;vertical-align:top}.nkPlDb{vertical-align:middle}.JhFlyf{color:#3c4043;font-size:14px;text-align:center}.VQFmSd{display:block;white-space:pre-line;word-wrap:break-word}.JhFlyf.VQFmSd{line-height:22px}.f4J0H{padding:18px}.lnWbdd{display:table;width:100%}.kvKEAb{display:table-cell;vertical-align:top}.nXE3Ob{padding-top:12px}.iafz5e{float:right;padding-left:16px}.zv7zOb{border-radius:8px;display:block}.iBp4i{font-size:24px;line-height:28px;font-weight:400}.iBp4i.HrGdeb{color:#fff}.iBp4i.AP7Wnd{color:#202124}.xUrNXd.VyZZLb{color:rgba(255,255,255,.70)}.xUrNXd.UMOHqf{color:#70757a}.luh4tb{background:transparent !important;box-shadow:none !important;border:none !important}.ZINbbc.luh4tb{margin-top:-12px;margin-bottom:18px}.rl7ilb{display:block;clear:both}.egMi0{margin-bottom:-22px}.yRG22b{padding-left:48px;margin:0}.MSiauf{padding-bottom:8px}.gGQDvd{padding:14px;position:relative}.Q71vJc{display:block;position:relative;width:100%}.kjGX2{position:absolute;left:48px;right:0;vertical-align:bottom;display:inline-block;color:#3c4043}.ieB2Dd{overflow:hidden;margin-top:-10px;margin-bottom:-16px;margin-right:8px;border-radius:4px;display:inline-block;border-radius:50%;padding:10px}.OEaqif{width:20px;height:20px;display:block}.lRVwie{text-overflow:ellipsis;white-space:nowrap;overflow:hidden}.rLshyf,.BmP5tf{padding-top:12px;padding-bottom:12px}.YOx3Ab{padding-left:16px;}.w1C3Le,.BmP5tf,.G5NbBd,.CS4w5b{padding-left:16px;padding-right:16px;}.G5NbBd{padding-bottom:12px}.CS4w5b{padding-top:12px}.nMymef{display:flex}.G5eFlf{flex:1;display:block}.nMymef span{text-align:center}.KwU3F{color:#1a73e8}.GNm3Qb{display:inline-block}.xSQxL{color:#1a73e8;cursor:pointer;display:inline-block}.HDOrGf{line-height:40px}.EYqSq{border-radius:100%;display:inline-block;height:10px;margin:6px 4px 9px 0;vertical-align:middle;width:10px}.dfB0uf{color:#3c4043;font-weight:bold}.TUOsUe{text-align:left}.lxG8Hd.aID8W{background-color:rgba(32,33,36,0.6);opacity:1;visibility:inherit}.qW28Ef.aID8W{background-color:#000;opacity:0.4;visibility:inherit}.m114nf.aID8W{background-color:#202124;opacity:0.7;visibility:inherit}.xq162b.aID8W{background-color:#000;opacity:0.8;visibility:inherit}.Xz5tfb.aID8W{background-color:#f8f9fa;opacity:0.85;visibility:inherit}.Kg0gUe.aID8W{background-color:#202124;opacity:0.6;visibility:inherit}.NJfJb.aID8W{opacity:1}.bErdLd.aID8W{opacity:1;visibility:inherit}.bErdLd.hFCnyd{cursor:pointer}.bErdLd.hFCnyd .NJfJb{cursor:default}.t7xA6{position:fixed;z-index:9997;right:0;bottom:-200px;top:0;left:0;transition:opacity 0.25s;opacity:0;visibility:hidden}.NJfJb{border-radius:8px;border-radius:8px;display:inline-block;z-index:9999;background-color:#fff;opacity:0;white-space:normal;overflow:hidden;box-shadow:0px 5px 26px 0px rgba(0,0,0,0.22),0px 20px 28px 0px rgba(0,0,0,0.3)}.NJfJb.o1VDwe{background-color:transparent;box-shadow:none}.NJfJb.Sr5CLc{position:relative;vertical-align:middle}.NJfJb.ZbLCRc{position:absolute}.NJfJb.mr5vfb{border:1px solid #dadce0;box-shadow:0 2px 4px #dadce0;box-shadow:0 2px 4px #dadce0}.bErdLd{position:fixed;right:0;bottom:0;top:0;left:0;z-index:9998;vertical-align:middle;visibility:hidden;white-space:nowrap;max-height:100%;max-width:100%;overflow-x:hidden;overflow-y:auto}.bErdLd.wwYr3{text-align:center}.bErdLd::after{content:'';display:inline-block;height:100%;vertical-align:middle}.bErdLd{tap-highlight-color:rgba(0,0,0,0.0)}.ls8Qne{height:0;opacity:0;position:absolute;width:0}.OxAxec{visibility:hidden}.QVCmK{overflow:hidden}.llJxV .NJfJb{max-width:100%}.OosGzb{width:376px}.wHYlTd{font-family:Roboto,Helvetica Neue,Arial,sans-serif;font-size:14px;line-height:20px}.yUTMj{font-family:Roboto,Helvetica Neue,Arial,sans-serif;font-weight:400}.v0rrvd{padding-bottom:16px}.zJUuqf{margin-bottom:4px}.AB4Wff{margin-left:16px}.VDgVie{text-align:center}@keyframes g-snackbar-show {from{pointer-events:none;transform:translateY(0)}to{transform:translateY(-100%)}}@keyframes g-snackbar-hide {from{transform:translateY(-100%)}to{transform:translateY(0)}}@keyframes g-snackbar-show-content {from{opacity:0}}@keyframes g-snackbar-hide-content {to{opacity:0}}.tYAdEe,.SaJ9Qe{bottom:0;height:0;position:fixed;z-index:999}.vT5nhd{height:0;position:fixed;z-index:999}.ZtLxGf{box-sizing:border-box;visibility:hidden;display:inline-block}.FEXCIb,.CIKhFd{box-sizing:border-box;visibility:hidden}.lnctfd{animation:g-snackbar-hide 400ms cubic-bezier(.4,0,.2,1) both;animation:g-snackbar-hide 400ms cubic-bezier(.4,0,.2,1) both;visibility:inherit}.ZWC4b{animation:g-snackbar-show 500ms cubic-bezier(.4,0,.2,1) both;animation:g-snackbar-show 500ms cubic-bezier(.4,0,.2,1) both;visibility:inherit}.EA3l1b{background-color:#323232;padding:0 24px}.Xb004{align-items:center;align-items:center;box-align:center;display:box;display:flex;display:flex}.lnctfd .Xb004{animation:g-snackbar-hide-content 350ms cubic-bezier(.4,0,.2,1) both;animation:g-snackbar-hide-content 350ms cubic-bezier(.4,0,.2,1) both}.ZWC4b .Xb004{animation:g-snackbar-show-content 350ms cubic-bezier(.4,0,.2,1) 150ms both;animation:g-snackbar-show-content 350ms cubic-bezier(.4,0,.2,1) 150ms both}.awHmMb.awHmMb{line-height:20px}.awHmMb{box-flex:1;color:#fff;flex:1 1 auto;margin:14px 0;word-break:break-word}.BDp8nf{margin-right:-8px}@media (min-width:569px) and (min-height:569px){.tYAdEe,.SaJ9Qe{text-align:center}.CIKhFd,.FEXCIb{display:inline-block;max-width:568px;min-width:288px;text-align:left}.EA3l1b{border-radius:8px;}.BDp8nf{margin-left:40px}}.z5QvOe .Xb004{display:block;padding:8px 0}.z5QvOe .BDp8nf{margin-left:0}.z5QvOe .BDp8nf g-flat-button{padding-left:0}.tYAdEe,.vT5nhd{left:0;right:0}.hObAcc{margin-left:4px;margin-right:4px}.r2fjmd{margin-bottom:0px;margin-top:0px}.gTewb{padding-left:8px;padding-right:8px}.U8shWc{background-color:transparent;border:none;border-radius:8px;border-radius:8px;box-sizing:border-box;display:inline-block;font-size:14px;font-weight:500;padding-top:6px;padding-bottom:3px;min-width:88px;position:relative;text-decoration:none !important;user-select:none;white-space:nowrap}.U8shWc:disabled,.U8shWc[disabled]:not([disabled=false]){pointer-events:none}.U8shWc.fSXIc{min-width:64px}.U8shWc.hpZDWd{color:#fff}.hpZDWd:focus{background-color:rgba(204,204,204,.15)}.hpZDWd:active{background-color:rgba(204,204,204,.25)}.U8shWc.hpZDWd:disabled,.U8shWc.hpZDWd[disabled]:not([disabled=false]){color:rgba(255,255,255,.30) !important}.aepCxe{padding:14px 0;margin:-14px 0}</style><div><!--SW_C_X--></div><div></div><div><div class=\"ZINbbc xpd O9g5cc uUPGi\"><div class=\"kCrYT\"><div class=\"q4vBJc\"></div><span><h2 class=\"zBAuLc l97dzf\"><div class=\"BNeawe deIvCb AP7Wnd\">San José</div></h2></span><span><div class=\"BNeawe tAd8D AP7Wnd\">Irányítószámok</div></span></div><div class=\"Q0HXG\"></div><div class=\"X7NTVe\"><a class=\"tHmfQe\" href=\"/search?ie=UTF-8&amp;q=san+jos%C3%A9+94088&amp;stick=H4sIAAAAAAAAAONgFuLQz9U3SDMwKVPiArHM8woNLIu15LKTrfRz8pMTSzLz8_STM0sqS_LL86yqMgsUkvNTUh8xrmDiFnj5456w1DymSWtOXmOczsRFQI-QHxeba14JUFiIR4qLC26vlIISF--haEcxUa_5kdu1hDi_2v_senKqv0GwunD-Ka6euTuNRLh49dP1DQ2zzbLTzbMKigVezJ_JqDSH0Shj16Vp59iSBD12___vzhjmIGUkeMd66brSM-_ttYS42D2LfYDOyRE8IHrpvoIgUEyYiyMksSI_Lz-3UvD0rTP2__-_t1dS5EzmtW3wev7OXrBRmGnB8g5bBwk2BQYNBsPL19gfsMVzHdBiCOIGOcDIKCWnxMA8COz2lJwcBKvoACNT074Vh9g4OBgFGIyYOBismDQYq4A0zyJW_uLEPIWs_OLDKxUsTQwsLADGKwkRdgEAAA&amp;sa=X&amp;ved=2ahUKEwi3g7aOtI_2AhUwSvEDHXcgBo4Q-BZ6BAgNEAI\"><div class=\"am3QBf\"><div><span><div class=\"BNeawe deIvCb AP7Wnd\">94088</div></span></div></div></a></div><div class=\"Q0HXG\"></div><div class=\"X7NTVe\"><a class=\"tHmfQe\" href=\"/search?ie=UTF-8&amp;q=san+jos%C3%A9+94089&amp;stick=H4sIAAAAAAAAAONgFuLQz9U3SDMwKVPiArEMq4rMCky15LKTrfRz8pMTSzLz8_STM0sqS_LL86yqMgsUkvNTUh8xrmDiFnj5456w1DymSWtOXmOczsRFQI-QHxeba14JUFiIR4qLC26vlIISF--haEcxUa_5kdu1hDi_2v_senKqv0GwunD-Ka6euTuNRLh49dP1DQ2zzbLTzbMKigVezJ_JqDSH0Shj16Vp59iSBD12___vzhjmIGUkeMd66brSM-_ttYS42D2LfYDOyRE8IHrpvoIgUEyYiyMksSI_Lz-3UvD0rTP2__-_t1dS5EzmtW3wev7OXrBRmGnB8g5bBwk2BQYNBsPL19gfsMVzHdBiCOIGOcDIKCWnxMA8COz2lJwcBKvoACNT074Vh9g4OBgFGIyYOBismDQYq4A0zyJW_uLEPIWs_OLDKxUsTQwsLAF-SreSdgEAAA&amp;sa=X&amp;ved=2ahUKEwi3g7aOtI_2AhUwSvEDHXcgBo4Q-BZ6BAgNEAQ\"><div class=\"am3QBf\"><div><span><div class=\"BNeawe deIvCb AP7Wnd\">94089</div></span></div></div></a></div><div class=\"Q0HXG\"></div><div class=\"X7NTVe\"><a class=\"tHmfQe\" href=\"/search?ie=UTF-8&amp;q=san+jos%C3%A9+94560&amp;stick=H4sIAAAAAAAAAONgFuLQz9U3SDMwKVPiArEMq7LSzYq15LKTrfRz8pMTSzLz8_STM0sqS_LL86yqMgsUkvNTUh8xrmDiFnj5456w1DymSWtOXmOczsRFQI-QHxeba14JUFiIR4qLC26vlIISF--haEcxUa_5kdu1hDi_2v_senKqv0GwunD-Ka6euTuNRLh49dP1DQ2zzbLTzbMKigVezJ_JqDSH0Shj16Vp59iSBD12___vzhjmIGUkeMd66brSM-_ttYS42D2LfYDOyRE8IHrpvoIgUEyYiyMksSI_Lz-3UvD0rTP2__-_t1dS5EzmtW3wev7OXrBRmGnB8g5bBwk2BQYNBsPL19gfsMVzHdBiCOIGOcDIKCWnxMA8COz2lJwcBKvoACNT074Vh9g4OBgFGIyYOBismDQYq4A0zyJW_uLEPIWs_OLDKxUsTUzNDABIGtX2dgEAAA&amp;sa=X&amp;ved=2ahUKEwi3g7aOtI_2AhUwSvEDHXcgBo4Q-BZ6BAgNEAY\"><div class=\"am3QBf\"><div><span><div class=\"BNeawe deIvCb AP7Wnd\">94560</div></span></div></div></a></div><div class=\"Q0HXG\"></div><div class=\"X7NTVe\"><a class=\"tHmfQe\" href=\"/search?ie=UTF-8&amp;q=san+jos%C3%A9+95002&amp;stick=H4sIAAAAAAAAAONgFuLQz9U3SDMwKVPiArGM8izLS5K05LKTrfRz8pMTSzLz8_STM0sqS_LL86yqMgsUkvNTUh8xrmDiFnj5456w1DymSWtOXmOczsRFQI-QHxeba14JUFiIR4qLC26vlIISF--haEcxUa_5kdu1hDi_2v_senKqv0GwunD-Ka6euTuNRLh49dP1DQ2zzbLTzbMKigVezJ_JqDSH0Shj16Vp59iSBD12___vzhjmIGUkeMd66brSM-_ttYS42D2LfYDOyRE8IHrpvoIgUEyYiyMksSI_Lz-3UvD0rTP2__-_t1dS5EzmtW3wev7OXrBRmGnB8g5bBwk2BQYNBsPL19gfsMVzHdBiCOIGOcDIKCWnxMA8COz2lJwcBKvoACNT074Vh9g4OBgFGIyYOBismDQYq4A0zyJW_uLEPIWs_OLDKxUsTQ0MjAAFJ5cydgEAAA&amp;sa=X&amp;ved=2ahUKEwi3g7aOtI_2AhUwSvEDHXcgBo4Q-BZ6BAgNEAg\"><div class=\"am3QBf\"><div><span><div class=\"BNeawe deIvCb AP7Wnd\">95002</div></span></div></div></a></div><div class=\"Q0HXG\"></div><div class=\"X7NTVe\"><a class=\"tHmfQe\" href=\"/search?ie=UTF-8&amp;q=san+jos%C3%A9+95008&amp;stick=H4sIAAAAAAAAAONgFuLQz9U3SDMwKVPiArEMq5KTc8u15LKTrfRz8pMTSzLz8_STM0sqS_LL86yqMgsUkvNTUh8xrmDiFnj5456w1DymSWtOXmOczsRFQI-QHxeba14JUFiIR4qLC26vlIISF--haEcxUa_5kdu1hDi_2v_senKqv0GwunD-Ka6euTuNRLh49dP1DQ2zzbLTzbMKigVezJ_JqDSH0Shj16Vp59iSBD12___vzhjmIGUkeMd66brSM-_ttYS42D2LfYDOyRE8IHrpvoIgUEyYiyMksSI_Lz-3UvD0rTP2__-_t1dS5EzmtW3wev7OXrBRmGnB8g5bBwk2BQYNBsPL19gfsMVzHdBiCOIGOcDIKCWnxMA8COz2lJwcBKvoACNT074Vh9g4OBgFGIyYOBismDQYq4A0zyJW_uLEPIWs_OLDKxUsTQ0MLAAj9w8ndgEAAA&amp;sa=X&amp;ved=2ahUKEwi3g7aOtI_2AhUwSvEDHXcgBo4Q-BZ6BAgNEAo\"><div class=\"am3QBf\"><div><span><div class=\"BNeawe deIvCb AP7Wnd\">95008</div></span></div></div></a></div><div class=\"Q0HXG\"></div><div class=\"X7NTVe\"><a class=\"tHmfQe\" href=\"/search?ie=UTF-8&amp;q=san+jos%C3%A9+95013&amp;stick=H4sIAAAAAAAAAONgFuLQz9U3SDMwKVPiArHM8wriLVO05LKTrfRz8pMTSzLz8_STM0sqS_LL86yqMgsUkvNTUh8xrmDiFnj5456w1DymSWtOXmOczsRFQI-QHxeba14JUFiIR4qLC26vlIISF--haEcxUa_5kdu1hDi_2v_senKqv0GwunD-Ka6euTuNRLh49dP1DQ2zzbLTzbMKigVezJ_JqDSH0Shj16Vp59iSBD12___vzhjmIGUkeMd66brSM-_ttYS42D2LfYDOyRE8IHrpvoIgUEyYiyMksSI_Lz-3UvD0rTP2__-_t1dS5EzmtW3wev7OXrBRmGnB8g5bBwk2BQYNBsPL19gfsMVzHdBiCOIGOcDIKCWnxMA8COz2lJwcBKvoACNT074Vh9g4OBgFGIyYOBismDQYq4A0zyJW_uLEPIWs_OLDKxUsTQ0MjQEewUZ8dgEAAA&amp;sa=X&amp;ved=2ahUKEwi3g7aOtI_2AhUwSvEDHXcgBo4Q-BZ6BAgNEAw\"><div class=\"am3QBf\"><div><span><div class=\"BNeawe deIvCb AP7Wnd\">95013</div></span></div></div></a></div><div class=\"Q0HXG\"></div><div class=\"X7NTVe\"><a class=\"tHmfQe\" href=\"/search?ie=UTF-8&amp;q=san+jos%C3%A9+95035&amp;stick=H4sIAAAAAAAAAONgFuLQz9U3SDMwKVPiArEMq7IMSiq05LKTrfRz8pMTSzLz8_STM0sqS_LL86yqMgsUkvNTUh8xrmDiFnj5456w1DymSWtOXmOczsRFQI-QHxeba14JUFiIR4qLC26vlIISF--haEcxUa_5kdu1hDi_2v_senKqv0GwunD-Ka6euTuNRLh49dP1DQ2zzbLTzbMKigVezJ_JqDSH0Shj16Vp59iSBD12___vzhjmIGUkeMd66brSM-_ttYS42D2LfYDOyRE8IHrpvoIgUEyYiyMksSI_Lz-3UvD0rTP2__-_t1dS5EzmtW3wev7OXrBRmGnB8g5bBwk2BQYNBsPL19gfsMVzHdBiCOIGOcDIKCWnxMA8COz2lJwcBKvoACNT074Vh9g4OBgFGIyYOBismDQYq4A0zyJW_uLEPIWs_OLDKxUsTQ2MTQEGYfQldgEAAA&amp;sa=X&amp;ved=2ahUKEwi3g7aOtI_2AhUwSvEDHXcgBo4Q-BZ6BAgNEA4\"><div class=\"am3QBf\"><div><span><div class=\"BNeawe deIvCb AP7Wnd\">95035</div></span></div></div></a></div><div class=\"Q0HXG\"></div><div class=\"X7NTVe\"><a class=\"tHmfQe\" href=\"/search?ie=UTF-8&amp;q=san+jos%C3%A9+95037&amp;stick=H4sIAAAAAAAAAONgFuLQz9U3SDMwKVPiArEMq7KycrO15LKTrfRz8pMTSzLz8_STM0sqS_LL86yqMgsUkvNTUh8xrmDiFnj5456w1DymSWtOXmOczsRFQI-QHxeba14JUFiIR4qLC26vlIISF--haEcxUa_5kdu1hDi_2v_senKqv0GwunD-Ka6euTuNRLh49dP1DQ2zzbLTzbMKigVezJ_JqDSH0Shj16Vp59iSBD12___vzhjmIGUkeMd66brSM-_ttYS42D2LfYDOyRE8IHrpvoIgUEyYiyMksSI_Lz-3UvD0rTP2__-_t1dS5EzmtW3wev7OXrBRmGnB8g5bBwk2BQYNBsPL19gfsMVzHdBiCOIGOcDIKCWnxMA8COz2lJwcBKvoACNT074Vh9g4OBgFGIyYOBismDQYq4A0zyJW_uLEPIWs_OLDKxUsTQ2MzQFZsuuydgEAAA&amp;sa=X&amp;ved=2ahUKEwi3g7aOtI_2AhUwSvEDHXcgBo4Q-BZ6BAgNEBA\"><div class=\"am3QBf\"><div><span><div class=\"BNeawe deIvCb AP7Wnd\">95037</div></span></div></div></a></div><div class=\"Q0HXG\"></div><div class=\"X7NTVe\"><a class=\"tHmfQe\" href=\"/search?ie=UTF-8&amp;q=san+jos%C3%A9+95050&amp;stick=H4sIAAAAAAAAAONgFuLQz9U3SDMwKVPiArEMqwrNzMu15LKTrfRz8pMTSzLz8_STM0sqS_LL86yqMgsUkvNTUh8xrmDiFnj5456w1DymSWtOXmOczsRFQI-QHxeba14JUFiIR4qLC26vlIISF--haEcxUa_5kdu1hDi_2v_senKqv0GwunD-Ka6euTuNRLh49dP1DQ2zzbLTzbMKigVezJ_JqDSH0Shj16Vp59iSBD12___vzhjmIGUkeMd66brSM-_ttYS42D2LfYDOyRE8IHrpvoIgUEyYiyMksSI_Lz-3UvD0rTP2__-_t1dS5EzmtW3wev7OXrBRmGnB8g5bBwk2BQYNBsPL19gfsMVzHdBiCOIGOcDIKCWnxMA8COz2lJwcBKvoACNT074Vh9g4OBgFGIyYOBismDQYq4A0zyJW_uLEPIWs_OLDKxUsTQ1MDQChqLIsdgEAAA&amp;sa=X&amp;ved=2ahUKEwi3g7aOtI_2AhUwSvEDHXcgBo4Q-BZ6BAgNEBI\"><div class=\"am3QBf\"><div><span><div class=\"BNeawe deIvCb AP7Wnd\">95050</div></span></div></div></a></div><div class=\"Q0HXG\"></div><div class=\"X7NTVe\"><a class=\"tHmfQe\" href=\"/search?ie=UTF-8&amp;q=san+jos%C3%A9+95054&amp;stick=H4sIAAAAAAAAAONgFuLQz9U3SDMwKVPiArEMqwrNTI215LKTrfRz8pMTSzLz8_STM0sqS_LL86yqMgsUkvNTUh8xrmDiFnj5456w1DymSWtOXmOczsRFQI-QHxeba14JUFiIR4qLC26vlIISF--haEcxUa_5kdu1hDi_2v_senKqv0GwunD-Ka6euTuNRLh49dP1DQ2zzbLTzbMKigVezJ_JqDSH0Shj16Vp59iSBD12___vzhjmIGUkeMd66brSM-_ttYS42D2LfYDOyRE8IHrpvoIgUEyYiyMksSI_Lz-3UvD0rTP2__-_t1dS5EzmtW3wev7OXrBRmGnB8g5bBwk2BQYNBsPL19gfsMVzHdBiCOIGOcDIKCWnxMA8COz2lJwcBKvoACNT074Vh9g4OBgFGIyYOBismDQYq4A0zyJW_uLEPIWs_OLDKxUsTQ1MTQAkwQT5dgEAAA&amp;sa=X&amp;ved=2ahUKEwi3g7aOtI_2AhUwSvEDHXcgBo4Q-BZ6BAgNEBQ\"><div class=\"am3QBf\"><div><span><div class=\"BNeawe deIvCb AP7Wnd\">95054</div></span></div></div></a></div><div class=\"Q0HXG\"></div><div class=\"X7NTVe\"><a class=\"tHmfQe\" href=\"/search?ie=UTF-8&amp;q=san+jos%C3%A9+95101&amp;stick=H4sIAAAAAAAAAONgFuLQz9U3SDMwKVPiArHM8wriTSu05LKTrfRz8pMTSzLz8_STM0sqS_LL86yqMgsUkvNTUh8xrmDiFnj5456w1DymSWtOXmOczsRFQI-QHxeba14JUFiIR4qLC26vlIISF--haEcxUa_5kdu1hDi_2v_senKqv0GwunD-Ka6euTuNRLh49dP1DQ2zzbLTzbMKigVezJ_JqDSH0Shj16Vp59iSBD12___vzhjmIGUkeMd66brSM-_ttYS42D2LfYDOyRE8IHrpvoIgUEyYiyMksSI_Lz-3UvD0rTP2__-_t1dS5EzmtW3wev7OXrBRmGnB8g5bBwk2BQYNBsPL19gfsMVzHdBiCOIGOcDIKCWnxMA8COz2lJwcBKvoACNT074Vh9g4OBgFGIyYOBismDQYq4A0zyJW_uLEPIWs_OLDKxUsTQ0NDAE9RnhKdgEAAA&amp;sa=X&amp;ved=2ahUKEwi3g7aOtI_2AhUwSvEDHXcgBo4Q-BZ6BAgNEBY\"><div class=\"am3QBf\"><div><span><div class=\"BNeawe deIvCb AP7Wnd\">95101</div></span></div></div></a></div><div class=\"Q0HXG\"></div><div class=\"X7NTVe\"><a class=\"tHmfQe\" href=\"/search?ie=UTF-8&amp;q=san+jos%C3%A9+95103&amp;stick=H4sIAAAAAAAAAONgFuLQz9U3SDMwKVPiArHM8wriTQu05LKTrfRz8pMTSzLz8_STM0sqS_LL86yqMgsUkvNTUh8xrmDiFnj5456w1DymSWtOXmOczsRFQI-QHxeba14JUFiIR4qLC26vlIISF--haEcxUa_5kdu1hDi_2v_senKqv0GwunD-Ka6euTuNRLh49dP1DQ2zzbLTzbMKigVezJ_JqDSH0Shj16Vp59iSBD12___vzhjmIGUkeMd66brSM-_ttYS42D2LfYDOyRE8IHrpvoIgUEyYiyMksSI_Lz-3UvD0rTP2__-_t1dS5EzmtW3wev7OXrBRmGnB8g5bBwk2BQYNBsPL19gfsMVzHdBiCOIGOcDIKCWnxMA8COz2lJwcBKvoACNT074Vh9g4OBgFGIyYOBismDQYq4A0zyJW_uLEPIWs_OLDKxUsTQ0NjAEW2WOpdgEAAA&amp;sa=X&amp;ved=2ahUKEwi3g7aOtI_2AhUwSvEDHXcgBo4Q-BZ6BAgNEBg\"><div class=\"am3QBf\"><div><span><div class=\"BNeawe deIvCb AP7Wnd\">95103</div></span></div></div></a></div><div class=\"Q0HXG\"></div><div class=\"X7NTVe\"><a class=\"tHmfQe\" href=\"/search?ie=UTF-8&amp;q=san+jos%C3%A9+95106&amp;stick=H4sIAAAAAAAAAONgFuLQz9U3SDMwKVPiArHM8wriTdO15LKTrfRz8pMTSzLz8_STM0sqS_LL86yqMgsUkvNTUh8xrmDiFnj5456w1DymSWtOXmOczsRFQI-QHxeba14JUFiIR4qLC26vlIISF--haEcxUa_5kdu1hDi_2v_senKqv0GwunD-Ka6euTuNRLh49dP1DQ2zzbLTzbMKigVezJ_JqDSH0Shj16Vp59iSBD12___vzhjmIGUkeMd66brSM-_ttYS42D2LfYDOyRE8IHrpvoIgUEyYiyMksSI_Lz-3UvD0rTP2__-_t1dS5EzmtW3wev7OXrBRmGnB8g5bBwk2BQYNBsPL19gfsMVzHdBiCOIGOcDIKCWnxMA8COz2lJwcBKvoACNT074Vh9g4OBgFGIyYOBismDQYq4A0zyJW_uLEPIWs_OLDKxUsTQ0NzAA9TZkRdgEAAA&amp;sa=X&amp;ved=2ahUKEwi3g7aOtI_2AhUwSvEDHXcgBo4Q-BZ6BAgNEBo\"><div class=\"am3QBf\"><div><span><div class=\"BNeawe deIvCb AP7Wnd\">95106</div></span></div></div></a></div><div class=\"Q0HXG\"></div><div class=\"X7NTVe\"><a class=\"tHmfQe\" href=\"/search?ie=UTF-8&amp;q=san+jos%C3%A9+95108&amp;stick=H4sIAAAAAAAAAONgFuLQz9U3SDMwKVPiArHM8wriTc215LKTrfRz8pMTSzLz8_STM0sqS_LL86yqMgsUkvNTUh8xrmDiFnj5456w1DymSWtOXmOczsRFQI-QHxeba14JUFiIR4qLC26vlIISF--haEcxUa_5kdu1hDi_2v_senKqv0GwunD-Ka6euTuNRLh49dP1DQ2zzbLTzbMKigVezJ_JqDSH0Shj16Vp59iSBD12___vzhjmIGUkeMd66brSM-_ttYS42D2LfYDOyRE8IHrpvoIgUEyYiyMksSI_Lz-3UvD0rTP2__-_t1dS5EzmtW3wev7OXrBRmGnB8g5bBwk2BQYNBsPL19gfsMVzHdBiCOIGOcDIKCWnxMA8COz2lJwcBKvoACNT074Vh9g4OBgFGIyYOBismDQYq4A0zyJW_uLEPIWs_OLDKxUsTQ0NLAAMbKWEdgEAAA&amp;sa=X&amp;ved=2ahUKEwi3g7aOtI_2AhUwSvEDHXcgBo4Q-BZ6BAgNEBw\"><div class=\"am3QBf\"><div><span><div class=\"BNeawe deIvCb AP7Wnd\">95108</div></span></div></div></a></div><div class=\"Q0HXG\"></div><div class=\"X7NTVe\"><a class=\"tHmfQe\" href=\"/search?ie=UTF-8&amp;q=san+jos%C3%A9+95109&amp;stick=H4sIAAAAAAAAAONgFuLQz9U3SDMwKVPiArHM8wriTQ205LKTrfRz8pMTSzLz8_STM0sqS_LL86yqMgsUkvNTUh8xrmDiFnj5456w1DymSWtOXmOczsRFQI-QHxeba14JUFiIR4qLC26vlIISF--haEcxUa_5kdu1hDi_2v_senKqv0GwunD-Ka6euTuNRLh49dP1DQ2zzbLTzbMKigVezJ_JqDSH0Shj16Vp59iSBD12___vzhjmIGUkeMd66brSM-_ttYS42D2LfYDOyRE8IHrpvoIgUEyYiyMksSI_Lz-3UvD0rTP2__-_t1dS5EzmtW3wev7OXrBRmGnB8g5bBwk2BQYNBsPL19gfsMVzHdBiCOIGOcDIKCWnxMA8COz2lJwcBKvoACNT074Vh9g4OBgFGIyYOBismDQYq4A0zyJW_uLEPIWs_OLDKxUsTQ0NLAEwwBkhdgEAAA&amp;sa=X&amp;ved=2ahUKEwi3g7aOtI_2AhUwSvEDHXcgBo4Q-BZ6BAgNEB4\"><div class=\"am3QBf\"><div><span><div class=\"BNeawe deIvCb AP7Wnd\">95109</div></span></div></div></a></div><div class=\"Q0HXG\"></div><div class=\"X7NTVe\"><a class=\"tHmfQe\" href=\"/search?ie=UTF-8&amp;q=san+jos%C3%A9+95110&amp;stick=H4sIAAAAAAAAAONgFuLQz9U3SDMwKVPiArEMqwrSDY215LKTrfRz8pMTSzLz8_STM0sqS_LL86yqMgsUkvNTUh8xrmDiFnj5456w1DymSWtOXmOczsRFQI-QHxeba14JUFiIR4qLC26vlIISF--haEcxUa_5kdu1hDi_2v_senKqv0GwunD-Ka6euTuNRLh49dP1DQ2zzbLTzbMKigVezJ_JqDSH0Shj16Vp59iSBD12___vzhjmIGUkeMd66brSM-_ttYS42D2LfYDOyRE8IHrpvoIgUEyYiyMksSI_Lz-3UvD0rTP2__-_t1dS5EzmtW3wev7OXrBRmGnB8g5bBwk2BQYNBsPL19gfsMVzHdBiCOIGOcDIKCWnxMA8COz2lJwcBKvoACNT074Vh9g4OBgFGIyYOBismDQYq4A0zyJW_uLEPIWs_OLDKxUsTQ0NDQBBSXKcdgEAAA&amp;sa=X&amp;ved=2ahUKEwi3g7aOtI_2AhUwSvEDHXcgBo4Q-BZ6BAgNECA\"><div class=\"am3QBf\"><div><span><div class=\"BNeawe deIvCb AP7Wnd\">95110</div></span></div></div></a></div><div class=\"Q0HXG\"></div><div class=\"X7NTVe\"><a class=\"tHmfQe\" href=\"/search?ie=UTF-8&amp;q=san+jos%C3%A9+95111&amp;stick=H4sIAAAAAAAAAONgFuLQz9U3SDMwKVPiArGMU_Jykgy15LKTrfRz8pMTSzLz8_STM0sqS_LL86yqMgsUkvNTUh8xrmDiFnj5456w1DymSWtOXmOczsRFQI-QHxeba14JUFiIR4qLC26vlIISF--haEcxUa_5kdu1hDi_2v_senKqv0GwunD-Ka6euTuNRLh49dP1DQ2zzbLTzbMKigVezJ_JqDSH0Shj16Vp59iSBD12___vzhjmIGUkeMd66brSM-_ttYS42D2LfYDOyRE8IHrpvoIgUEyYiyMksSI_Lz-3UvD0rTP2__-_t1dS5EzmtW3wev7OXrBRmGnB8g5bBwk2BQYNBsPL19gfsMVzHdBiCOIGOcDIKCWnxMA8COz2lJwcBKvoACNT074Vh9g4OBgFGIyYOBismDQYq4A0zyJW_uLEPIWs_OLDKxUsTQ0NDQG9Y_9PdgEAAA&amp;sa=X&amp;ved=2ahUKEwi3g7aOtI_2AhUwSvEDHXcgBo4Q-BZ6BAgNECI\"><div class=\"am3QBf\"><div><span><div class=\"BNeawe deIvCb AP7Wnd\">95111</div></span></div></div></a></div><div class=\"Q0HXG\"></div><div class=\"X7NTVe\"><a class=\"tHmfQe\" href=\"/search?ie=UTF-8&amp;q=san+jos%C3%A9+95112&amp;stick=H4sIAAAAAAAAAONgFuLQz9U3SDMwKVPiArEMqwrSk3K05LKTrfRz8pMTSzLz8_STM0sqS_LL86yqMgsUkvNTUh8xrmDiFnj5456w1DymSWtOXmOczsRFQI-QHxeba14JUFiIR4qLC26vlIISF--haEcxUa_5kdu1hDi_2v_senKqv0GwunD-Ka6euTuNRLh49dP1DQ2zzbLTzbMKigVezJ_JqDSH0Shj16Vp59iSBD12___vzhjmIGUkeMd66brSM-_ttYS42D2LfYDOyRE8IHrpvoIgUEyYiyMksSI_Lz-3UvD0rTP2__-_t1dS5EzmtW3wev7OXrBRmGnB8g5bBwk2BQYNBsPL19gfsMVzHdBiCOIGOcDIKCWnxMA8COz2lJwcBKvoACNT074Vh9g4OBgFGIyYOBismDQYq4A0zyJW_uLEPIWs_OLDKxUsTQ0NjQAH5cOEdgEAAA&amp;sa=X&amp;ved=2ahUKEwi3g7aOtI_2AhUwSvEDHXcgBo4Q-BZ6BAgNECQ\"><div class=\"am3QBf\"><div><span><div class=\"BNeawe deIvCb AP7Wnd\">95112</div></span></div></div></a></div><div class=\"Q0HXG\"></div><div class=\"X7NTVe\"><a class=\"tHmfQe\" href=\"/search?ie=UTF-8&amp;q=san+jos%C3%A9+95113&amp;stick=H4sIAAAAAAAAAONgFuLQz9U3SDMwKVPiBrEMDSwLsw3NteSyk630c_KTE0sy8_P0kzNLKkvyy_OsqjILFJLzU1IfMa5g4hZ4-eOesNQ8pklrTl5jnM7ERUCPkB8Xm2teCVBYiEeKiwtusZSCEhfvoWhHMVGv-ZHbtYQ4v9r_7Hpyqr9BsLpw_imunrk7jUS4ePXT9Q0Ns82y082zCooFXsyfyag0h9EoY9elaefYkgQ9dv__784Y5iBlJHjHeum60jPv7bWEuNg9i32AzskRPCB66b6CIFBMmIsjJLEiPy8_t1Lw9K0z9v__v7dXUuRM5rVt8Hr-zl6wUZhpwfIOWwcJNgUGDQbDy9fYH7DFcx3QYgjiBjnAyCglp8TAPAjs9pScHASr6AAjU9O-FYfYODgYBRiMmDgYrJg0GKuANM8iVv7ixDyFrPziwysVLE0NDY0BBEJBL3cBAAA&amp;sa=X&amp;ved=2ahUKEwi3g7aOtI_2AhUwSvEDHXcgBo4Q-BZ6BAgNECY\"><div class=\"am3QBf\"><div><span><div class=\"BNeawe deIvCb AP7Wnd\">95113</div></span></div></div></a></div><div class=\"Q0HXG\"></div><div class=\"X7NTVe\"><a class=\"tHmfQe\" href=\"/search?ie=UTF-8&amp;q=san+jos%C3%A9+95115&amp;stick=H4sIAAAAAAAAAONgFuLQz9U3SDMwKVPiArHM8wriTUq05LKTrfRz8pMTSzLz8_STM0sqS_LL86yqMgsUkvNTUh8xrmDiFnj5456w1DymSWtOXmOczsRFQI-QHxeba14JUFiIR4qLC26vlIISF--haEcxUa_5kdu1hDi_2v_senKqv0GwunD-Ka6euTuNRLh49dP1DQ2zzbLTzbMKigVezJ_JqDSH0Shj16Vp59iSBD12___vzhjmIGUkeMd66brSM-_ttYS42D2LfYDOyRE8IHrpvoIgUEyYiyMksSI_Lz-3UvD0rTP2__-_t1dS5EzmtW3wev7OXrBRmGnB8g5bBwk2BQYNBsPL19gfsMVzHdBiCOIGOcDIKCWnxMA8COz2lJwcBKvoACNT074Vh9g4OBgFGIyYOBismDQYq4A0zyJW_uLEPIWs_OLDKxUsTQ0NTQGiojJ3dgEAAA&amp;sa=X&amp;ved=2ahUKEwi3g7aOtI_2AhUwSvEDHXcgBo4Q-BZ6BAgNECg\"><div class=\"am3QBf\"><div><span><div class=\"BNeawe deIvCb AP7Wnd\">95115</div></span></div></div></a></div><div class=\"Q0HXG\"></div><div class=\"X7NTVe\"><a class=\"tHmfQe\" href=\"/search?ie=UTF-8&amp;q=san+jos%C3%A9+95116&amp;stick=H4sIAAAAAAAAAONgFuLQz9U3SDMwKVPiArEMqwoyMuK15LKTrfRz8pMTSzLz8_STM0sqS_LL86yqMgsUkvNTUh8xrmDiFnj5456w1DymSWtOXmOczsRFQI-QHxeba14JUFiIR4qLC26vlIISF--haEcxUa_5kdu1hDi_2v_senKqv0GwunD-Ka6euTuNRLh49dP1DQ2zzbLTzbMKigVezJ_JqDSH0Shj16Vp59iSBD12___vzhjmIGUkeMd66brSM-_ttYS42D2LfYDOyRE8IHrpvoIgUEyYiyMksSI_Lz-3UvD0rTP2__-_t1dS5EzmtW3wev7OXrBRmGnB8g5bBwk2BQYNBsPL19gfsMVzHdBiCOIGOcDIKCWnxMA8COz2lJwcBKvoACNT074Vh9g4OBgFGIyYOBismDQYq4A0zyJW_uLEPIWs_OLDKxUsTQ0NzQAheWHjdgEAAA&amp;sa=X&amp;ved=2ahUKEwi3g7aOtI_2AhUwSvEDHXcgBo4Q-BZ6BAgNECo\"><div class=\"am3QBf\"><div><span><div class=\"BNeawe deIvCb AP7Wnd\">95116</div></span></div></div></a></div><div class=\"Q0HXG\"></div><div class=\"X7NTVe\"><a class=\"tHmfQe\" href=\"/search?ie=UTF-8&amp;q=san+jos%C3%A9+95117&amp;stick=H4sIAAAAAAAAAONgFuLQz9U3SDMwKVPiArEMqwpyTQu05LKTrfRz8pMTSzLz8_STM0sqS_LL86yqMgsUkvNTUh8xrmDiFnj5456w1DymSWtOXmOczsRFQI-QHxeba14JUFiIR4qLC26vlIISF--haEcxUa_5kdu1hDi_2v_senKqv0GwunD-Ka6euTuNRLh49dP1DQ2zzbLTzbMKigVezJ_JqDSH0Shj16Vp59iSBD12___vzhjmIGUkeMd66brSM-_ttYS42D2LfYDOyRE8IHrpvoIgUEyYiyMksSI_Lz-3UvD0rTP2__-_t1dS5EzmtW3wev7OXrBRmGnB8g5bBwk2BQYNBsPL19gfsMVzHdBiCOIGOcDIKCWnxMA8COz2lJwcBKvoACNT074Vh9g4OBgFGIyYOBismDQYq4A0zyJW_uLEPIWs_OLDKxUsTQ0NzQE2m3WXdgEAAA&amp;sa=X&amp;ved=2ahUKEwi3g7aOtI_2AhUwSvEDHXcgBo4Q-BZ6BAgNECw\"><div class=\"am3QBf\"><div><span><div class=\"BNeawe deIvCb AP7Wnd\">95117</div></span></div></div></a></div><div class=\"Q0HXG\"></div><div class=\"X7NTVe\"><a class=\"tHmfQe\" href=\"/search?ie=UTF-8&amp;q=san+jos%C3%A9+95118&amp;stick=H4sIAAAAAAAAAONgFuLQz9U3SDMwKVPiArEMqwrSy4u15LKTrfRz8pMTSzLz8_STM0sqS_LL86yqMgsUkvNTUh8xrmDiFnj5456w1DymSWtOXmOczsRFQI-QHxeba14JUFiIR4qLC26vlIISF--haEcxUa_5kdu1hDi_2v_senKqv0GwunD-Ka6euTuNRLh49dP1DQ2zzbLTzbMKigVezJ_JqDSH0Shj16Vp59iSBD12___vzhjmIGUkeMd66brSM-_ttYS42D2LfYDOyRE8IHrpvoIgUEyYiyMksSI_Lz-3UvD0rTP2__-_t1dS5EzmtW3wev7OXrBRmGnB8g5bBwk2BQYNBsPL19gfsMVzHdBiCOIGOcDIKCWnxMA8COz2lJwcBKvoACNT074Vh9g4OBgFGIyYOBismDQYq4A0zyJW_uLEPIWs_OLDKxUsTQ0NLQCsRKYhdgEAAA&amp;sa=X&amp;ved=2ahUKEwi3g7aOtI_2AhUwSvEDHXcgBo4Q-BZ6BAgNEC4\"><div class=\"am3QBf\"><div><span><div class=\"BNeawe deIvCb AP7Wnd\">95118</div></span></div></div></a></div><div class=\"Q0HXG\"></div><div class=\"X7NTVe\"><a class=\"tHmfQe\" href=\"/search?ie=UTF-8&amp;q=san+jos%C3%A9+95119&amp;stick=H4sIAAAAAAAAAONgFuLQz9U3SDMwKVPiArGMU_JyklO05LKTrfRz8pMTSzLz8_STM0sqS_LL86yqMgsUkvNTUh8xrmDiFnj5456w1DymSWtOXmOczsRFQI-QHxeba14JUFiIR4qLC26vlIISF--haEcxUa_5kdu1hDi_2v_senKqv0GwunD-Ka6euTuNRLh49dP1DQ2zzbLTzbMKigVezJ_JqDSH0Shj16Vp59iSBD12___vzhjmIGUkeMd66brSM-_ttYS42D2LfYDOyRE8IHrpvoIgUEyYiyMksSI_Lz-3UvD0rTP2__-_t1dS5EzmtW3wev7OXrBRmGnB8g5bBwk2BQYNBsPL19gfsMVzHdBiCOIGOcDIKCWnxMA8COz2lJwcBKvoACNT074Vh9g4OBgFGIyYOBismDQYq4A0zyJW_uLEPIWs_OLDKxUsTQ0NLQHBVSG8dgEAAA&amp;sa=X&amp;ved=2ahUKEwi3g7aOtI_2AhUwSvEDHXcgBo4Q-BZ6BAgNEDA\"><div class=\"am3QBf\"><div><span><div class=\"BNeawe deIvCb AP7Wnd\">95119</div></span></div></div></a></div><div class=\"Q0HXG\"></div><div class=\"X7NTVe\"><a class=\"tHmfQe\" href=\"/search?ie=UTF-8&amp;q=san+jos%C3%A9+95120&amp;stick=H4sIAAAAAAAAAONgFuLQz9U3SDMwKVPiArEMqwqyqyy05LKTrfRz8pMTSzLz8_STM0sqS_LL86yqMgsUkvNTUh8xrmDiFnj5456w1DymSWtOXmOczsRFQI-QHxeba14JUFiIR4qLC26vlIISF--haEcxUa_5kdu1hDi_2v_senKqv0GwunD-Ka6euTuNRLh49dP1DQ2zzbLTzbMKigVezJ_JqDSH0Shj16Vp59iSBD12___vzhjmIGUkeMd66brSM-_ttYS42D2LfYDOyRE8IHrpvoIgUEyYiyMksSI_Lz-3UvD0rTP2__-_t1dS5EzmtW3wev7OXrBRmGnB8g5bBwk2BQYNBsPL19gfsMVzHdBiCOIGOcDIKCWnxMA8COz2lJwcBKvoACNT074Vh9g4OBgFGIyYOBismDQYq4A0zyJW_uLEPIWs_OLDKxUsTQ2NDADWxMNTdgEAAA&amp;sa=X&amp;ved=2ahUKEwi3g7aOtI_2AhUwSvEDHXcgBo4Q-BZ6BAgNEDI\"><div class=\"am3QBf\"><div><span><div class=\"BNeawe deIvCb AP7Wnd\">95120</div></span></div></div></a></div><div class=\"Q0HXG\"></div><div class=\"X7NTVe\"><a class=\"tHmfQe\" href=\"/search?ie=UTF-8&amp;q=san+jos%C3%A9+95121&amp;stick=H4sIAAAAAAAAAONgFuLQz9U3SDMwKVPiArEMqwoyygq05LKTrfRz8pMTSzLz8_STM0sqS_LL86yqMgsUkvNTUh8xrmDiFnj5456w1DymSWtOXmOczsRFQI-QHxeba14JUFiIR4qLC26vlIISF--haEcxUa_5kdu1hDi_2v_senKqv0GwunD-Ka6euTuNRLh49dP1DQ2zzbLTzbMKigVezJ_JqDSH0Shj16Vp59iSBD12___vzhjmIGUkeMd66brSM-_ttYS42D2LfYDOyRE8IHrpvoIgUEyYiyMksSI_Lz-3UvD0rTP2__-_t1dS5EzmtW3wev7OXrBRmGnB8g5bBwk2BQYNBsPL19gfsMVzHdBiCOIGOcDIKCWnxMA8COz2lJwcBKvoACNT074Vh9g4OBgFGIyYOBismDQYq4A0zyJW_uLEPIWs_OLDKxUsTQ2NDAHfwdA3dgEAAA&amp;sa=X&amp;ved=2ahUKEwi3g7aOtI_2AhUwSvEDHXcgBo4Q-BZ6BAgNEDQ\"><div class=\"am3QBf\"><div><span><div class=\"BNeawe deIvCb AP7Wnd\">95121</div></span></div></div></a></div><div class=\"Q0HXG\"></div><div class=\"X7NTVe\"><a class=\"tHmfQe\" href=\"/search?ie=UTF-8&amp;q=san+jos%C3%A9+95122&amp;stick=H4sIAAAAAAAAAONgFuLQz9U3SDMwKVPiArEMqwqyqnK05LKTrfRz8pMTSzLz8_STM0sqS_LL86yqMgsUkvNTUh8xrmDiFnj5456w1DymSWtOXmOczsRFQI-QHxeba14JUFiIR4qLC26vlIISF--haEcxUa_5kdu1hDi_2v_senKqv0GwunD-Ka6euTuNRLh49dP1DQ2zzbLTzbMKigVezJ_JqDSH0Shj16Vp59iSBD12___vzhjmIGUkeMd66brSM-_ttYS42D2LfYDOyRE8IHrpvoIgUEyYiyMksSI_Lz-3UvD0rTP2__-_t1dS5EzmtW3wev7OXrBRmGnB8g5bBwk2BQYNBsPL19gfsMVzHdBiCOIGOcDIKCWnxMA8COz2lJwcBKvoACNT074Vh9g4OBgFGIyYOBismDQYq4A0zyJW_uLEPIWs_OLDKxUsTYGGAAC-fb0ddgEAAA&amp;sa=X&amp;ved=2ahUKEwi3g7aOtI_2AhUwSvEDHXcgBo4Q-BZ6BAgNEDY\"><div class=\"am3QBf\"><div><span><div class=\"BNeawe deIvCb AP7Wnd\">95122</div></span></div></div></a></div><div class=\"Q0HXG\"></div><div class=\"X7NTVe\"><a class=\"tHmfQe\" href=\"/search?ie=UTF-8&amp;q=san+jos%C3%A9+95123&amp;stick=H4sIAAAAAAAAAONgFuLQz9U3SDMwKVPiArEMqwrSC3O05LKTrfRz8pMTSzLz8_STM0sqS_LL86yqMgsUkvNTUh8xrmDiFnj5456w1DymSWtOXmOczsRFQI-QHxeba14JUFiIR4qLC26vlIISF--haEcxUa_5kdu1hDi_2v_senKqv0GwunD-Ka6euTuNRLh49dP1DQ2zzbLTzbMKigVezJ_JqDSH0Shj16Vp59iSBD12___vzhjmIGUkeMd66brSM-_ttYS42D2LfYDOyRE8IHrpvoIgUEyYiyMksSI_Lz-3UvD0rTP2__-_t1dS5EzmtW3wev7OXrBRmGnB8g5bBwk2BQYNBsPL19gfsMVzHdBiCOIGOcDIKCWnxMA8COz2lJwcBKvoACNT074Vh9g4OBgFGIyYOBismDQYq4A0zyJW_uLEPIWs_OLDKxUsTQ2NjAHNMhardgEAAA&amp;sa=X&amp;ved=2ahUKEwi3g7aOtI_2AhUwSvEDHXcgBo4Q-BZ6BAgNEDg\"><div class=\"am3QBf\"><div><span><div class=\"BNeawe deIvCb AP7Wnd\">95123</div></span></div></div></a></div><div class=\"Q0HXG\"></div><div class=\"X7NTVe\"><a class=\"tHmfQe\" href=\"/search?ie=UTF-8&amp;q=san+jos%C3%A9+95124&amp;stick=H4sIAAAAAAAAAONgFuLQz9U3SDMwKVPiArEMqwrSLS205LKTrfRz8pMTSzLz8_STM0sqS_LL86yqMgsUkvNTUh8xrmDiFnj5456w1DymSWtOXmOczsRFQI-QHxeba14JUFiIR4qLC26vlIISF--haEcxUa_5kdu1hDi_2v_senKqv0GwunD-Ka6euTuNRLh49dP1DQ2zzbLTzbMKigVezJ_JqDSH0Shj16Vp59iSBD12___vzhjmIGUkeMd66brSM-_ttYS42D2LfYDOyRE8IHrpvoIgUEyYiyMksSI_Lz-3UvD0rTP2__-_t1dS5EzmtW3wev7OXrBRmGnB8g5bBwk2BQYNBsPL19gfsMVzHdBiCOIGOcDIKCWnxMA8COz2lJwcBKvoACNT074Vh9g4OBgFGIyYOBismDQYq4A0zyJW_uLEPIWs_OLDKxUsTQ2NTABIQMcadgEAAA&amp;sa=X&amp;ved=2ahUKEwi3g7aOtI_2AhUwSvEDHXcgBo4Q-BZ6BAgNEDo\"><div class=\"am3QBf\"><div><span><div class=\"BNeawe deIvCb AP7Wnd\">95124</div></span></div></div></a></div><div class=\"Q0HXG\"></div><div class=\"X7NTVe\"><a class=\"tHmfQe\" href=\"/search?ie=UTF-8&amp;q=san+jos%C3%A9+95125&amp;stick=H4sIAAAAAAAAAONgFuLQz9U3SDMwKVPiArEMqwrSzUy05LKTrfRz8pMTSzLz8_STM0sqS_LL86yqMgsUkvNTUh8xrmDiFnj5456w1DymSWtOXmOczsRFQI-QHxeba14JUFiIR4qLC26vlIISF--haEcxUa_5kdu1hDi_2v_senKqv0GwunD-Ka6euTuNRLh49dP1DQ2zzbLTzbMKigVezJ_JqDSH0Shj16Vp59iSBD12___vzhjmIGUkeMd66brSM-_ttYS42D2LfYDOyRE8IHrpvoIgUEyYiyMksSI_Lz-3UvD0rTP2__-_t1dS5EzmtW3wev7OXrBRmGnB8g5bBwk2BQYNBsPL19gfsMVzHdBiCOIGOcDIKCWnxMA8COz2lJwcBKvoACNT074Vh9g4OBgFGIyYOBismDQYq4A0zyJW_uLEPIWs_OLDKxUsTQ2NTAHNg18jdgEAAA&amp;sa=X&amp;ved=2ahUKEwi3g7aOtI_2AhUwSvEDHXcgBo4Q-BZ6BAgNEDw\"><div class=\"am3QBf\"><div><span><div class=\"BNeawe deIvCb AP7Wnd\">95125</div></span></div></div></a></div><div class=\"Q0HXG\"></div><div class=\"X7NTVe\"><a class=\"tHmfQe\" href=\"/search?ie=UTF-8&amp;q=san+jos%C3%A9+95126&amp;stick=H4sIAAAAAAAAAONgFuLQz9U3SDMwKVPiArEMqwrS0wy15LKTrfRz8pMTSzLz8_STM0sqS_LL86yqMgsUkvNTUh8xrmDiFnj5456w1DymSWtOXmOczsRFQI-QHxeba14JUFiIR4qLC26vlIISF--haEcxUa_5kdu1hDi_2v_senKqv0GwunD-Ka6euTuNRLh49dP1DQ2zzbLTzbMKigVezJ_JqDSH0Shj16Vp59iSBD12___vzhjmIGUkeMd66brSM-_ttYS42D2LfYDOyRE8IHrpvoIgUEyYiyMksSI_Lz-3UvD0rTP2__-_t1dS5EzmtW3wev7OXrBRmGnB8g5bBwk2BQYNBsPL19gfsMVzHdBiCOIGOcDIKCWnxMA8COz2lJwcBKvoACNT074Vh9g4OBgFGIyYOBismDQYq4A0zyJW_uLEPIWs_OLDKxUsTQ2NzAB54gQ_dgEAAA&amp;sa=X&amp;ved=2ahUKEwi3g7aOtI_2AhUwSvEDHXcgBo4Q-BZ6BAgNED4\"><div class=\"am3QBf\"><div><span><div class=\"BNeawe deIvCb AP7Wnd\">95126</div></span></div></div></a></div><div class=\"Q0HXG\"></div><div class=\"X7NTVe\"><a class=\"tHmfQe\" href=\"/search?ie=UTF-8&amp;q=san+jos%C3%A9+95127&amp;stick=H4sIAAAAAAAAAONgFuLQz9U3SDMwKVPiArEMqwoyqiy05LKTrfRz8pMTSzLz8_STM0sqS_LL86yqMgsUkvNTUh8xrmDiFnj5456w1DymSWtOXmOczsRFQI-QHxeba14JUFiIR4qLC26vlIISF--haEcxUa_5kdu1hDi_2v_senKqv0GwunD-Ka6euTuNRLh49dP1DQ2zzbLTzbMKigVezJ_JqDSH0Shj16Vp59iSBD12___vzhjmIGUkeMd66brSM-_ttYS42D2LfYDOyRE8IHrpvoIgUEyYiyMksSI_Lz-3UvD0rTP2__-_t1dS5EzmtW3wev7OXrBRmGnB8g5bBwk2BQYNBsPL19gfsMVzHdBiCOIGOcDIKCWnxMA8COz2lJwcBKvoACNT074Vh9g4OBgFGIyYOBismDQYq4A0zyJW_uLEPIWs_OLDKxUsTQ2NzAGGqeyHdgEAAA&amp;sa=X&amp;ved=2ahUKEwi3g7aOtI_2AhUwSvEDHXcgBo4Q-BZ6BAgNEEA\"><div class=\"am3QBf\"><div><span><div class=\"BNeawe deIvCb AP7Wnd\">95127</div></span></div></div></a></div><div class=\"Q0HXG\"></div><div class=\"X7NTVe\"><a class=\"tHmfQe\" href=\"/search?ie=UTF-8&amp;q=san+jos%C3%A9+95128&amp;stick=H4sIAAAAAAAAAONgFuLQz9U3SDMwKVPiArEMqwrScyu15LKTrfRz8pMTSzLz8_STM0sqS_LL86yqMgsUkvNTUh8xrmDiFnj5456w1DymSWtOXmOczsRFQI-QHxeba14JUFiIR4qLC26vlIISF--haEcxUa_5kdu1hDi_2v_senKqv0GwunD-Ka6euTuNRLh49dP1DQ2zzbLTzbMKigVezJ_JqDSH0Shj16Vp59iSBD12___vzhjmIGUkeMd66brSM-_ttYS42D2LfYDOyRE8IHrpvoIgUEyYiyMksSI_Lz-3UvD0rTP2__-_t1dS5EzmtW3wev7OXrBRmGnB8g5bBwk2BQYNBsPL19gfsMVzHdBiCOIGOcDIKCWnxMA8COz2lJwcBKvoACNT074Vh9g4OBgFGIyYOBismDQYq4A0zyJW_uLEPIWs_OLDKxUsTQ2NLAB48zK3dgEAAA&amp;sa=X&amp;ved=2ahUKEwi3g7aOtI_2AhUwSvEDHXcgBo4Q-BZ6BAgNEEI\"><div class=\"am3QBf\"><div><span><div class=\"BNeawe deIvCb AP7Wnd\">95128</div></span></div></div></a></div><div class=\"Q0HXG\"></div><div class=\"X7NTVe\"><a class=\"tHmfQe\" href=\"/search?ie=UTF-8&amp;q=san+jos%C3%A9+95129&amp;stick=H4sIAAAAAAAAAONgFuLQz9U3SDMwKVPiArEMq5KTiw205LKTrfRz8pMTSzLz8_STM0sqS_LL86yqMgsUkvNTUh8xrmDiFnj5456w1DymSWtOXmOczsRFQI-QHxeba14JUFiIR4qLC26vlIISF--haEcxUa_5kdu1hDi_2v_senKqv0GwunD-Ka6euTuNRLh49dP1DQ2zzbLTzbMKigVezJ_JqDSH0Shj16Vp59iSBD12___vzhjmIGUkeMd66brSM-_ttYS42D2LfYDOyRE8IHrpvoIgUEyYiyMksSI_Lz-3UvD0rTP2__-_t1dS5EzmtW3wev7OXrBRmGnB8g5bBwk2BQYNBsPL19gfsMVzHdBiCOIGOcDIKCWnxMA8COz2lJwcBKvoACNT074Vh9g4OBgFGIyYOBismDQYq4A0zyJW_uLEPIWs_OLDKxUsTQ2NLAG9R-lTdgEAAA&amp;sa=X&amp;ved=2ahUKEwi3g7aOtI_2AhUwSvEDHXcgBo4Q-BZ6BAgNEEQ\"><div class=\"am3QBf\"><div><span><div class=\"BNeawe deIvCb AP7Wnd\">95129</div></span></div></div></a></div><div class=\"Q0HXG\"></div><div class=\"X7NTVe\"><a class=\"tHmfQe\" href=\"/search?ie=UTF-8&amp;q=san+jos%C3%A9+95130&amp;stick=H4sIAAAAAAAAAONgFuLQz9U3SDMwKVPiArEMqwoy0pO15LKTrfRz8pMTSzLz8_STM0sqS_LL86yqMgsUkvNTUh8xrmDiFnj5456w1DymSWtOXmOczsRFQI-QHxeba14JUFiIR4qLC26vlIISF--haEcxUa_5kdu1hDi_2v_senKqv0GwunD-Ka6euTuNRLh49dP1DQ2zzbLTzbMKigVezJ_JqDSH0Shj16Vp59iSBD12___vzhjmIGUkeMd66brSM-_ttYS42D2LfYDOyRE8IHrpvoIgUEyYiyMksSI_Lz-3UvD0rTP2__-_t1dS5EzmtW3wev7OXrBRmGnB8g5bBwk2BQYNBsPL19gfsMVzHdBiCOIGOcDIKCWnxMA8COz2lJwcBKvoACNT074Vh9g4OBgFGIyYOBismDQYq4A0zyJW_uLEPIWs_OLDKxUsTQ2NDQCXSddYdgEAAA&amp;sa=X&amp;ved=2ahUKEwi3g7aOtI_2AhUwSvEDHXcgBo4Q-BZ6BAgNEEY\"><div class=\"am3QBf\"><div><span><div class=\"BNeawe deIvCb AP7Wnd\">95130</div></span></div></div></a></div><div class=\"Q0HXG\"></div><div class=\"X7NTVe\"><a class=\"tHmfQe\" href=\"/search?ie=UTF-8&amp;q=san+jos%C3%A9+95131&amp;stick=H4sIAAAAAAAAAONgFuLQz9U3SDMwKVPiArEMqwqyKrK05LKTrfRz8pMTSzLz8_STM0sqS_LL86yqMgsUkvNTUh8xrmDiFnj5456w1DymSWtOXmOczsRFQI-QHxeba14JUFiIR4qLC26vlIISF--haEcxUa_5kdu1hDi_2v_senKqv0GwunD-Ka6euTuNRLh49dP1DQ2zzbLTzbMKigVezJ_JqDSH0Shj16Vp59iSBD12___vzhjmIGUkeMd66brSM-_ttYS42D2LfYDOyRE8IHrpvoIgUEyYiyMksSI_Lz-3UvD0rTP2__-_t1dS5EzmtW3wev7OXrBRmGnB8g5bBwk2BQYNBsPL19gfsMVzHdBiCOIGOcDIKCWnxMA8COz2lJwcBKvoACNT074Vh9g4OBgFGIyYOBismDQYq4A0zyJW_uLEPIWs_OLDKxUsTQ2NDQHQ_fq_dgEAAA&amp;sa=X&amp;ved=2ahUKEwi3g7aOtI_2AhUwSvEDHXcgBo4Q-BZ6BAgNEEg\"><div class=\"am3QBf\"><div><span><div class=\"BNeawe deIvCb AP7Wnd\">95131</div></span></div></div></a></div><div class=\"Q0HXG\"></div><div class=\"X7NTVe\"><a class=\"tHmfQe\" href=\"/search?ie=UTF-8&amp;q=san+jos%C3%A9+95132&amp;stick=H4sIAAAAAAAAAONgFuLQz9U3SDMwKVPiArEMqwqyMrK15LKTrfRz8pMTSzLz8_STM0sqS_LL86yqMgsUkvNTUh8xrmDiFnj5456w1DymSWtOXmOczsRFQI-QHxeba14JUFiIR4qLC26vlIISF--haEcxUa_5kdu1hDi_2v_senKqv0GwunD-Ka6euTuNRLh49dP1DQ2zzbLTzbMKigVezJ_JqDSH0Shj16Vp59iSBD12___vzhjmIGUkeMd66brSM-_ttYS42D2LfYDOyRE8IHrpvoIgUEyYiyMksSI_Lz-3UvD0rTP2__-_t1dS5EzmtW3wev7OXrBRmGnB8g5bBwk2BQYNBsPL19gfsMVzHdBiCOIGOcDIKCWnxMA8COz2lJwcBKvoACNT074Vh9g4OBgFGIyYOBismDQYq4A0zyJW_uLEPIWs_OLDKxUsTQ2NjQAp9_lgdgEAAA&amp;sa=X&amp;ved=2ahUKEwi3g7aOtI_2AhUwSvEDHXcgBo4Q-BZ6BAgNEEo\"><div class=\"am3QBf\"><div><span><div class=\"BNeawe deIvCb AP7Wnd\">95132</div></span></div></div></a></div><div class=\"Q0HXG\"></div><div class=\"X7NTVe\"><a class=\"tHmfQe\" href=\"/search?ie=UTF-8&amp;q=san+jos%C3%A9+95133&amp;stick=H4sIAAAAAAAAAONgFuLQz9U3SDMwKVPiArEMqwoyCnK15LKTrfRz8pMTSzLz8_STM0sqS_LL86yqMgsUkvNTUh8xrmDiFnj5456w1DymSWtOXmOczsRFQI-QHxeba14JUFiIR4qLC26vlIISF--haEcxUa_5kdu1hDi_2v_senKqv0GwunD-Ka6euTuNRLh49dP1DQ2zzbLTzbMKigVezJ_JqDSH0Shj16Vp59iSBD12___vzhjmIGUkeMd66brSM-_ttYS42D2LfYDOyRE8IHrpvoIgUEyYiyMksSI_Lz-3UvD0rTP2__-_t1dS5EzmtW3wev7OXrBRmGnB8g5bBwk2BQYNBsPL19gfsMVzHdBiCOIGOcDIKCWnxMA8COz2lJwcBKvoACNT074Vh9g4OBgFGIyYOBismDQYq4A0zyJW_uLEPIWs_OLDKxUsTQ2NjQGp0KtudgEAAA&amp;sa=X&amp;ved=2ahUKEwi3g7aOtI_2AhUwSvEDHXcgBo4Q-BZ6BAgNEEw\"><div class=\"am3QBf\"><div><span><div class=\"BNeawe deIvCb AP7Wnd\">95133</div></span></div></div></a></div><div class=\"Q0HXG\"></div><div class=\"X7NTVe\"><a class=\"tHmfQe\" href=\"/search?ie=UTF-8&amp;q=san+jos%C3%A9+95134&amp;stick=H4sIAAAAAAAAAONgFuLQz9U3SDMwKVPiArEMqwqyzVK05LKTrfRz8pMTSzLz8_STM0sqS_LL86yqMgsUkvNTUh8xrmDiFnj5456w1DymSWtOXmOczsRFQI-QHxeba14JUFiIR4qLC26vlIISF--haEcxUa_5kdu1hDi_2v_senKqv0GwunD-Ka6euTuNRLh49dP1DQ2zzbLTzbMKigVezJ_JqDSH0Shj16Vp59iSBD12___vzhjmIGUkeMd66brSM-_ttYS42D2LfYDOyRE8IHrpvoIgUEyYiyMksSI_Lz-3UvD0rTP2__-_t1dS5EzmtW3wev7OXrBRmGnB8g5bBwk2BQYNBsPL19gfsMVzHdBiCOIGOcDIKCWnxMA8COz2lJwcBKvoACNT074Vh9g4OBgFGIyYOBismDQYq4A0zyJW_uLEPIWs_OLDKxUsTQ2NTQCha5nNdgEAAA&amp;sa=X&amp;ved=2ahUKEwi3g7aOtI_2AhUwSvEDHXcgBo4Q-BZ6BAgNEE4\"><div class=\"am3QBf\"><div><span><div class=\"BNeawe deIvCb AP7Wnd\">95134</div></span></div></div></a></div><div class=\"Q0HXG\"></div><div class=\"X7NTVe\"><a class=\"tHmfQe\" href=\"/search?ie=UTF-8&amp;q=san+jos%C3%A9+95135&amp;stick=H4sIAAAAAAAAAONgFuLQz9U3SDMwKVPiArGMU_Jy0nO15LKTrfRz8pMTSzLz8_STM0sqS_LL86yqMgsUkvNTUh8xrmDiFnj5456w1DymSWtOXmOczsRFQI-QHxeba14JUFiIR4qLC26vlIISF--haEcxUa_5kdu1hDi_2v_senKqv0GwunD-Ka6euTuNRLh49dP1DQ2zzbLTzbMKigVezJ_JqDSH0Shj16Vp59iSBD12___vzhjmIGUkeMd66brSM-_ttYS42D2LfYDOyRE8IHrpvoIgUEyYiyMksSI_Lz-3UvD0rTP2__-_t1dS5EzmtW3wev7OXrBRmGnB8g5bBwk2BQYNBsPL19gfsMVzHdBiCOIGOcDIKCWnxMA8COz2lJwcBKvoACNT074Vh9g4OBgFGIyYOBismDQYq4A0zyJW_uLEPIWs_OLDKxUsTQ2NTQHZm5CJdgEAAA&amp;sa=X&amp;ved=2ahUKEwi3g7aOtI_2AhUwSvEDHXcgBo4Q-BZ6BAgNEFA\"><div class=\"am3QBf\"><div><span><div class=\"BNeawe deIvCb AP7Wnd\">95135</div></span></div></div></a></div><div class=\"Q0HXG\"></div><div class=\"X7NTVe\"><a class=\"tHmfQe\" href=\"/search?ie=UTF-8&amp;q=san+jos%C3%A9+95136&amp;stick=H4sIAAAAAAAAAONgFuLQz9U3SDMwKVPiArEMqwpycsq15LKTrfRz8pMTSzLz8_STM0sqS_LL86yqMgsUkvNTUh8xrmDiFnj5456w1DymSWtOXmOczsRFQI-QHxeba14JUFiIR4qLC26vlIISF--haEcxUa_5kdu1hDi_2v_senKqv0GwunD-Ka6euTuNRLh49dP1DQ2zzbLTzbMKigVezJ_JqDSH0Shj16Vp59iSBD12___vzhjmIGUkeMd66brSM-_ttYS42D2LfYDOyRE8IHrpvoIgUEyYiyMksSI_Lz-3UvD0rTP2__-_t1dS5EzmtW3wev7OXrBRmGnB8g5bBwk2BQYNBsPL19gfsMVzHdBiCOIGOcDIKCWnxMA8COz2lJwcBKvoACNT074Vh9g4OBgFGIyYOBismDQYq4A0zyJW_uLEPIWs_OLDKxUsTQ2NzQDy_4OtdgEAAA&amp;sa=X&amp;ved=2ahUKEwi3g7aOtI_2AhUwSvEDHXcgBo4Q-BZ6BAgNEFI\"><div class=\"am3QBf\"><div><span><div class=\"BNeawe deIvCb AP7Wnd\">95136</div></span></div></div></a></div><div class=\"Q0HXG\"></div><div class=\"X7NTVe\"><a class=\"tHmfQe\" href=\"/search?ie=UTF-8&amp;q=san+jos%C3%A9+95138&amp;stick=H4sIAAAAAAAAAONgFuLQz9U3SDMwKVPiArEMqwpysyq15LKTrfRz8pMTSzLz8_STM0sqS_LL86yqMgsUkvNTUh8xrmDiFnj5456w1DymSWtOXmOczsRFQI-QHxeba14JUFiIR4qLC26vlIISF--haEcxUa_5kdu1hDi_2v_senKqv0GwunD-Ka6euTuNRLh49dP1DQ2zzbLTzbMKigVezJ_JqDSH0Shj16Vp59iSBD12___vzhjmIGUkeMd66brSM-_ttYS42D2LfYDOyRE8IHrpvoIgUEyYiyMksSI_Lz-3UvD0rTP2__-_t1dS5EzmtW3wev7OXrBRmGnB8g5bBwk2BQYNBsPL19gfsMVzHdBiCOIGOcDIKCWnxMA8COz2lJwcBKvoACNT074Vh9g4OBgFGIyYOBismDQYq4A0zyJW_uLEPIWs_OLDKxUsTQ2NLQA4JzH-dgEAAA&amp;sa=X&amp;ved=2ahUKEwi3g7aOtI_2AhUwSvEDHXcgBo4Q-BZ6BAgNEFQ\"><div class=\"am3QBf\"><div><span><div class=\"BNeawe deIvCb AP7Wnd\">95138</div></span></div></div></a></div><div class=\"Q0HXG\"></div><div class=\"X7NTVe\"><a class=\"tHmfQe\" href=\"/search?ie=UTF-8&amp;q=san+jos%C3%A9+95139&amp;stick=H4sIAAAAAAAAAONgFuLQz9U3SDMwKVPiArGMU_JyMlK05LKTrfRz8pMTSzLz8_STM0sqS_LL86yqMgsUkvNTUh8xrmDiFnj5456w1DymSWtOXmOczsRFQI-QHxeba14JUFiIR4qLC26vlIISF--haEcxUa_5kdu1hDi_2v_senKqv0GwunD-Ka6euTuNRLh49dP1DQ2zzbLTzbMKigVezJ_JqDSH0Shj16Vp59iSBD12___vzhjmIGUkeMd66brSM-_ttYS42D2LfYDOyRE8IHrpvoIgUEyYiyMksSI_Lz-3UvD0rTP2__-_t1dS5EzmtW3wev7OXrBRmGnB8g5bBwk2BQYNBsPL19gfsMVzHdBiCOIGOcDIKCWnxMA8COz2lJwcBKvoACNT074Vh9g4OBgFGIyYOBismDQYq4A0zyJW_uLEPIWs_OLDKxUsTQ2NLQF6BSOEdgEAAA&amp;sa=X&amp;ved=2ahUKEwi3g7aOtI_2AhUwSvEDHXcgBo4Q-BZ6BAgNEFY\"><div class=\"am3QBf\"><div><span><div class=\"BNeawe deIvCb AP7Wnd\">95139</div></span></div></div></a></div><div class=\"Q0HXG\"></div><div class=\"X7NTVe\"><a class=\"tHmfQe\" href=\"/search?ie=UTF-8&amp;q=san+jos%C3%A9+95141&amp;stick=H4sIAAAAAAAAAONgFuLQz9U3SDMwKVPiArFMyspTCrO05LKTrfRz8pMTSzLz8_STM0sqS_LL86yqMgsUkvNTUh8xrmDiFnj5456w1DymSWtOXmOczsRFQI-QHxeba14JUFiIR4qLC26vlIISF--haEcxUa_5kdu1hDi_2v_senKqv0GwunD-Ka6euTuNRLh49dP1DQ2zzbLTzbMKigVezJ_JqDSH0Shj16Vp59iSBD12___vzhjmIGUkeMd66brSM-_ttYS42D2LfYDOyRE8IHrpvoIgUEyYiyMksSI_Lz-3UvD0rTP2__-_t1dS5EzmtW3wev7OXrBRmGnB8g5bBwk2BQYNBsPL19gfsMVzHdBiCOIGOcDIKCWnxMA8COz2lJwcBKvoACNT074Vh9g4OBgFGIyYOBismDQYq4A0zyJW_uLEPIWs_OLDKxUsTQ1NDAGs_LVldgEAAA&amp;sa=X&amp;ved=2ahUKEwi3g7aOtI_2AhUwSvEDHXcgBo4Q-BZ6BAgNEFg\"><div class=\"am3QBf\"><div><span><div class=\"BNeawe deIvCb AP7Wnd\">95141</div></span></div></div></a></div><div class=\"Q0HXG\"></div><div class=\"X7NTVe\"><a class=\"tHmfQe\" href=\"/search?ie=UTF-8&amp;q=san+jos%C3%A9+95148&amp;stick=H4sIAAAAAAAAAONgFuLQz9U3SDMwKVPiArGMU_JyMuK15LKTrfRz8pMTSzLz8_STM0sqS_LL86yqMgsUkvNTUh8xrmDiFnj5456w1DymSWtOXmOczsRFQI-QHxeba14JUFiIR4qLC26vlIISF--haEcxUa_5kdu1hDi_2v_senKqv0GwunD-Ka6euTuNRLh49dP1DQ2zzbLTzbMKigVezJ_JqDSH0Shj16Vp59iSBD12___vzhjmIGUkeMd66brSM-_ttYS42D2LfYDOyRE8IHrpvoIgUEyYiyMksSI_Lz-3UvD0rTP2__-_t1dS5EzmtW3wev7OXrBRmGnB8g5bBwk2BQYNBsPL19gfsMVzHdBiCOIGOcDIKCWnxMA8COz2lJwcBKvoACNT074Vh9g4OBgFGIyYOBismDQYq4A0zyJW_uLEPIWs_OLDKxUsTQ1NLAC3uYWmdgEAAA&amp;sa=X&amp;ved=2ahUKEwi3g7aOtI_2AhUwSvEDHXcgBo4Q-BZ6BAgNEFo\"><div class=\"am3QBf\"><div><span><div class=\"BNeawe deIvCb AP7Wnd\">95148</div></span></div></div></a></div><div class=\"Q0HXG\"></div><div class=\"X7NTVe\"><a class=\"tHmfQe\" href=\"/search?ie=UTF-8&amp;q=san+jos%C3%A9+95150&amp;stick=H4sIAAAAAAAAAONgFuLQz9U3SDMwKVPiArHM8wriTZK15LKTrfRz8pMTSzLz8_STM0sqS_LL86yqMgsUkvNTUh8xrmDiFnj5456w1DymSWtOXmOczsRFQI-QHxeba14JUFiIR4qLC26vlIISF--haEcxUa_5kdu1hDi_2v_senKqv0GwunD-Ka6euTuNRLh49dP1DQ2zzbLTzbMKigVezJ_JqDSH0Shj16Vp59iSBD12___vzhjmIGUkeMd66brSM-_ttYS42D2LfYDOyRE8IHrpvoIgUEyYiyMksSI_Lz-3UvD0rTP2__-_t1dS5EzmtW3wev7OXrBRmGnB8g5bBwk2BQYNBsPL19gfsMVzHdBiCOIGOcDIKCWnxMA8COz2lJwcBKvoACNT074Vh9g4OBgFGIyYOBismDQYq4A0zyJW_uLEPIWs_OLDKxUsTQ1NDQCN86SrdgEAAA&amp;sa=X&amp;ved=2ahUKEwi3g7aOtI_2AhUwSvEDHXcgBo4Q-BZ6BAgNEFw\"><div class=\"am3QBf\"><div><span><div class=\"BNeawe deIvCb AP7Wnd\">95150</div></span></div></div></a></div><div class=\"Q0HXG\"></div><div class=\"X7NTVe\"><a class=\"tHmfQe\" href=\"/search?ie=UTF-8&amp;q=san+jos%C3%A9+95151&amp;stick=H4sIAAAAAAAAAONgFuLQz9U3SDMwKVPiArHM8wriTUy05LKTrfRz8pMTSzLz8_STM0sqS_LL86yqMgsUkvNTUh8xrmDiFnj5456w1DymSWtOXmOczsRFQI-QHxeba14JUFiIR4qLC26vlIISF--haEcxUa_5kdu1hDi_2v_senKqv0GwunD-Ka6euTuNRLh49dP1DQ2zzbLTzbMKigVezJ_JqDSH0Shj16Vp59iSBD12___vzhjmIGUkeMd66brSM-_ttYS42D2LfYDOyRE8IHrpvoIgUEyYiyMksSI_Lz-3UvD0rTP2__-_t1dS5EzmtW3wev7OXrBRmGnB8g5bBwk2BQYNBsPL19gfsMVzHdBiCOIGOcDIKCWnxMA8COz2lJwcBKvoACNT074Vh9g4OBgFGIyYOBismDQYq4A0zyJW_uLEPIWs_OLDKxUsTQ1NDQGHU5x8dgEAAA&amp;sa=X&amp;ved=2ahUKEwi3g7aOtI_2AhUwSvEDHXcgBo4Q-BZ6BAgNEF4\"><div class=\"am3QBf\"><div><span><div class=\"BNeawe deIvCb AP7Wnd\">95151</div></span></div></div></a></div><div class=\"Q0HXG\"></div><div class=\"X7NTVe\"><a class=\"tHmfQe\" href=\"/search?ie=UTF-8&amp;q=san+jos%C3%A9+95152&amp;stick=H4sIAAAAAAAAAONgFuLQz9U3SDMwKVPiArHM8wrijSu15LKTrfRz8pMTSzLz8_STM0sqS_LL86yqMgsUkvNTUh8xrmDiFnj5456w1DymSWtOXmOczsRFQI-QHxeba14JUFiIR4qLC26vlIISF--haEcxUa_5kdu1hDi_2v_senKqv0GwunD-Ka6euTuNRLh49dP1DQ2zzbLTzbMKigVezJ_JqDSH0Shj16Vp59iSBD12___vzhjmIGUkeMd66brSM-_ttYS42D2LfYDOyRE8IHrpvoIgUEyYiyMksSI_Lz-3UvD0rTP2__-_t1dS5EzmtW3wev7OXrBRmGnB8g5bBwk2BQYNBsPL19gfsMVzHdBiCOIGOcDIKCWnxMA8COz2lJwcBKvoACNT074Vh9g4OBgFGIyYOBismDQYq4A0zyJW_uLEPIWs_OLDKxUsTQ1NjQDz3GT8dgEAAA&amp;sa=X&amp;ved=2ahUKEwi3g7aOtI_2AhUwSvEDHXcgBo4Q-BZ6BAgNEGA\"><div class=\"am3QBf\"><div><span><div class=\"BNeawe deIvCb AP7Wnd\">95152</div></span></div></div></a></div><div class=\"Q0HXG\"></div><div class=\"X7NTVe\"><a class=\"tHmfQe\" href=\"/search?ie=UTF-8&amp;q=san+jos%C3%A9+95153&amp;stick=H4sIAAAAAAAAAONgFuLQz9U3SDMwKVPiArHM8wrijQu15LKTrfRz8pMTSzLz8_STM0sqS_LL86yqMgsUkvNTUh8xrmDiFnj5456w1DymSWtOXmOczsRFQI-QHxeba14JUFiIR4qLC26vlIISF--haEcxUa_5kdu1hDi_2v_senKqv0GwunD-Ka6euTuNRLh49dP1DQ2zzbLTzbMKigVezJ_JqDSH0Shj16Vp59iSBD12___vzhjmIGUkeMd66brSM-_ttYS42D2LfYDOyRE8IHrpvoIgUEyYiyMksSI_Lz-3UvD0rTP2__-_t1dS5EzmtW3wev7OXrBRmGnB8g5bBwk2BQYNBsPL19gfsMVzHdBiCOIGOcDIKCWnxMA8COz2lJwcBKvoACNT074Vh9g4OBgFGIyYOBismDQYq4A0zyJW_uLEPIWs_OLDKxUsTQ1NjQFiEnaGdgEAAA&amp;sa=X&amp;ved=2ahUKEwi3g7aOtI_2AhUwSvEDHXcgBo4Q-BZ6BAgNEGI\"><div class=\"am3QBf\"><div><span><div class=\"BNeawe deIvCb AP7Wnd\">95153</div></span></div></div></a></div><div class=\"Q0HXG\"></div><div class=\"X7NTVe\"><a class=\"tHmfQe\" href=\"/search?ie=UTF-8&amp;q=san+jos%C3%A9+95154&amp;stick=H4sIAAAAAAAAAONgFuLQz9U3SDMwKVPiArHM8wrijTO05LKTrfRz8pMTSzLz8_STM0sqS_LL86yqMgsUkvNTUh8xrmDiFnj5456w1DymSWtOXmOczsRFQI-QHxeba14JUFiIR4qLC26vlIISF--haEcxUa_5kdu1hDi_2v_senKqv0GwunD-Ka6euTuNRLh49dP1DQ2zzbLTzbMKigVezJ_JqDSH0Shj16Vp59iSBD12___vzhjmIGUkeMd66brSM-_ttYS42D2LfYDOyRE8IHrpvoIgUEyYiyMksSI_Lz-3UvD0rTP2__-_t1dS5EzmtW3wev7OXrBRmGnB8g5bBwk2BQYNBsPL19gfsMVzHdBiCOIGOcDIKCWnxMA8COz2lJwcBKvoACNT074Vh9g4OBgFGIyYOBismDQYq4A0zyJW_uLEPIWs_OLDKxUsTQ1NTQBw2ISudgEAAA&amp;sa=X&amp;ved=2ahUKEwi3g7aOtI_2AhUwSvEDHXcgBo4Q-BZ6BAgNEGQ\"><div class=\"am3QBf\"><div><span><div class=\"BNeawe deIvCb AP7Wnd\">95154</div></span></div></div></a></div><div class=\"Q0HXG\"></div><div class=\"X7NTVe\"><a class=\"tHmfQe\" href=\"/search?ie=UTF-8&amp;q=san+jos%C3%A9+95155&amp;stick=H4sIAAAAAAAAAONgFuLQz9U3SDMwKVPiArHM8wrijS205LKTrfRz8pMTSzLz8_STM0sqS_LL86yqMgsUkvNTUh8xrmDiFnj5456w1DymSWtOXmOczsRFQI-QHxeba14JUFiIR4qLC26vlIISF--haEcxUa_5kdu1hDi_2v_senKqv0GwunD-Ka6euTuNRLh49dP1DQ2zzbLTzbMKigVezJ_JqDSH0Shj16Vp59iSBD12___vzhjmIGUkeMd66brSM-_ttYS42D2LfYDOyRE8IHrpvoIgUEyYiyMksSI_Lz-3UvD0rTP2__-_t1dS5EzmtW3wev7OXrBRmGnB8g5bBwk2BQYNBsPL19gfsMVzHdBiCOIGOcDIKCWnxMA8COz2lJwcBKvoACNT074Vh9g4OBgFGIyYOBismDQYq4A0zyJW_uLEPIWs_OLDKxUsTQ1NTQHQ5AerdgEAAA&amp;sa=X&amp;ved=2ahUKEwi3g7aOtI_2AhUwSvEDHXcgBo4Q-BZ6BAgNEGY\"><div class=\"am3QBf\"><div><span><div class=\"BNeawe deIvCb AP7Wnd\">95155</div></span></div></div></a></div><div class=\"Q0HXG\"></div><div class=\"X7NTVe\"><a class=\"tHmfQe\" href=\"/search?ie=UTF-8&amp;q=san+jos%C3%A9+95156&amp;stick=H4sIAAAAAAAAAONgFuLQz9U3SDMwKVPiArHM8wrijQ215LKTrfRz8pMTSzLz8_STM0sqS_LL86yqMgsUkvNTUh8xrmDiFnj5456w1DymSWtOXmOczsRFQI-QHxeba14JUFiIR4qLC26vlIISF--haEcxUa_5kdu1hDi_2v_senKqv0GwunD-Ka6euTuNRLh49dP1DQ2zzbLTzbMKigVezJ_JqDSH0Shj16Vp59iSBD12___vzhjmIGUkeMd66brSM-_ttYS42D2LfYDOyRE8IHrpvoIgUEyYiyMksSI_Lz-3UvD0rTP2__-_t1dS5EzmtW3wev7OXrBRmGnB8g5bBwk2BQYNBsPL19gfsMVzHdBiCOIGOcDIKCWnxMA8COz2lJwcBKvoACNT074Vh9g4OBgFGIyYOBismDQYq4A0zyJW_uLEPIWs_OLDKxUsTQ1NzQDVFrOedgEAAA&amp;sa=X&amp;ved=2ahUKEwi3g7aOtI_2AhUwSvEDHXcgBo4Q-BZ6BAgNEGg\"><div class=\"am3QBf\"><div><span><div class=\"BNeawe deIvCb AP7Wnd\">95156</div></span></div></div></a></div><div class=\"Q0HXG\"></div><div class=\"X7NTVe\"><a class=\"tHmfQe\" href=\"/search?ie=UTF-8&amp;q=san+jos%C3%A9+95157&amp;stick=H4sIAAAAAAAAAONgFuLQz9U3SDMwKVPiArHM8wrijcq05LKTrfRz8pMTSzLz8_STM0sqS_LL86yqMgsUkvNTUh8xrmDiFnj5456w1DymSWtOXmOczsRFQI-QHxeba14JUFiIR4qLC26vlIISF--haEcxUa_5kdu1hDi_2v_senKqv0GwunD-Ka6euTuNRLh49dP1DQ2zzbLTzbMKigVezJ_JqDSH0Shj16Vp59iSBD12___vzhjmIGUkeMd66brSM-_ttYS42D2LfYDOyRE8IHrpvoIgUEyYiyMksSI_Lz-3UvD0rTP2__-_t1dS5EzmtW3wev7OXrBRmGnB8g5bBwk2BQYNBsPL19gfsMVzHdBiCOIGOcDIKCWnxMA8COz2lJwcBKvoACNT074Vh9g4OBgFGIyYOBismDQYq4A0zyJW_uLEPIWs_OLDKxUsTQ1NzQEy2buWdgEAAA&amp;sa=X&amp;ved=2ahUKEwi3g7aOtI_2AhUwSvEDHXcgBo4Q-BZ6BAgNEGo\"><div class=\"am3QBf\"><div><span><div class=\"BNeawe deIvCb AP7Wnd\">95157</div></span></div></div></a></div><div class=\"Q0HXG\"></div><div class=\"X7NTVe\"><a class=\"tHmfQe\" href=\"/search?ie=UTF-8&amp;q=san+jos%C3%A9+95158&amp;stick=H4sIAAAAAAAAAONgFuLQz9U3SDMwKVPiArHM8wrijXK15LKTrfRz8pMTSzLz8_STM0sqS_LL86yqMgsUkvNTUh8xrmDiFnj5456w1DymSWtOXmOczsRFQI-QHxeba14JUFiIR4qLC26vlIISF--haEcxUa_5kdu1hDi_2v_senKqv0GwunD-Ka6euTuNRLh49dP1DQ2zzbLTzbMKigVezJ_JqDSH0Shj16Vp59iSBD12___vzhjmIGUkeMd66brSM-_ttYS42D2LfYDOyRE8IHrpvoIgUEyYiyMksSI_Lz-3UvD0rTP2__-_t1dS5EzmtW3wev7OXrBRmGnB8g5bBwk2BQYNBsPL19gfsMVzHdBiCOIGOcDIKCWnxMA8COz2lJwcBKvoACNT074Vh9g4OBgFGIyYOBismDQYq4A0zyJW_uLEPIWs_OLDKxUsTQ1NLQAjJrModgEAAA&amp;sa=X&amp;ved=2ahUKEwi3g7aOtI_2AhUwSvEDHXcgBo4Q-BZ6BAgNEGw\"><div class=\"am3QBf\"><div><span><div class=\"BNeawe deIvCb AP7Wnd\">95158</div></span></div></div></a></div><div class=\"Q0HXG\"></div><div class=\"X7NTVe\"><a class=\"tHmfQe\" href=\"/search?ie=UTF-8&amp;q=san+jos%C3%A9+95160&amp;stick=H4sIAAAAAAAAAONgFuLQz9U3SDMwKVPiArHM8wrijUy15LKTrfRz8pMTSzLz8_STM0sqS_LL86yqMgsUkvNTUh8xrmDiFnj5456w1DymSWtOXmOczsRFQI-QHxeba14JUFiIR4qLC26vlIISF--haEcxUa_5kdu1hDi_2v_senKqv0GwunD-Ka6euTuNRLh49dP1DQ2zzbLTzbMKigVezJ_JqDSH0Shj16Vp59iSBD12___vzhjmIGUkeMd66brSM-_ttYS42D2LfYDOyRE8IHrpvoIgUEyYiyMksSI_Lz-3UvD0rTP2__-_t1dS5EzmtW3wev7OXrBRmGnB8g5bBwk2BQYNBsPL19gfsMVzHdBiCOIGOcDIKCWnxMA8COz2lJwcBKvoACNT074Vh9g4OBgFGIyYOBismDQYq4A0zyJW_uLEPIWs_OLDKxUsTQ3NDADjD9RydgEAAA&amp;sa=X&amp;ved=2ahUKEwi3g7aOtI_2AhUwSvEDHXcgBo4Q-BZ6BAgNEG4\"><div class=\"am3QBf\"><div><span><div class=\"BNeawe deIvCb AP7Wnd\">95160</div></span></div></div></a></div><div class=\"Q0HXG\"></div><div class=\"X7NTVe\"><a class=\"tHmfQe\" href=\"/search?ie=UTF-8&amp;q=san+jos%C3%A9+95161&amp;stick=H4sIAAAAAAAAAONgFuLQz9U3SDMwKVPiArHM8wriDau05LKTrfRz8pMTSzLz8_STM0sqS_LL86yqMgsUkvNTUh8xrmDiFnj5456w1DymSWtOXmOczsRFQI-QHxeba14JUFiIR4qLC26vlIISF--haEcxUa_5kdu1hDi_2v_senKqv0GwunD-Ka6euTuNRLh49dP1DQ2zzbLTzbMKigVezJ_JqDSH0Shj16Vp59iSBD12___vzhjmIGUkeMd66brSM-_ttYS42D2LfYDOyRE8IHrpvoIgUEyYiyMksSI_Lz-3UvD0rTP2__-_t1dS5EzmtW3wev7OXrBRmGnB8g5bBwk2BQYNBsPL19gfsMVzHdBiCOIGOcDIKCWnxMA8COz2lJwcBKvoACNT074Vh9g4OBgFGIyYOBismDQYq4A0zyJW_uLEPIWs_OLDKxUsTQ3NDAGEH48mdgEAAA&amp;sa=X&amp;ved=2ahUKEwi3g7aOtI_2AhUwSvEDHXcgBo4Q-BZ6BAgNEHA\"><div class=\"am3QBf\"><div><span><div class=\"BNeawe deIvCb AP7Wnd\">95161</div></span></div></div></a></div><div class=\"Q0HXG\"></div><div class=\"X7NTVe\"><a class=\"tHmfQe\" href=\"/search?ie=UTF-8&amp;q=san+jos%C3%A9+95164&amp;stick=H4sIAAAAAAAAAONgFuLQz9U3SDMwKVPiArHM8wriDYu05LKTrfRz8pMTSzLz8_STM0sqS_LL86yqMgsUkvNTUh8xrmDiFnj5456w1DymSWtOXmOczsRFQI-QHxeba14JUFiIR4qLC26vlIISF--haEcxUa_5kdu1hDi_2v_senKqv0GwunD-Ka6euTuNRLh49dP1DQ2zzbLTzbMKigVezJ_JqDSH0Shj16Vp59iSBD12___vzhjmIGUkeMd66brSM-_ttYS42D2LfYDOyRE8IHrpvoIgUEyYiyMksSI_Lz-3UvD0rTP2__-_t1dS5EzmtW3wev7OXrBRmGnB8g5bBwk2BQYNBsPL19gfsMVzHdBiCOIGOcDIKCWnxMA8COz2lJwcBKvoACNT074Vh9g4OBgFGIyYOBismDQYq4A0zyJW_uLEPIWs_OLDKxUsTQ3NTAAMFfBbdgEAAA&amp;sa=X&amp;ved=2ahUKEwi3g7aOtI_2AhUwSvEDHXcgBo4Q-BZ6BAgNEHI\"><div class=\"am3QBf\"><div><span><div class=\"BNeawe deIvCb AP7Wnd\">95164</div></span></div></div></a></div><div class=\"Q0HXG\"></div><div class=\"X7NTVe\"><a class=\"tHmfQe\" href=\"/search?ie=UTF-8&amp;q=san+jos%C3%A9+95170&amp;stick=H4sIAAAAAAAAAONgFuLQz9U3SDMwKVPiArHM8wriDbO05LKTrfRz8pMTSzLz8_STM0sqS_LL86yqMgsUkvNTUh8xrmDiFnj5456w1DymSWtOXmOczsRFQI-QHxeba14JUFiIR4qLC26vlIISF--haEcxUa_5kdu1hDi_2v_senKqv0GwunD-Ka6euTuNRLh49dP1DQ2zzbLTzbMKigVezJ_JqDSH0Shj16Vp59iSBD12___vzhjmIGUkeMd66brSM-_ttYS42D2LfYDOyRE8IHrpvoIgUEyYiyMksSI_Lz-3UvD0rTP2__-_t1dS5EzmtW3wev7OXrBRmGnB8g5bBwk2BQYNBsPL19gfsMVzHdBiCOIGOcDIKCWnxMA8COz2lJwcBKvoACNT074Vh9g4OBgFGIyYOBismDQYq4A0zyJW_uLEPIWs_OLDKxUsTQ3NDQBd4rhSdgEAAA&amp;sa=X&amp;ved=2ahUKEwi3g7aOtI_2AhUwSvEDHXcgBo4Q-BZ6BAgNEHQ\"><div class=\"am3QBf\"><div><span><div class=\"BNeawe deIvCb AP7Wnd\">95170</div></span></div></div></a></div><div class=\"Q0HXG\"></div><div class=\"X7NTVe\"><a class=\"tHmfQe\" href=\"/search?ie=UTF-8&amp;q=san+jos%C3%A9+95172&amp;stick=H4sIAAAAAAAAAONgFuLQz9U3SDMwKVPiArHM8wriDS215LKTrfRz8pMTSzLz8_STM0sqS_LL86yqMgsUkvNTUh8xrmDiFnj5456w1DymSWtOXmOczsRFQI-QHxeba14JUFiIR4qLC26vlIISF--haEcxUa_5kdu1hDi_2v_senKqv0GwunD-Ka6euTuNRLh49dP1DQ2zzbLTzbMKigVezJ_JqDSH0Shj16Vp59iSBD12___vzhjmIGUkeMd66brSM-_ttYS42D2LfYDOyRE8IHrpvoIgUEyYiyMksSI_Lz-3UvD0rTP2__-_t1dS5EzmtW3wev7OXrBRmGnB8g5bBwk2BQYNBsPL19gfsMVzHdBiCOIGOcDIKCWnxMA8COz2lJwcBKvoACNT074Vh9g4OBgFGIyYOBismDQYq4A0zyJW_uLEPIWs_OLDKxUsTQ3NjQDOb7v3dgEAAA&amp;sa=X&amp;ved=2ahUKEwi3g7aOtI_2AhUwSvEDHXcgBo4Q-BZ6BAgNEHY\"><div class=\"am3QBf\"><div><span><div class=\"BNeawe deIvCb AP7Wnd\">95172</div></span></div></div></a></div><div class=\"Q0HXG\"></div><div class=\"X7NTVe\"><a class=\"tHmfQe\" href=\"/search?ie=UTF-8&amp;q=95173&amp;stick=H4sIAAAAAAAAAONgFuLQz9U3SDMwKVPiArHM8wriDY205LKTrfRz8pMTSzLz8_STM0sqS_LL86yqMgsUkvNTUh8xrmDiFnj5456w1DymSWtOXmOczsRFQI-QHxeba14JUFiIR4qLC26vlIISF--haEcxUa_5kdu1hDi_2v_senKqv0GwunD-Ka6euTuNRLh49dP1DQ2zzbLTzbMKigVezJ_JqDSH0Shj16Vp59iSBD12___vzhjmIGUkeMd66brSM-_ttYS42D2LfYDOyRE8IHrpvoIgUEyYiyMksSI_Lz-3UvD0rTP2__-_t1dS5EzmtW3wev7OXrBRmGnB8g5bBwk2BQYNBsPL19gfsMVzHdBiCOIGOcDIKCWnxMA8COz2lJwcBKvoACNT074Vh9g4OBgFGIyYOBismDQYq4A0zyJWVktTQ3NjAJMZ_jpsAQAA&amp;sa=X&amp;ved=2ahUKEwi3g7aOtI_2AhUwSvEDHXcgBo4Q-BZ6BAgNEHg\"><div class=\"am3QBf\"><div><span><div class=\"BNeawe deIvCb AP7Wnd\">95173</div></span></div></div></a></div><div class=\"Q0HXG\"></div><div class=\"X7NTVe\"><a class=\"tHmfQe\" href=\"/search?ie=UTF-8&amp;q=san+jos%C3%A9+95190&amp;stick=H4sIAAAAAAAAAONgFuLQz9U3SDMwKVPiArHM8wriDcq15LKTrfRz8pMTSzLz8_STM0sqS_LL86yqMgsUkvNTUh8xrmDiFnj5456w1DymSWtOXmOczsRFQI-QHxeba14JUFiIR4qLC26vlIISF--haEcxUa_5kdu1hDi_2v_senKqv0GwunD-Ka6euTuNRLh49dP1DQ2zzbLTzbMKigVezJ_JqDSH0Shj16Vp59iSBD12___vzhjmIGUkeMd66brSM-_ttYS42D2LfYDOyRE8IHrpvoIgUEyYiyMksSI_Lz-3UvD0rTP2__-_t1dS5EzmtW3wev7OXrBRmGnB8g5bBwk2BQYNBsPL19gfsMVzHdBiCOIGOcDIKCWnxMA8COz2lJwcBKvoACNT074Vh9g4OBgFGIyYOBismDQYq4A0zyJW_uLEPIWs_OLDKxUsTQ0tDQCif4RUdgEAAA&amp;sa=X&amp;ved=2ahUKEwi3g7aOtI_2AhUwSvEDHXcgBo4Q-BZ6BAgNEHo\"><div class=\"am3QBf\"><div><span><div class=\"BNeawe deIvCb AP7Wnd\">95190</div></span></div></div></a></div><div class=\"Q0HXG\"></div><div class=\"X7NTVe\"><a class=\"tHmfQe\" href=\"/search?ie=UTF-8&amp;q=san+jos%C3%A9+95191&amp;stick=H4sIAAAAAAAAAONgFuLQz9U3SDMwKVPiArHM8wriDfK05LKTrfRz8pMTSzLz8_STM0sqS_LL86yqMgsUkvNTUh8xrmDiFnj5456w1DymSWtOXmOczsRFQI-QHxeba14JUFiIR4qLC26vlIISF--haEcxUa_5kdu1hDi_2v_senKqv0GwunD-Ka6euTuNRLh49dP1DQ2zzbLTzbMKigVezJ_JqDSH0Shj16Vp59iSBD12___vzhjmIGUkeMd66brSM-_ttYS42D2LfYDOyRE8IHrpvoIgUEyYiyMksSI_Lz-3UvD0rTP2__-_t1dS5EzmtW3wev7OXrBRmGnB8g5bBwk2BQYNBsPL19gfsMVzHdBiCOIGOcDIKCWnxMA8COz2lJwcBKvoACNT074Vh9g4OBgFGIyYOBismDQYq4A0zyJW_uLEPIWs_OLDKxUsTQ0tDQGFEBWVdgEAAA&amp;sa=X&amp;ved=2ahUKEwi3g7aOtI_2AhUwSvEDHXcgBo4Q-BZ6BAgNEHw\"><div class=\"am3QBf\"><div><span><div class=\"BNeawe deIvCb AP7Wnd\">95191</div></span></div></div></a></div><div class=\"Q0HXG\"></div><div class=\"X7NTVe\"><a class=\"tHmfQe\" href=\"/search?ie=UTF-8&amp;q=san+jos%C3%A9+95192&amp;stick=H4sIAAAAAAAAAONgFuLQz9U3SDMwKVPiArHM8wriDdK05LKTrfRz8pMTSzLz8_STM0sqS_LL86yqMgsUkvNTUh8xrmDiFnj5456w1DymSWtOXmOczsRFQI-QHxeba14JUFiIR4qLC26vlIISF--haEcxUa_5kdu1hDi_2v_senKqv0GwunD-Ka6euTuNRLh49dP1DQ2zzbLTzbMKigVezJ_JqDSH0Shj16Vp59iSBD12___vzhjmIGUkeMd66brSM-_ttYS42D2LfYDOyRE8IHrpvoIgUEyYiyMksSI_Lz-3UvD0rTP2__-_t1dS5EzmtW3wev7OXrBRmGnB8g5bBwk2BQYNBsPL19gfsMVzHdBiCOIGOcDIKCWnxMA8COz2lJwcBKvoACNT074Vh9g4OBgFGIyYOBismDQYq4A0zyJW_uLEPIWs_OLDKxUsTQ0tjQA4vwkBdgEAAA&amp;sa=X&amp;ved=2ahUKEwi3g7aOtI_2AhUwSvEDHXcgBo4Q-BZ6BAgNEH4\"><div class=\"am3QBf\"><div><span><div class=\"BNeawe deIvCb AP7Wnd\">95192</div></span></div></div></a></div><div class=\"Q0HXG\"></div><div class=\"X7NTVe\"><a class=\"tHmfQe\" href=\"/search?ie=UTF-8&amp;q=san+jos%C3%A9+95193&amp;stick=H4sIAAAAAAAAAONgFuLQz9U3SDMwKVPiArHM8wriDcy05LKTrfRz8pMTSzLz8_STM0sqS_LL86yqMgsUkvNTUh8xrmDiFnj5456w1DymSWtOXmOczsRFQI-QHxeba14JUFiIR4qLC26vlIISF--haEcxUa_5kdu1hDi_2v_senKqv0GwunD-Ka6euTuNRLh49dP1DQ2zzbLTzbMKigVezJ_JqDSH0Shj16Vp59iSBD12___vzhjmIGUkeMd66brSM-_ttYS42D2LfYDOyRE8IHrpvoIgUEyYiyMksSI_Lz-3UvD0rTP2__-_t1dS5EzmtW3wev7OXrBRmGnB8g5bBwk2BQYNBsPL19gfsMVzHdBiCOIGOcDIKCWnxMA8COz2lJwcBKvoACNT074Vh9g4OBgFGIyYOBismDQYq4A0zyJW_uLEPIWs_OLDKxUsTQ0tjQGYg4oEdgEAAA&amp;sa=X&amp;ved=2ahUKEwi3g7aOtI_2AhUwSvEDHXcgBo4Q-BZ6BQgNEIAB\"><div class=\"am3QBf\"><div><span><div class=\"BNeawe deIvCb AP7Wnd\">95193</div></span></div></div></a></div><div class=\"Q0HXG\"></div><div class=\"X7NTVe\"><a class=\"tHmfQe\" href=\"/search?ie=UTF-8&amp;q=san+jos%C3%A9+95194&amp;stick=H4sIAAAAAAAAAONgFuLQz9U3SDMwKVPiArHM8wqq4uO15LKTrfRz8pMTSzLz8_STM0sqS_LL86yqMgsUkvNTUh8xrmDiFnj5456w1DymSWtOXmOczsRFQI-QHxeba14JUFiIR4qLC26vlIISF--haEcxUa_5kdu1hDi_2v_senKqv0GwunD-Ka6euTuNRLh49dP1DQ2zzbLTzbMKigVezJ_JqDSH0Shj16Vp59iSBD12___vzhjmIGUkeMd66brSM-_ttYS42D2LfYDOyRE8IHrpvoIgUEyYiyMksSI_Lz-3UvD0rTP2__-_t1dS5EzmtW3wev7OXrBRmGnB8g5bBwk2BQYNBsPL19gfsMVzHdBiCOIGOcDIKCWnxMA8COz2lJwcBKvoACNT074Vh9g4OBgFGIyYOBismDQYq4A0zyJW_uLEPIWs_OLDKxUsTQ0tTQB_yoF1dgEAAA&amp;sa=X&amp;ved=2ahUKEwi3g7aOtI_2AhUwSvEDHXcgBo4Q-BZ6BQgNEIIB\"><div class=\"am3QBf\"><div><span><div class=\"BNeawe deIvCb AP7Wnd\">95194</div></span></div></div></a></div><div class=\"Q0HXG\"></div><div class=\"X7NTVe\"><a class=\"tHmfQe\" href=\"/search?ie=UTF-8&amp;q=san+jos%C3%A9+95196&amp;stick=H4sIAAAAAAAAAONgFuLQz9U3SDMwKVPiArHM8wqq4ou15LKTrfRz8pMTSzLz8_STM0sqS_LL86yqMgsUkvNTUh8xrmDiFnj5456w1DymSWtOXmOczsRFQI-QHxeba14JUFiIR4qLC26vlIISF--haEcxUa_5kdu1hDi_2v_senKqv0GwunD-Ka6euTuNRLh49dP1DQ2zzbLTzbMKigVezJ_JqDSH0Shj16Vp59iSBD12___vzhjmIGUkeMd66brSM-_ttYS42D2LfYDOyRE8IHrpvoIgUEyYiyMksSI_Lz-3UvD0rTP2__-_t1dS5EzmtW3wev7OXrBRmGnB8g5bBwk2BQYNBsPL19gfsMVzHdBiCOIGOcDIKCWnxMA8COz2lJwcBKvoACNT074Vh9g4OBgFGIyYOBismDQYq4A0zyJW_uLEPIWs_OLDKxUsTQ0tzQBr0f9JdgEAAA&amp;sa=X&amp;ved=2ahUKEwi3g7aOtI_2AhUwSvEDHXcgBo4Q-BZ6BQgNEIQB\"><div class=\"am3QBf\"><div><span><div class=\"BNeawe deIvCb AP7Wnd\">95196</div></span></div></div></a></div></div></div><div><div class=\"ZINbbc xpd O9g5cc uUPGi\"><div class=\"kCrYT\"><div class=\"nGphre\"><img alt=\"\" class=\"UykT9d\" data-deferred=\"1\" id=\"dimg_1\" src=\"data:image/gif;base64,R0lGODlhAQABAIAAAP///////yH5BAEKAAEALAAAAAABAAEAAAICTAEAOw==\" style=\"max-width:72px;max-height:72px\"/></div><span><h3 class=\"zBAuLc l97dzf\"><div class=\"BNeawe deIvCb AP7Wnd\">San José</div></h3></span><span><div class=\"BNeawe tAd8D AP7Wnd\">Város, Kalifornia</div></span><div class=\"nYT7Qb\"></div></div><div class=\"Q0HXG\"></div><div class=\"kCrYT\"><div><div class=\"BNeawe s3v9rd AP7Wnd\"><div><div class=\"BNeawe s3v9rd AP7Wnd\">San José város az Amerikai Egyesült Államokban, Kalifornia államban.\n",
       "San José Kalifornia állam harmadik legnagyobb városa, az Egyesült Államokban a tizedik. Santa Clara megyeszékhelye. A város a Santa Clara-völgyben fekszik, a Szilícium-völgy régiójában. <span class=\"BNeawe\"><a href=\"/url?q=https://hu.wikipedia.org/wiki/San_Jos%25C3%25A9_(Kalifornia)&amp;sa=U&amp;ved=2ahUKEwi3g7aOtI_2AhUwSvEDHXcgBo4QmhN6BAgFEAU&amp;usg=AOvVaw1Fsq7L6I-EuobMEDbl9Xxo\"><span class=\"XLloXe AP7Wnd\">Wikipédia</span></a></span></div></div></div></div></div></div></div><div><div class=\"ZINbbc xpd O9g5cc uUPGi\"><div></div><div class=\"mEUgP\"><span><div class=\"BNeawe\"><span class=\"atOwb UMOHqf\">Mások ezeket a kérdéseket is felteszik</span></div></span></div><div class=\"x54gtf\"></div><div><div class=\"xpc\"><div class=\"duf-h\"><div aria-expanded=\"false\" class=\"fLtXsc iIWm4b\" data-ved=\"2ahUKEwi3g7aOtI_2AhUwSvEDHXcgBo4Quk56BAgEEAI\" id=\"tsuid1\" role=\"button\" tabindex=\"0\"><div class=\"Lt3Tzc\">How many zip codes are in San Jose?</div><div class=\"Lym8W xCgLUe\"><div class=\"AeQQub hwc\"></div><div class=\"YCU7eb hwc\"></div><div class=\"IyYaEd hwx\"></div><div class=\"ECUHQe hwx\"></div></div></div></div><div class=\"qxDOhb\" id=\"accdef_1\"></div></div></div><div class=\"x54gtf\"></div><div><div class=\"xpc\"><div class=\"duf-h\"><div aria-expanded=\"false\" class=\"fLtXsc iIWm4b\" data-ved=\"2ahUKEwi3g7aOtI_2AhUwSvEDHXcgBo4Quk56BAgEEAo\" id=\"tsuid2\" role=\"button\" tabindex=\"0\"><div class=\"Lt3Tzc\">Does San Jose Costa Rica have a zip code?</div><div class=\"Lym8W xCgLUe\"><div class=\"AeQQub hwc\"></div><div class=\"YCU7eb hwc\"></div><div class=\"IyYaEd hwx\"></div><div class=\"ECUHQe hwx\"></div></div></div></div><div class=\"qxDOhb\" id=\"accdef_3\"></div></div></div><div class=\"x54gtf\"></div><div><div class=\"xpc\"><div class=\"duf-h\"><div aria-expanded=\"false\" class=\"fLtXsc iIWm4b\" data-ved=\"2ahUKEwi3g7aOtI_2AhUwSvEDHXcgBo4Quk56BAgEEBI\" id=\"tsuid3\" role=\"button\" tabindex=\"0\"><div class=\"Lt3Tzc\">What is the area code for San Jose CA?</div><div class=\"Lym8W xCgLUe\"><div class=\"AeQQub hwc\"></div><div class=\"YCU7eb hwc\"></div><div class=\"IyYaEd hwx\"></div><div class=\"ECUHQe hwx\"></div></div></div></div><div class=\"qxDOhb\" id=\"accdef_5\"></div></div></div></div></div><div><div class=\"ZINbbc luh4tb xpd O9g5cc uUPGi\"><div class=\"egMi0 kCrYT\"><a href=\"/url?q=https://www.zipdatamaps.com/zipcodes-san-jose-ca&amp;sa=U&amp;ved=2ahUKEwi3g7aOtI_2AhUwSvEDHXcgBo4QFnoECAsQAg&amp;usg=AOvVaw17beMAVCDK3OsxvMBOZ9hl\"><h3 class=\"zBAuLc l97dzf\"><div class=\"BNeawe vvjwJb AP7Wnd\">Map of All ZIP Codes in San Jose, California - Updated February 2022</div></h3><div class=\"BNeawe UPmit AP7Wnd\">www.zipdatamaps.com › zipcodes-san-jose-ca</div></a></div><div class=\"kCrYT\"><div><div class=\"BNeawe s3v9rd AP7Wnd\"><div><div><div class=\"BNeawe s3v9rd AP7Wnd\">Map of ZIP Codes in San Jose, California ; 94089 · 95002 · 95008 ; Sunnyvale · Alviso · Campbell ; 19245 · 2077 · 45260 ...</div></div></div></div></div></div></div></div><div><div class=\"ZINbbc luh4tb xpd O9g5cc uUPGi\"><div class=\"egMi0 kCrYT\"><a href=\"/url?q=https://www.zip-codes.com/city/ca-san-jose.asp&amp;sa=U&amp;ved=2ahUKEwi3g7aOtI_2AhUwSvEDHXcgBo4QFnoECAoQAg&amp;usg=AOvVaw1SAys2umQSuTBCBQ9p1WGw\"><h3 class=\"zBAuLc l97dzf\"><div class=\"BNeawe vvjwJb AP7Wnd\">All Zip Codes in San Jose CA</div></h3><div class=\"BNeawe UPmit AP7Wnd\">www.zip-codes.com › ... › Santa Clara County</div></a></div><div class=\"kCrYT\"><div><div class=\"BNeawe s3v9rd AP7Wnd\"><div><div><div class=\"BNeawe s3v9rd AP7Wnd\"><span class=\"xUrNXd UMOHqf\">2022. febr. 1.</span><span class=\"xUrNXd UMOHqf\"> · </span>San Jose, CA Covers 59 ZIP Codes ; 95111, Standard, Santa Clara, 58,466, 408 / 669 ; 95112, Standard, Santa Clara, 55,927, 408 / 669 / 650 ; 95113 ...</div></div></div></div></div></div></div></div><div><div class=\"ZINbbc luh4tb xpd O9g5cc uUPGi\"><div class=\"egMi0 kCrYT\"><a href=\"/url?q=https://www.sanjoseca.gov/home/showpublisheddocument/9143/636649329721700000&amp;sa=U&amp;ved=2ahUKEwi3g7aOtI_2AhUwSvEDHXcgBo4QFnoECAgQAg&amp;usg=AOvVaw03uGtHHAV-8yEHUd_A988B\"><h3 class=\"zBAuLc l97dzf\"><div class=\"BNeawe vvjwJb AP7Wnd\">[PDF] City of San Jose U.S. Postal Service ZIP Codes*</div></h3><div class=\"BNeawe UPmit AP7Wnd\">www.sanjoseca.gov › home › showpublisheddocument</div></a></div><div class=\"kCrYT\"><div><div class=\"BNeawe s3v9rd AP7Wnd\"><div><div><div class=\"BNeawe s3v9rd AP7Wnd\">*NOTE: This map intends to provide a generalized representation of U.S. Postal Service (USPS) ZIP Code service areas. For the most accurate and up-to-date. ZIP ...</div></div></div></div></div></div></div></div><div><div class=\"ZINbbc luh4tb xpd O9g5cc uUPGi\"><div class=\"egMi0 kCrYT\"><a href=\"/url?q=https://www.city-data.com/zipmaps/San-Jose-California.html&amp;sa=U&amp;ved=2ahUKEwi3g7aOtI_2AhUwSvEDHXcgBo4QFnoECAkQAg&amp;usg=AOvVaw3ryRqRJvhzmyHtGCqsG8SQ\"><h3 class=\"zBAuLc l97dzf\"><div class=\"BNeawe vvjwJb AP7Wnd\">San Jose, California (CA) Zip Code Map - Locations, Demographics</div></h3><div class=\"BNeawe UPmit AP7Wnd\">www.city-data.com › zipmaps › San-Jose-California</div></a></div><div class=\"kCrYT\"><div><div class=\"BNeawe s3v9rd AP7Wnd\"><div><div><div class=\"BNeawe s3v9rd AP7Wnd\">Zip codes: 94089, 95002, 95008, 95013, 95014, 95032, 95035, 95037, 95050, 95054, 95070, 95110, 95111, 95112, 95113, 95116, 95117, 95118, 95119, 95120, ...</div></div></div></div></div></div></div></div><div><div class=\"ZINbbc luh4tb xpd O9g5cc uUPGi\"><div class=\"egMi0 kCrYT\"><a href=\"/url?q=https://www.usmapguide.com/california/san-jose-zip-code-map/&amp;sa=U&amp;ved=2ahUKEwi3g7aOtI_2AhUwSvEDHXcgBo4QFnoECAcQAg&amp;usg=AOvVaw2qOioSH9au836oNHNG6tzn\"><h3 class=\"zBAuLc l97dzf\"><div class=\"BNeawe vvjwJb AP7Wnd\">San Jose Zip Code Map [Updated 2021]</div></h3><div class=\"BNeawe UPmit AP7Wnd\">www.usmapguide.com › California</div></a></div><div class=\"kCrYT\"><div><div class=\"BNeawe s3v9rd AP7Wnd\"><div><div><div class=\"BNeawe s3v9rd AP7Wnd\">GUIDE TO SAN JOSE AREA AND NEIGHBORHOODS · Joseph D Grant County Park · 95035 · 95134 · 95002 · 94089 · 95054 · 95132 · 95131 ...</div></div></div></div></div></div></div></div><div><div class=\"ZINbbc luh4tb xpd O9g5cc uUPGi\"><div class=\"egMi0 kCrYT\"><a href=\"/url?q=https://namecensus.com/zip-codes/california/city/san-jose/&amp;sa=U&amp;ved=2ahUKEwi3g7aOtI_2AhUwSvEDHXcgBo4QFnoECAYQAg&amp;usg=AOvVaw1COXT136Y8FvhxL8k1CAUP\"><h3 class=\"zBAuLc l97dzf\"><div class=\"BNeawe vvjwJb AP7Wnd\">List of 40 Zip Codes in San Jose, California - Name Census</div></h3><div class=\"BNeawe UPmit AP7Wnd\">namecensus.com › Zip Codes › California</div></a></div><div class=\"kCrYT\"><div><div class=\"BNeawe s3v9rd AP7Wnd\"><div><div><div class=\"BNeawe s3v9rd AP7Wnd\">List of 40 Zip Codes in San Jose, California ; 95113, 883,438, 0 ; 95116, 9,273,430, 4 ; 95117, 6,659,920, 3 ; 95118, 10,735,900, 4 ...</div></div></div></div></div></div></div></div><div><div class=\"ZINbbc luh4tb xpd O9g5cc uUPGi\"><div class=\"egMi0 kCrYT\"><a href=\"/url?q=https://worldpostalcode.com/united-states/california/san-jose&amp;sa=U&amp;ved=2ahUKEwi3g7aOtI_2AhUwSvEDHXcgBo4QFnoECAIQAg&amp;usg=AOvVaw0M4Fs4dCddbIwComGok4eB\"><h3 class=\"zBAuLc l97dzf\"><div class=\"BNeawe vvjwJb AP7Wnd\">San Jose (CA) Zip Codes: United States</div></h3><div class=\"BNeawe UPmit AP7Wnd\">worldpostalcode.com › United States › California</div></a></div><div class=\"kCrYT\"><div><div class=\"BNeawe s3v9rd AP7Wnd\"><div><div><div class=\"BNeawe s3v9rd AP7Wnd\">ZIP codes for San Jose, California, US. Use our interactive map, address lookup, or code list to find the correct 5-digit or 9-digit (ZIP+4) code for your ...</div></div></div></div></div></div></div></div><div><div class=\"ZINbbc luh4tb xpd O9g5cc uUPGi\"><div class=\"egMi0 kCrYT\"><a href=\"/url?q=https://ca.postcodebase.com/city/SAN%2520JOSE&amp;sa=U&amp;ved=2ahUKEwi3g7aOtI_2AhUwSvEDHXcgBo4QFnoECAMQAg&amp;usg=AOvVaw26AddMPsm7NUqliTyu8x7s\"><h3 class=\"zBAuLc l97dzf\"><div class=\"BNeawe vvjwJb AP7Wnd\">City Name: SAN JOSE, CA - California ZIP Code 5 Plus 4 ✉</div></h3><div class=\"BNeawe UPmit AP7Wnd\">ca.postcodebase.com › city › SAN JOSE</div></a></div><div class=\"kCrYT\"><div><div class=\"BNeawe s3v9rd AP7Wnd\"><div><div><div class=\"BNeawe s3v9rd AP7Wnd\">SAN JOSE is located in California, US. The ZIP Code for SAN JOSE are 95101, 95103, 95106 and etc. For more information, please see details below, ...</div></div></div></div></div></div></div></div><div><div class=\"ZINbbc luh4tb xpd O9g5cc uUPGi\"><div class=\"egMi0 kCrYT\"><a href=\"/url?q=https://zipcode.org/city/CA/SANJOSE&amp;sa=U&amp;ved=2ahUKEwi3g7aOtI_2AhUwSvEDHXcgBo4QFnoECAAQAg&amp;usg=AOvVaw35h1enMkdD1YnF1_Sggdh1\"><h3 class=\"zBAuLc l97dzf\"><div class=\"BNeawe vvjwJb AP7Wnd\">City of San Jose, CA Zip Codes | ZipCode.org</div></h3><div class=\"BNeawe UPmit AP7Wnd\">zipcode.org › city › SANJOSE</div></a></div><div class=\"kCrYT\"><div><div class=\"BNeawe s3v9rd AP7Wnd\"><div><div><div class=\"BNeawe s3v9rd AP7Wnd\">City of San Jose, CA Zip Codes. This page can't load Google Maps correctly. Do you own this website? OK. CA/SAN JOSE. City of San Jose, CA Demographic ...</div></div></div></div></div></div></div></div><div><div class=\"ZINbbc luh4tb xpd O9g5cc uUPGi\"><div class=\"egMi0 kCrYT\"><a href=\"/url?q=https://www.ciclt.net/sn/clt/capitolimpact/gw_ziplist.aspx%3Fzip%3D951%26stfips%3D%26state%3Dca%26stname%3D&amp;sa=U&amp;ved=2ahUKEwi3g7aOtI_2AhUwSvEDHXcgBo4QFnoECAwQAg&amp;usg=AOvVaw1VYMLEtWux3icGcZhYowXn\"><h3 class=\"zBAuLc l97dzf\"><div class=\"BNeawe vvjwJb AP7Wnd\">951 - CI Gateway Zip Code List</div></h3><div class=\"BNeawe UPmit AP7Wnd\">www.ciclt.net › clt › capitolimpact › gw_ziplist › zip=951</div></a></div><div class=\"kCrYT\"><div><div class=\"BNeawe s3v9rd AP7Wnd\"><div><div><div class=\"BNeawe s3v9rd AP7Wnd\">Zip Code List Zip Code - 951 in ; 95117 · San Jose · Santa Clara County ; 95118 · San Jose · Santa Clara County ; 95119 · San Jose · Santa Clara County ; 95120 ...</div></div></div></div></div></div></div></div><div><div class=\"ZINbbc xpd O9g5cc uUPGi\"><div></div><div class=\"mEUgP\"><span><div class=\"BNeawe\">Kapcsolódó keresések</div></span></div><div class=\"x54gtf\"></div><div><div class=\"gGQDvd iIWm4b\"><a class=\"Q71vJc\" href=\"/search?ie=UTF-8&amp;q=East+Side+San+Jose+ZIP+code&amp;sa=X&amp;ved=2ahUKEwi3g7aOtI_2AhUwSvEDHXcgBo4Q1QJ6BAgBEAI\"><accordion-entry-search-icon><span class=\"ieB2Dd\"><img alt=\"\" class=\"OEaqif\" data-deferred=\"1\" id=\"dimg_3\" src=\"data:image/gif;base64,R0lGODlhAQABAIAAAP///////yH5BAEKAAEALAAAAAABAAEAAAICTAEAOw==\" style=\"max-width:20px;max-height:20px\"/></span></accordion-entry-search-icon><div class=\"kjGX2\"><span><div class=\"BNeawe s3v9rd AP7Wnd lRVwie\">East Side San Jose ZIP code</div></span></div></a></div></div><div class=\"x54gtf\"></div><div><div class=\"gGQDvd iIWm4b\"><a class=\"Q71vJc\" href=\"/search?ie=UTF-8&amp;q=San+Jose+zip+Code+map&amp;sa=X&amp;ved=2ahUKEwi3g7aOtI_2AhUwSvEDHXcgBo4Q1QJ6BAgBEAQ\"><accordion-entry-search-icon><span class=\"ieB2Dd\"><img alt=\"\" class=\"OEaqif\" data-deferred=\"1\" id=\"dimg_5\" src=\"data:image/gif;base64,R0lGODlhAQABAIAAAP///////yH5BAEKAAEALAAAAAABAAEAAAICTAEAOw==\" style=\"max-width:20px;max-height:20px\"/></span></accordion-entry-search-icon><div class=\"kjGX2\"><span><div class=\"BNeawe s3v9rd AP7Wnd lRVwie\">San Jose zip Code map</div></span></div></a></div></div><div class=\"x54gtf\"></div><div><div class=\"gGQDvd iIWm4b\"><a class=\"Q71vJc\" href=\"/search?ie=UTF-8&amp;q=San+Jose+zip+Code+list&amp;sa=X&amp;ved=2ahUKEwi3g7aOtI_2AhUwSvEDHXcgBo4Q1QJ6BAgBEAY\"><accordion-entry-search-icon><span class=\"ieB2Dd\"><img alt=\"\" class=\"OEaqif\" data-deferred=\"1\" id=\"dimg_7\" src=\"data:image/gif;base64,R0lGODlhAQABAIAAAP///////yH5BAEKAAEALAAAAAABAAEAAAICTAEAOw==\" style=\"max-width:20px;max-height:20px\"/></span></accordion-entry-search-icon><div class=\"kjGX2\"><span><div class=\"BNeawe s3v9rd AP7Wnd lRVwie\">San Jose zip Code list</div></span></div></a></div></div><div class=\"x54gtf\"></div><div><div class=\"gGQDvd iIWm4b\"><a class=\"Q71vJc\" href=\"/search?ie=UTF-8&amp;q=East+San+Jose+Zip+code+Map&amp;sa=X&amp;ved=2ahUKEwi3g7aOtI_2AhUwSvEDHXcgBo4Q1QJ6BAgBEAg\"><accordion-entry-search-icon><span class=\"ieB2Dd\"><img alt=\"\" class=\"OEaqif\" data-deferred=\"1\" id=\"dimg_9\" src=\"data:image/gif;base64,R0lGODlhAQABAIAAAP///////yH5BAEKAAEALAAAAAABAAEAAAICTAEAOw==\" style=\"max-width:20px;max-height:20px\"/></span></accordion-entry-search-icon><div class=\"kjGX2\"><span><div class=\"BNeawe s3v9rd AP7Wnd lRVwie\">East San Jose Zip code Map</div></span></div></a></div></div><div class=\"x54gtf\"></div><div><div class=\"gGQDvd iIWm4b\"><a class=\"Q71vJc\" href=\"/search?ie=UTF-8&amp;q=South+San+Jose+zip+code&amp;sa=X&amp;ved=2ahUKEwi3g7aOtI_2AhUwSvEDHXcgBo4Q1QJ6BAgBEAo\"><accordion-entry-search-icon><span class=\"ieB2Dd\"><img alt=\"\" class=\"OEaqif\" data-deferred=\"1\" id=\"dimg_11\" src=\"data:image/gif;base64,R0lGODlhAQABAIAAAP///////yH5BAEKAAEALAAAAAABAAEAAAICTAEAOw==\" style=\"max-width:20px;max-height:20px\"/></span></accordion-entry-search-icon><div class=\"kjGX2\"><span><div class=\"BNeawe s3v9rd AP7Wnd lRVwie\">South San Jose zip code</div></span></div></a></div></div><div class=\"x54gtf\"></div><div><div class=\"gGQDvd iIWm4b\"><a class=\"Q71vJc\" href=\"/search?ie=UTF-8&amp;q=North+San+Jose+Zip+code&amp;sa=X&amp;ved=2ahUKEwi3g7aOtI_2AhUwSvEDHXcgBo4Q1QJ6BAgBEAw\"><accordion-entry-search-icon><span class=\"ieB2Dd\"><img alt=\"\" class=\"OEaqif\" data-deferred=\"1\" id=\"dimg_13\" src=\"data:image/gif;base64,R0lGODlhAQABAIAAAP///////yH5BAEKAAEALAAAAAABAAEAAAICTAEAOw==\" style=\"max-width:20px;max-height:20px\"/></span></accordion-entry-search-icon><div class=\"kjGX2\"><span><div class=\"BNeawe s3v9rd AP7Wnd lRVwie\">North San Jose Zip code</div></span></div></a></div></div><div class=\"x54gtf\"></div><div><div class=\"gGQDvd iIWm4b\"><a class=\"Q71vJc\" href=\"/search?ie=UTF-8&amp;q=San+Jose+ZIP+code+Downtown&amp;sa=X&amp;ved=2ahUKEwi3g7aOtI_2AhUwSvEDHXcgBo4Q1QJ6BAgBEA4\"><accordion-entry-search-icon><span class=\"ieB2Dd\"><img alt=\"\" class=\"OEaqif\" data-deferred=\"1\" id=\"dimg_15\" src=\"data:image/gif;base64,R0lGODlhAQABAIAAAP///////yH5BAEKAAEALAAAAAABAAEAAAICTAEAOw==\" style=\"max-width:20px;max-height:20px\"/></span></accordion-entry-search-icon><div class=\"kjGX2\"><span><div class=\"BNeawe s3v9rd AP7Wnd lRVwie\">San Jose ZIP code Downtown</div></span></div></a></div></div><div class=\"x54gtf\"></div><div><div class=\"gGQDvd iIWm4b\"><a class=\"Q71vJc\" href=\"/search?ie=UTF-8&amp;q=San+Jose+zip+Code+Map+pdf&amp;sa=X&amp;ved=2ahUKEwi3g7aOtI_2AhUwSvEDHXcgBo4Q1QJ6BAgBEBA\"><accordion-entry-search-icon><span class=\"ieB2Dd\"><img alt=\"\" class=\"OEaqif\" data-deferred=\"1\" id=\"dimg_17\" src=\"data:image/gif;base64,R0lGODlhAQABAIAAAP///////yH5BAEKAAEALAAAAAABAAEAAAICTAEAOw==\" style=\"max-width:20px;max-height:20px\"/></span></accordion-entry-search-icon><div class=\"kjGX2\"><span><div class=\"BNeawe s3v9rd AP7Wnd lRVwie\">San Jose zip Code Map pdf</div></span></div></a></div></div></div></div><footer> <div> <div class=\"ZINbbc xpd O9g5cc uUPGi BmP5tf\"><div class=\"nMymef MUxGbd lyLwlc\"><a aria-label=\"Következő oldal\" class=\"nBDE1b G5eFlf\" href=\"/search?q=San+Jose+zip+code&amp;ie=UTF-8&amp;ei=_MoSYreVB7CUxc8P98CY8Ag&amp;start=10&amp;sa=N\">Következő &gt;</a></div></div> </div> <div id=\"EOlPnc\"><div class=\"Srfpq\"><div id=\"tsuid4\" jsaction=\"oEnJg:CEnhyd;gJk92:b6DXXd;gfszqc:BGFS9\" jscontroller=\"qcH9Lc\" jsdata=\"z6bOeb;_;AlM6Uk\"></div><span> - </span><a href=\"/url?q=https://support.google.com/websearch%3Fp%3Dws_settings_location%26hl%3Dhu&amp;sa=U&amp;ved=0ahUKEwi3g7aOtI_2AhUwSvEDHXcgBo4Qty4IgAI&amp;usg=AOvVaw3gRXrRKj62Heo475V4H_sq\">További információk</a></div><div><a href=\"/url?q=https://accounts.google.com/ServiceLogin%3Fcontinue%3Dhttps://www.google.com/search%253Fq%253DSan%252BJose%252Bzip%252Bcode%26hl%3Dhu&amp;sa=U&amp;ved=0ahUKEwi3g7aOtI_2AhUwSvEDHXcgBo4Qxs8CCIEC&amp;usg=AOvVaw3ffELCCTERQgJ2fTjgNdTC\">Bejelentkezés</a></div><div><a class=\"xeDNfc\" href=\"https://www.google.com/preferences?hl=hu&amp;fg=1&amp;sa=X&amp;ved=0ahUKEwi3g7aOtI_2AhUwSvEDHXcgBo4Q5fUCCIIC\">Beállítások</a><a class=\"xeDNfc\" href=\"https://policies.google.com/privacy?hl=hu&amp;fg=1\">Adatvédelem</a><a class=\"xeDNfc\" href=\"https://policies.google.com/terms?hl=hu&amp;fg=1\">Általános Szerződési Feltételek</a></div></div> </footer><script nonce=\"S3A2vtcky7p/64vBJfnMaA==\">(function(){var hl='hu';(function(){\n",
       "var f=this||self,g=function(a){return a};var h,k=function(){if(void 0===h){var a=null,b=f.trustedTypes;if(b&&b.createPolicy){try{a=b.createPolicy(\"goog#html\",{createHTML:g,createScript:g,createScriptURL:g})}catch(c){f.console&&f.console.error(c.message)}h=a}else h=a}return h};var n=function(a,b){this.h=a===l&&b||\"\";this.g=m},p=function(a){return a instanceof n&&a.constructor===n&&a.g===m?a.h:\"type_error:Const\"},m={},l={};var r=function(a,b){this.g=b===q?a:\"\"};r.prototype.toString=function(){return this.g+\"\"};var t=function(a){return a instanceof r&&a.constructor===r?a.g:\"type_error:TrustedResourceUrl\"},x=function(){var a={},b=p(new n(l,\"/complete/search\"));if(!u.test(b))throw Error(\"a`\"+b);var c=b.replace(v,function(e,d){if(!Object.prototype.hasOwnProperty.call(a,d))throw Error(\"b`\"+d+\"`\"+b+\"`\"+JSON.stringify(a));e=a[d];return e instanceof n?p(e):encodeURIComponent(String(e))});return w(c)},v=/%{(\\w+)}/g,u=RegExp(\"^((https:)?//[0-9a-z.:[\\\\]-]+/|/[^/\\\\\\\\]|[^:/\\\\\\\\%]+/|[^:/\\\\\\\\%]*[?#]|about:blank#)\",\"i\"),y=/^([^?#]*)(\\?[^#]*)?(#[\\s\\S]*)?/,q={},w=function(a){var b=k();a=b?b.createScriptURL(a):a;return new r(a,q)},z=function(a,b,c){if(null==c)return b;if(\"string\"===typeof c)return c?a+encodeURIComponent(c):\"\";for(var e in c)if(Object.prototype.hasOwnProperty.call(c,e)){var d=c[e];d=Array.isArray(d)?d:[d];for(var D=0;D<d.length;D++){var P=d[D];null!=P&&(b||(b=a),b+=(b.length>a.length?\"&\":\"\")+encodeURIComponent(e)+\"=\"+encodeURIComponent(String(P)))}}return b};var A={},B=function(a,b,c){this.g=c===A?a:\"\"};B.prototype.toString=function(){return this.g.toString()};var C=function(a){var b=k();a=b?b.createHTML(a):a;return new B(a,null,A)};\n",
       "function E(a,b){if(void 0!==a.tagName&&void 0!==a.tagName){if(\"script\"===a.tagName.toLowerCase())throw Error(\"c\");if(\"style\"===a.tagName.toLowerCase())throw Error(\"d\");}a.innerHTML=b instanceof B&&b.constructor===B?b.g:\"type_error:SafeHtml\"};var F=document.querySelector(\".l\"),G=document.querySelector(\"#sf\"),H=G.querySelector(\".sbc\"),I=G.querySelector(\"[type=text]\"),J=G.querySelector(\"[type=submit]\"),K=G.querySelector(\".sc\"),L=G.querySelector(\".x\"),M=I.value,N=[],O=-1,Q=M,R,S,T;M||(L&&(L.style.display=\"none\"),U(!1));function U(a){if(H.classList.contains(\"esbc\")){var b=H.classList.contains(\"chsbc\"),c=H.classList.contains(\"rtlsbc\");a&&(K.style.display=\"block\",b?(G.style.borderRadius=\"20px 20px 0 0\",K.style.borderBottom=\"1px solid #DFE1E5\",J.style.borderRadius=c?\"20px 0 0 0\":\"0 20px 0 0\"):H.style.borderRadius=c?\"0 8px 0 0\":\"8px 0 0 0\");a||(K.style.display=\"none\",b?(G.style.borderRadius=\"20px\",K.style.borderBottom=\"none\",J.style.borderRadius=c?\"20px 0 0 20px\":\"0 20px 20px 0\"):H.style.borderRadius=c?\"0 8px 8px 0\":\"8px 0 0 8px\")}}function V(){G.querySelector(\"[name=oq]\").value=Q;G.querySelector(\"[name=aqs]\").value=\"heirloom-srp.\"+(0<=O?O:\"\")+\".\"+(0<N.length?\"0l\"+N.length:\"\")}\n",
       "function W(){R=null;if(S){var a={client:\"heirloom-srp\",hl:hl,json:\"t\",callback:\"hS\",q:S};\"undefined\"!==typeof ds&&ds&&(a.ds=ds);var b=document;var c=\"SCRIPT\";\"application/xhtml+xml\"===b.contentType&&(c=c.toLowerCase());c=b.createElement(c);b=x();b=y.exec(t(b).toString());var e=b[3]||\"\";a=w(b[1]+z(\"?\",b[2]||\"\",a)+z(\"#\",e,void 0));c.src=t(a);var d;a=(c.ownerDocument&&c.ownerDocument.defaultView||window).document;(d=(b=null===(d=a.querySelector)||void 0===d?void 0:d.call(a,\"script[nonce]\"))?b.nonce||\n",
       "b.getAttribute(\"nonce\")||\"\":\"\")&&c.setAttribute(\"nonce\",d);document.body.appendChild(c);S=null;R=setTimeout(W,500)}}function X(){for(;K.firstChild;)K.removeChild(K.firstChild);N=[];O=-1;U(!1)}function Y(){var a=K.querySelector(\".scs\");a&&(a.className=\"\");0<=O?(a=K.childNodes[O],a.className=\"scs\",M=a.textContent):M=Q;I.value=M}I.addEventListener(\"focus\",function(){F&&(F.style.display=\"none\")},!1);I.addEventListener(\"blur\",function(){X();F&&(F.style.display=\"\")},!1);I.addEventListener(\"keyup\",function(a){M=I.value;T=!1;13===a.which?V():27===a.which?(X(),F&&(F.style.display=\"\"),M=Q,I.value=M):40===a.which?(O++,O>=N.length&&(O=-1),Y()):38===a.which?(O--,-1>O&&(O=N.length-1),Y()):(a=M)?(L&&(L.style.display=\"\"),S=a,R||W(),Q=a):(L&&(L.style.display=\"none\"),U(!1),X(),Q=\"\",T=!0)},!1);J.addEventListener(\"click\",V,!1);L.addEventListener(\"click\",function(){I.value=\"\";L.style.display=\"none\";U(!1)},!1);H.addEventListener(\"click\",function(){I.focus()},!1);window.hS=function(a){if(!T){X();0===a[1].length&&U(!1);for(var b=0;b<a[1].length;b++){var c=a[1][b][0],e=document.createElement(\"div\");E(e,C(c));e.addEventListener(\"mousedown\",function(d){d.preventDefault();return!1},!1);c=c.replace(/<\\/?b>/g,\"\");e.addEventListener(\"click\",function(d){return function(){O=d;V();Y();X();G.submit()}}(b),!1);e.addEventListener(\"mouseover\",function(d){return function(){O!==d&&(O=d,Y())}}(b),!1);K.appendChild(e);U(!0);N.push(c)}}};}).call(this);})();(function(){\n",
       "function b(a){for(a=a.target||a.srcElement;a&&\"A\"!==a.nodeName;)a=a.parentElement;a&&(a.href||\"\").match(/\\/search.*[?&]tbm=isch/)&&(a.href+=\"&biw=\"+document.documentElement.clientWidth,a.href+=\"&bih=\"+document.documentElement.clientHeight)}document.addEventListener(\"click\",b,!1);document.addEventListener(\"touchStart\",b,!1);}).call(this);</script></div><!-- cctlcm 5 cctlcm --><textarea class=\"csi\" name=\"csi\" style=\"display:none\"></textarea><script nonce=\"S3A2vtcky7p/64vBJfnMaA==\">(function(){var e='_MoSYreVB7CUxc8P98CY8Ag';var sn='web';var timl=false;(function(){\n",
       "function y(a){if(!a||z(a))return 0;if(!a.getBoundingClientRect)return 1;var c=function(b){return b.getBoundingClientRect()};return A(a,c)?0:K(a,c)}function A(a,c){var b;a:{for(b=a;b&&null!==b;b=b.parentElement)if(\"hidden\"===b.style.overflow)break a;b=null}if(!b)return!1;a=c(a);c=c(b);return a.bottom<c.top||a.top>=c.bottom||a.right<c.left||a.left>=c.right}\n",
       "function z(a){return\"none\"===a.style.display?!0:document.defaultView&&document.defaultView.getComputedStyle?(a=document.defaultView.getComputedStyle(a),!!a&&(\"hidden\"===a.visibility||\"0px\"===a.height&&\"0px\"===a.width)):!1}\n",
       "function K(a,c){var b=c(a);a=b.left+window.pageXOffset;c=b.top+window.pageYOffset;var f=b.width;b=b.height;var g=0;if(0>=b&&0>=f)return g;var p=window.innerHeight||document.documentElement.clientHeight;0>c+b?g=2:c>=p&&(g=4);if(0>a+f||a>=(window.innerWidth||document.documentElement.clientWidth))g|=8;g||(g=1,c+b>p&&(g|=4));return g};var L=e,M=sn,N=\"undefined\"===typeof de?!0:!1!==de,O=[];function P(a,c,b){a=\"/gen_204?atyp=csi&s=\"+(M||\"web\")+\"&t=\"+a+(\"&lite=1&ei=\"+L+\"&conn=\"+(window.navigator&&window.navigator.connection?window.navigator.connection.type:-1)+c);c=\"&rt=\";for(var f in b)a+=\"\"+c+f+\".\"+b[f],c=\",\";return a}function Q(a){a={prt:a};window.wsrt&&(a.wsrt=window.wsrt);return a}function R(a){window.ping?window.ping(a):(new Image).src=a}\n",
       "(function(){for(var a=(new Date).getTime()-window.start,c=Q(a),b=0,f=0,g=0,p=document.getElementsByTagName(\"img\"),q=N?\"&biw=\"+window.innerWidth+\"&bih=\"+window.innerHeight:\"\",S=function(h,r){h.onload=function(){f=(new Date).getTime()-window.start;r&&++u==g&&(b=f,B());h.onload=null}},B=function(){q+=\"&ima=\"+g;c.aft=b;R(P(\"aft\",q,c))},u=0,T=0,d=void 0;d=p[T++];){var t=y(d),n=!!(t&1);n&&++g;var l=d.hasAttribute(\"data-ilite\"),v=d.hasAttribute(\"data-deferred\")||l,C=d.getAttribute(\"data-src\")||d.getAttribute(\"data-lzysrc\"),D=!v&&C;O.push([t,v,D,google.ldi&&d.id&&google.ldi[d.id]||l&&C]);l=(t=d.complete&&(l||!v&&!(n&&D)))&&Number(d.getAttribute(\"data-iml\"))||0;t&&l?(n&&++u,l&&(d=l-window.start,n&&(b=Math.max(b,d)),f=Math.max(f,d))):S(d,n)}b||(b=a);f||(f=b);u==g&&B();google.rglh&&google.rglh();window.addEventListener(\"load\",function(){window.setTimeout(function(){c.ol=(new Date).getTime()-window.start;timl&&(c.iml=f);var h=window.performance&&window.performance.timing;h&&(c.rqst=h.responseEnd-h.requestStart,c.rspt=h.responseEnd-\n",
       "h.responseStart);for(var r=h=0,E=0,F=0,G=0,H=0,U=0,k;k=O[U++];){var m=k[0],w=k[1],I=k[2];k=k[3];var V=0==m,x=m&8,J=m&4;(m=1==m||2==m||x&&!J)&&!x&&(w&&!k||++E,I&&++H);w&&(m&&k&&++h,J&&!k&&++r);V||x?I||++G:w||++F}q+=\"&ime=\"+E+\"&imel=\"+H+(\"&imex=\"+F+\"&imeh=\"+G)+(\"&imea=\"+h+\"&imeb=\"+r);R(P(\"all\",q,c))},0)},!1)})();}).call(this);})();</script><script nonce=\"S3A2vtcky7p/64vBJfnMaA==\">\n",
       "function _setImagesSrc(e,d){function f(b){b.onerror=function(){b.style.display=\"none\"};b.src=d}for(var g=0,a=void 0;a=e[g++];){var c=document.getElementById(a)||document.querySelector('img[data-iid=\"'+a+'\"]');c?(a=void 0,(null==(a=google.c)?0:a.setup)&&google.c.setup(c),f(c)):(google.iir=google.iir||{},google.iir[a]=d)}}\"undefined\"==typeof window.google&&(window.google={});</script><script nonce=\"S3A2vtcky7p/64vBJfnMaA==\">(function(){var s='data:image/jpeg;base64,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\\x3d';var i=['dimg_1'];_setImagesSrc(i,s);})();</script><script nonce=\"S3A2vtcky7p/64vBJfnMaA==\">(function(){var s='data:image/png;base64,iVBORw0KGgoAAAANSUhEUgAAABQAAAAUCAYAAACNiR0NAAABAUlEQVR4AWMYesChoYElLjkzPj4lY3d8csZjIL4MxPNjUzPcSTYsISFLAqj5NBD/h+LPQPwbiT87NCuLh2gDgRr2QzXuT0jNMoBYksARn5zuHJ+UcR0kB6RXE2VYXHJGOlTDZmzyIJcB5e+D1CSkZDgQNBAaZv+jU1JkcKpJygiGeZ0I76a/Byq8jU9NZFqaCNTA48SE33/iDcw8TIyBt0GKQTFN0Msp6f2EIyUpo57YSIlLSrMhIg0WCIBcCfXSdlzJBsheTHQ6jEnOUgEFOLaEDbMIlhZBOYrorAdJk+nroVnvPsSgdGdoOF7HZyhZ2XPoGQoqjbCpIbt0AiejIQMArVLI7k/DXFkAAAAASUVORK5CYII\\x3d';var i=['dimg_3','dimg_5','dimg_7','dimg_9','dimg_11','dimg_13','dimg_15','dimg_17'];_setImagesSrc(i,s);})();</script><script nonce=\"S3A2vtcky7p/64vBJfnMaA==\">(function(){var e='_MoSYreVB7CUxc8P98CY8Ag';(function(){\n",
       "var a=e;2===(window.performance&&window.performance.navigation&&window.performance.navigation.type)&&window.ping(\"/gen_204?ct=backbutton&ei=\"+a);}).call(this);})();(function(){\n",
       "var b=[function(){google.tick&&google.tick(\"load\",\"dcl\")}];google.dclc=function(a){b.length?b.push(a):a()};function c(){for(var a=b.shift();a;)a(),a=b.shift()}window.addEventListener?(document.addEventListener(\"DOMContentLoaded\",c,!1),window.addEventListener(\"load\",c,!1)):window.attachEvent&&window.attachEvent(\"onload\",c);}).call(this);\n",
       "window.jsl=window.jsl||{};window.jsl.dh=function(a,b,f){try{var g=document.getElementById(a);if(g)g.innerHTML=b,f&&f();else{var c={id:a,script:String(!!f),milestone:String(google.jslm||0)};google.jsla&&(c.async=google.jsla);var h=a.indexOf(\"_\"),d=0<h?a.substring(0,h):\"\",k=document.createElement(\"div\");k.innerHTML=b;var e=k.children[0];if(e&&(c.tag=e.tagName,c[\"class\"]=String(e.className||null),c.name=String(e.getAttribute(\"jsname\")),d)){a=[];var l=document.querySelectorAll('[id^=\"'+d+'_\"]');for(b=0;b<l.length;++b)a.push(l[b].id);c.ids=a.join(\",\")}google.ml(Error(d?\"Missing ID with prefix \"+d:\"Missing ID\"),!1,c)}}catch(m){google.ml(m,!0,{\"jsl.dh\":!0})}};(function(){var x=false;\n",
       "google.jslm=x?2:1;})();(function(){(function(){google.csct={};google.csct.ps='AOvVaw3DThvs3y574naJPtPbhtXF\\x26ust\\x3d1645485180184745';})();})();(function(){(function(){google.csct.rd=true;})();})();(function(){(function(){google.csct.rl=true;})();})();(function(){\n",
       "window.xp=function(b){function f(k,g,h){return\"xp\"+(\"x\"==g?\"c\":\"x\")+h}for(var c=/\\bxp(x|c)(\\d?)\\b/,a=b;a;){var e=a.className,d=e.match(c);if(d){d=\"c\"==d[1];a.className=e.replace(c,f);b&&b.setAttribute(\"aria-expanded\",d);if(d)for(b=a.getElementsByTagName(\"img\"),c=0;c<b.length;++c)if(a=b[c],e=a.getAttribute(\"data-ll\"))a.src=e,a.removeAttribute(\"data-ll\");break}a=a.parentElement}};})();(function(){(function(){\n",
       "window.logVe=function(a){a&&a.attributes[\"data-ved\"]&&window.ping(\"/gen_204?ved=\"+a.attributes[\"data-ved\"].value)};}).call(this);})();(function(){(function(){var id='tsuid1';var lve=true;(function(){\n",
       "\n",
       "\n",
       "var e=\"undefined\"!=typeof navigator&&!/Opera/.test(navigator.userAgent)&&/WebKit/.test(navigator.userAgent),f={A:1,INPUT:1,TEXTAREA:1,SELECT:1,BUTTON:1},g={Enter:13,\" \":32},h={A:13,BUTTON:0,CHECKBOX:32,COMBOBOX:13,FILE:0,GRIDCELL:13,LINK:13,LISTBOX:13,MENU:0,MENUBAR:0,MENUITEM:0,MENUITEMCHECKBOX:0,MENUITEMRADIO:0,OPTION:0,RADIO:32,RADIOGROUP:32,RESET:0,SUBMIT:0,SWITCH:32,TAB:0,TREE:13,TREEITEM:13},k={CHECKBOX:!0,FILE:!0,OPTION:!0,RADIO:!0},l={COLOR:!0,DATE:!0,DATETIME:!0,\"DATETIME-LOCAL\":!0,EMAIL:!0,MONTH:!0,NUMBER:!0,PASSWORD:!0,RANGE:!0,SEARCH:!0,TEL:!0,TEXT:!0,TEXTAREA:!0,TIME:!0,URL:!0,WEEK:!0};document.getElementById(id).onclick=function(){window.xp(this);lve&&window.logVe(this)};document.getElementById(id).onkeydown=function(d){var c=d.which||d.keyCode;!c&&d.key&&(c=g[d.key]);e&&3==c&&(c=13);if(13!=c&&32!=c)c=!1;else{var a=d.target||d.srcElement;!a.getAttribute&&a.parentNode&&(a=a.parentNode);var b;if(!(b=\"keydown\"!=d.type)){if(b=\"getAttribute\"in a)b=!((a.getAttribute(\"type\")||a.tagName).toUpperCase()in l);b=!(b&&!(\"BUTTON\"==a.tagName.toUpperCase()||a.type&&\"FILE\"==a.type.toUpperCase())&&!a.isContentEditable)}(b=b||d.ctrlKey||d.shiftKey||d.altKey||d.metaKey||(a.getAttribute(\"type\")||\n",
       "a.tagName).toUpperCase()in k&&32==c)||((b=a.tagName in f)||(b=a.getAttributeNode(\"tabindex\"),b=null!=b&&b.specified),b=!(b&&!a.disabled));if(b)c=!1;else{b=(a.getAttribute(\"role\")||a.type||a.tagName).toUpperCase();var m=!(b in h)&&13==c;a=\"INPUT\"!=a.tagName.toUpperCase()||!!a.type;c=(0==h[b]%c||m)&&a}}c&&(d.preventDefault(),window.xp(this),lve&&window.logVe(this))};}).call(this);})();})();(function(){window.jsl=window.jsl||{};window.jsl.dh=window.jsl.dh||function(i,c,d){try{var e=document.getElementById(i);if(e){e.innerHTML=c;if(d){d();}}else{if(window.jsl.el){window.jsl.el(new Error('Missing ID.'),{'id':i});}}}catch(e){if(window.jsl.el){window.jsl.el(new Error('jsl.dh'));}}};})();(function(){window.jsl.dh('accdef_1','\\x3cdiv\\x3e\\x3cdiv style\\x3d\\x22padding-bottom:12px;padding-top:0px\\x22 class\\x3d\\x22hwc kCrYT\\x22\\x3e\\x3cdiv class\\x3d\\x22yStFkb\\x22\\x3e\\x3cdiv class\\x3d\\x22ZINbbc xpd O9g5cc uUPGi\\x22\\x3e\\x3cdiv\\x3e\\x3cdiv class\\x3d\\x22kCrYT\\x22\\x3e\\x3ca href\\x3d\\x22/url?q\\x3dhttps://www.zip-codes.com/city/ca-san-jose.asp\\x26amp;sa\\x3dU\\x26amp;ved\\x3d2ahUKEwi3g7aOtI_2AhUwSvEDHXcgBo4QFXoECAQQBA\\x26amp;usg\\x3dAOvVaw3OQcBeFi6lTqd-CbmZuXlw\\x22\\x3e\\x3cspan\\x3e\\x3cdiv class\\x3d\\x22BNeawe deIvCb AP7Wnd\\x22\\x3eSan Jose, CA Covers 59 ZIP Codes\\x3c/div\\x3e\\x3c/span\\x3e\\x3c/a\\x3e\\x3c/div\\x3e\\x3cdiv class\\x3d\\x22CgE3Ac I9mEQ\\x22\\x3e\\x3ctable class\\x3d\\x22LnMnt\\x22\\x3e\\x3cthead\\x3e\\x3ctr\\x3e\\x3ctd class\\x3d\\x22IxZjcf sjsZvd OE1use\\x22\\x3e\\x3cdiv class\\x3d\\x22hfgVwf\\x22\\x3e\\x3cdiv class\\x3d\\x22BNeawe uEec3 AP7Wnd\\x22\\x3eZIP Code\\x3c/div\\x3e\\x3c/div\\x3e\\x3c/td\\x3e\\x3ctd class\\x3d\\x22IxZjcf sjsZvd OE1use\\x22\\x3e\\x3cdiv class\\x3d\\x22hfgVwf\\x22\\x3e\\x3cdiv class\\x3d\\x22BNeawe uEec3 AP7Wnd\\x22\\x3eType\\x3c/div\\x3e\\x3c/div\\x3e\\x3c/td\\x3e\\x3ctd class\\x3d\\x22IxZjcf sjsZvd s5aIid OE1use\\x22\\x3e\\x3cdiv class\\x3d\\x22hfgVwf\\x22\\x3e\\x3cdiv class\\x3d\\x22BNeawe uEec3 AP7Wnd\\x22\\x3eArea Code(s)\\x3c/div\\x3e\\x3c/div\\x3e\\x3c/td\\x3e\\x3c/tr\\x3e\\x3c/thead\\x3e\\x3ctbody\\x3e\\x3ctr\\x3e\\x3ctd class\\x3d\\x22sjsZvd OE1use\\x22\\x3e\\x3cdiv class\\x3d\\x22hfgVwf\\x22\\x3e\\x3cdiv class\\x3d\\x22BNeawe s3v9rd AP7Wnd\\x22\\x3e95125\\x3c/div\\x3e\\x3c/div\\x3e\\x3c/td\\x3e\\x3ctd class\\x3d\\x22sjsZvd OE1use\\x22\\x3e\\x3cdiv class\\x3d\\x22hfgVwf\\x22\\x3e\\x3cdiv class\\x3d\\x22BNeawe s3v9rd AP7Wnd\\x22\\x3eStandard\\x3c/div\\x3e\\x3c/div\\x3e\\x3c/td\\x3e\\x3ctd class\\x3d\\x22sjsZvd s5aIid OE1use\\x22\\x3e\\x3cdiv class\\x3d\\x22hfgVwf\\x22\\x3e\\x3cdiv class\\x3d\\x22BNeawe s3v9rd AP7Wnd\\x22\\x3e408\\x3c/div\\x3e\\x3c/div\\x3e\\x3c/td\\x3e\\x3c/tr\\x3e\\x3ctr\\x3e\\x3ctd class\\x3d\\x22sjsZvd OE1use\\x22\\x3e\\x3cdiv class\\x3d\\x22hfgVwf\\x22\\x3e\\x3cdiv class\\x3d\\x22BNeawe s3v9rd AP7Wnd\\x22\\x3e95126\\x3c/div\\x3e\\x3c/div\\x3e\\x3c/td\\x3e\\x3ctd class\\x3d\\x22sjsZvd OE1use\\x22\\x3e\\x3cdiv class\\x3d\\x22hfgVwf\\x22\\x3e\\x3cdiv class\\x3d\\x22BNeawe s3v9rd AP7Wnd\\x22\\x3eStandard\\x3c/div\\x3e\\x3c/div\\x3e\\x3c/td\\x3e\\x3ctd class\\x3d\\x22sjsZvd s5aIid OE1use\\x22\\x3e\\x3cdiv class\\x3d\\x22hfgVwf\\x22\\x3e\\x3cdiv class\\x3d\\x22BNeawe s3v9rd AP7Wnd\\x22\\x3e408\\x3c/div\\x3e\\x3c/div\\x3e\\x3c/td\\x3e\\x3c/tr\\x3e\\x3ctr\\x3e\\x3ctd class\\x3d\\x22sjsZvd OE1use\\x22\\x3e\\x3cdiv class\\x3d\\x22hfgVwf\\x22\\x3e\\x3cdiv class\\x3d\\x22BNeawe s3v9rd AP7Wnd\\x22\\x3e95127\\x3c/div\\x3e\\x3c/div\\x3e\\x3c/td\\x3e\\x3ctd class\\x3d\\x22sjsZvd OE1use\\x22\\x3e\\x3cdiv class\\x3d\\x22hfgVwf\\x22\\x3e\\x3cdiv class\\x3d\\x22BNeawe s3v9rd AP7Wnd\\x22\\x3eStandard\\x3c/div\\x3e\\x3c/div\\x3e\\x3c/td\\x3e\\x3ctd class\\x3d\\x22sjsZvd s5aIid OE1use\\x22\\x3e\\x3cdiv class\\x3d\\x22hfgVwf\\x22\\x3e\\x3cdiv class\\x3d\\x22BNeawe s3v9rd AP7Wnd\\x22\\x3e408\\x3c/div\\x3e\\x3c/div\\x3e\\x3c/td\\x3e\\x3c/tr\\x3e\\x3ctr\\x3e\\x3ctd class\\x3d\\x22sjsZvd OE1use\\x22\\x3e\\x3cdiv class\\x3d\\x22hfgVwf\\x22\\x3e\\x3cdiv class\\x3d\\x22BNeawe s3v9rd AP7Wnd\\x22\\x3e95128\\x3c/div\\x3e\\x3c/div\\x3e\\x3c/td\\x3e\\x3ctd class\\x3d\\x22sjsZvd OE1use\\x22\\x3e\\x3cdiv class\\x3d\\x22hfgVwf\\x22\\x3e\\x3cdiv class\\x3d\\x22BNeawe s3v9rd AP7Wnd\\x22\\x3eStandard\\x3c/div\\x3e\\x3c/div\\x3e\\x3c/td\\x3e\\x3ctd class\\x3d\\x22sjsZvd s5aIid OE1use\\x22\\x3e\\x3cdiv class\\x3d\\x22hfgVwf\\x22\\x3e\\x3cdiv class\\x3d\\x22BNeawe s3v9rd AP7Wnd\\x22\\x3e408\\x3c/div\\x3e\\x3c/div\\x3e\\x3c/td\\x3e\\x3c/tr\\x3e\\x3c/tbody\\x3e\\x3c/table\\x3e\\x3c/div\\x3e\\x3cdiv class\\x3d\\x22hwc\\x22\\x3e\\x3cdiv class\\x3d\\x22Q0HXG\\x22\\x3e\\x3c/div\\x3e\\x3cdiv class\\x3d\\x22kCrYT\\x22\\x3e\\x3ca href\\x3d\\x22/url?q\\x3dhttps://www.zip-codes.com/city/ca-san-jose.asp\\x26amp;sa\\x3dU\\x26amp;ved\\x3d2ahUKEwi3g7aOtI_2AhUwSvEDHXcgBo4QFXoECAQQBg\\x26amp;usg\\x3dAOvVaw3BWUYpAFvoQVX0hfHP5eBX\\x22\\x3e\\x3cdiv\\x3e\\x3cspan\\x3e\\x3cdiv class\\x3d\\x22BNeawe vvjwJb AP7Wnd\\x22\\x3e\\x3cspan class\\x3d\\x22UMOHqf EDgFbc\\x22\\x3eAll Zip Codes in San Jose CA\\x3c/span\\x3e\\x3c/div\\x3e\\x3c/span\\x3e\\x3cspan\\x3e\\x3cdiv class\\x3d\\x22BNeawe UPmit AP7Wnd\\x22\\x3ewww.zip-codes.com \\u203a ... \\u203a California Zip Codes \\u203a Santa Clara County\\x3c/div\\x3e\\x3c/span\\x3e\\x3c/div\\x3e\\x3c/a\\x3e\\x3c/div\\x3e\\x3c/div\\x3e\\x3c/div\\x3e\\x3c/div\\x3e\\x3c/div\\x3e\\x3cdiv\\x3e\\x3cdiv class\\x3d\\x22P1NWSe\\x22\\x3e\\x3cdiv class\\x3d\\x22wOMIed nkPlDb\\x22\\x3e\\x3cspan class\\x3d\\x22JhFlyf VQFmSd\\x22\\x3e\\x3ca class\\x3d\\x22f4J0H\\x22 href\\x3d\\x22https://www.google.com/search?ie\\x3dUTF-8\\x26amp;ei\\x3d_MoSYreVB7CUxc8P98CY8Ag\\x26amp;q\\x3dHow+many+zip+codes+are+in+San+Jose?\\x26amp;sa\\x3dX\\x26amp;ved\\x3d2ahUKEwi3g7aOtI_2AhUwSvEDHXcgBo4Qzmd6BAgEEAg\\x22\\x3eTov\\xe1bbi tal\\xe1latok\\x3c/a\\x3e\\x3c/span\\x3e\\x3c/div\\x3e\\x3c/div\\x3e\\x3c/div\\x3e\\x3c/div\\x3e\\x3c/div\\x3e');})();(function(){(function(){var id='tsuid2';var lve=true;(function(){\n",
       "\n",
       "\n",
       "var e=\"undefined\"!=typeof navigator&&!/Opera/.test(navigator.userAgent)&&/WebKit/.test(navigator.userAgent),f={A:1,INPUT:1,TEXTAREA:1,SELECT:1,BUTTON:1},g={Enter:13,\" \":32},h={A:13,BUTTON:0,CHECKBOX:32,COMBOBOX:13,FILE:0,GRIDCELL:13,LINK:13,LISTBOX:13,MENU:0,MENUBAR:0,MENUITEM:0,MENUITEMCHECKBOX:0,MENUITEMRADIO:0,OPTION:0,RADIO:32,RADIOGROUP:32,RESET:0,SUBMIT:0,SWITCH:32,TAB:0,TREE:13,TREEITEM:13},k={CHECKBOX:!0,FILE:!0,OPTION:!0,RADIO:!0},l={COLOR:!0,DATE:!0,DATETIME:!0,\"DATETIME-LOCAL\":!0,EMAIL:!0,MONTH:!0,NUMBER:!0,PASSWORD:!0,RANGE:!0,SEARCH:!0,TEL:!0,TEXT:!0,TEXTAREA:!0,TIME:!0,URL:!0,WEEK:!0};document.getElementById(id).onclick=function(){window.xp(this);lve&&window.logVe(this)};document.getElementById(id).onkeydown=function(d){var c=d.which||d.keyCode;!c&&d.key&&(c=g[d.key]);e&&3==c&&(c=13);if(13!=c&&32!=c)c=!1;else{var a=d.target||d.srcElement;!a.getAttribute&&a.parentNode&&(a=a.parentNode);var b;if(!(b=\"keydown\"!=d.type)){if(b=\"getAttribute\"in a)b=!((a.getAttribute(\"type\")||a.tagName).toUpperCase()in l);b=!(b&&!(\"BUTTON\"==a.tagName.toUpperCase()||a.type&&\"FILE\"==a.type.toUpperCase())&&!a.isContentEditable)}(b=b||d.ctrlKey||d.shiftKey||d.altKey||d.metaKey||(a.getAttribute(\"type\")||\n",
       "a.tagName).toUpperCase()in k&&32==c)||((b=a.tagName in f)||(b=a.getAttributeNode(\"tabindex\"),b=null!=b&&b.specified),b=!(b&&!a.disabled));if(b)c=!1;else{b=(a.getAttribute(\"role\")||a.type||a.tagName).toUpperCase();var m=!(b in h)&&13==c;a=\"INPUT\"!=a.tagName.toUpperCase()||!!a.type;c=(0==h[b]%c||m)&&a}}c&&(d.preventDefault(),window.xp(this),lve&&window.logVe(this))};}).call(this);})();})();(function(){window.jsl.dh('accdef_3','\\x3cdiv\\x3e\\x3cdiv style\\x3d\\x22padding-bottom:12px;padding-top:0px\\x22 class\\x3d\\x22hwc kCrYT\\x22\\x3e\\x3cdiv class\\x3d\\x22yStFkb\\x22\\x3e\\x3cdiv class\\x3d\\x22ZINbbc xpd O9g5cc uUPGi\\x22\\x3e\\x3cdiv\\x3e\\x3cdiv class\\x3d\\x22kCrYT\\x22\\x3e\\x3ca href\\x3d\\x22/url?q\\x3dhttps://en.wikipedia.org/wiki/Postal_codes_in_Costa_Rica\\x26amp;sa\\x3dU\\x26amp;ved\\x3d2ahUKEwi3g7aOtI_2AhUwSvEDHXcgBo4QFXoECAQQDA\\x26amp;usg\\x3dAOvVaw3B4imqhn-j417BQZ_lOeA5\\x22\\x3e\\x3cspan\\x3e\\x3cdiv class\\x3d\\x22BNeawe deIvCb AP7Wnd\\x22\\x3eThey are managed by the Correos de Costa Rica, a government controlled institution that provides postal service in the country.\\n...\\nList of postal codes.\\x3c/div\\x3e\\x3c/span\\x3e\\x3c/a\\x3e\\x3c/div\\x3e\\x3cdiv class\\x3d\\x22CgE3Ac I9mEQ\\x22\\x3e\\x3ctable class\\x3d\\x22LnMnt\\x22\\x3e\\x3cthead\\x3e\\x3ctr\\x3e\\x3ctd class\\x3d\\x22IxZjcf sjsZvd OE1use\\x22\\x3e\\x3cdiv class\\x3d\\x22hfgVwf\\x22\\x3e\\x3cdiv class\\x3d\\x22BNeawe uEec3 AP7Wnd\\x22\\x3eProvince\\x3c/div\\x3e\\x3c/div\\x3e\\x3c/td\\x3e\\x3ctd class\\x3d\\x22IxZjcf sjsZvd s5aIid OE1use\\x22\\x3e\\x3cdiv class\\x3d\\x22hfgVwf\\x22\\x3e\\x3cdiv class\\x3d\\x22BNeawe uEec3 AP7Wnd\\x22\\x3eSan Jos\\xe9\\x3c/div\\x3e\\x3c/div\\x3e\\x3c/td\\x3e\\x3c/tr\\x3e\\x3c/thead\\x3e\\x3ctbody\\x3e\\x3ctr\\x3e\\x3ctd class\\x3d\\x22sjsZvd OE1use\\x22\\x3e\\x3cdiv class\\x3d\\x22hfgVwf\\x22\\x3e\\x3cdiv class\\x3d\\x22BNeawe s3v9rd AP7Wnd\\x22\\x3eCanton\\x3c/div\\x3e\\x3c/div\\x3e\\x3c/td\\x3e\\x3ctd class\\x3d\\x22sjsZvd s5aIid OE1use\\x22\\x3e\\x3cdiv class\\x3d\\x22hfgVwf\\x22\\x3e\\x3cdiv class\\x3d\\x22BNeawe s3v9rd AP7Wnd\\x22\\x3eSan Jos\\xe9\\x3c/div\\x3e\\x3c/div\\x3e\\x3c/td\\x3e\\x3c/tr\\x3e\\x3ctr\\x3e\\x3ctd class\\x3d\\x22sjsZvd OE1use\\x22\\x3e\\x3cdiv class\\x3d\\x22hfgVwf\\x22\\x3e\\x3cdiv class\\x3d\\x22BNeawe s3v9rd AP7Wnd\\x22\\x3eDistrict\\x3c/div\\x3e\\x3c/div\\x3e\\x3c/td\\x3e\\x3ctd class\\x3d\\x22sjsZvd s5aIid OE1use\\x22\\x3e\\x3cdiv class\\x3d\\x22hfgVwf\\x22\\x3e\\x3cdiv class\\x3d\\x22BNeawe s3v9rd AP7Wnd\\x22\\x3eSan Francisco de Dos R\\xedos\\x3c/div\\x3e\\x3c/div\\x3e\\x3c/td\\x3e\\x3c/tr\\x3e\\x3ctr\\x3e\\x3ctd class\\x3d\\x22sjsZvd OE1use\\x22\\x3e\\x3cdiv class\\x3d\\x22hfgVwf\\x22\\x3e\\x3cdiv class\\x3d\\x22BNeawe s3v9rd AP7Wnd\\x22\\x3ePostal Code\\x3c/div\\x3e\\x3c/div\\x3e\\x3c/td\\x3e\\x3ctd class\\x3d\\x22sjsZvd s5aIid OE1use\\x22\\x3e\\x3cdiv class\\x3d\\x22hfgVwf\\x22\\x3e\\x3cdiv class\\x3d\\x22BNeawe s3v9rd AP7Wnd\\x22\\x3e10106\\x3c/div\\x3e\\x3c/div\\x3e\\x3c/td\\x3e\\x3c/tr\\x3e\\x3c/tbody\\x3e\\x3c/table\\x3e\\x3c/div\\x3e\\x3cdiv class\\x3d\\x22hwc\\x22\\x3e\\x3cdiv class\\x3d\\x22Q0HXG\\x22\\x3e\\x3c/div\\x3e\\x3cdiv class\\x3d\\x22kCrYT\\x22\\x3e\\x3ca href\\x3d\\x22/url?q\\x3dhttps://en.wikipedia.org/wiki/Postal_codes_in_Costa_Rica\\x26amp;sa\\x3dU\\x26amp;ved\\x3d2ahUKEwi3g7aOtI_2AhUwSvEDHXcgBo4QFXoECAQQDg\\x26amp;usg\\x3dAOvVaw3UfypYB-vM9hapej-dW9af\\x22\\x3e\\x3cdiv\\x3e\\x3cspan\\x3e\\x3cdiv class\\x3d\\x22BNeawe vvjwJb AP7Wnd\\x22\\x3e\\x3cspan class\\x3d\\x22UMOHqf EDgFbc\\x22\\x3ePostal codes in Costa Rica - Wikipedia\\x3c/span\\x3e\\x3c/div\\x3e\\x3c/span\\x3e\\x3cspan\\x3e\\x3cdiv class\\x3d\\x22BNeawe UPmit AP7Wnd\\x22\\x3een.wikipedia.org \\u203a wiki \\u203a Postal_codes_in_Costa_Rica\\x3c/div\\x3e\\x3c/span\\x3e\\x3c/div\\x3e\\x3c/a\\x3e\\x3c/div\\x3e\\x3c/div\\x3e\\x3c/div\\x3e\\x3c/div\\x3e\\x3c/div\\x3e\\x3cdiv\\x3e\\x3cdiv class\\x3d\\x22P1NWSe\\x22\\x3e\\x3cdiv class\\x3d\\x22wOMIed nkPlDb\\x22\\x3e\\x3cspan class\\x3d\\x22JhFlyf VQFmSd\\x22\\x3e\\x3ca class\\x3d\\x22f4J0H\\x22 href\\x3d\\x22https://www.google.com/search?ie\\x3dUTF-8\\x26amp;ei\\x3d_MoSYreVB7CUxc8P98CY8Ag\\x26amp;q\\x3dDoes+San+Jose+Costa+Rica+have+a+zip+code?\\x26amp;sa\\x3dX\\x26amp;ved\\x3d2ahUKEwi3g7aOtI_2AhUwSvEDHXcgBo4Qzmd6BAgEEBA\\x22\\x3eTov\\xe1bbi tal\\xe1latok\\x3c/a\\x3e\\x3c/span\\x3e\\x3c/div\\x3e\\x3c/div\\x3e\\x3c/div\\x3e\\x3c/div\\x3e\\x3c/div\\x3e');})();(function(){(function(){var id='tsuid3';var lve=true;(function(){\n",
       "\n",
       "\n",
       "var e=\"undefined\"!=typeof navigator&&!/Opera/.test(navigator.userAgent)&&/WebKit/.test(navigator.userAgent),f={A:1,INPUT:1,TEXTAREA:1,SELECT:1,BUTTON:1},g={Enter:13,\" \":32},h={A:13,BUTTON:0,CHECKBOX:32,COMBOBOX:13,FILE:0,GRIDCELL:13,LINK:13,LISTBOX:13,MENU:0,MENUBAR:0,MENUITEM:0,MENUITEMCHECKBOX:0,MENUITEMRADIO:0,OPTION:0,RADIO:32,RADIOGROUP:32,RESET:0,SUBMIT:0,SWITCH:32,TAB:0,TREE:13,TREEITEM:13},k={CHECKBOX:!0,FILE:!0,OPTION:!0,RADIO:!0},l={COLOR:!0,DATE:!0,DATETIME:!0,\"DATETIME-LOCAL\":!0,EMAIL:!0,MONTH:!0,NUMBER:!0,PASSWORD:!0,RANGE:!0,SEARCH:!0,TEL:!0,TEXT:!0,TEXTAREA:!0,TIME:!0,URL:!0,WEEK:!0};document.getElementById(id).onclick=function(){window.xp(this);lve&&window.logVe(this)};document.getElementById(id).onkeydown=function(d){var c=d.which||d.keyCode;!c&&d.key&&(c=g[d.key]);e&&3==c&&(c=13);if(13!=c&&32!=c)c=!1;else{var a=d.target||d.srcElement;!a.getAttribute&&a.parentNode&&(a=a.parentNode);var b;if(!(b=\"keydown\"!=d.type)){if(b=\"getAttribute\"in a)b=!((a.getAttribute(\"type\")||a.tagName).toUpperCase()in l);b=!(b&&!(\"BUTTON\"==a.tagName.toUpperCase()||a.type&&\"FILE\"==a.type.toUpperCase())&&!a.isContentEditable)}(b=b||d.ctrlKey||d.shiftKey||d.altKey||d.metaKey||(a.getAttribute(\"type\")||\n",
       "a.tagName).toUpperCase()in k&&32==c)||((b=a.tagName in f)||(b=a.getAttributeNode(\"tabindex\"),b=null!=b&&b.specified),b=!(b&&!a.disabled));if(b)c=!1;else{b=(a.getAttribute(\"role\")||a.type||a.tagName).toUpperCase();var m=!(b in h)&&13==c;a=\"INPUT\"!=a.tagName.toUpperCase()||!!a.type;c=(0==h[b]%c||m)&&a}}c&&(d.preventDefault(),window.xp(this),lve&&window.logVe(this))};}).call(this);})();})();(function(){window.jsl.dh('accdef_5','\\x3cdiv\\x3e\\x3cdiv style\\x3d\\x22padding-bottom:12px;padding-top:0px\\x22 class\\x3d\\x22hwc kCrYT\\x22\\x3e\\x3cdiv class\\x3d\\x22yStFkb\\x22\\x3e\\x3cdiv class\\x3d\\x22ZINbbc xpd O9g5cc uUPGi\\x22\\x3e\\x3cdiv\\x3e\\x3cdiv\\x3e\\x3cdiv\\x3e\\x3cdiv class\\x3d\\x22kCrYT\\x22\\x3e\\x3cdiv\\x3e\\x3cdiv\\x3e\\x3cdiv\\x3e\\x3cdiv class\\x3d\\x22BNeawe iBp4i AP7Wnd\\x22\\x3e\\x3cdiv\\x3e\\x3cdiv class\\x3d\\x22BNeawe iBp4i AP7Wnd\\x22\\x3eArea codes 408 and 669\\x3c/div\\x3e\\x3c/div\\x3e\\x3c/div\\x3e\\x3c/div\\x3e\\x3c/div\\x3e\\x3cdiv class\\x3d\\x22nXE3Ob\\x22\\x3e\\x3cspan\\x3e\\x3cdiv class\\x3d\\x22BNeawe uEec3 AP7Wnd\\x22\\x3e\\x3cspan class\\x3d\\x22xUrNXd UMOHqf\\x22\\x3eSan Jos\\xe9\\x3c/span\\x3e / \\x3cspan class\\x3d\\x22atOwb UMOHqf\\x22\\x3eK\\xf6rzetsz\\xe1m\\x3c/span\\x3e\\x3c/div\\x3e\\x3c/span\\x3e\\x3c/div\\x3e\\x3c/div\\x3e\\x3c/div\\x3e\\x3c/div\\x3e\\x3c/div\\x3e\\x3c/div\\x3e\\x3c/div\\x3e\\x3c/div\\x3e\\x3cdiv\\x3e\\x3cdiv class\\x3d\\x22P1NWSe\\x22\\x3e\\x3cdiv class\\x3d\\x22wOMIed nkPlDb\\x22\\x3e\\x3cspan class\\x3d\\x22JhFlyf VQFmSd\\x22\\x3e\\x3ca class\\x3d\\x22f4J0H\\x22 href\\x3d\\x22https://www.google.com/search?ie\\x3dUTF-8\\x26amp;ei\\x3d_MoSYreVB7CUxc8P98CY8Ag\\x26amp;q\\x3dWhat+is+the+area+code+for+San+Jose+CA?\\x26amp;sa\\x3dX\\x26amp;ved\\x3d2ahUKEwi3g7aOtI_2AhUwSvEDHXcgBo4Qzmd6BAgEEBU\\x22\\x3eTov\\xe1bbi tal\\xe1latok\\x3c/a\\x3e\\x3c/span\\x3e\\x3c/div\\x3e\\x3c/div\\x3e\\x3c/div\\x3e\\x3c/div\\x3e\\x3c/div\\x3e');})();(function(){window.jsl.dh('tsuid4','\\x3cdiv class\\x3d\\x22rwA8ec HDOrGf GNm3Qb\\x22 style\\x3d\\x22white-space:normal\\x22\\x3e\\x3ca jsname\\x3d\\x22gXWYVe\\x22 href\\x3d\\x22#\\x22 style\\x3d\\x22white-space:normal\\x22 data-biw\\x3d\\x221440\\x22 jsaction\\x3d\\x22click:HTIlC\\x22 role\\x3d\\x22button\\x22 tabindex\\x3d\\x220\\x22 data-ved\\x3d\\x220ahUKEwi3g7aOtI_2AhUwSvEDHXcgBo4QuZ0HCPcB\\x22\\x3e\\x3cdiv class\\x3d\\x22GNm3Qb\\x22\\x3e\\x3cspan class\\x3d\\x22EYqSq unknown_loc\\x22\\x3e\\x3c/span\\x3e\\x3cspan class\\x3d\\x22dfB0uf\\x22\\x3e1118, Budapest\\x3c/span\\x3e\\x3c/div\\x3e\\x3cdiv class\\x3d\\x22GNm3Qb\\x22\\x3e\\x3cspan id\\x3d\\x22VdZal\\x22\\x3e\\x26nbsp;-\\x26nbsp;\\x3c/span\\x3e\\x3cspan class\\x3d\\x22KwU3F\\x22\\x3e\\x3cspan\\x3eAz \\xd6n IP-c\\xedme alapj\\xe1n\\x3c/span\\x3e\\x3c/span\\x3e\\x3c/div\\x3e\\x3c/a\\x3e\\x3cg-dialog jsname\\x3d\\x22BDbGbf\\x22 jscontroller\\x3d\\x22VEbNoe\\x22 data-id\\x3d\\x22__MoSYreVB7CUxc8P98CY8Ag6\\x22 jsaction\\x3d\\x22jxvro:Imgh9b\\x22 jsdata\\x3d\\x22gctHtc;_;AlM6Uo\\x22 jsshadow\\x3d\\x22\\x22\\x3e\\x3cdiv jsname\\x3d\\x22XKSfm\\x22 id\\x3d\\x22__MoSYreVB7CUxc8P98CY8Ag6\\x22 jsaction\\x3d\\x22dBhwS:TvD9Pc;mLt3mc\\x22\\x3e\\x3c/div\\x3e\\x3c/g-dialog\\x3e\\x3c/div\\x3e\\x3cspan id\\x3d\\x22RYW0de\\x22\\x3e\\x26nbsp;-\\x26nbsp;\\x3c/span\\x3e\\x3cupdate-location class\\x3d\\x22xSQxL HDOrGf\\x22 jscontroller\\x3d\\x22XVaCB\\x22 role\\x3d\\x22button\\x22 tabindex\\x3d\\x220\\x22 jsaction\\x3d\\x22Q1u0zb;sFrcje:SBZ73c\\x22 data-ved\\x3d\\x220ahUKEwi3g7aOtI_2AhUwSvEDHXcgBo4QpLkCCPkB\\x22\\x3eHely friss\\xedt\\xe9se\\x3cg-snackbar jsname\\x3d\\x22wzWFvc\\x22 id\\x3d\\x22tsuid7\\x22 jscontroller\\x3d\\x22OZLguc\\x22 style\\x3d\\x22display:none\\x22 data-dismiss\\x3d\\x22\\x22 jsshadow\\x3d\\x22\\x22 jsaction\\x3d\\x22rcuQ6b:npT2md\\x22\\x3e\\x3c/g-snackbar\\x3e\\x3cg-snackbar jsname\\x3d\\x22M8d6me\\x22 id\\x3d\\x22tsuid9\\x22 jscontroller\\x3d\\x22OZLguc\\x22 style\\x3d\\x22display:none\\x22 jsshadow\\x3d\\x22\\x22 jsaction\\x3d\\x22rcuQ6b:npT2md\\x22\\x3e\\x3c/g-snackbar\\x3e\\x3c/update-location\\x3e');})();(function(){window.jsl.dh('__MoSYreVB7CUxc8P98CY8Ag6','\\x3cdiv jsname\\x3d\\x22bF1uUb\\x22 class\\x3d\\x22t7xA6 Xz5tfb\\x22\\x3e\\x3c/div\\x3e\\x3cdiv class\\x3d\\x22bErdLd llJxV hFCnyd wwYr3\\x22\\x3e\\x3cdiv class\\x3d\\x22ls8Qne\\x22 aria-hidden\\x3d\\x22true\\x22 role\\x3d\\x22button\\x22 tabindex\\x3d\\x220\\x22 jsaction\\x3d\\x22focus:sT2f3e\\x22\\x3e\\x3c/div\\x3e\\x3cspan jsslot\\x3d\\x22\\x22\\x3e\\x3cdiv class\\x3d\\x22NJfJb TUOsUe mr5vfb Sr5CLc OosGzb\\x22 aria-labelledby\\x3d\\x22lQ3q8c\\x22 role\\x3d\\x22dialog\\x22\\x3e\\x3cdiv jsname\\x3d\\x22C8RmQc\\x22 id\\x3d\\x22C8RmQc\\x22 data-jiis\\x3d\\x22up\\x22 data-async-type\\x3d\\x22lbsc\\x22 class\\x3d\\x22yp\\x22\\x3e\\x3c/div\\x3e\\x3c/div\\x3e\\x3c/span\\x3e\\x3cdiv class\\x3d\\x22ls8Qne\\x22 aria-hidden\\x3d\\x22true\\x22 role\\x3d\\x22button\\x22 tabindex\\x3d\\x220\\x22 jsaction\\x3d\\x22focus:tuePCd\\x22\\x3e\\x3c/div\\x3e\\x3c/div\\x3e');})();(function(){window.jsl.dh('tsuid7','\\x3cdiv jsname\\x3d\\x22sM5MNb\\x22 aria-live\\x3d\\x22polite\\x22 class\\x3d\\x22tYAdEe\\x22 style\\x3d\\x22z-index:2000\\x22\\x3e\\x3cdiv jsname\\x3d\\x22Ng57nc\\x22 class\\x3d\\x22FEXCIb\\x22 data-ved\\x3d\\x220ahUKEwi3g7aOtI_2AhUwSvEDHXcgBo4Q4G8I-gE\\x22\\x3e\\x3cdiv class\\x3d\\x22EA3l1b\\x22\\x3e\\x3cdiv class\\x3d\\x22Xb004\\x22 jsslot\\x3d\\x22\\x22\\x3e\\x3cspan class\\x3d\\x22awHmMb wHYlTd yUTMj\\x22\\x3eNem siker\\xfclt friss\\xedteni a tart\\xf3zkod\\xe1si hely\\xe9t\\x3c/span\\x3e\\x3cg-snackbar-action class\\x3d\\x22BDp8nf zJUuqf AB4Wff aepCxe\\x22 jscontroller\\x3d\\x22xRxDld\\x22 jsaction\\x3d\\x22GtUzrb\\x22 data-ved\\x3d\\x220ahUKEwi3g7aOtI_2AhUwSvEDHXcgBo4QhbkICPwB\\x22\\x3e\\x3cg-flat-button class\\x3d\\x22U8shWc r2fjmd hObAcc gTewb VDgVie hpZDWd fSXIc\\x22 style\\x3d\\x22color:#4285f4\\x22 role\\x3d\\x22button\\x22 tabindex\\x3d\\x220\\x22\\x3e\\x3cspan\\x3eTov\\xe1bbi inform\\xe1ci\\xf3k\\x3c/span\\x3e\\x3c/g-flat-button\\x3e\\x3c/g-snackbar-action\\x3e\\x3c/div\\x3e\\x3c/div\\x3e\\x3c/div\\x3e\\x3c/div\\x3e');})();(function(){window.jsl.dh('tsuid9','\\x3cdiv jsname\\x3d\\x22sM5MNb\\x22 aria-live\\x3d\\x22polite\\x22 class\\x3d\\x22tYAdEe\\x22 style\\x3d\\x22z-index:2000\\x22\\x3e\\x3cdiv jsname\\x3d\\x22Ng57nc\\x22 class\\x3d\\x22FEXCIb\\x22 data-ved\\x3d\\x220ahUKEwi3g7aOtI_2AhUwSvEDHXcgBo4Q4G8I_gE\\x22\\x3e\\x3cdiv class\\x3d\\x22EA3l1b\\x22\\x3e\\x3cdiv class\\x3d\\x22Xb004\\x22 jsslot\\x3d\\x22\\x22\\x3e\\x3cspan class\\x3d\\x22awHmMb wHYlTd yUTMj\\x22\\x3eTart\\xf3zkod\\xe1si hely friss\\xedt\\xe9se\\u2026\\x3c/span\\x3e\\x3c/div\\x3e\\x3c/div\\x3e\\x3c/div\\x3e\\x3c/div\\x3e');})();google.drty&&google.drty(undefined,true);</script></body></html>"
      ]
     },
     "execution_count": 1,
     "metadata": {},
     "output_type": "execute_result"
    }
   ],
   "source": [
    "import requests\n",
    "from bs4 import BeautifulSoup\n",
    "headers = {'Cookie':'CONSENT=YES+cb.20210418-17-p0.it+FX+917;'}\n",
    "\n",
    "res = requests.get('https://www.google.com/search?q=San+Jose+zip+code', headers = headers )\n",
    "soup = BeautifulSoup(res.text, 'html.parser')\n",
    "soup"
   ]
  },
  {
   "cell_type": "markdown",
   "metadata": {},
   "source": [
    "### 2 - check yourself"
   ]
  },
  {
   "cell_type": "code",
   "execution_count": 2,
   "metadata": {},
   "outputs": [
    {
     "name": "stdout",
     "output_type": "stream",
     "text": [
      "Your soup object is correct\n"
     ]
    }
   ],
   "source": [
    "if type(soup) == BeautifulSoup and '94089' in soup.text:\n",
    "    print('Your soup object is correct')\n",
    "else:\n",
    "    print('Your soup object is NOT correct')"
   ]
  },
  {
   "cell_type": "markdown",
   "metadata": {},
   "source": [
    "### 3 - exercise\n",
    "Try to find all the div elements of class bVj5Zb FozYP in your soup object. How many are there?"
   ]
  },
  {
   "cell_type": "code",
   "execution_count": 3,
   "metadata": {},
   "outputs": [
    {
     "data": {
      "text/plain": [
       "0"
      ]
     },
     "execution_count": 3,
     "metadata": {},
     "output_type": "execute_result"
    }
   ],
   "source": [
    "elements = soup.find_all('div', class_='bVj5Zb FozYP')\n",
    "len(elements) # 0 elements"
   ]
  },
  {
   "cell_type": "markdown",
   "metadata": {},
   "source": [
    "### 3 - check yourself\n",
    "If you haven't found any div of this class you were right."
   ]
  },
  {
   "cell_type": "markdown",
   "metadata": {},
   "source": [
    "### 4 - exercise\n",
    "So it looks like that the scraped HTML code doesn't have the elements you saw in the browser. The reason is that when opening the url in the browser, it uses JavaScript to format the page, but when we scraped it, only the plaine HTML was sent. <br><br>\n",
    "To see the same content in the browser disable JavaScript usage by following this directions:  https://productforums.google.com/forum/#!msg/chrome/BYOQskiuGU0/dO592rlLbJ0J). <br><br>\n",
    "Then open the page again and find using the Inspect tool find the HTML elemnt containg the zip code!"
   ]
  },
  {
   "cell_type": "code",
   "execution_count": null,
   "metadata": {},
   "outputs": [],
   "source": [
    "# ('div',  class_='BNeawe deIvCb AP7Wnd')"
   ]
  },
  {
   "cell_type": "markdown",
   "metadata": {},
   "source": [
    "### 4 - check yourself\n",
    "\n",
    "Each zip code is under a div of class \"BNeawe deIvCb AP7Wnd\""
   ]
  },
  {
   "cell_type": "markdown",
   "metadata": {},
   "source": [
    "### 5 - exercise\n",
    "Try to find all the div elements of class \"BNeawe deIvCb AP7Wnd\" in your soup object. How many are there?"
   ]
  },
  {
   "cell_type": "code",
   "execution_count": 6,
   "metadata": {},
   "outputs": [
    {
     "data": {
      "text/plain": [
       "68"
      ]
     },
     "execution_count": 6,
     "metadata": {},
     "output_type": "execute_result"
    }
   ],
   "source": [
    "headers = {'Cookie':'CONSENT=YES+cb.20210418-17-p0.it+FX+917;'}\n",
    "\n",
    "res = requests.get('https://www.google.com/search?q=San+Jose+zip+code',headers = headers )\n",
    "soup = BeautifulSoup(res.text, 'html.parser')\n",
    "\n",
    "len(soup.find_all('div',  class_='BNeawe deIvCb AP7Wnd'))\n"
   ]
  },
  {
   "cell_type": "markdown",
   "metadata": {},
   "source": [
    "### 5 - check yourself\n",
    "You should find 68 elements"
   ]
  },
  {
   "cell_type": "markdown",
   "metadata": {},
   "source": [
    "### 6 - exercise\n",
    "Make a list called zipcode_list that contains the text from all the \"BNeawe deIvCb AP7Wnd\" div elements. Keep only those that consist of numbers"
   ]
  },
  {
   "cell_type": "code",
   "execution_count": 7,
   "metadata": {
    "scrolled": true
   },
   "outputs": [],
   "source": [
    "zipcode_list = []\n",
    "for element in soup.find_all('div',  class_='BNeawe deIvCb AP7Wnd'):\n",
    "    if element.text.isdigit():\n",
    "        zipcode_list.append(element.text)\n"
   ]
  },
  {
   "cell_type": "markdown",
   "metadata": {},
   "source": [
    "### 6 - check yourself"
   ]
  },
  {
   "cell_type": "code",
   "execution_count": 8,
   "metadata": {},
   "outputs": [
    {
     "name": "stdout",
     "output_type": "stream",
     "text": [
      "Your list is correct\n"
     ]
    }
   ],
   "source": [
    "if sorted(zipcode_list)[0] == '94088' and len(zipcode_list) == 66:\n",
    "    print('Your list is correct')\n",
    "else:\n",
    "    print('Your list is NOT correct')"
   ]
  },
  {
   "cell_type": "markdown",
   "metadata": {},
   "source": [
    "### 7 - exercise\n",
    "Read in the weather csv into a pandas dataframe called station. <br>\n",
    "Create a dictionary called zipcode_dict which keys are the unique values from the landmark column and the value of each key is an empty list. You print the unique values and create the dictionary by hand or as an advanced task, try to create the dictionary without typing any landmark name!"
   ]
  },
  {
   "cell_type": "code",
   "execution_count": 9,
   "metadata": {},
   "outputs": [
    {
     "data": {
      "text/plain": [
       "dict_keys(['San Francisco', 'Palo Alto', 'Mountain View', 'San Jose', 'Redwood City'])"
      ]
     },
     "execution_count": 9,
     "metadata": {},
     "output_type": "execute_result"
    }
   ],
   "source": [
    "import pandas as pd\n",
    "station = pd.read_csv('weather.csv')\n",
    "landmarks = list(station['landmark'].unique())\n",
    "zipcode_dict = dict.fromkeys(landmarks, [])\n",
    "\n",
    "# Check\n",
    "zipcode_dict.keys()\n"
   ]
  },
  {
   "cell_type": "markdown",
   "metadata": {},
   "source": [
    "### 7 - check yourself"
   ]
  },
  {
   "cell_type": "code",
   "execution_count": 10,
   "metadata": {},
   "outputs": [
    {
     "name": "stdout",
     "output_type": "stream",
     "text": [
      "Your dictionary is correct\n"
     ]
    }
   ],
   "source": [
    "if sorted(list(zipcode_dict.items())) == [('Mountain View', []),\n",
    "                                         ('Palo Alto', []),\n",
    "                                         ('Redwood City', []),\n",
    "                                         ('San Francisco', []),\n",
    "                                         ('San Jose', [])]:\n",
    "    print('Your dictionary is correct')\n",
    "else:\n",
    "    print('Your dictionary is NOT correct')"
   ]
  },
  {
   "cell_type": "markdown",
   "metadata": {},
   "source": [
    "### 8 - exercise\n",
    "Loop the keys from the zipcode_dict and for each key print the url you would use to search the zip codes of a given city in google by using string formatting. <br>\n",
    "For example if the city is Palo Alto the url should be: <br>\n",
    "https://www.google.com/search?q=Palo Alto zip code"
   ]
  },
  {
   "cell_type": "code",
   "execution_count": 11,
   "metadata": {},
   "outputs": [
    {
     "name": "stdout",
     "output_type": "stream",
     "text": [
      "https://www.google.com/search?q=San Francisco zip code\n",
      "https://www.google.com/search?q=Palo Alto zip code\n",
      "https://www.google.com/search?q=Mountain View zip code\n",
      "https://www.google.com/search?q=San Jose zip code\n",
      "https://www.google.com/search?q=Redwood City zip code\n"
     ]
    }
   ],
   "source": [
    "for city in list(zipcode_dict.keys()):\n",
    "    url='https://www.google.com/search?q={} zip code'.format(city)\n",
    "    print(url)\n"
   ]
  },
  {
   "cell_type": "markdown",
   "metadata": {},
   "source": [
    "### 9 - exercise\n",
    "Similarly as before, loop the keys from the zipcode_dict and for each key inside the loop:\n",
    "- Get a response object to the url you would use to search the zip codes of a given city in google. <br>\n",
    "- Make a soup from that resopnse object. <br>\n",
    "- Make a list of all zip codes in the soup object. You can find the zip codes as in Exercise 6<br>\n",
    "- Assign this list as value to the key in the zipcode_dict"
   ]
  },
  {
   "cell_type": "code",
   "execution_count": 12,
   "metadata": {},
   "outputs": [],
   "source": [
    "for city in list(zipcode_dict.keys()):\n",
    "    url='https://www.google.com/search?q={} zip code'.format(city)\n",
    "    res = requests.get(url, headers = headers)\n",
    "    soup = BeautifulSoup(res.text, 'html.parser')\n",
    "    zipcode_list = []\n",
    "    for element in soup.find_all('div',  class_='BNeawe deIvCb AP7Wnd'):\n",
    "        if element.text.isdigit():\n",
    "            zipcode_list.append(element.text)\n",
    "    zipcode_dict[city]=zipcode_list"
   ]
  },
  {
   "cell_type": "code",
   "execution_count": 14,
   "metadata": {},
   "outputs": [
    {
     "data": {
      "text/plain": [
       "{'San Francisco': ['94016',\n",
       "  '94102',\n",
       "  '94103',\n",
       "  '94104',\n",
       "  '94105',\n",
       "  '94107',\n",
       "  '94108',\n",
       "  '94109',\n",
       "  '94110',\n",
       "  '94111',\n",
       "  '94112',\n",
       "  '94114',\n",
       "  '94115',\n",
       "  '94116',\n",
       "  '94117',\n",
       "  '94118',\n",
       "  '94119',\n",
       "  '94120',\n",
       "  '94121',\n",
       "  '94122',\n",
       "  '94123',\n",
       "  '94124',\n",
       "  '94125',\n",
       "  '94126',\n",
       "  '94127',\n",
       "  '94129',\n",
       "  '94130',\n",
       "  '94131',\n",
       "  '94132',\n",
       "  '94133',\n",
       "  '94134',\n",
       "  '94137',\n",
       "  '94139',\n",
       "  '94140',\n",
       "  '94141',\n",
       "  '94142',\n",
       "  '94143',\n",
       "  '94144',\n",
       "  '94145',\n",
       "  '94146',\n",
       "  '94147',\n",
       "  '94151',\n",
       "  '94153',\n",
       "  '94154',\n",
       "  '94156',\n",
       "  '94158',\n",
       "  '94159',\n",
       "  '94160',\n",
       "  '94161',\n",
       "  '94162',\n",
       "  '94163',\n",
       "  '94164',\n",
       "  '94171',\n",
       "  '94172',\n",
       "  '94177',\n",
       "  '94188'],\n",
       " 'Palo Alto': ['94020',\n",
       "  '94022',\n",
       "  '94024',\n",
       "  '94028',\n",
       "  '94301',\n",
       "  '94302',\n",
       "  '94303',\n",
       "  '94304',\n",
       "  '94306',\n",
       "  '95033'],\n",
       " 'Mountain View': ['94039',\n",
       "  '94040',\n",
       "  '94041',\n",
       "  '94042',\n",
       "  '94043',\n",
       "  '94085',\n",
       "  '94303'],\n",
       " 'San Jose': ['94088',\n",
       "  '94089',\n",
       "  '94560',\n",
       "  '95002',\n",
       "  '95008',\n",
       "  '95013',\n",
       "  '95035',\n",
       "  '95037',\n",
       "  '95050',\n",
       "  '95054',\n",
       "  '95101',\n",
       "  '95103',\n",
       "  '95106',\n",
       "  '95108',\n",
       "  '95109',\n",
       "  '95110',\n",
       "  '95111',\n",
       "  '95112',\n",
       "  '95113',\n",
       "  '95115',\n",
       "  '95116',\n",
       "  '95117',\n",
       "  '95118',\n",
       "  '95119',\n",
       "  '95120',\n",
       "  '95121',\n",
       "  '95122',\n",
       "  '95123',\n",
       "  '95124',\n",
       "  '95125',\n",
       "  '95126',\n",
       "  '95127',\n",
       "  '95128',\n",
       "  '95129',\n",
       "  '95130',\n",
       "  '95131',\n",
       "  '95132',\n",
       "  '95133',\n",
       "  '95134',\n",
       "  '95135',\n",
       "  '95136',\n",
       "  '95138',\n",
       "  '95139',\n",
       "  '95141',\n",
       "  '95148',\n",
       "  '95150',\n",
       "  '95151',\n",
       "  '95152',\n",
       "  '95153',\n",
       "  '95154',\n",
       "  '95155',\n",
       "  '95156',\n",
       "  '95157',\n",
       "  '95158',\n",
       "  '95160',\n",
       "  '95161',\n",
       "  '95164',\n",
       "  '95170',\n",
       "  '95172',\n",
       "  '95173',\n",
       "  '95190',\n",
       "  '95191',\n",
       "  '95192',\n",
       "  '95193',\n",
       "  '95194',\n",
       "  '95196'],\n",
       " 'Redwood City': ['94061', '94062', '94063', '94064', '94065', '94070']}"
      ]
     },
     "execution_count": 14,
     "metadata": {},
     "output_type": "execute_result"
    }
   ],
   "source": [
    "# Check\n",
    "zipcode_dict"
   ]
  },
  {
   "cell_type": "markdown",
   "metadata": {},
   "source": [
    "### 9 - check yourslef"
   ]
  },
  {
   "cell_type": "code",
   "execution_count": 15,
   "metadata": {},
   "outputs": [
    {
     "name": "stdout",
     "output_type": "stream",
     "text": [
      "Your dictionary is correct\n"
     ]
    }
   ],
   "source": [
    "if sorted([len(x) for x in zipcode_dict.values()]) == [6, 7, 10, 56, 66]:\n",
    "    print('Your dictionary is correct')\n",
    "else:\n",
    "    print('Your dictionary is NOT correct')"
   ]
  }
 ],
 "metadata": {
  "kernelspec": {
   "display_name": "Python 3",
   "language": "python",
   "name": "python3"
  },
  "language_info": {
   "codemirror_mode": {
    "name": "ipython",
    "version": 3
   },
   "file_extension": ".py",
   "mimetype": "text/x-python",
   "name": "python",
   "nbconvert_exporter": "python",
   "pygments_lexer": "ipython3",
   "version": "3.7.3"
  }
 },
 "nbformat": 4,
 "nbformat_minor": 2
}
