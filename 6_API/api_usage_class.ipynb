{
 "cells": [
  {
   "cell_type": "markdown",
   "metadata": {},
   "source": [
    "### Using API"
   ]
  },
  {
   "cell_type": "code",
   "execution_count": 1,
   "metadata": {},
   "outputs": [],
   "source": [
    "#http://open-notify.org/Open-Notify-API/"
   ]
  },
  {
   "cell_type": "markdown",
   "metadata": {},
   "source": [
    "#### getting response"
   ]
  },
  {
   "cell_type": "code",
   "execution_count": 2,
   "metadata": {},
   "outputs": [],
   "source": [
    "import requests"
   ]
  },
  {
   "cell_type": "code",
   "execution_count": 3,
   "metadata": {},
   "outputs": [
    {
     "data": {
      "text/plain": [
       "<Response [200]>"
      ]
     },
     "execution_count": 3,
     "metadata": {},
     "output_type": "execute_result"
    }
   ],
   "source": [
    "requests.get(\"http://api.open-notify.org/astros.json\")"
   ]
  },
  {
   "cell_type": "code",
   "execution_count": 4,
   "metadata": {},
   "outputs": [
    {
     "data": {
      "text/plain": [
       "<Response [404]>"
      ]
     },
     "execution_count": 4,
     "metadata": {},
     "output_type": "execute_result"
    }
   ],
   "source": [
    "requests.get(\"http://api.open-notify.org/astros.json+notvalid\")"
   ]
  },
  {
   "cell_type": "code",
   "execution_count": 5,
   "metadata": {},
   "outputs": [
    {
     "data": {
      "text/plain": [
       "requests.models.Response"
      ]
     },
     "execution_count": 5,
     "metadata": {},
     "output_type": "execute_result"
    }
   ],
   "source": [
    "resp = requests.get(\"http://api.open-notify.org/astros.json\")\n",
    "type(resp)"
   ]
  },
  {
   "cell_type": "code",
   "execution_count": 6,
   "metadata": {},
   "outputs": [
    {
     "data": {
      "text/plain": [
       "'{\"people\": [{\"craft\": \"ISS\", \"name\": \"Mark Vande Hei\"}, {\"craft\": \"ISS\", \"name\": \"Pyotr Dubrov\"}, {\"craft\": \"ISS\", \"name\": \"Anton Shkaplerov\"}, {\"craft\": \"Shenzhou 13\", \"name\": \"Zhai Zhigang\"}, {\"craft\": \"Shenzhou 13\", \"name\": \"Wang Yaping\"}, {\"craft\": \"Shenzhou 13\", \"name\": \"Ye Guangfu\"}, {\"craft\": \"ISS\", \"name\": \"Raja Chari\"}, {\"craft\": \"ISS\", \"name\": \"Tom Marshburn\"}, {\"craft\": \"ISS\", \"name\": \"Kayla Barron\"}, {\"craft\": \"ISS\", \"name\": \"Matthias Maurer\"}], \"message\": \"success\", \"number\": 10}'"
      ]
     },
     "execution_count": 6,
     "metadata": {},
     "output_type": "execute_result"
    }
   ],
   "source": [
    "resp.text"
   ]
  },
  {
   "cell_type": "code",
   "execution_count": 7,
   "metadata": {},
   "outputs": [
    {
     "data": {
      "text/plain": [
       "str"
      ]
     },
     "execution_count": 7,
     "metadata": {},
     "output_type": "execute_result"
    }
   ],
   "source": [
    "type(resp.text)"
   ]
  },
  {
   "cell_type": "markdown",
   "metadata": {},
   "source": [
    "#### using parameters"
   ]
  },
  {
   "cell_type": "code",
   "execution_count": 8,
   "metadata": {},
   "outputs": [
    {
     "data": {
      "text/plain": [
       "'{\\n  \"message\": \"success\", \\n  \"request\": {\\n    \"altitude\": 100, \\n    \"datetime\": 1644572814, \\n    \"latitude\": 45.0, \\n    \"longitude\": -122.3, \\n    \"passes\": 5\\n  }, \\n  \"response\": [\\n    {\\n      \"duration\": 264, \\n      \"risetime\": 1644593011\\n    }, \\n    {\\n      \"duration\": 621, \\n      \"risetime\": 1644598582\\n    }, \\n    {\\n      \"duration\": 648, \\n      \"risetime\": 1644604367\\n    }, \\n    {\\n      \"duration\": 621, \\n      \"risetime\": 1644610216\\n    }, \\n    {\\n      \"duration\": 637, \\n      \"risetime\": 1644616050\\n    }\\n  ]\\n}\\n'"
      ]
     },
     "execution_count": 8,
     "metadata": {},
     "output_type": "execute_result"
    }
   ],
   "source": [
    "resp = requests.get(\"http://api.open-notify.org/iss-pass.json?lat=45.0&lon=-122.3&n=5\")\n",
    "resp.text"
   ]
  },
  {
   "cell_type": "code",
   "execution_count": 9,
   "metadata": {},
   "outputs": [
    {
     "data": {
      "text/plain": [
       "'http://api.open-notify.org/iss-pass.json?lat=47.50202&lon=19.04901&n=5'"
      ]
     },
     "execution_count": 9,
     "metadata": {},
     "output_type": "execute_result"
    }
   ],
   "source": [
    "lat_nador_st = 47.502020\n",
    "lon_nador_st = 19.049010\n",
    "\n",
    "ceu_url = \"http://api.open-notify.org/iss-pass.json?lat={}&lon={}&n=5\".format(\n",
    "                                                                        lat_nador_st, lon_nador_st)\n",
    "ceu_url"
   ]
  },
  {
   "cell_type": "code",
   "execution_count": 10,
   "metadata": {},
   "outputs": [],
   "source": [
    "resp = requests.get(ceu_url)"
   ]
  },
  {
   "cell_type": "code",
   "execution_count": 11,
   "metadata": {},
   "outputs": [
    {
     "data": {
      "text/plain": [
       "'{\\n  \"message\": \"success\", \\n  \"request\": {\\n    \"altitude\": 100, \\n    \"datetime\": 1644572885, \\n    \"latitude\": 47.50202, \\n    \"longitude\": 19.04901, \\n    \"passes\": 5\\n  }, \\n  \"response\": [\\n    {\\n      \"duration\": 641, \\n      \"risetime\": 1644576776\\n    }, \\n    {\\n      \"duration\": 649, \\n      \"risetime\": 1644582600\\n    }, \\n    {\\n      \"duration\": 631, \\n      \"risetime\": 1644588410\\n    }, \\n    {\\n      \"duration\": 408, \\n      \"risetime\": 1644594278\\n    }, \\n    {\\n      \"duration\": 550, \\n      \"risetime\": 1644648738\\n    }\\n  ]\\n}\\n'"
      ]
     },
     "execution_count": 11,
     "metadata": {},
     "output_type": "execute_result"
    }
   ],
   "source": [
    "resp.text"
   ]
  },
  {
   "cell_type": "markdown",
   "metadata": {},
   "source": [
    "#### parsing the response string"
   ]
  },
  {
   "cell_type": "code",
   "execution_count": 12,
   "metadata": {},
   "outputs": [],
   "source": [
    "import json"
   ]
  },
  {
   "cell_type": "code",
   "execution_count": 13,
   "metadata": {},
   "outputs": [],
   "source": [
    "resp = requests.get(\"http://api.open-notify.org/astros.json\")\n",
    "astronaut_json = json.loads(resp.text)"
   ]
  },
  {
   "cell_type": "code",
   "execution_count": 14,
   "metadata": {},
   "outputs": [
    {
     "data": {
      "text/plain": [
       "dict"
      ]
     },
     "execution_count": 14,
     "metadata": {},
     "output_type": "execute_result"
    }
   ],
   "source": [
    "type(astronaut_json)"
   ]
  },
  {
   "cell_type": "code",
   "execution_count": 15,
   "metadata": {},
   "outputs": [
    {
     "data": {
      "text/plain": [
       "{'people': [{'craft': 'ISS', 'name': 'Mark Vande Hei'},\n",
       "  {'craft': 'ISS', 'name': 'Pyotr Dubrov'},\n",
       "  {'craft': 'ISS', 'name': 'Anton Shkaplerov'},\n",
       "  {'craft': 'Shenzhou 13', 'name': 'Zhai Zhigang'},\n",
       "  {'craft': 'Shenzhou 13', 'name': 'Wang Yaping'},\n",
       "  {'craft': 'Shenzhou 13', 'name': 'Ye Guangfu'},\n",
       "  {'craft': 'ISS', 'name': 'Raja Chari'},\n",
       "  {'craft': 'ISS', 'name': 'Tom Marshburn'},\n",
       "  {'craft': 'ISS', 'name': 'Kayla Barron'},\n",
       "  {'craft': 'ISS', 'name': 'Matthias Maurer'}],\n",
       " 'message': 'success',\n",
       " 'number': 10}"
      ]
     },
     "execution_count": 15,
     "metadata": {},
     "output_type": "execute_result"
    }
   ],
   "source": [
    "astronaut_json"
   ]
  },
  {
   "cell_type": "code",
   "execution_count": 16,
   "metadata": {
    "scrolled": true
   },
   "outputs": [
    {
     "data": {
      "text/plain": [
       "dict_keys(['people', 'message', 'number'])"
      ]
     },
     "execution_count": 16,
     "metadata": {},
     "output_type": "execute_result"
    }
   ],
   "source": [
    "astronaut_json.keys()"
   ]
  },
  {
   "cell_type": "code",
   "execution_count": 17,
   "metadata": {},
   "outputs": [
    {
     "data": {
      "text/plain": [
       "10"
      ]
     },
     "execution_count": 17,
     "metadata": {},
     "output_type": "execute_result"
    }
   ],
   "source": [
    "astronaut_json['number']"
   ]
  },
  {
   "cell_type": "code",
   "execution_count": 18,
   "metadata": {},
   "outputs": [
    {
     "data": {
      "text/plain": [
       "int"
      ]
     },
     "execution_count": 18,
     "metadata": {},
     "output_type": "execute_result"
    }
   ],
   "source": [
    "type(astronaut_json['number'])"
   ]
  },
  {
   "cell_type": "code",
   "execution_count": 19,
   "metadata": {},
   "outputs": [
    {
     "data": {
      "text/plain": [
       "'success'"
      ]
     },
     "execution_count": 19,
     "metadata": {},
     "output_type": "execute_result"
    }
   ],
   "source": [
    "astronaut_json['message']"
   ]
  },
  {
   "cell_type": "code",
   "execution_count": 20,
   "metadata": {},
   "outputs": [
    {
     "data": {
      "text/plain": [
       "str"
      ]
     },
     "execution_count": 20,
     "metadata": {},
     "output_type": "execute_result"
    }
   ],
   "source": [
    "type(astronaut_json['message'])"
   ]
  },
  {
   "cell_type": "code",
   "execution_count": 21,
   "metadata": {},
   "outputs": [
    {
     "data": {
      "text/plain": [
       "[{'craft': 'ISS', 'name': 'Mark Vande Hei'},\n",
       " {'craft': 'ISS', 'name': 'Pyotr Dubrov'},\n",
       " {'craft': 'ISS', 'name': 'Anton Shkaplerov'},\n",
       " {'craft': 'Shenzhou 13', 'name': 'Zhai Zhigang'},\n",
       " {'craft': 'Shenzhou 13', 'name': 'Wang Yaping'},\n",
       " {'craft': 'Shenzhou 13', 'name': 'Ye Guangfu'},\n",
       " {'craft': 'ISS', 'name': 'Raja Chari'},\n",
       " {'craft': 'ISS', 'name': 'Tom Marshburn'},\n",
       " {'craft': 'ISS', 'name': 'Kayla Barron'},\n",
       " {'craft': 'ISS', 'name': 'Matthias Maurer'}]"
      ]
     },
     "execution_count": 21,
     "metadata": {},
     "output_type": "execute_result"
    }
   ],
   "source": [
    "astronaut_json['people']"
   ]
  },
  {
   "cell_type": "code",
   "execution_count": 22,
   "metadata": {},
   "outputs": [
    {
     "data": {
      "text/plain": [
       "list"
      ]
     },
     "execution_count": 22,
     "metadata": {},
     "output_type": "execute_result"
    }
   ],
   "source": [
    "type(astronaut_json['people'])"
   ]
  },
  {
   "cell_type": "code",
   "execution_count": 23,
   "metadata": {},
   "outputs": [],
   "source": [
    "first_item = astronaut_json['people'][0]"
   ]
  },
  {
   "cell_type": "code",
   "execution_count": 24,
   "metadata": {},
   "outputs": [
    {
     "data": {
      "text/plain": [
       "{'craft': 'ISS', 'name': 'Mark Vande Hei'}"
      ]
     },
     "execution_count": 24,
     "metadata": {},
     "output_type": "execute_result"
    }
   ],
   "source": [
    "first_item"
   ]
  },
  {
   "cell_type": "code",
   "execution_count": 25,
   "metadata": {},
   "outputs": [
    {
     "data": {
      "text/plain": [
       "dict"
      ]
     },
     "execution_count": 25,
     "metadata": {},
     "output_type": "execute_result"
    }
   ],
   "source": [
    "type(first_item)"
   ]
  },
  {
   "cell_type": "code",
   "execution_count": 26,
   "metadata": {},
   "outputs": [
    {
     "data": {
      "text/plain": [
       "dict_keys(['craft', 'name'])"
      ]
     },
     "execution_count": 26,
     "metadata": {},
     "output_type": "execute_result"
    }
   ],
   "source": [
    "first_item.keys()"
   ]
  },
  {
   "cell_type": "code",
   "execution_count": 27,
   "metadata": {},
   "outputs": [
    {
     "data": {
      "text/plain": [
       "'Mark Vande Hei'"
      ]
     },
     "execution_count": 27,
     "metadata": {},
     "output_type": "execute_result"
    }
   ],
   "source": [
    "first_item['name']"
   ]
  },
  {
   "cell_type": "code",
   "execution_count": 29,
   "metadata": {},
   "outputs": [
    {
     "name": "stdout",
     "output_type": "stream",
     "text": [
      "key:  people\n",
      "value:  [{'craft': 'ISS', 'name': 'Mark Vande Hei'}, {'craft': 'ISS', 'name': 'Pyotr Dubrov'}, {'craft': 'ISS', 'name': 'Anton Shkaplerov'}, {'craft': 'Shenzhou 13', 'name': 'Zhai Zhigang'}, {'craft': 'Shenzhou 13', 'name': 'Wang Yaping'}, {'craft': 'Shenzhou 13', 'name': 'Ye Guangfu'}, {'craft': 'ISS', 'name': 'Raja Chari'}, {'craft': 'ISS', 'name': 'Tom Marshburn'}, {'craft': 'ISS', 'name': 'Kayla Barron'}, {'craft': 'ISS', 'name': 'Matthias Maurer'}]\n",
      "\n",
      "key:  message\n",
      "value:  success\n",
      "\n",
      "key:  number\n",
      "value:  10\n",
      "\n"
     ]
    }
   ],
   "source": [
    "for key,value in astronaut_json.items():\n",
    "    print('key: ', key)\n",
    "    print('value: ', value)\n",
    "    print()"
   ]
  },
  {
   "cell_type": "code",
   "execution_count": 30,
   "metadata": {},
   "outputs": [
    {
     "name": "stdout",
     "output_type": "stream",
     "text": [
      "Mark Vande Hei is an astronaut in ISS craft\n",
      "Pyotr Dubrov is an astronaut in ISS craft\n",
      "Anton Shkaplerov is an astronaut in ISS craft\n",
      "Zhai Zhigang is an astronaut in Shenzhou 13 craft\n",
      "Wang Yaping is an astronaut in Shenzhou 13 craft\n",
      "Ye Guangfu is an astronaut in Shenzhou 13 craft\n",
      "Raja Chari is an astronaut in ISS craft\n",
      "Tom Marshburn is an astronaut in ISS craft\n",
      "Kayla Barron is an astronaut in ISS craft\n",
      "Matthias Maurer is an astronaut in ISS craft\n"
     ]
    }
   ],
   "source": [
    "for astronaut in astronaut_json['people']:\n",
    "    print('{} is an astronaut in {} craft'.format(astronaut['name'], astronaut['craft']))"
   ]
  },
  {
   "cell_type": "markdown",
   "metadata": {},
   "source": [
    "#### multiple requests"
   ]
  },
  {
   "cell_type": "code",
   "execution_count": 31,
   "metadata": {},
   "outputs": [
    {
     "data": {
      "text/plain": [
       "[[47.50202, 19.04901], [40.757339, -73.985992], [51.753738, -1.26346]]"
      ]
     },
     "execution_count": 31,
     "metadata": {},
     "output_type": "execute_result"
    }
   ],
   "source": [
    "lat_nador_st = 47.502020\n",
    "lon_nador_st = 19.049010\n",
    "\n",
    "lat_times_suqare = 40.757339\n",
    "lon_times_square = -73.985992\n",
    "\n",
    "lat_oxford = 51.753738\n",
    "lon_oxford = -1.263460\n",
    "\n",
    "latlon_list = [[lat_nador_st, lon_nador_st],\n",
    "               [lat_times_suqare, lon_times_square], \n",
    "               [lat_oxford, lon_oxford]]\n",
    "latlon_list"
   ]
  },
  {
   "cell_type": "code",
   "execution_count": 32,
   "metadata": {},
   "outputs": [
    {
     "name": "stdout",
     "output_type": "stream",
     "text": [
      "http://api.open-notify.org/iss-pass.json?lat=47.50202&lon=19.04901&n=5\n",
      "http://api.open-notify.org/iss-pass.json?lat=40.757339&lon=-73.985992&n=5\n",
      "http://api.open-notify.org/iss-pass.json?lat=51.753738&lon=-1.26346&n=5\n"
     ]
    }
   ],
   "source": [
    "for latlon in latlon_list:\n",
    "    url = \"http://api.open-notify.org/iss-pass.json?lat={}&lon={}&n=5\".format(latlon[0], latlon[1])\n",
    "    print(url)"
   ]
  },
  {
   "cell_type": "code",
   "execution_count": 33,
   "metadata": {},
   "outputs": [],
   "source": [
    "import time"
   ]
  },
  {
   "cell_type": "code",
   "execution_count": 34,
   "metadata": {},
   "outputs": [
    {
     "name": "stdout",
     "output_type": "stream",
     "text": [
      "a\n",
      "b\n"
     ]
    }
   ],
   "source": [
    "print('a')\n",
    "time.sleep(5)\n",
    "print('b')"
   ]
  },
  {
   "cell_type": "code",
   "execution_count": 35,
   "metadata": {},
   "outputs": [
    {
     "name": "stdout",
     "output_type": "stream",
     "text": [
      "http://api.open-notify.org/iss-pass.json?lat=47.50202&lon=19.04901&n=5\n",
      "{'message': 'success', 'request': {'altitude': 100, 'datetime': 1644572885, 'latitude': 47.50202, 'longitude': 19.04901, 'passes': 5}, 'response': [{'duration': 641, 'risetime': 1644576776}, {'duration': 649, 'risetime': 1644582600}, {'duration': 631, 'risetime': 1644588410}, {'duration': 408, 'risetime': 1644594278}, {'duration': 550, 'risetime': 1644648738}]} \n",
      "\n",
      "http://api.open-notify.org/iss-pass.json?lat=40.757339&lon=-73.985992&n=5\n",
      "{'message': 'success', 'request': {'altitude': 100, 'datetime': 1644573285, 'latitude': 40.757339, 'longitude': -73.985992, 'passes': 5}, 'response': [{'duration': 422, 'risetime': 1644581739}, {'duration': 647, 'risetime': 1644587392}, {'duration': 616, 'risetime': 1644593225}, {'duration': 557, 'risetime': 1644599115}, {'duration': 598, 'risetime': 1644604960}]} \n",
      "\n",
      "http://api.open-notify.org/iss-pass.json?lat=51.753738&lon=-1.26346&n=5\n",
      "{'message': 'success', 'request': {'altitude': 100, 'datetime': 1644573289, 'latitude': 51.753738, 'longitude': -1.26346, 'passes': 5}, 'response': [{'duration': 646, 'risetime': 1644576581}, {'duration': 652, 'risetime': 1644582379}, {'duration': 646, 'risetime': 1644588184}, {'duration': 574, 'risetime': 1644593997}, {'duration': 101, 'risetime': 1644599968}]} \n",
      "\n"
     ]
    }
   ],
   "source": [
    "resp_json_list = []\n",
    "for latlon in latlon_list:\n",
    "    url = \"http://api.open-notify.org/iss-pass.json?lat={}&lon={}&n=5\".format(latlon[0], latlon[1])\n",
    "    print(url)\n",
    "    resp = requests.get(url)\n",
    "    time.sleep(3)\n",
    "    resp_json = json.loads(resp.text)\n",
    "    print(resp_json, '\\n')\n",
    "    resp_json_list.append(resp_json)"
   ]
  },
  {
   "cell_type": "code",
   "execution_count": 36,
   "metadata": {},
   "outputs": [
    {
     "data": {
      "text/plain": [
       "{'message': 'success',\n",
       " 'request': {'altitude': 100,\n",
       "  'datetime': 1644572885,\n",
       "  'latitude': 47.50202,\n",
       "  'longitude': 19.04901,\n",
       "  'passes': 5},\n",
       " 'response': [{'duration': 641, 'risetime': 1644576776},\n",
       "  {'duration': 649, 'risetime': 1644582600},\n",
       "  {'duration': 631, 'risetime': 1644588410},\n",
       "  {'duration': 408, 'risetime': 1644594278},\n",
       "  {'duration': 550, 'risetime': 1644648738}]}"
      ]
     },
     "execution_count": 36,
     "metadata": {},
     "output_type": "execute_result"
    }
   ],
   "source": [
    "resp_json_list[0]"
   ]
  },
  {
   "cell_type": "code",
   "execution_count": 37,
   "metadata": {},
   "outputs": [
    {
     "data": {
      "text/plain": [
       "dict_keys(['message', 'request', 'response'])"
      ]
     },
     "execution_count": 37,
     "metadata": {},
     "output_type": "execute_result"
    }
   ],
   "source": [
    "nador_resp = resp_json_list[0]\n",
    "nador_resp.keys()"
   ]
  },
  {
   "cell_type": "code",
   "execution_count": 39,
   "metadata": {},
   "outputs": [
    {
     "data": {
      "text/plain": [
       "[{'duration': 641, 'risetime': 1644576776},\n",
       " {'duration': 649, 'risetime': 1644582600},\n",
       " {'duration': 631, 'risetime': 1644588410},\n",
       " {'duration': 408, 'risetime': 1644594278},\n",
       " {'duration': 550, 'risetime': 1644648738}]"
      ]
     },
     "execution_count": 39,
     "metadata": {},
     "output_type": "execute_result"
    }
   ],
   "source": [
    "nador_resp['response']"
   ]
  },
  {
   "cell_type": "code",
   "execution_count": 40,
   "metadata": {},
   "outputs": [
    {
     "name": "stdout",
     "output_type": "stream",
     "text": [
      "The first risetime above Nador street will be at 1644576776\n"
     ]
    }
   ],
   "source": [
    "print('The first risetime above Nador street will be at {}'.format(\n",
    "                                                            nador_resp['response'][0]['risetime']))"
   ]
  },
  {
   "cell_type": "markdown",
   "metadata": {},
   "source": [
    "#### using dictionaries for making queries and collecting response"
   ]
  },
  {
   "cell_type": "code",
   "execution_count": 41,
   "metadata": {},
   "outputs": [
    {
     "data": {
      "text/plain": [
       "{'nador_st': [47.50202, 19.04901],\n",
       " 'times_sq': [40.757339, -73.985992],\n",
       " 'oxford': [51.753738, -1.26346]}"
      ]
     },
     "execution_count": 41,
     "metadata": {},
     "output_type": "execute_result"
    }
   ],
   "source": [
    "latlon_dict = {\n",
    "    'nador_st':[lat_nador_st, lon_nador_st],\n",
    "    'times_sq':[lat_times_suqare, lon_times_square],\n",
    "    'oxford':[lat_oxford, lon_oxford]\n",
    "}\n",
    "latlon_dict"
   ]
  },
  {
   "cell_type": "code",
   "execution_count": 42,
   "metadata": {},
   "outputs": [
    {
     "data": {
      "text/plain": [
       "[51.753738, -1.26346]"
      ]
     },
     "execution_count": 42,
     "metadata": {},
     "output_type": "execute_result"
    }
   ],
   "source": [
    "latlon_dict['oxford']"
   ]
  },
  {
   "cell_type": "code",
   "execution_count": 43,
   "metadata": {},
   "outputs": [
    {
     "data": {
      "text/plain": [
       "{'newvalue': 'anything'}"
      ]
     },
     "execution_count": 43,
     "metadata": {},
     "output_type": "execute_result"
    }
   ],
   "source": [
    "mydict = {}\n",
    "mydict['newvalue'] = 'anything'\n",
    "mydict"
   ]
  },
  {
   "cell_type": "code",
   "execution_count": 44,
   "metadata": {},
   "outputs": [],
   "source": [
    "mydict['newer_value'] = 'anything else'"
   ]
  },
  {
   "cell_type": "code",
   "execution_count": 45,
   "metadata": {},
   "outputs": [
    {
     "data": {
      "text/plain": [
       "{'newvalue': 'anything', 'newer_value': 'anything else'}"
      ]
     },
     "execution_count": 45,
     "metadata": {},
     "output_type": "execute_result"
    }
   ],
   "source": [
    "mydict"
   ]
  },
  {
   "cell_type": "code",
   "execution_count": 48,
   "metadata": {},
   "outputs": [],
   "source": [
    "nonexisting_dict['new_value'] = 'something'"
   ]
  },
  {
   "cell_type": "code",
   "execution_count": 47,
   "metadata": {},
   "outputs": [],
   "source": [
    "nonexisting_dict = {}"
   ]
  },
  {
   "cell_type": "code",
   "execution_count": 49,
   "metadata": {},
   "outputs": [
    {
     "name": "stdout",
     "output_type": "stream",
     "text": [
      "nador_st\n",
      "http://api.open-notify.org/iss-pass.json?lat=47.50202&lon=19.04901&n=5\n",
      "times_sq\n",
      "http://api.open-notify.org/iss-pass.json?lat=40.757339&lon=-73.985992&n=5\n",
      "oxford\n",
      "http://api.open-notify.org/iss-pass.json?lat=51.753738&lon=-1.26346&n=5\n"
     ]
    }
   ],
   "source": [
    "response_dict = {}\n",
    "for place,coordinates in latlon_dict.items():\n",
    "    url = \"http://api.open-notify.org/iss-pass.json?lat={}&lon={}&n=5\".format(\n",
    "        coordinates[0], coordinates[1])\n",
    "    print(place)\n",
    "    print(url)\n",
    "    resp = requests.get(url)\n",
    "    time.sleep(3)\n",
    "    resp_json = json.loads(resp.text)\n",
    "    response_dict[place] = resp_json"
   ]
  },
  {
   "cell_type": "code",
   "execution_count": 50,
   "metadata": {},
   "outputs": [
    {
     "data": {
      "text/plain": [
       "{'message': 'success',\n",
       " 'request': {'altitude': 100,\n",
       "  'datetime': 1644573289,\n",
       "  'latitude': 51.753738,\n",
       "  'longitude': -1.26346,\n",
       "  'passes': 5},\n",
       " 'response': [{'duration': 646, 'risetime': 1644576581},\n",
       "  {'duration': 652, 'risetime': 1644582379},\n",
       "  {'duration': 646, 'risetime': 1644588184},\n",
       "  {'duration': 574, 'risetime': 1644593997},\n",
       "  {'duration': 101, 'risetime': 1644599968}]}"
      ]
     },
     "execution_count": 50,
     "metadata": {},
     "output_type": "execute_result"
    }
   ],
   "source": [
    "response_dict['oxford']"
   ]
  },
  {
   "cell_type": "code",
   "execution_count": 51,
   "metadata": {},
   "outputs": [
    {
     "data": {
      "text/plain": [
       "[{'duration': 646, 'risetime': 1644576581},\n",
       " {'duration': 652, 'risetime': 1644582379},\n",
       " {'duration': 646, 'risetime': 1644588184},\n",
       " {'duration': 574, 'risetime': 1644593997},\n",
       " {'duration': 101, 'risetime': 1644599968}]"
      ]
     },
     "execution_count": 51,
     "metadata": {},
     "output_type": "execute_result"
    }
   ],
   "source": [
    "response_dict['oxford']['response']"
   ]
  },
  {
   "cell_type": "code",
   "execution_count": 52,
   "metadata": {},
   "outputs": [
    {
     "data": {
      "text/plain": [
       "{'duration': 646, 'risetime': 1644576581}"
      ]
     },
     "execution_count": 52,
     "metadata": {},
     "output_type": "execute_result"
    }
   ],
   "source": [
    "response_dict['oxford']['response'][0]"
   ]
  },
  {
   "cell_type": "code",
   "execution_count": 53,
   "metadata": {},
   "outputs": [
    {
     "data": {
      "text/plain": [
       "1644576581"
      ]
     },
     "execution_count": 53,
     "metadata": {},
     "output_type": "execute_result"
    }
   ],
   "source": [
    "response_dict['oxford']['response'][0]['risetime']"
   ]
  },
  {
   "cell_type": "code",
   "execution_count": 54,
   "metadata": {},
   "outputs": [
    {
     "name": "stdout",
     "output_type": "stream",
     "text": [
      "The first risetime above nador_st will be at 1644576776\n",
      "The first risetime above times_sq will be at 1644581739\n",
      "The first risetime above oxford will be at 1644576581\n"
     ]
    }
   ],
   "source": [
    "for place,resp in response_dict.items():\n",
    "    print('The first risetime above {} will be at {}'.format(place,resp['response'][0]['risetime']))"
   ]
  },
  {
   "cell_type": "markdown",
   "metadata": {},
   "source": [
    "### 1 - exercise\n",
    "\n",
    "We need the zip codes of the 5 landmarks in our data. Fortunatelly there is an API services that returns the zip codes when given a city name. <br>\n",
    "Check the documentation here: https://api.trade.gov/apps/store/apis/info?name=ZipCodeToUseacAPI&version=v1&provider=dataservices@trade.gov#tab1 <br>\n",
    "Try to construct an url that sends a request for San Jose! Check if the response object is valid! <br>\n",
    "For authentication you'll need to add an additional argument to the requests.get() function: <br>\n",
    "headers = my_api_key\n",
    "<br><br>\n",
    "Save the response of the requests.get() function into a variable called response!"
   ]
  },
  {
   "cell_type": "code",
   "execution_count": 31,
   "metadata": {},
   "outputs": [
    {
     "data": {
      "text/plain": [
       "200"
      ]
     },
     "execution_count": 31,
     "metadata": {},
     "output_type": "execute_result"
    }
   ],
   "source": [
    "my_api_key = {\"Authorization\": \"\"}\n",
    "### Your code here\n",
    "import requests\n",
    "import json\n",
    "url = 'https://api.trade.gov/gateway/v1/ita_zipcode_to_post/search?q=San Jose'\n",
    "response = requests.get(url, headers=my_api_key)\n",
    "response.status_code"
   ]
  },
  {
   "cell_type": "markdown",
   "metadata": {},
   "source": [
    "### 1 - check yourself"
   ]
  },
  {
   "cell_type": "code",
   "execution_count": 32,
   "metadata": {},
   "outputs": [
    {
     "name": "stdout",
     "output_type": "stream",
     "text": [
      "Your url is valid and the response is correct\n"
     ]
    }
   ],
   "source": [
    "import json\n",
    "if response.status_code == 200:\n",
    "    if json.loads(response.text)['total'] == 139:\n",
    "        print('Your url is valid and the response is correct')\n",
    "    else:\n",
    "        print('Your url is valid but the response is not for San Jose')\n",
    "else:\n",
    "    print('Your url is NOT valid')"
   ]
  },
  {
   "cell_type": "markdown",
   "metadata": {},
   "source": [
    "### 2 - exercise\n",
    "\n",
    "Load the weather.csv into a pandas dataframe and make a variable called landmarks that contains the unique values in the landmark column!"
   ]
  },
  {
   "cell_type": "code",
   "execution_count": 33,
   "metadata": {},
   "outputs": [],
   "source": [
    "import pandas as pd\n",
    "weather = pd.read_csv('weather.csv')\n",
    "landmarks = pd.unique(weather['landmark'])\n"
   ]
  },
  {
   "cell_type": "markdown",
   "metadata": {},
   "source": [
    "### 2 - check yourself"
   ]
  },
  {
   "cell_type": "code",
   "execution_count": 34,
   "metadata": {},
   "outputs": [
    {
     "name": "stdout",
     "output_type": "stream",
     "text": [
      "The landmarks variable is correct\n"
     ]
    }
   ],
   "source": [
    "if sorted(landmarks) == sorted(['Redwood City', 'Mountain View', 'Palo Alto','San Francisco','San Jose']):\n",
    "    print('The landmarks variable is correct')\n",
    "else:\n",
    "    print('The landmarks variable is NOT correct')"
   ]
  },
  {
   "cell_type": "markdown",
   "metadata": {},
   "source": [
    "### 3 - exercise\n",
    "Create an url that calls the trade.gov API and asks for the zip codes of the first city in the landmarks array. (Don't type in the name of the city, use a variable to format the url string!) <br>\n",
    "Using the request library get a response for this url and save it into a variable called first_city_response!"
   ]
  },
  {
   "cell_type": "code",
   "execution_count": 17,
   "metadata": {},
   "outputs": [
    {
     "name": "stdout",
     "output_type": "stream",
     "text": [
      "https://api.trade.gov/gateway/v1/ita_zipcode_to_post/search?q=San Francisco\n"
     ]
    }
   ],
   "source": [
    "\n",
    "url = 'https://api.trade.gov/gateway/v1/ita_zipcode_to_post/search?q={}'.format(landmarks[0])\n",
    "print(url)\n",
    "first_city_response = requests.get(url, headers = my_api_key)"
   ]
  },
  {
   "cell_type": "markdown",
   "metadata": {},
   "source": [
    "### 3 - check yourself"
   ]
  },
  {
   "cell_type": "code",
   "execution_count": 18,
   "metadata": {},
   "outputs": [
    {
     "name": "stdout",
     "output_type": "stream",
     "text": [
      "Your response variable is correct\n"
     ]
    }
   ],
   "source": [
    "if first_city_response.status_code == 200:\n",
    "    print('Your response variable is correct')\n",
    "else:\n",
    "    print('Your response variable is NOT correct')"
   ]
  },
  {
   "cell_type": "markdown",
   "metadata": {},
   "source": [
    "### 4 - exercise\n",
    "Using the json package, load the text of the first_city_response into a dictionary called first_city_dict! <br>\n",
    "Look at the dictionary and find the highest level key containing the zip_code information! You can do it by simply looking at the dictionary by eyes."
   ]
  },
  {
   "cell_type": "code",
   "execution_count": 19,
   "metadata": {},
   "outputs": [],
   "source": [
    "first_city_dict = json.loads(first_city_response.text)\n",
    "first_city_dict\n",
    "highest_level_key = 'results'"
   ]
  },
  {
   "cell_type": "markdown",
   "metadata": {},
   "source": [
    "### 4 - check yourself"
   ]
  },
  {
   "cell_type": "code",
   "execution_count": 20,
   "metadata": {},
   "outputs": [
    {
     "name": "stdout",
     "output_type": "stream",
     "text": [
      "Your answer was correct\n"
     ]
    }
   ],
   "source": [
    "if highest_level_key == 'results':\n",
    "    print('Your answer was correct')\n",
    "else:\n",
    "    print('Your answer was NOT correct')"
   ]
  },
  {
   "cell_type": "markdown",
   "metadata": {},
   "source": [
    "### 5 - exercise\n",
    "Take the first element from the list that is the value for the key 'results'. What is the type of it?"
   ]
  },
  {
   "cell_type": "code",
   "execution_count": 21,
   "metadata": {},
   "outputs": [
    {
     "data": {
      "text/plain": [
       "dict"
      ]
     },
     "execution_count": 21,
     "metadata": {},
     "output_type": "execute_result"
    }
   ],
   "source": [
    "### Your code here\n",
    "type(first_city_dict[highest_level_key][0])\n",
    "# It is a dictionary"
   ]
  },
  {
   "cell_type": "markdown",
   "metadata": {},
   "source": [
    "### 5 - check yourself\n",
    "If your guess was dictionary, you are correct!"
   ]
  },
  {
   "cell_type": "markdown",
   "metadata": {},
   "source": [
    "### 6 - exercise\n",
    "Find the key that's value is the zip code! Make a variable called first_zip_code that contains the first zip code from the first_city_response!"
   ]
  },
  {
   "cell_type": "code",
   "execution_count": 22,
   "metadata": {},
   "outputs": [
    {
     "data": {
      "text/plain": [
       "'94701'"
      ]
     },
     "execution_count": 22,
     "metadata": {},
     "output_type": "execute_result"
    }
   ],
   "source": [
    "first_zip_code = first_city_dict[highest_level_key][0]['zip_code']\n",
    "first_zip_code\n"
   ]
  },
  {
   "cell_type": "markdown",
   "metadata": {},
   "source": [
    "### 6 - check yourself"
   ]
  },
  {
   "cell_type": "code",
   "execution_count": 23,
   "metadata": {},
   "outputs": [
    {
     "name": "stdout",
     "output_type": "stream",
     "text": [
      "You've found the zip code\n"
     ]
    }
   ],
   "source": [
    "if first_zip_code.isdigit():\n",
    "    print(\"You've found the zip code\")\n",
    "else:\n",
    "    print(\"It's not the zip code\")"
   ]
  },
  {
   "cell_type": "markdown",
   "metadata": {},
   "source": [
    "### 7 - exercise\n",
    "Loop the results list in first_city_response, and collect the zip codes into a list called zip_codes! As an advanced task try to use list comprehension!"
   ]
  },
  {
   "cell_type": "code",
   "execution_count": 24,
   "metadata": {},
   "outputs": [
    {
     "data": {
      "text/plain": [
       "['94701',\n",
       " '94703',\n",
       " '94705',\n",
       " '94707',\n",
       " '94712',\n",
       " '94720',\n",
       " '94096',\n",
       " '94104',\n",
       " '94112',\n",
       " '94114']"
      ]
     },
     "execution_count": 24,
     "metadata": {},
     "output_type": "execute_result"
    }
   ],
   "source": [
    "zip_codes = [ result['zip_code'] for result in first_city_dict['results'] ]\n",
    "zip_codes"
   ]
  },
  {
   "cell_type": "markdown",
   "metadata": {},
   "source": [
    "### 7 - check yourself"
   ]
  },
  {
   "cell_type": "code",
   "execution_count": 25,
   "metadata": {},
   "outputs": [
    {
     "name": "stdout",
     "output_type": "stream",
     "text": [
      "Your list is correct\n"
     ]
    }
   ],
   "source": [
    "if sum([x.isdigit() for x in zip_codes]) == 10:\n",
    "    print('Your list is correct')\n",
    "else:\n",
    "    print('Your list is NOT correct')"
   ]
  },
  {
   "cell_type": "markdown",
   "metadata": {},
   "source": [
    "### 8 - exercise\n",
    "Make an empty dictionary called zip_codes_dict. <br>\n",
    "Loop the landmarks array and for each landmark make a list containing the zip codes for it. (Just like we did before). When you have the list of zip codes, create a key for the landmark in the zip_codes_dict and assign the list of zip codes to it as the value! <br>\n",
    "At the end the zip_codes_dict should look like something like this: <br><br>\n",
    " {'San Jose' : ['1111','1112','1113'], <br>\n",
    "  'San Francisco' : ['2221','2222','2223']}"
   ]
  },
  {
   "cell_type": "code",
   "execution_count": 26,
   "metadata": {},
   "outputs": [
    {
     "data": {
      "text/plain": [
       "{'San Francisco': ['94701',\n",
       "  '94703',\n",
       "  '94705',\n",
       "  '94707',\n",
       "  '94712',\n",
       "  '94720',\n",
       "  '94096',\n",
       "  '94104',\n",
       "  '94112',\n",
       "  '94114'],\n",
       " 'Palo Alto': [],\n",
       " 'Mountain View': [],\n",
       " 'San Jose': ['95042',\n",
       "  '95054',\n",
       "  '95103',\n",
       "  '95106',\n",
       "  '95114',\n",
       "  '95117',\n",
       "  '95119',\n",
       "  '95121',\n",
       "  '95129',\n",
       "  '95132'],\n",
       " 'Redwood City': []}"
      ]
     },
     "execution_count": 26,
     "metadata": {},
     "output_type": "execute_result"
    }
   ],
   "source": [
    "zip_codes_dict = {}\n",
    "for landmark in landmarks:\n",
    "    url = 'https://api.trade.gov/gateway/v1/ita_zipcode_to_post/search?q={}'.format(landmark)\n",
    "    zip_codes_dict[landmark] = [ result['zip_code'] for result in json.loads(requests.get(url, headers = my_api_key).text)['results'] ]\n",
    "        \n",
    "    \n",
    "zip_codes_dict"
   ]
  },
  {
   "cell_type": "markdown",
   "metadata": {},
   "source": [
    "### 8 - check yourself"
   ]
  },
  {
   "cell_type": "code",
   "execution_count": 27,
   "metadata": {},
   "outputs": [
    {
     "name": "stdout",
     "output_type": "stream",
     "text": [
      "You collected the zip codes succesfully\n"
     ]
    }
   ],
   "source": [
    "correct = True\n",
    "for k,v in {'San Francisco':10, 'Palo Alto':0, 'Mountain View':0, 'San Jose':10,\n",
    "       'Redwood City':0}.items():\n",
    "    if v != len(zip_codes_dict[k]):\n",
    "        correct = False\n",
    "        \n",
    "if correct:\n",
    "    print('You collected the zip codes succesfully')\n",
    "else:\n",
    "    print('Your collection is not correct')"
   ]
  },
  {
   "cell_type": "markdown",
   "metadata": {},
   "source": [
    "### Hmmm, it looks like that we haven't found zip codes for 3 landmarks. This can happen when using an API service. But we wont' give up, it's a great opportunity to try a bit of scraping instead!"
   ]
  },
  {
   "cell_type": "markdown",
   "metadata": {},
   "source": [
    "### +1 - exercise\n",
    "\n",
    "In fact, we have only requested 10 zip codes for each city. Look at the API documentation to see how to get more zip codes. Write a code that collects all the zipcodes for the cities in a dictionary!"
   ]
  },
  {
   "cell_type": "code",
   "execution_count": 28,
   "metadata": {},
   "outputs": [
    {
     "data": {
      "text/plain": [
       "{'San Francisco': ['94701',\n",
       "  '94703',\n",
       "  '94705',\n",
       "  '94707',\n",
       "  '94712',\n",
       "  '94720',\n",
       "  '94096',\n",
       "  '94104',\n",
       "  '94112',\n",
       "  '94114',\n",
       "  '94116',\n",
       "  '94127',\n",
       "  '94144',\n",
       "  '94162',\n",
       "  '94166',\n",
       "  '94175',\n",
       "  '94199',\n",
       "  '94662',\n",
       "  '94702',\n",
       "  '94710',\n",
       "  '94005',\n",
       "  '94018',\n",
       "  '94037',\n",
       "  '94099',\n",
       "  '94101',\n",
       "  '94103',\n",
       "  '94117',\n",
       "  '94125',\n",
       "  '94126',\n",
       "  '94132',\n",
       "  '94140',\n",
       "  '94146',\n",
       "  '94150',\n",
       "  '94401',\n",
       "  '94402',\n",
       "  '94608',\n",
       "  '94010',\n",
       "  '94016',\n",
       "  '94066',\n",
       "  '94080',\n",
       "  '94098',\n",
       "  '94107',\n",
       "  '94110',\n",
       "  '94119',\n",
       "  '94138',\n",
       "  '94141',\n",
       "  '94143',\n",
       "  '94145',\n",
       "  '94152',\n",
       "  '94154',\n",
       "  '94157',\n",
       "  '94158',\n",
       "  '94160',\n",
       "  '94163',\n",
       "  '94169',\n",
       "  '94177',\n",
       "  '94188',\n",
       "  '94708',\n",
       "  '94013',\n",
       "  '94038',\n",
       "  '94083',\n",
       "  '94105',\n",
       "  '94106',\n",
       "  '94121',\n",
       "  '94122',\n",
       "  '94128',\n",
       "  '94129',\n",
       "  '94130',\n",
       "  '94135',\n",
       "  '94136',\n",
       "  '94139',\n",
       "  '94142',\n",
       "  '94147',\n",
       "  '94151',\n",
       "  '94153',\n",
       "  '94161',\n",
       "  '94167',\n",
       "  '94168',\n",
       "  '94170',\n",
       "  '94172',\n",
       "  '94704',\n",
       "  '94709',\n",
       "  '94011',\n",
       "  '94014',\n",
       "  '94015',\n",
       "  '94017',\n",
       "  '94030',\n",
       "  '94044',\n",
       "  '94102',\n",
       "  '94108',\n",
       "  '94109',\n",
       "  '94111',\n",
       "  '94115',\n",
       "  '94118',\n",
       "  '94120',\n",
       "  '94123',\n",
       "  '94124',\n",
       "  '94131',\n",
       "  '94133',\n",
       "  '94134'],\n",
       " 'Palo Alto': [],\n",
       " 'Mountain View': [],\n",
       " 'San Jose': ['95042',\n",
       "  '95054',\n",
       "  '95103',\n",
       "  '95106',\n",
       "  '95114',\n",
       "  '95117',\n",
       "  '95119',\n",
       "  '95121',\n",
       "  '95129',\n",
       "  '95132',\n",
       "  '95148',\n",
       "  '95157',\n",
       "  '95190',\n",
       "  '94022',\n",
       "  '94026',\n",
       "  '94062',\n",
       "  '94070',\n",
       "  '94085',\n",
       "  '94086',\n",
       "  '94302',\n",
       "  '94305',\n",
       "  '94306',\n",
       "  '95009',\n",
       "  '95032',\n",
       "  '95033',\n",
       "  '95037',\n",
       "  '95050',\n",
       "  '95111',\n",
       "  '95120',\n",
       "  '95127',\n",
       "  '95141',\n",
       "  '95150',\n",
       "  '95154',\n",
       "  '95155',\n",
       "  '95161',\n",
       "  '95170',\n",
       "  '95172',\n",
       "  '95191',\n",
       "  '94002',\n",
       "  '94025',\n",
       "  '94537',\n",
       "  '94539',\n",
       "  '94587',\n",
       "  '95013',\n",
       "  '95015',\n",
       "  '95021',\n",
       "  '95026',\n",
       "  '95051',\n",
       "  '95055',\n",
       "  '95070',\n",
       "  '95102',\n",
       "  '95109',\n",
       "  '95118',\n",
       "  '95123',\n",
       "  '95124',\n",
       "  '95126',\n",
       "  '95137',\n",
       "  '95158',\n",
       "  '95159',\n",
       "  '95192',\n",
       "  '95194',\n",
       "  '94021',\n",
       "  '94027',\n",
       "  '94042',\n",
       "  '94087',\n",
       "  '94088',\n",
       "  '94303',\n",
       "  '94403',\n",
       "  '94404',\n",
       "  '94301',\n",
       "  '94309',\n",
       "  '94538',\n",
       "  '94555',\n",
       "  '95002',\n",
       "  '95008',\n",
       "  '95014',\n",
       "  '95035',\n",
       "  '95036',\n",
       "  '95038',\n",
       "  '95044',\n",
       "  '95052',\n",
       "  '95113',\n",
       "  '95115',\n",
       "  '95128',\n",
       "  '95131',\n",
       "  '95133',\n",
       "  '95134',\n",
       "  '95135',\n",
       "  '95138',\n",
       "  '95139',\n",
       "  '95140',\n",
       "  '95142',\n",
       "  '95151',\n",
       "  '95160',\n",
       "  '95171',\n",
       "  '95173',\n",
       "  '94019',\n",
       "  '94020',\n",
       "  '94035',\n",
       "  '94039'],\n",
       " 'Redwood City': []}"
      ]
     },
     "execution_count": 28,
     "metadata": {},
     "output_type": "execute_result"
    }
   ],
   "source": [
    "# We can use size=100 parameter, that's the max\n",
    "zip_codes_dict_extra = {}\n",
    "for landmark in landmarks:\n",
    "    url = 'https://api.trade.gov/gateway/v1/ita_zipcode_to_post/search?q={}&size=100'.format(landmark)\n",
    "    zip_codes_dict_extra[landmark] = [ result['zip_code'] for result in json.loads(requests.get(url, headers = my_api_key).text)['results'] ]\n",
    "        \n",
    "    \n",
    "zip_codes_dict_extra\n"
   ]
  }
 ],
 "metadata": {
  "kernelspec": {
   "display_name": "Python 3",
   "language": "python",
   "name": "python3"
  },
  "language_info": {
   "codemirror_mode": {
    "name": "ipython",
    "version": 3
   },
   "file_extension": ".py",
   "mimetype": "text/x-python",
   "name": "python",
   "nbconvert_exporter": "python",
   "pygments_lexer": "ipython3",
   "version": "3.7.3"
  }
 },
 "nbformat": 4,
 "nbformat_minor": 2
}
