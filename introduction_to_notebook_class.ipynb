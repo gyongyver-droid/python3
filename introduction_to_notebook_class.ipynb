{
 "cells": [
  {
   "cell_type": "code",
   "execution_count": 1,
   "metadata": {
    "id": "tLBTf2hL6NK3"
   },
   "outputs": [
    {
     "name": "stdout",
     "output_type": "stream",
     "text": [
      "I'm writing in the input field and this will show in the output field\n"
     ]
    }
   ],
   "source": [
    "print(\"I'm writing in the input field and this will show in the output field\")"
   ]
  },
  {
   "cell_type": "code",
   "execution_count": 2,
   "metadata": {
    "id": "3PkZ3Ia66NLD"
   },
   "outputs": [
    {
     "name": "stdout",
     "output_type": "stream",
     "text": [
      "The numbers next to the cells show the order in which they ran\n"
     ]
    }
   ],
   "source": [
    "print(\"The numbers next to the cells show the order in which they ran\")"
   ]
  },
  {
   "cell_type": "code",
   "execution_count": 4,
   "metadata": {
    "id": "TLdWMKe56NLE"
   },
   "outputs": [
    {
     "name": "stdout",
     "output_type": "stream",
     "text": [
      "If there is no number, the cell hasn't run\n"
     ]
    }
   ],
   "source": [
    "print(\"If there is no number, the cell hasn't run\")"
   ]
  },
  {
   "cell_type": "code",
   "execution_count": 3,
   "metadata": {
    "id": "xavMpSWa6NLG"
   },
   "outputs": [
    {
     "name": "stdout",
     "output_type": "stream",
     "text": [
      "...In the order they are presented\n"
     ]
    }
   ],
   "source": [
    "print(\"...In the order they are presented\")"
   ]
  },
  {
   "cell_type": "code",
   "execution_count": 5,
   "metadata": {
    "id": "7_LqrugR6NLH"
   },
   "outputs": [
    {
     "name": "stdout",
     "output_type": "stream",
     "text": [
      "The cells don't have to run...\n"
     ]
    }
   ],
   "source": [
    "print(\"The cells don't have to run...\")"
   ]
  },
  {
   "cell_type": "markdown",
   "metadata": {
    "id": "81oX7-Gd6NLJ"
   },
   "source": [
    "This is a markdown cell, put titles, notes here"
   ]
  },
  {
   "cell_type": "markdown",
   "metadata": {
    "id": "zy9f9bV76NLR"
   },
   "source": [
    "### You can use html like formatting here\n",
    "For example <br> line breaks"
   ]
  },
  {
   "cell_type": "code",
   "execution_count": null,
   "metadata": {
    "id": "2SFTPEUN6NLU"
   },
   "outputs": [],
   "source": [
    "# Or just comment lines, so they won't be executed"
   ]
  },
  {
   "cell_type": "markdown",
   "metadata": {
    "id": "QM9B_wl-6NLW"
   },
   "source": [
    "# Very big header\n",
    "## Big header\n",
    "### Smaller header\n",
    "#### Etc\n",
    "\n",
    "Make bulletpoints\n",
    "- first point\n",
    "- second point \n",
    "\n",
    "Make numbered bulletpoints\n",
    "1. first point\n",
    "2. second point\n",
    "\n",
    "Show picture\n",
    "<img src=\"python_logo1.png\" width=\"20%\" height=\"20%\">"
   ]
  },
  {
   "cell_type": "markdown",
   "metadata": {
    "id": "mOcmeDc76NLa"
   },
   "source": [
    "### Variables \n",
    "##### variables are loaded into memory while the notebook runs. If you stop the notebook, they will be lost"
   ]
  },
  {
   "cell_type": "code",
   "execution_count": 2,
   "metadata": {
    "id": "Xk-igYkz6NLf"
   },
   "outputs": [],
   "source": [
    "a = 3"
   ]
  },
  {
   "cell_type": "code",
   "execution_count": 5,
   "metadata": {
    "id": "yKUBkXHj6NLh"
   },
   "outputs": [
    {
     "data": {
      "text/plain": [
       "3"
      ]
     },
     "execution_count": 5,
     "metadata": {},
     "output_type": "execute_result"
    }
   ],
   "source": [
    "a"
   ]
  },
  {
   "cell_type": "code",
   "execution_count": 8,
   "metadata": {
    "id": "Mut3NrGD6NLi"
   },
   "outputs": [],
   "source": [
    "a = a + 1"
   ]
  },
  {
   "cell_type": "markdown",
   "metadata": {
    "id": "NNRUJzrE6NLj"
   },
   "source": [
    "Read the error messages, especially the last line"
   ]
  },
  {
   "cell_type": "code",
   "execution_count": 9,
   "metadata": {
    "id": "MAcRT7BY6NLk"
   },
   "outputs": [
    {
     "ename": "NameError",
     "evalue": "name 'b' is not defined",
     "output_type": "error",
     "traceback": [
      "\u001b[1;31m---------------------------------------------------------------------------\u001b[0m",
      "\u001b[1;31mNameError\u001b[0m                                 Traceback (most recent call last)",
      "\u001b[1;32m<ipython-input-9-89e6c98d9288>\u001b[0m in \u001b[0;36m<module>\u001b[1;34m\u001b[0m\n\u001b[1;32m----> 1\u001b[1;33m \u001b[0mb\u001b[0m\u001b[1;33m\u001b[0m\u001b[1;33m\u001b[0m\u001b[0m\n\u001b[0m",
      "\u001b[1;31mNameError\u001b[0m: name 'b' is not defined"
     ]
    }
   ],
   "source": [
    "b"
   ]
  },
  {
   "cell_type": "markdown",
   "metadata": {
    "id": "91RnEUML6NLl"
   },
   "source": [
    "### Printing variables"
   ]
  },
  {
   "cell_type": "code",
   "execution_count": 10,
   "metadata": {
    "id": "xgzuvNGX6NLl"
   },
   "outputs": [],
   "source": [
    "number_var = 2\n",
    "string_var = \"2\""
   ]
  },
  {
   "cell_type": "code",
   "execution_count": 11,
   "metadata": {
    "id": "3_JVNCu_6NLm"
   },
   "outputs": [
    {
     "data": {
      "text/plain": [
       "(2, '2')"
      ]
     },
     "execution_count": 11,
     "metadata": {},
     "output_type": "execute_result"
    }
   ],
   "source": [
    "number_var, string_var"
   ]
  },
  {
   "cell_type": "code",
   "execution_count": 12,
   "metadata": {
    "id": "r7mPIApf6NLo"
   },
   "outputs": [
    {
     "data": {
      "text/plain": [
       "(int, str)"
      ]
     },
     "execution_count": 12,
     "metadata": {},
     "output_type": "execute_result"
    }
   ],
   "source": [
    "type(number_var), type(string_var)"
   ]
  },
  {
   "cell_type": "code",
   "execution_count": 13,
   "metadata": {
    "id": "ji1GiDXu6NLp"
   },
   "outputs": [
    {
     "name": "stdout",
     "output_type": "stream",
     "text": [
      "The value of the string_var is 2\n"
     ]
    }
   ],
   "source": [
    "print(\"The value of the string_var is \" + string_var)"
   ]
  },
  {
   "cell_type": "code",
   "execution_count": 14,
   "metadata": {
    "id": "N0Vsa2of6NLx"
   },
   "outputs": [
    {
     "ename": "TypeError",
     "evalue": "can only concatenate str (not \"int\") to str",
     "output_type": "error",
     "traceback": [
      "\u001b[1;31m---------------------------------------------------------------------------\u001b[0m",
      "\u001b[1;31mTypeError\u001b[0m                                 Traceback (most recent call last)",
      "\u001b[1;32m<ipython-input-14-ebf0b2e3b83a>\u001b[0m in \u001b[0;36m<module>\u001b[1;34m\u001b[0m\n\u001b[1;32m----> 1\u001b[1;33m \u001b[0mprint\u001b[0m\u001b[1;33m(\u001b[0m\u001b[1;34m\"The value of the number_var is \"\u001b[0m \u001b[1;33m+\u001b[0m \u001b[0mnumber_var\u001b[0m\u001b[1;33m)\u001b[0m\u001b[1;33m\u001b[0m\u001b[1;33m\u001b[0m\u001b[0m\n\u001b[0m",
      "\u001b[1;31mTypeError\u001b[0m: can only concatenate str (not \"int\") to str"
     ]
    }
   ],
   "source": [
    "print(\"The value of the number_var is \" + number_var)"
   ]
  },
  {
   "cell_type": "code",
   "execution_count": 15,
   "metadata": {
    "id": "KhOiWpyU6NLy"
   },
   "outputs": [],
   "source": [
    "number_var_converted_to_string = str(number_var)"
   ]
  },
  {
   "cell_type": "code",
   "execution_count": 16,
   "metadata": {
    "id": "bgbBiPF-6NLy"
   },
   "outputs": [
    {
     "data": {
      "text/plain": [
       "('2', str)"
      ]
     },
     "execution_count": 16,
     "metadata": {},
     "output_type": "execute_result"
    }
   ],
   "source": [
    "number_var_converted_to_string, type(number_var_converted_to_string)"
   ]
  },
  {
   "cell_type": "code",
   "execution_count": 17,
   "metadata": {
    "id": "Ej50PJem6NL0"
   },
   "outputs": [
    {
     "name": "stdout",
     "output_type": "stream",
     "text": [
      "The value of the number_var is 2\n"
     ]
    }
   ],
   "source": [
    "print(\"The value of the number_var is \" + number_var_converted_to_string)"
   ]
  },
  {
   "cell_type": "code",
   "execution_count": 18,
   "metadata": {
    "id": "p1iqMIY-6NL0"
   },
   "outputs": [
    {
     "name": "stdout",
     "output_type": "stream",
     "text": [
      "The value of the number_var is 2\n"
     ]
    }
   ],
   "source": [
    "print(\"The value of the number_var is \" + str(number_var))"
   ]
  },
  {
   "cell_type": "code",
   "execution_count": 19,
   "metadata": {
    "id": "6DrAP_j06NL1"
   },
   "outputs": [
    {
     "name": "stdout",
     "output_type": "stream",
     "text": [
      "The value of the number_var is 2\n"
     ]
    }
   ],
   "source": [
    "print(\"The value of the number_var is {}\".format(number_var))"
   ]
  },
  {
   "cell_type": "markdown",
   "metadata": {
    "id": "3gv5p7mp6NL1"
   },
   "source": [
    "#### int vs float"
   ]
  },
  {
   "cell_type": "code",
   "execution_count": 20,
   "metadata": {
    "id": "aS53x6dG6NL2"
   },
   "outputs": [],
   "source": [
    "num_var = 3"
   ]
  },
  {
   "cell_type": "code",
   "execution_count": 21,
   "metadata": {
    "id": "s0DNS-nR6NL3"
   },
   "outputs": [
    {
     "data": {
      "text/plain": [
       "(3, int)"
      ]
     },
     "execution_count": 21,
     "metadata": {},
     "output_type": "execute_result"
    }
   ],
   "source": [
    "num_var, type(num_var)"
   ]
  },
  {
   "cell_type": "code",
   "execution_count": 22,
   "metadata": {
    "id": "qMbTxn8R6NL4"
   },
   "outputs": [],
   "source": [
    "num_var = 3.5"
   ]
  },
  {
   "cell_type": "code",
   "execution_count": 23,
   "metadata": {
    "id": "D4OaTOEt6NL4"
   },
   "outputs": [
    {
     "data": {
      "text/plain": [
       "(3.5, float)"
      ]
     },
     "execution_count": 23,
     "metadata": {},
     "output_type": "execute_result"
    }
   ],
   "source": [
    "num_var, type(num_var)"
   ]
  },
  {
   "cell_type": "code",
   "execution_count": 24,
   "metadata": {
    "id": "HJnPI4Wz6NL5"
   },
   "outputs": [
    {
     "data": {
      "text/plain": [
       "3"
      ]
     },
     "execution_count": 24,
     "metadata": {},
     "output_type": "execute_result"
    }
   ],
   "source": [
    "new_int_variable = int(num_var)\n",
    "new_int_variable"
   ]
  },
  {
   "cell_type": "code",
   "execution_count": 25,
   "metadata": {
    "id": "KfTWhkDq6NL6"
   },
   "outputs": [
    {
     "data": {
      "text/plain": [
       "3.5"
      ]
     },
     "execution_count": 25,
     "metadata": {},
     "output_type": "execute_result"
    }
   ],
   "source": [
    "num_var"
   ]
  },
  {
   "cell_type": "code",
   "execution_count": 26,
   "metadata": {
    "id": "PZoeQvMP6NL6"
   },
   "outputs": [
    {
     "data": {
      "text/plain": [
       "3"
      ]
     },
     "execution_count": 26,
     "metadata": {},
     "output_type": "execute_result"
    }
   ],
   "source": [
    "num_var = int(num_var)\n",
    "num_var"
   ]
  },
  {
   "cell_type": "markdown",
   "metadata": {
    "id": "thVG19oB6NL7"
   },
   "source": [
    "#### boolean\n",
    "upper case initials"
   ]
  },
  {
   "cell_type": "code",
   "execution_count": 27,
   "metadata": {
    "id": "nbMsPPek6NL7"
   },
   "outputs": [],
   "source": [
    "true_var = True"
   ]
  },
  {
   "cell_type": "code",
   "execution_count": 28,
   "metadata": {
    "id": "0Bi8KVjD6NL8"
   },
   "outputs": [
    {
     "data": {
      "text/plain": [
       "(True, bool)"
      ]
     },
     "execution_count": 28,
     "metadata": {},
     "output_type": "execute_result"
    }
   ],
   "source": [
    "true_var, type(true_var)"
   ]
  },
  {
   "cell_type": "code",
   "execution_count": 29,
   "metadata": {
    "id": "PrCqh4-S6NL9"
   },
   "outputs": [
    {
     "ename": "NameError",
     "evalue": "name 'false' is not defined",
     "output_type": "error",
     "traceback": [
      "\u001b[1;31m---------------------------------------------------------------------------\u001b[0m",
      "\u001b[1;31mNameError\u001b[0m                                 Traceback (most recent call last)",
      "\u001b[1;32m<ipython-input-29-1b8d90111457>\u001b[0m in \u001b[0;36m<module>\u001b[1;34m\u001b[0m\n\u001b[1;32m----> 1\u001b[1;33m \u001b[0mfalse_var\u001b[0m \u001b[1;33m=\u001b[0m \u001b[0mfalse\u001b[0m\u001b[1;33m\u001b[0m\u001b[1;33m\u001b[0m\u001b[0m\n\u001b[0m",
      "\u001b[1;31mNameError\u001b[0m: name 'false' is not defined"
     ]
    }
   ],
   "source": [
    "false_var = false"
   ]
  },
  {
   "cell_type": "code",
   "execution_count": 32,
   "metadata": {
    "id": "jZ_AlG2E6NMC"
   },
   "outputs": [],
   "source": [
    "false_var = False"
   ]
  },
  {
   "cell_type": "code",
   "execution_count": 31,
   "metadata": {
    "id": "EqgfrKdr6NMD"
   },
   "outputs": [
    {
     "data": {
      "text/plain": [
       "False"
      ]
     },
     "execution_count": 31,
     "metadata": {},
     "output_type": "execute_result"
    }
   ],
   "source": [
    "false_var"
   ]
  },
  {
   "cell_type": "code",
   "execution_count": 33,
   "metadata": {
    "id": "N8Ck9vgK6NMD"
   },
   "outputs": [
    {
     "data": {
      "text/plain": [
       "True"
      ]
     },
     "execution_count": 33,
     "metadata": {},
     "output_type": "execute_result"
    }
   ],
   "source": [
    "a = 1 == 1\n",
    "a"
   ]
  },
  {
   "cell_type": "code",
   "execution_count": 34,
   "metadata": {
    "id": "HgGO0z1T6NME"
   },
   "outputs": [
    {
     "data": {
      "text/plain": [
       "False"
      ]
     },
     "execution_count": 34,
     "metadata": {},
     "output_type": "execute_result"
    }
   ],
   "source": [
    "b = 1 == 2\n",
    "b"
   ]
  },
  {
   "cell_type": "code",
   "execution_count": 35,
   "metadata": {
    "id": "vc2Nn8JX6NMF"
   },
   "outputs": [
    {
     "data": {
      "text/plain": [
       "False"
      ]
     },
     "execution_count": 35,
     "metadata": {},
     "output_type": "execute_result"
    }
   ],
   "source": [
    "a and b"
   ]
  },
  {
   "cell_type": "code",
   "execution_count": 36,
   "metadata": {
    "id": "8w6Y1thZ6NMF"
   },
   "outputs": [
    {
     "data": {
      "text/plain": [
       "True"
      ]
     },
     "execution_count": 36,
     "metadata": {},
     "output_type": "execute_result"
    }
   ],
   "source": [
    "a or b"
   ]
  },
  {
   "cell_type": "code",
   "execution_count": 37,
   "metadata": {
    "id": "8K3zaoK66NMG"
   },
   "outputs": [
    {
     "data": {
      "text/plain": [
       "False"
      ]
     },
     "execution_count": 37,
     "metadata": {},
     "output_type": "execute_result"
    }
   ],
   "source": [
    "not a"
   ]
  },
  {
   "cell_type": "code",
   "execution_count": 38,
   "metadata": {
    "id": "uOA2fsGR6NMH"
   },
   "outputs": [
    {
     "data": {
      "text/plain": [
       "True"
      ]
     },
     "execution_count": 38,
     "metadata": {},
     "output_type": "execute_result"
    }
   ],
   "source": [
    "not (a and b)"
   ]
  },
  {
   "cell_type": "code",
   "execution_count": 39,
   "metadata": {
    "id": "gBRnL3Im6NMH"
   },
   "outputs": [
    {
     "data": {
      "text/plain": [
       "True"
      ]
     },
     "execution_count": 39,
     "metadata": {},
     "output_type": "execute_result"
    }
   ],
   "source": [
    "a == 1 and b == 0"
   ]
  },
  {
   "cell_type": "code",
   "execution_count": 40,
   "metadata": {
    "id": "OSw-Wqt36NMI"
   },
   "outputs": [
    {
     "data": {
      "text/plain": [
       "True"
      ]
     },
     "execution_count": 40,
     "metadata": {},
     "output_type": "execute_result"
    }
   ],
   "source": [
    "False == 0"
   ]
  },
  {
   "cell_type": "code",
   "execution_count": 41,
   "metadata": {
    "id": "TfvNqvoD6NMI"
   },
   "outputs": [
    {
     "data": {
      "text/plain": [
       "1"
      ]
     },
     "execution_count": 41,
     "metadata": {},
     "output_type": "execute_result"
    }
   ],
   "source": [
    "a + b"
   ]
  },
  {
   "cell_type": "code",
   "execution_count": 42,
   "metadata": {
    "id": "XYI140nv6NMJ"
   },
   "outputs": [
    {
     "data": {
      "text/plain": [
       "3"
      ]
     },
     "execution_count": 42,
     "metadata": {},
     "output_type": "execute_result"
    }
   ],
   "source": [
    "a + a + a"
   ]
  },
  {
   "cell_type": "markdown",
   "metadata": {
    "id": "DgZFOjkX6NMJ"
   },
   "source": [
    "### Basic math"
   ]
  },
  {
   "cell_type": "code",
   "execution_count": 43,
   "metadata": {
    "id": "7aNCXUFH6NML"
   },
   "outputs": [
    {
     "data": {
      "text/plain": [
       "3"
      ]
     },
     "execution_count": 43,
     "metadata": {},
     "output_type": "execute_result"
    }
   ],
   "source": [
    "1 + 2"
   ]
  },
  {
   "cell_type": "code",
   "execution_count": 44,
   "metadata": {
    "id": "zZBtoHzd6NMM"
   },
   "outputs": [
    {
     "data": {
      "text/plain": [
       "3"
      ]
     },
     "execution_count": 44,
     "metadata": {},
     "output_type": "execute_result"
    }
   ],
   "source": [
    "a = 1\n",
    "b = 2\n",
    "a + b"
   ]
  },
  {
   "cell_type": "code",
   "execution_count": 45,
   "metadata": {
    "id": "XecYjM7V6NMM"
   },
   "outputs": [
    {
     "data": {
      "text/plain": [
       "3"
      ]
     },
     "execution_count": 45,
     "metadata": {},
     "output_type": "execute_result"
    }
   ],
   "source": [
    "c = a + b\n",
    "c"
   ]
  },
  {
   "cell_type": "markdown",
   "metadata": {
    "id": "GMTOjzWy6NMN"
   },
   "source": [
    "#### Re-defining varibales "
   ]
  },
  {
   "cell_type": "code",
   "execution_count": 46,
   "metadata": {
    "id": "rn-88Bnu6NMN"
   },
   "outputs": [
    {
     "data": {
      "text/plain": [
       "3"
      ]
     },
     "execution_count": 46,
     "metadata": {},
     "output_type": "execute_result"
    }
   ],
   "source": [
    "my_num = 3\n",
    "my_num"
   ]
  },
  {
   "cell_type": "code",
   "execution_count": 47,
   "metadata": {
    "id": "Sbvexp5F6NMR"
   },
   "outputs": [
    {
     "data": {
      "text/plain": [
       "12"
      ]
     },
     "execution_count": 47,
     "metadata": {},
     "output_type": "execute_result"
    }
   ],
   "source": [
    "my_num *= 4\n",
    "my_num"
   ]
  },
  {
   "cell_type": "code",
   "execution_count": 48,
   "metadata": {
    "id": "n9KWMU4q6NMT"
   },
   "outputs": [
    {
     "data": {
      "text/plain": [
       "13"
      ]
     },
     "execution_count": 48,
     "metadata": {},
     "output_type": "execute_result"
    }
   ],
   "source": [
    "my_num +=1\n",
    "my_num"
   ]
  },
  {
   "cell_type": "code",
   "execution_count": 49,
   "metadata": {
    "id": "4Pgg5Yn06NMT"
   },
   "outputs": [
    {
     "data": {
      "text/plain": [
       "6"
      ]
     },
     "execution_count": 49,
     "metadata": {},
     "output_type": "execute_result"
    }
   ],
   "source": [
    "my_num //=2\n",
    "my_num"
   ]
  },
  {
   "cell_type": "markdown",
   "metadata": {
    "collapsed": true,
    "id": "O_CLbzH06NMU"
   },
   "source": [
    "### Notebook commands:\n",
    "- shif+Enter = run cell\n",
    "- escape a = instert cell above\n",
    "- escape b = insert cell below\n",
    "- escape m = change the cell to markdown cell\n",
    "- dd = deletes the cell\n",
    "- ! before command = execute as bash command"
   ]
  },
  {
   "cell_type": "markdown",
   "metadata": {
    "id": "OmZaka7B6NMU"
   },
   "source": [
    "### You can also change the value of your variable on the fly \n",
    "\n",
    "x += 1          # add then assign value\n",
    "\n",
    "x -= 1          # subtract then assign value\n",
    "\n",
    "x *= 2          # multiply then assign value\n",
    "\n",
    "x /= 3          # divide then assign value\n",
    "\n",
    "x // = 5        # floor divide then assign value\n",
    "\n",
    "x **= 2         # exponentiate then assign value\n",
    "\n",
    "x %= 3          # return remainder then assign value"
   ]
  },
  {
   "cell_type": "markdown",
   "metadata": {
    "id": "BqEa9Kea6NMV"
   },
   "source": [
    "### 1 - exercise\n",
    "\n",
    "Let's bake some cookies! You have 200 forints and the price of one egg is 30 forints. To make one batch of cookies you need 2 eggs. <br>\n",
    "Create the variables used in the print statement and run the cell."
   ]
  },
  {
   "cell_type": "code",
   "execution_count": 10,
   "metadata": {
    "id": "qi3uYCpn6NMW",
    "scrolled": true
   },
   "outputs": [
    {
     "name": "stdout",
     "output_type": "stream",
     "text": [
      "For one batch of cookies 2 eggs are needed. The price of one egg is 30 forint and I have 200 forints\n"
     ]
    }
   ],
   "source": [
    "# Your code here\n",
    "egg_needed = 2\n",
    "egg_price = 30\n",
    "my_money = 200\n",
    "print(\"For one batch of cookies {} eggs are needed. \\\n",
    "The price of one egg is {} forint and I have {} forints\".format(egg_needed,egg_price, my_money))"
   ]
  },
  {
   "cell_type": "markdown",
   "metadata": {
    "id": "Igi3j0XT6NMX"
   },
   "source": [
    "### 1 - check yourself\n",
    "\n",
    "The output of the cell should be: <br>\n",
    "For one batch of cookies 2 eggs are needed. The price of one egg is 30 forint and I have 200 forints"
   ]
  },
  {
   "cell_type": "markdown",
   "metadata": {
    "id": "4PeqoHLN6NMX"
   },
   "source": [
    "### 2 - exercise\n",
    "Create the variables used in the print statements. When defining them use the variables from the previous task. <br>\n",
    "You can only buy integer number of eggs, so make sure that the type of these new variabels are integer! "
   ]
  },
  {
   "cell_type": "code",
   "execution_count": 11,
   "metadata": {
    "id": "sXcWfgRL6NMY"
   },
   "outputs": [
    {
     "name": "stdout",
     "output_type": "stream",
     "text": [
      "I can buy 6 eggs.\n",
      "To make two batches I need 4 eggs, but I'll still have 2 egg remaining\n"
     ]
    }
   ],
   "source": [
    "# Your code here\n",
    "num_eggs = my_money//egg_price\n",
    "twice_egg_needed = 2 * egg_needed\n",
    "num_eggs_remaining = num_eggs - twice_egg_needed\n",
    "print(\"I can buy {} eggs.\".format(num_eggs))\n",
    "print(\"To make two batches I need {} eggs, but I'll still have {} egg remaining\".format(twice_egg_needed, \n",
    "                                                                                        num_eggs_remaining))"
   ]
  },
  {
   "cell_type": "markdown",
   "metadata": {
    "id": "Q81y9OCh6NMZ"
   },
   "source": [
    "### 2 - check yourself\n",
    "The output of the cell should be: <br>\n",
    "I can buy 6 eggs. <br>\n",
    "To make two batches I need 4 eggs, but I'll still have 2 egg remaining"
   ]
  },
  {
   "cell_type": "markdown",
   "metadata": {
    "id": "iDhU6QuC6NMZ"
   },
   "source": [
    "### 3 - exercise\n",
    "\n",
    "Answer the question by changing the same variable called egg_num!\n",
    "\n",
    "- I start with 5 eggs.\n",
    "- Then I buy 2 more.\n",
    "- But then I drop 3 accidentally.\n",
    "- So I go to the store and buy 3 times the amount I have after the accident.\n",
    "- Then we divide all the eggs equally with my sister.\n",
    "- How much eggs do I have left if I make as many muffins as I can if 3 eggs are needed for each muffin?"
   ]
  },
  {
   "cell_type": "code",
   "execution_count": 16,
   "metadata": {
    "id": "-E-AL8aJ6NMZ"
   },
   "outputs": [
    {
     "data": {
      "text/plain": [
       "2.0"
      ]
     },
     "execution_count": 16,
     "metadata": {},
     "output_type": "execute_result"
    }
   ],
   "source": [
    "egg_num = 5\n",
    "egg_num += 2 \n",
    "egg_num -= 3\n",
    "egg_num += 3*egg_num\n",
    "egg_num /= 2\n",
    "egg_num %= 3\n",
    "egg_num\n"
   ]
  },
  {
   "cell_type": "markdown",
   "metadata": {
    "id": "E9DT5nKi6NMa"
   },
   "source": [
    "### 3 - check yourself"
   ]
  },
  {
   "cell_type": "code",
   "execution_count": 17,
   "metadata": {
    "id": "zvM9jCIz6NMa"
   },
   "outputs": [
    {
     "name": "stdout",
     "output_type": "stream",
     "text": [
      "Your answer is correct\n"
     ]
    }
   ],
   "source": [
    "if egg_num == 2:\n",
    "    print('Your answer is correct')\n",
    "else:\n",
    "    print('Your anser is NOT correct')"
   ]
  },
  {
   "cell_type": "markdown",
   "metadata": {
    "id": "8n7y193T6NMi"
   },
   "source": [
    "### 4 - exercise\n",
    "\n",
    "Guess whether the boolean expressions are True or False and then run the cell below to see if you were right\n",
    " "
   ]
  },
  {
   "cell_type": "code",
   "execution_count": 20,
   "metadata": {
    "id": "LseIORoh6NMj"
   },
   "outputs": [],
   "source": [
    "# Assign your guess to these variables\n",
    "# 1. True and True \n",
    "myguess_1 = True\n",
    "\n",
    "# 2. False and True\n",
    "myguess_2 = False\n",
    "\n",
    "# 3. 1 == 1 and 2 == 1 \n",
    "myguess_3 = False\n",
    "\n",
    "# 4. \"test\" == \"test\"\n",
    "myguess_4 = True\n",
    "\n",
    "# 5. 1 != 1.0\n",
    "myguess_5 = False\n",
    "\n",
    "# 6. 1 == '1'\n",
    "myguess_6 = False\n",
    "\n",
    "# 7. \"myname\" == \"MyName\"\n",
    "myguess_7 = False\n",
    "\n",
    "# 8. 'one' != 1\n",
    "myguess_8 = True\n",
    "\n",
    "# 9. 1 == 1 or 2 != 1 \n",
    "myguess_9 = True\n",
    "\n",
    "# 10. True and 1 == 1\n",
    "myguess_10 = True\n",
    "\n",
    "# 11. False and 0 != 0\n",
    "myguess_11 = False\n",
    "\n",
    "# 12. True or 1 == 1\n",
    "myguess_12 = True\n",
    "\n",
    "# 13. 1 != 0 and 2 == 1 \n",
    "myguess_13 = False\n",
    "\n",
    "# 14. not (True and False)\n",
    "myguess_14 = True\n",
    "\n",
    "# 15. not (not 'x' == 'x')\n",
    "myguess_15 = True\n",
    "\n",
    "# 16. not (1 != 10 or 3 == 4) \n",
    "myguess_16 = False\n",
    "\n",
    "# 17. not (\"python\" == \"python\" and \"MotherOfDragons\" == \"Daenerys\")\n",
    "myguess_17 = True\n",
    "\n",
    "# 18. 1 == 1 and not (\"one\" == 1 or 1 == 0)\n",
    "myguess_18 = True\n",
    "\n",
    "# 19. \"egg\" == \"bacon\" and not (3 == 4 or 3 == 3)\n",
    "myguess_19 = False"
   ]
  },
  {
   "cell_type": "markdown",
   "metadata": {
    "id": "Uy_vZTR46NMk"
   },
   "source": [
    "### 4 - Check yourself"
   ]
  },
  {
   "cell_type": "code",
   "execution_count": 21,
   "metadata": {
    "id": "uf5nhs1u6NMk"
   },
   "outputs": [
    {
     "name": "stdout",
     "output_type": "stream",
     "text": [
      "Your guess for statement 1 was  correct\n",
      "Your guess for statement 2 was  correct\n",
      "Your guess for statement 3 was  correct\n",
      "Your guess for statement 4 was  correct\n",
      "Your guess for statement 5 was  correct\n",
      "Your guess for statement 6 was  correct\n",
      "Your guess for statement 7 was  correct\n",
      "Your guess for statement 8 was  correct\n",
      "Your guess for statement 9 was  correct\n",
      "Your guess for statement 10 was  correct\n",
      "Your guess for statement 11 was  correct\n",
      "Your guess for statement 12 was  correct\n",
      "Your guess for statement 13 was  correct\n",
      "Your guess for statement 14 was  correct\n",
      "Your guess for statement 15 was  correct\n",
      "Your guess for statement 16 was  correct\n",
      "Your guess for statement 17 was  correct\n",
      "Your guess for statement 18 was  correct\n",
      "Your guess for statement 19 was  correct\n"
     ]
    }
   ],
   "source": [
    "# Run this cell to see if you were right\n",
    "\n",
    "answer_1 = True and True\n",
    "answer_2 = False and True\n",
    "answer_3 = 1 == 1 and 2 == 1\n",
    "answer_4 = \"test\" == \"test\"\n",
    "answer_5 = 1 != 1.0\n",
    "answer_6 = 1 == '1'\n",
    "answer_7 = \"myname\" == \"MyName\"\n",
    "answer_8 = 'one' != 1\n",
    "answer_9 = 1 == 1 or 2 != 1\n",
    "answer_10 = True and 1 == 1\n",
    "answer_11 = False and 0 != 0\n",
    "answer_12 = True or 1 == 1\n",
    "answer_13 = 1 != 0 and 2 == 1\n",
    "answer_14 = not (True and False)\n",
    "answer_15 = not (not 'x' == 'x')\n",
    "answer_16 = not (1 != 10 or 3 == 4)\n",
    "answer_17 = not (\"python\" == \"python\" and \"MotherOfDragons\" == \"Daenerys\")\n",
    "answer_18 = 1 == 1 and not (\"one\" == 1 or 1 == 0)\n",
    "answer_19 = \"egg\" == \"bacon\" and not (3 == 4 or 3 == 3)\n",
    "\n",
    "for i in range(1,20):\n",
    "    if eval('myguess_' + str(i)) == eval('answer_' + str(i)):\n",
    "        correctness = ''\n",
    "    else:\n",
    "        correctness = 'NOT'\n",
    "        \n",
    "    print('Your guess for statement {} was {} correct'.format(i, correctness))\n",
    "    \n",
    "    "
   ]
  },
  {
   "cell_type": "code",
   "execution_count": null,
   "metadata": {
    "id": "jmb8uZWE6NMl"
   },
   "outputs": [],
   "source": []
  }
 ],
 "metadata": {
  "colab": {
   "name": "introduction_to_notebook_class.ipynb",
   "provenance": []
  },
  "kernelspec": {
   "display_name": "Python 3",
   "language": "python",
   "name": "python3"
  },
  "language_info": {
   "codemirror_mode": {
    "name": "ipython",
    "version": 3
   },
   "file_extension": ".py",
   "mimetype": "text/x-python",
   "name": "python",
   "nbconvert_exporter": "python",
   "pygments_lexer": "ipython3",
   "version": "3.7.3"
  }
 },
 "nbformat": 4,
 "nbformat_minor": 1
}
